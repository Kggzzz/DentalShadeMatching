{
  "nbformat": 4,
  "nbformat_minor": 0,
  "metadata": {
    "colab": {
      "name": "Noref_validation_RF.ipynb",
      "provenance": [],
      "include_colab_link": true
    },
    "kernelspec": {
      "name": "python3",
      "display_name": "Python 3"
    },
    "language_info": {
      "name": "python"
    }
  },
  "cells": [
    {
      "cell_type": "markdown",
      "metadata": {
        "id": "view-in-github",
        "colab_type": "text"
      },
      "source": [
        "<a href=\"https://colab.research.google.com/github/Kggzzz/DentalShadeMatching/blob/main/Noref_validation_RF.ipynb\" target=\"_parent\"><img src=\"https://colab.research.google.com/assets/colab-badge.svg\" alt=\"Open In Colab\"/></a>"
      ]
    },
    {
      "cell_type": "code",
      "execution_count": 1,
      "metadata": {
        "id": "XN8xO5b2WcQs"
      },
      "outputs": [],
      "source": [
        "import pandas as pd"
      ]
    },
    {
      "cell_type": "code",
      "source": [
        "from google.colab import drive \n",
        "drive.mount('/content/drive')"
      ],
      "metadata": {
        "colab": {
          "base_uri": "https://localhost:8080/"
        },
        "id": "JolCsM8DWkzM",
        "outputId": "77d25465-c9e0-41d1-bc91-f741a042aec5"
      },
      "execution_count": 2,
      "outputs": [
        {
          "output_type": "stream",
          "name": "stdout",
          "text": [
            "Mounted at /content/drive\n"
          ]
        }
      ]
    },
    {
      "cell_type": "code",
      "source": [
        "import os"
      ],
      "metadata": {
        "id": "l3ADth3UWmWx"
      },
      "execution_count": 3,
      "outputs": []
    },
    {
      "cell_type": "code",
      "source": [
        "path = '/content/drive/My Drive/shadeimg/SVM shade'"
      ],
      "metadata": {
        "id": "PN5gBh_wWnTk"
      },
      "execution_count": 4,
      "outputs": []
    },
    {
      "cell_type": "code",
      "source": [
        "os.listdir(path)"
      ],
      "metadata": {
        "colab": {
          "base_uri": "https://localhost:8080/"
        },
        "id": "6V7IO0iGWpgF",
        "outputId": "3267a662-419f-4722-96dc-00498aca0626"
      },
      "execution_count": 5,
      "outputs": [
        {
          "output_type": "execute_result",
          "data": {
            "text/plain": [
              "['DD.xlsx',\n",
              " 'CC.xlsx',\n",
              " 'BB.xlsx',\n",
              " 'Shade_AA.xlsx',\n",
              " 'Shade_CC.xlsx',\n",
              " 'Shade_DD.xlsx',\n",
              " 'Shade_BB.xlsx',\n",
              " 'AA.xlsx',\n",
              " 'AA_2.xlsx',\n",
              " 'Shad_A.xlsx',\n",
              " 'Shad_B.xlsx',\n",
              " 'Shad_C.xlsx',\n",
              " 'Shad_D.xlsx',\n",
              " 'Setting4.xlsx',\n",
              " 'Color-checkerAA.xlsx',\n",
              " 'Color-checkerBB.xlsx',\n",
              " 'Color-checkerCC.xlsx',\n",
              " 'Setting2.xlsx',\n",
              " 'D3set51.csv',\n",
              " 'Setting1.xlsx',\n",
              " 'CheckerDD.xlsx',\n",
              " 'Setting3.xlsx',\n",
              " 'Setting6.xlsx',\n",
              " 'Setting5.xlsx',\n",
              " 'checkerShad_A .xlsx',\n",
              " 'checkerShad_B.xlsx',\n",
              " 'checkerShad_C.xlsx',\n",
              " 'D3Set5-61.xlsx',\n",
              " 'checkerShad_D.xlsx',\n",
              " 'Color-checkerDD.xlsx',\n",
              " 'Datapoint_1.xlsx',\n",
              " 'Datapoint_2.xlsx',\n",
              " 'Datapoint_3.xlsx',\n",
              " 'Datapoint_4.xlsx',\n",
              " 'Datapoint_6.xlsx',\n",
              " 'Datapoint_5.xlsx']"
            ]
          },
          "metadata": {},
          "execution_count": 5
        }
      ]
    },
    {
      "cell_type": "code",
      "source": [
        "Set1 = os.path.join(path,'Datapoint_1.xlsx')\n",
        "print(Set1)"
      ],
      "metadata": {
        "colab": {
          "base_uri": "https://localhost:8080/"
        },
        "id": "HqBwtklQWrjT",
        "outputId": "871df3f2-f3df-40c9-8ce9-da4c042796c3"
      },
      "execution_count": 6,
      "outputs": [
        {
          "output_type": "stream",
          "name": "stdout",
          "text": [
            "/content/drive/My Drive/shadeimg/SVM shade/Datapoint_1.xlsx\n"
          ]
        }
      ]
    },
    {
      "cell_type": "code",
      "source": [
        "Set2 = os.path.join(path,'Datapoint_2.xlsx')\n",
        "print(Set2)"
      ],
      "metadata": {
        "colab": {
          "base_uri": "https://localhost:8080/"
        },
        "id": "gtsVscJ0aFAy",
        "outputId": "57605d6a-1abf-41cc-906f-29cefdaa92e4"
      },
      "execution_count": 7,
      "outputs": [
        {
          "output_type": "stream",
          "name": "stdout",
          "text": [
            "/content/drive/My Drive/shadeimg/SVM shade/Datapoint_2.xlsx\n"
          ]
        }
      ]
    },
    {
      "cell_type": "code",
      "source": [
        "Set3 = os.path.join(path,'Datapoint_3.xlsx')\n",
        "print(Set3)"
      ],
      "metadata": {
        "colab": {
          "base_uri": "https://localhost:8080/"
        },
        "id": "-h9WRjWwaGNz",
        "outputId": "1de6c960-bf21-41c8-b8c2-03c4b4b47c43"
      },
      "execution_count": 8,
      "outputs": [
        {
          "output_type": "stream",
          "name": "stdout",
          "text": [
            "/content/drive/My Drive/shadeimg/SVM shade/Datapoint_3.xlsx\n"
          ]
        }
      ]
    },
    {
      "cell_type": "code",
      "source": [
        "Set4 = os.path.join(path,'Datapoint_4.xlsx')\n",
        "print(Set4)"
      ],
      "metadata": {
        "colab": {
          "base_uri": "https://localhost:8080/"
        },
        "id": "meqQ3flLaHab",
        "outputId": "fbd5f4a9-6825-4a32-d418-bce4b59b04d4"
      },
      "execution_count": 9,
      "outputs": [
        {
          "output_type": "stream",
          "name": "stdout",
          "text": [
            "/content/drive/My Drive/shadeimg/SVM shade/Datapoint_4.xlsx\n"
          ]
        }
      ]
    },
    {
      "cell_type": "code",
      "source": [
        "Set6 = os.path.join(path,'Datapoint_6.xlsx')\n",
        "print(Set6)"
      ],
      "metadata": {
        "colab": {
          "base_uri": "https://localhost:8080/"
        },
        "id": "HZzyzcjm1tVj",
        "outputId": "cd057a20-e987-4cd8-b02d-8347c38deac3"
      },
      "execution_count": 10,
      "outputs": [
        {
          "output_type": "stream",
          "name": "stdout",
          "text": [
            "/content/drive/My Drive/shadeimg/SVM shade/Datapoint_6.xlsx\n"
          ]
        }
      ]
    },
    {
      "cell_type": "code",
      "source": [
        "import numpy as np"
      ],
      "metadata": {
        "id": "Ul_zJOW3aPj3"
      },
      "execution_count": 11,
      "outputs": []
    },
    {
      "cell_type": "code",
      "source": [
        "from sklearn import metrics"
      ],
      "metadata": {
        "id": "A7CIfOAfaQhY"
      },
      "execution_count": 12,
      "outputs": []
    },
    {
      "cell_type": "code",
      "source": [
        "from sklearn import datasets"
      ],
      "metadata": {
        "id": "wnvnwlPaaRxS"
      },
      "execution_count": 13,
      "outputs": []
    },
    {
      "cell_type": "code",
      "source": [
        "from sklearn.ensemble import RandomForestClassifier"
      ],
      "metadata": {
        "id": "lGa_QPEBaSwA"
      },
      "execution_count": 14,
      "outputs": []
    },
    {
      "cell_type": "markdown",
      "source": [
        "#Data"
      ],
      "metadata": {
        "id": "Y3Zly83kWxcq"
      }
    },
    {
      "cell_type": "code",
      "source": [
        "A1Set1 = pd.read_excel(Set1 , sheet_name='A1_1')\n",
        "\n",
        "A2Set1 = pd.read_excel(Set1, sheet_name='A2_1')\n",
        "\n",
        "A3Set1 = pd.read_excel(Set1, sheet_name='A3_1')\n",
        "\n",
        "A3_5Set1 = pd.read_excel(Set1, sheet_name='A3.5_1')\n",
        "\n",
        "A4Set1 = pd.read_excel(Set1, sheet_name='A4_1')\n",
        "\n",
        "B1Set1 = pd.read_excel(Set1 , sheet_name='B1_1')\n",
        "\n",
        "B2Set1 = pd.read_excel(Set1, sheet_name='B2_1')\n",
        "\n",
        "B3Set1 = pd.read_excel(Set1, sheet_name='B3_1')\n",
        "\n",
        "B4Set1 = pd.read_excel(Set1, sheet_name='B4_1')\n",
        "\n",
        "C1Set1 = pd.read_excel(Set1 , sheet_name='C1_1')\n",
        "\n",
        "C2Set1 = pd.read_excel(Set1, sheet_name='C2_1')\n",
        "\n",
        "C3Set1 = pd.read_excel(Set1, sheet_name='C3_1')\n",
        "\n",
        "C4Set1 = pd.read_excel(Set1, sheet_name='C4_1')\n",
        "\n",
        "D2Set1 = pd.read_excel(Set1, sheet_name='D2_1')\n",
        "\n",
        "D3Set1 = pd.read_excel(Set1, sheet_name='D3_1')\n",
        "\n",
        "D4Set1 = pd.read_excel(Set1, sheet_name='D4_1')"
      ],
      "metadata": {
        "id": "qW_6dnO4WvtV"
      },
      "execution_count": 15,
      "outputs": []
    },
    {
      "cell_type": "code",
      "source": [
        "table_Set1 = pd.concat([A1Set1,A2Set1,A3Set1,A3_5Set1,A4Set1,B1Set1,B2Set1,B3Set1,B4Set1,C1Set1,C2Set1,C3Set1,C4Set1,D2Set1,D3Set1,D4Set1])"
      ],
      "metadata": {
        "id": "KyzRglIRXdKP"
      },
      "execution_count": 16,
      "outputs": []
    },
    {
      "cell_type": "code",
      "source": [
        "table_Set1.shape"
      ],
      "metadata": {
        "colab": {
          "base_uri": "https://localhost:8080/"
        },
        "id": "6hVbwQEKYU7F",
        "outputId": "0364d9db-3589-45a3-ce83-fc76470cf70b"
      },
      "execution_count": 17,
      "outputs": [
        {
          "output_type": "execute_result",
          "data": {
            "text/plain": [
              "(12855, 16)"
            ]
          },
          "metadata": {},
          "execution_count": 17
        }
      ]
    },
    {
      "cell_type": "code",
      "source": [
        "A1Set2 = pd.read_excel(Set2 , sheet_name='A1_2')\n",
        "\n",
        "A2Set2 = pd.read_excel(Set2, sheet_name='A2_2')\n",
        "\n",
        "A3Set2 = pd.read_excel(Set2, sheet_name='A3_2')\n",
        "\n",
        "A3_5Set2 = pd.read_excel(Set2, sheet_name='A3.5_2')\n",
        "\n",
        "A4Set2 = pd.read_excel(Set2, sheet_name='A4_2')\n",
        "\n",
        "B1Set2 = pd.read_excel(Set2 , sheet_name='B1_2')\n",
        "\n",
        "B2Set2 = pd.read_excel(Set2, sheet_name='B2_2')\n",
        "\n",
        "B3Set2 = pd.read_excel(Set2, sheet_name='B3_2')\n",
        "\n",
        "B4Set2 = pd.read_excel(Set2, sheet_name='B4_2')\n",
        "\n",
        "C1Set2 = pd.read_excel(Set2 , sheet_name='C1_2')\n",
        "\n",
        "C2Set2 = pd.read_excel(Set2, sheet_name='C2_2')\n",
        "\n",
        "C3Set2 = pd.read_excel(Set2, sheet_name='C3_2')\n",
        "\n",
        "C4Set2 = pd.read_excel(Set2, sheet_name='C4_2')\n",
        "\n",
        "D2Set2 = pd.read_excel(Set2, sheet_name='D2_2')\n",
        "\n",
        "D3Set2 = pd.read_excel(Set2, sheet_name='D3_2')\n",
        "\n",
        "D4Set2 = pd.read_excel(Set2, sheet_name='D4_2')"
      ],
      "metadata": {
        "id": "R7z8THSqYWGL"
      },
      "execution_count": 18,
      "outputs": []
    },
    {
      "cell_type": "code",
      "source": [
        "table_Set2 = pd.concat([A1Set2,A2Set2,A3Set2,A3_5Set2,A4Set2,B1Set2,B2Set2,B3Set2,B4Set2,C1Set2,C2Set2,C3Set2,C4Set2,D2Set2,D3Set2,D4Set2])"
      ],
      "metadata": {
        "id": "5WJOoOhdYoFs"
      },
      "execution_count": 19,
      "outputs": []
    },
    {
      "cell_type": "code",
      "source": [
        "table_Set2.shape"
      ],
      "metadata": {
        "colab": {
          "base_uri": "https://localhost:8080/"
        },
        "id": "qZ-y9NS2Yx2j",
        "outputId": "db9ba5f1-2607-4cd9-e549-48ce0f67bd06"
      },
      "execution_count": 20,
      "outputs": [
        {
          "output_type": "execute_result",
          "data": {
            "text/plain": [
              "(13005, 16)"
            ]
          },
          "metadata": {},
          "execution_count": 20
        }
      ]
    },
    {
      "cell_type": "code",
      "source": [
        "A1Set3 = pd.read_excel(Set3, sheet_name='A1_3')\n",
        "\n",
        "A2Set3 = pd.read_excel(Set3, sheet_name='A2_3')\n",
        "\n",
        "A3Set3 = pd.read_excel(Set3, sheet_name='A3_3')\n",
        "\n",
        "A3_5Set3 = pd.read_excel(Set3, sheet_name='A3.5_3')\n",
        "\n",
        "A4Set3 = pd.read_excel(Set3, sheet_name='A4_3')\n",
        "\n",
        "B1Set3 = pd.read_excel(Set3, sheet_name='B1_3')\n",
        "\n",
        "B2Set3 = pd.read_excel(Set3, sheet_name='B2_3')\n",
        "\n",
        "B3Set3 = pd.read_excel(Set3, sheet_name='B3_3')\n",
        "\n",
        "B4Set3 = pd.read_excel(Set3, sheet_name='B4_3')\n",
        "\n",
        "C1Set3 = pd.read_excel(Set3, sheet_name='C1_3')\n",
        "\n",
        "C2Set3 = pd.read_excel(Set3, sheet_name='C2_3')\n",
        "\n",
        "C3Set3 = pd.read_excel(Set3, sheet_name='C3_3')\n",
        "\n",
        "C4Set3 = pd.read_excel(Set3, sheet_name='C4_3')\n",
        "\n",
        "D2Set3 = pd.read_excel(Set3, sheet_name='D2_3')\n",
        "\n",
        "D3Set3 = pd.read_excel(Set3, sheet_name='D3_3')\n",
        "\n",
        "D4Set3 = pd.read_excel(Set3, sheet_name='D4_3')"
      ],
      "metadata": {
        "id": "apsanJ4zYz6c"
      },
      "execution_count": 21,
      "outputs": []
    },
    {
      "cell_type": "code",
      "source": [
        "table_Set3 = pd.concat([A1Set3,A2Set3,A3Set3,A3_5Set3,A4Set3,B1Set3,B2Set3,B3Set3,B4Set3,C1Set3,C2Set3,C3Set3,C4Set3,D2Set3,D3Set3,D4Set3])"
      ],
      "metadata": {
        "id": "V3wOy53PZCcC"
      },
      "execution_count": 22,
      "outputs": []
    },
    {
      "cell_type": "code",
      "source": [
        "table_Set3.shape"
      ],
      "metadata": {
        "colab": {
          "base_uri": "https://localhost:8080/"
        },
        "id": "I8Kly-34ZEo-",
        "outputId": "6cde6b6a-dad3-46a2-fd4e-9d6af517b2d4"
      },
      "execution_count": 23,
      "outputs": [
        {
          "output_type": "execute_result",
          "data": {
            "text/plain": [
              "(12920, 16)"
            ]
          },
          "metadata": {},
          "execution_count": 23
        }
      ]
    },
    {
      "cell_type": "code",
      "source": [
        "A1Set4 = pd.read_excel(Set4, sheet_name='A1_4')\n",
        "\n",
        "A2Set4 = pd.read_excel(Set4, sheet_name='A2_4')\n",
        "\n",
        "A3Set4 = pd.read_excel(Set4, sheet_name='A3_4')\n",
        "\n",
        "A3_5Set4 = pd.read_excel(Set4, sheet_name='A3.5_4')\n",
        "\n",
        "A4Set4 = pd.read_excel(Set4, sheet_name='A4_4')\n",
        "\n",
        "B1Set4 = pd.read_excel(Set4, sheet_name='B1_4')\n",
        "\n",
        "B2Set4 = pd.read_excel(Set4, sheet_name='B2_4')\n",
        "\n",
        "B3Set4 = pd.read_excel(Set4, sheet_name='B3_4')\n",
        "\n",
        "B4Set4 = pd.read_excel(Set4, sheet_name='B4_4')\n",
        "\n",
        "C1Set4 = pd.read_excel(Set4, sheet_name='C1_4')\n",
        "\n",
        "C2Set4 = pd.read_excel(Set4, sheet_name='C2_4')\n",
        "\n",
        "C3Set4 = pd.read_excel(Set4, sheet_name='C3_4')\n",
        "\n",
        "C4Set4 = pd.read_excel(Set4, sheet_name='C4_4')\n",
        "\n",
        "D2Set4 = pd.read_excel(Set4, sheet_name='D2_4')\n",
        "\n",
        "D3Set4 = pd.read_excel(Set4, sheet_name='D3_4')\n",
        "\n",
        "D4Set4 = pd.read_excel(Set4, sheet_name='D4_4')"
      ],
      "metadata": {
        "id": "Xxap2gbcZB7d"
      },
      "execution_count": 24,
      "outputs": []
    },
    {
      "cell_type": "code",
      "source": [
        "table_Set4 = pd.concat([A1Set4,A2Set4,A3Set4,A3_5Set4,A4Set4,B1Set4,B2Set4,B3Set4,B4Set4,C1Set4,C2Set4,C3Set4,C4Set4,D2Set4,D3Set4,D4Set4])"
      ],
      "metadata": {
        "id": "Rk_-rsUNZU4X"
      },
      "execution_count": 25,
      "outputs": []
    },
    {
      "cell_type": "code",
      "source": [
        "table_Set4.shape"
      ],
      "metadata": {
        "colab": {
          "base_uri": "https://localhost:8080/"
        },
        "id": "2H27hF0HZU4X",
        "outputId": "f3f0c890-388a-48dd-8663-fe061bd1ac0a"
      },
      "execution_count": 26,
      "outputs": [
        {
          "output_type": "execute_result",
          "data": {
            "text/plain": [
              "(12800, 16)"
            ]
          },
          "metadata": {},
          "execution_count": 26
        }
      ]
    },
    {
      "cell_type": "code",
      "source": [
        "A1Set6 = pd.read_excel(Set6 , sheet_name='A1_6')\n",
        "\n",
        "A2Set6 = pd.read_excel(Set6, sheet_name='A2_6')\n",
        "\n",
        "A3Set6 = pd.read_excel(Set6, sheet_name='A3_6')\n",
        "\n",
        "A3_5Set6 = pd.read_excel(Set6, sheet_name='A3.5_6')\n",
        "\n",
        "A4Set6 = pd.read_excel(Set6, sheet_name='A4_6')\n",
        "\n",
        "B1Set6 = pd.read_excel(Set6 , sheet_name='B1_6')\n",
        "\n",
        "B2Set6 = pd.read_excel(Set6, sheet_name='B2_6')\n",
        "\n",
        "B3Set6 = pd.read_excel(Set6, sheet_name='B3_6')\n",
        "\n",
        "B4Set6 = pd.read_excel(Set6, sheet_name='B4_6')\n",
        "\n",
        "C1Set6 = pd.read_excel(Set6 , sheet_name='C1_6')\n",
        "\n",
        "C2Set6 = pd.read_excel(Set6, sheet_name='C2_6')\n",
        "\n",
        "C3Set6 = pd.read_excel(Set6, sheet_name='C3_6')\n",
        "\n",
        "C4Set6 = pd.read_excel(Set6, sheet_name='C4_6')\n",
        "\n",
        "D2Set6 = pd.read_excel(Set6, sheet_name='D2_6')\n",
        "\n",
        "D3Set6 = pd.read_excel(Set6, sheet_name='D3_6')\n",
        "\n",
        "D4Set6 = pd.read_excel(Set6, sheet_name='D4_6')"
      ],
      "metadata": {
        "id": "OiVvTJAdZcGR"
      },
      "execution_count": 27,
      "outputs": []
    },
    {
      "cell_type": "code",
      "source": [
        "table_Set6 = pd.concat([A1Set6,A2Set6,A3Set6,A3_5Set6,A4Set6,B1Set6,B2Set6,B3Set6,B4Set6,C1Set6,C2Set6,C3Set6,C4Set6,D2Set6,D3Set6,D4Set6])"
      ],
      "metadata": {
        "id": "6gfsDVJzZcGS"
      },
      "execution_count": 28,
      "outputs": []
    },
    {
      "cell_type": "code",
      "source": [
        "table_Set6.shape"
      ],
      "metadata": {
        "colab": {
          "base_uri": "https://localhost:8080/"
        },
        "id": "gE1hF4CXZcGS",
        "outputId": "053a14b4-a499-467e-99de-2f5d4dab199f"
      },
      "execution_count": 29,
      "outputs": [
        {
          "output_type": "execute_result",
          "data": {
            "text/plain": [
              "(12880, 16)"
            ]
          },
          "metadata": {},
          "execution_count": 29
        }
      ]
    },
    {
      "cell_type": "markdown",
      "source": [
        "#RF"
      ],
      "metadata": {
        "id": "ZRDGcoKhZ8mL"
      }
    },
    {
      "cell_type": "markdown",
      "source": [
        "#Set1 test"
      ],
      "metadata": {
        "id": "NlLmQQRgab9I"
      }
    },
    {
      "cell_type": "markdown",
      "source": [
        "###RGB"
      ],
      "metadata": {
        "id": "XkJHrTSyZ96W"
      }
    },
    {
      "cell_type": "code",
      "source": [
        "RF_1 = RandomForestClassifier()"
      ],
      "metadata": {
        "id": "tkAEgrcQaA3K"
      },
      "execution_count": 30,
      "outputs": []
    },
    {
      "cell_type": "code",
      "source": [
        "RGB_Set1 = table_Set1.drop(['R-ref','G-ref','B-ref','H-ref','S-ref','V-ref','H-Shad','S-Shad','V-Shad','Setting','Ref','Shad','Img'], axis=1)"
      ],
      "metadata": {
        "id": "1JjRH2GjaaBQ"
      },
      "execution_count": 31,
      "outputs": []
    },
    {
      "cell_type": "code",
      "source": [
        "RGB_concat1 = pd.concat([table_Set2,table_Set3,table_Set4,table_Set6])"
      ],
      "metadata": {
        "id": "6Rd3Lkmlaju2"
      },
      "execution_count": 32,
      "outputs": []
    },
    {
      "cell_type": "code",
      "source": [
        "RGB_all_concat1 = RGB_concat1.drop(['R-ref','G-ref','B-ref','H-ref','S-ref','V-ref','H-Shad','S-Shad','V-Shad','Setting','Ref','Shad','Img'], axis=1)"
      ],
      "metadata": {
        "id": "AkoqEJNpvMSU"
      },
      "execution_count": 33,
      "outputs": []
    },
    {
      "cell_type": "code",
      "source": [
        "X_test_set1_RGB = np.array(RGB_Set1)"
      ],
      "metadata": {
        "id": "xp9V4lgSv0GW"
      },
      "execution_count": 34,
      "outputs": []
    },
    {
      "cell_type": "code",
      "source": [
        "y_set1_RGB =  table_Set1.iloc[:,14:15]"
      ],
      "metadata": {
        "id": "8GbbeXdOv7zg"
      },
      "execution_count": 35,
      "outputs": []
    },
    {
      "cell_type": "code",
      "source": [
        "y_test_set1_RGB = np.array(y_set1_RGB)"
      ],
      "metadata": {
        "id": "C_jqXDSSwA5c"
      },
      "execution_count": 36,
      "outputs": []
    },
    {
      "cell_type": "code",
      "source": [
        "X_train_set1_RGB = np.array(RGB_all_concat1)"
      ],
      "metadata": {
        "id": "tDvmfFOVwFba"
      },
      "execution_count": 37,
      "outputs": []
    },
    {
      "cell_type": "code",
      "source": [
        "y_train_set1RGB = RGB_concat1.iloc[:,14:15]"
      ],
      "metadata": {
        "id": "Sf956hCOwKeO"
      },
      "execution_count": 42,
      "outputs": []
    },
    {
      "cell_type": "code",
      "source": [
        "y_train_set1_RGB = np.array(y_train_set1RGB)"
      ],
      "metadata": {
        "id": "l3zeHlM0wRfg"
      },
      "execution_count": 43,
      "outputs": []
    },
    {
      "cell_type": "code",
      "source": [
        "y_train_set1_RGB.shape = (len(y_train_set1_RGB,))"
      ],
      "metadata": {
        "id": "qqyEVTYgwWDQ"
      },
      "execution_count": 44,
      "outputs": []
    },
    {
      "cell_type": "code",
      "source": [
        "RF_1.fit(X_train_set1_RGB, y_train_set1_RGB)"
      ],
      "metadata": {
        "id": "snFGLqx9wUkz",
        "outputId": "a5eae6ae-d648-4c7e-a082-08b75e0afd28",
        "colab": {
          "base_uri": "https://localhost:8080/"
        }
      },
      "execution_count": 45,
      "outputs": [
        {
          "output_type": "execute_result",
          "data": {
            "text/plain": [
              "RandomForestClassifier()"
            ]
          },
          "metadata": {},
          "execution_count": 45
        }
      ]
    },
    {
      "cell_type": "code",
      "source": [
        "y_pred_set1_RGB = RF_1.predict(X_test_set1_RGB)"
      ],
      "metadata": {
        "id": "DVR6d2ocwiJO"
      },
      "execution_count": 46,
      "outputs": []
    },
    {
      "cell_type": "code",
      "source": [
        "print(\"Accuracy:\", metrics.accuracy_score(y_test_set1_RGB, y_pred_set1_RGB))"
      ],
      "metadata": {
        "id": "rf5tGJjtwqCK",
        "outputId": "112f464d-9ab4-4c1f-e734-a353fd8b94ba",
        "colab": {
          "base_uri": "https://localhost:8080/"
        }
      },
      "execution_count": 47,
      "outputs": [
        {
          "output_type": "stream",
          "name": "stdout",
          "text": [
            "Accuracy: 0.046285492026448855\n"
          ]
        }
      ]
    },
    {
      "cell_type": "markdown",
      "source": [
        "###HSV"
      ],
      "metadata": {
        "id": "0u5VUfVhZ_z2"
      }
    },
    {
      "cell_type": "code",
      "source": [
        "RF_2 = RandomForestClassifier()"
      ],
      "metadata": {
        "id": "H4KBlguYw64u"
      },
      "execution_count": 48,
      "outputs": []
    },
    {
      "cell_type": "code",
      "source": [
        "HSV_Set1 = table_Set1.drop(['R-ref','G-ref','B-ref','R-Shad','G-Shad','B-Shad','H-ref','S-ref','V-ref','Setting','Ref','Shad','Img'], axis=1)"
      ],
      "metadata": {
        "id": "tvKmiE6Zw64v"
      },
      "execution_count": 49,
      "outputs": []
    },
    {
      "cell_type": "code",
      "source": [
        "HSV_concat2 = pd.concat([table_Set2,table_Set3,table_Set4,table_Set6])"
      ],
      "metadata": {
        "id": "PpOJfBAqw64v"
      },
      "execution_count": 50,
      "outputs": []
    },
    {
      "cell_type": "code",
      "source": [
        "HSV_all_concat2 = HSV_concat2.drop(['R-ref','G-ref','B-ref','R-Shad','G-Shad','B-Shad','H-ref','S-ref','V-ref','Setting','Ref','Shad','Img'], axis=1)"
      ],
      "metadata": {
        "id": "ntq6wLKZw64v"
      },
      "execution_count": 51,
      "outputs": []
    },
    {
      "cell_type": "code",
      "source": [
        "X_test_set1_HSV = np.array(HSV_Set1)"
      ],
      "metadata": {
        "id": "kX_weWijw64v"
      },
      "execution_count": 52,
      "outputs": []
    },
    {
      "cell_type": "code",
      "source": [
        "y_set1_HSV =  table_Set1.iloc[:,14:15]"
      ],
      "metadata": {
        "id": "5fcROkTLw64v"
      },
      "execution_count": 53,
      "outputs": []
    },
    {
      "cell_type": "code",
      "source": [
        "y_test_set1_HSV = np.array(y_set1_HSV)"
      ],
      "metadata": {
        "id": "lTz6i8wVw64v"
      },
      "execution_count": 54,
      "outputs": []
    },
    {
      "cell_type": "code",
      "source": [
        "X_train_set1_HSV = np.array(HSV_all_concat2)"
      ],
      "metadata": {
        "id": "kYirqF63w64v"
      },
      "execution_count": 55,
      "outputs": []
    },
    {
      "cell_type": "code",
      "source": [
        "y_train_set1HSV = HSV_concat2.iloc[:,14:15]"
      ],
      "metadata": {
        "id": "qOXNt3Scw64v"
      },
      "execution_count": 56,
      "outputs": []
    },
    {
      "cell_type": "code",
      "source": [
        "y_train_set1_HSV = np.array(y_train_set1HSV)"
      ],
      "metadata": {
        "id": "vf_qDkaXw64v"
      },
      "execution_count": 57,
      "outputs": []
    },
    {
      "cell_type": "code",
      "source": [
        "y_train_set1_HSV.shape = (len(y_train_set1_HSV,))"
      ],
      "metadata": {
        "id": "VlIrtS-jw64w"
      },
      "execution_count": 58,
      "outputs": []
    },
    {
      "cell_type": "code",
      "source": [
        "RF_2.fit(X_train_set1_HSV, y_train_set1_HSV)"
      ],
      "metadata": {
        "id": "d6ha55FHw64w",
        "outputId": "5a6d2413-f861-4b01-c151-d03d07b2fb9d",
        "colab": {
          "base_uri": "https://localhost:8080/"
        }
      },
      "execution_count": 59,
      "outputs": [
        {
          "output_type": "execute_result",
          "data": {
            "text/plain": [
              "RandomForestClassifier()"
            ]
          },
          "metadata": {},
          "execution_count": 59
        }
      ]
    },
    {
      "cell_type": "code",
      "source": [
        "y_pred_set1_HSV = RF_2.predict(X_test_set1_HSV)"
      ],
      "metadata": {
        "id": "VRUKaowMw64w"
      },
      "execution_count": 60,
      "outputs": []
    },
    {
      "cell_type": "code",
      "source": [
        "print(\"Accuracy:\", metrics.accuracy_score(y_test_set1_HSV, y_pred_set1_HSV))"
      ],
      "metadata": {
        "id": "TtABHeaNw64w",
        "outputId": "bff7616f-ec1a-4937-a298-f64480f43318",
        "colab": {
          "base_uri": "https://localhost:8080/"
        }
      },
      "execution_count": 61,
      "outputs": [
        {
          "output_type": "stream",
          "name": "stdout",
          "text": [
            "Accuracy: 0.08860365616491638\n"
          ]
        }
      ]
    },
    {
      "cell_type": "markdown",
      "source": [
        "#Set2 test"
      ],
      "metadata": {
        "id": "OYFSBQdwxqoF"
      }
    },
    {
      "cell_type": "markdown",
      "source": [
        "###RGB"
      ],
      "metadata": {
        "id": "xSahiumOxwF7"
      }
    },
    {
      "cell_type": "code",
      "source": [
        "RF_3 = RandomForestClassifier()"
      ],
      "metadata": {
        "id": "NRUXoGDpxwF7"
      },
      "execution_count": 62,
      "outputs": []
    },
    {
      "cell_type": "code",
      "source": [
        "RGB_Set2 = table_Set2.drop(['R-ref','G-ref','B-ref','H-ref','S-ref','V-ref','H-Shad','S-Shad','V-Shad','Setting','Ref','Shad','Img'], axis=1)"
      ],
      "metadata": {
        "id": "Yu9oJDbHxwF7"
      },
      "execution_count": 63,
      "outputs": []
    },
    {
      "cell_type": "code",
      "source": [
        "RGB_concat3 = pd.concat([table_Set1,table_Set3,table_Set4,table_Set6])"
      ],
      "metadata": {
        "id": "nm7IMroJxwF8"
      },
      "execution_count": 64,
      "outputs": []
    },
    {
      "cell_type": "code",
      "source": [
        "RGB_all_concat3 = RGB_concat3.drop(['R-ref','G-ref','B-ref','H-ref','S-ref','V-ref','H-Shad','S-Shad','V-Shad','Setting','Ref','Shad','Img'], axis=1)"
      ],
      "metadata": {
        "id": "f8z-dJiyxwF8"
      },
      "execution_count": 65,
      "outputs": []
    },
    {
      "cell_type": "code",
      "source": [
        "X_test_set2_RGB = np.array(RGB_Set2)"
      ],
      "metadata": {
        "id": "goJ3lPbhxwF8"
      },
      "execution_count": 66,
      "outputs": []
    },
    {
      "cell_type": "code",
      "source": [
        "y_set2_RGB =  table_Set2.iloc[:,14:15]"
      ],
      "metadata": {
        "id": "Bi46NlXrxwF8"
      },
      "execution_count": 67,
      "outputs": []
    },
    {
      "cell_type": "code",
      "source": [
        "y_test_set2_RGB = np.array(y_set2_RGB)"
      ],
      "metadata": {
        "id": "5BBYaiCtxwF8"
      },
      "execution_count": 68,
      "outputs": []
    },
    {
      "cell_type": "code",
      "source": [
        "X_train_set2_RGB = np.array(RGB_all_concat3)"
      ],
      "metadata": {
        "id": "sr5PysDvxwF8"
      },
      "execution_count": 69,
      "outputs": []
    },
    {
      "cell_type": "code",
      "source": [
        "y_train_set2RGB = RGB_concat3.iloc[:,14:15]"
      ],
      "metadata": {
        "id": "epetzMloxwF8"
      },
      "execution_count": 70,
      "outputs": []
    },
    {
      "cell_type": "code",
      "source": [
        "y_train_set2_RGB = np.array(y_train_set2RGB)"
      ],
      "metadata": {
        "id": "HSChJdNpxwF8"
      },
      "execution_count": 74,
      "outputs": []
    },
    {
      "cell_type": "code",
      "source": [
        "y_train_set2_RGB.shape = (len(y_train_set2_RGB,))"
      ],
      "metadata": {
        "id": "-7-fszHoxwF8"
      },
      "execution_count": 75,
      "outputs": []
    },
    {
      "cell_type": "code",
      "source": [
        "RF_3.fit(X_train_set2_RGB, y_train_set2_RGB)"
      ],
      "metadata": {
        "id": "x3wshtX-xwF9",
        "outputId": "b770facf-2ecd-453b-f00a-dbac1b2510c2",
        "colab": {
          "base_uri": "https://localhost:8080/"
        }
      },
      "execution_count": 76,
      "outputs": [
        {
          "output_type": "execute_result",
          "data": {
            "text/plain": [
              "RandomForestClassifier()"
            ]
          },
          "metadata": {},
          "execution_count": 76
        }
      ]
    },
    {
      "cell_type": "code",
      "source": [
        "y_pred_set2_RGB = RF_3.predict(X_test_set2_RGB)"
      ],
      "metadata": {
        "id": "1y6zp4uTxwF9"
      },
      "execution_count": 77,
      "outputs": []
    },
    {
      "cell_type": "code",
      "source": [
        "print(\"Accuracy:\", metrics.accuracy_score(y_test_set2_RGB, y_pred_set2_RGB))"
      ],
      "metadata": {
        "id": "Q-Y3q_KUxwF9",
        "outputId": "eb3446b8-f6c6-418a-b901-324bcfe08361",
        "colab": {
          "base_uri": "https://localhost:8080/"
        }
      },
      "execution_count": 78,
      "outputs": [
        {
          "output_type": "stream",
          "name": "stdout",
          "text": [
            "Accuracy: 0.07243367935409457\n"
          ]
        }
      ]
    },
    {
      "cell_type": "markdown",
      "source": [
        "###HSV"
      ],
      "metadata": {
        "id": "lBSENbq2xwF9"
      }
    },
    {
      "cell_type": "code",
      "source": [
        "RF_4 = RandomForestClassifier()"
      ],
      "metadata": {
        "id": "tXz7reCVxwF9"
      },
      "execution_count": 79,
      "outputs": []
    },
    {
      "cell_type": "code",
      "source": [
        "HSV_Set2 = table_Set2.drop(['R-ref','G-ref','B-ref','R-Shad','G-Shad','B-Shad','H-ref','S-ref','V-ref','Setting','Ref','Shad','Img'], axis=1)"
      ],
      "metadata": {
        "id": "25pjlT5oxwF9"
      },
      "execution_count": 80,
      "outputs": []
    },
    {
      "cell_type": "code",
      "source": [
        "HSV_concat4 = pd.concat([table_Set2,table_Set3,table_Set4,table_Set6])"
      ],
      "metadata": {
        "id": "Vvy1itS2xwF9"
      },
      "execution_count": 81,
      "outputs": []
    },
    {
      "cell_type": "code",
      "source": [
        "HSV_all_concat4 = HSV_concat4.drop(['R-ref','G-ref','B-ref','R-Shad','G-Shad','B-Shad','H-ref','S-ref','V-ref','Setting','Ref','Shad','Img'], axis=1)"
      ],
      "metadata": {
        "id": "UVsXMN9ixwF9"
      },
      "execution_count": 82,
      "outputs": []
    },
    {
      "cell_type": "code",
      "source": [
        "X_test_set2_HSV = np.array(HSV_Set2)"
      ],
      "metadata": {
        "id": "_DDpNhNkxwF9"
      },
      "execution_count": 83,
      "outputs": []
    },
    {
      "cell_type": "code",
      "source": [
        "y_set2_HSV =  table_Set2.iloc[:,14:15]"
      ],
      "metadata": {
        "id": "QjEGAUqkxwF9"
      },
      "execution_count": 84,
      "outputs": []
    },
    {
      "cell_type": "code",
      "source": [
        "y_test_set2_HSV = np.array(y_set2_HSV)"
      ],
      "metadata": {
        "id": "D7-w7UG8xwF-"
      },
      "execution_count": 85,
      "outputs": []
    },
    {
      "cell_type": "code",
      "source": [
        "X_train_set2_HSV = np.array(HSV_all_concat4)"
      ],
      "metadata": {
        "id": "x3rOXQjUxwF-"
      },
      "execution_count": 86,
      "outputs": []
    },
    {
      "cell_type": "code",
      "source": [
        "y_train_set2HSV = HSV_concat4.iloc[:,14:15]"
      ],
      "metadata": {
        "id": "o-WcP398xwF-"
      },
      "execution_count": 87,
      "outputs": []
    },
    {
      "cell_type": "code",
      "source": [
        "y_train_set2_HSV = np.array(y_train_set2HSV)"
      ],
      "metadata": {
        "id": "ktgBoQysxwF-"
      },
      "execution_count": 88,
      "outputs": []
    },
    {
      "cell_type": "code",
      "source": [
        "y_train_set2_HSV.shape = (len(y_train_set2_HSV,))"
      ],
      "metadata": {
        "id": "kUjAR32xxwF-"
      },
      "execution_count": 89,
      "outputs": []
    },
    {
      "cell_type": "code",
      "source": [
        "RF_4.fit(X_train_set2_HSV, y_train_set2_HSV)"
      ],
      "metadata": {
        "id": "v0vsc3vgxwF-",
        "outputId": "282f773d-856e-4299-d586-4348bbcd2a92",
        "colab": {
          "base_uri": "https://localhost:8080/"
        }
      },
      "execution_count": 90,
      "outputs": [
        {
          "output_type": "execute_result",
          "data": {
            "text/plain": [
              "RandomForestClassifier()"
            ]
          },
          "metadata": {},
          "execution_count": 90
        }
      ]
    },
    {
      "cell_type": "code",
      "source": [
        "y_pred_set2_HSV = RF_4.predict(X_test_set2_HSV)"
      ],
      "metadata": {
        "id": "LjAraPQFxwF-"
      },
      "execution_count": 91,
      "outputs": []
    },
    {
      "cell_type": "code",
      "source": [
        "print(\"Accuracy:\", metrics.accuracy_score(y_test_set2_HSV, y_pred_set2_HSV))"
      ],
      "metadata": {
        "id": "eoAds6mLxwF-",
        "outputId": "7cc40982-d601-4718-e241-5dda1103ae74",
        "colab": {
          "base_uri": "https://localhost:8080/"
        }
      },
      "execution_count": 92,
      "outputs": [
        {
          "output_type": "stream",
          "name": "stdout",
          "text": [
            "Accuracy: 1.0\n"
          ]
        }
      ]
    },
    {
      "cell_type": "markdown",
      "source": [
        "#Set3 test"
      ],
      "metadata": {
        "id": "0TLXtOO-yhAg"
      }
    },
    {
      "cell_type": "markdown",
      "source": [
        "###RGB"
      ],
      "metadata": {
        "id": "8ET-s46Fymd_"
      }
    },
    {
      "cell_type": "code",
      "source": [
        "RF_5 = RandomForestClassifier()"
      ],
      "metadata": {
        "id": "mHf3sHeFymeA"
      },
      "execution_count": 93,
      "outputs": []
    },
    {
      "cell_type": "code",
      "source": [
        "RGB_Set3 = table_Set3.drop(['R-ref','G-ref','B-ref','H-ref','S-ref','V-ref','H-Shad','S-Shad','V-Shad','Setting','Ref','Shad','Img'], axis=1)"
      ],
      "metadata": {
        "id": "7dRkMB5bymeA"
      },
      "execution_count": 94,
      "outputs": []
    },
    {
      "cell_type": "code",
      "source": [
        "RGB_concat5 = pd.concat([table_Set1,table_Set2,table_Set4,table_Set6])"
      ],
      "metadata": {
        "id": "33QH8XZVymeA"
      },
      "execution_count": 95,
      "outputs": []
    },
    {
      "cell_type": "code",
      "source": [
        "RGB_all_concat5 = RGB_concat5.drop(['R-ref','G-ref','B-ref','H-ref','S-ref','V-ref','H-Shad','S-Shad','V-Shad','Setting','Ref','Shad','Img'], axis=1)"
      ],
      "metadata": {
        "id": "FTR6Hk27ymeA"
      },
      "execution_count": 96,
      "outputs": []
    },
    {
      "cell_type": "code",
      "source": [
        "X_test_set3_RGB = np.array(RGB_Set3)"
      ],
      "metadata": {
        "id": "7krC9XWnymeA"
      },
      "execution_count": 97,
      "outputs": []
    },
    {
      "cell_type": "code",
      "source": [
        "y_set3_RGB =  table_Set3.iloc[:,14:15]"
      ],
      "metadata": {
        "id": "FC_EXZt8ymeA"
      },
      "execution_count": 98,
      "outputs": []
    },
    {
      "cell_type": "code",
      "source": [
        "y_test_set3_RGB = np.array(y_set3_RGB)"
      ],
      "metadata": {
        "id": "_nk3i42jymeB"
      },
      "execution_count": 99,
      "outputs": []
    },
    {
      "cell_type": "code",
      "source": [
        "X_train_set3_RGB = np.array(RGB_all_concat5)"
      ],
      "metadata": {
        "id": "cYIa8tKbymeB"
      },
      "execution_count": 100,
      "outputs": []
    },
    {
      "cell_type": "code",
      "source": [
        "y_train_set3RGB = RGB_concat5.iloc[:,14:15]"
      ],
      "metadata": {
        "id": "HQW89GGOymeB"
      },
      "execution_count": 101,
      "outputs": []
    },
    {
      "cell_type": "code",
      "source": [
        "y_train_set3_RGB = np.array(y_train_set3RGB)"
      ],
      "metadata": {
        "id": "REBUYeyWymeB"
      },
      "execution_count": 102,
      "outputs": []
    },
    {
      "cell_type": "code",
      "source": [
        "y_train_set3_RGB.shape = (len(y_train_set3_RGB,))"
      ],
      "metadata": {
        "id": "0i_hSg-rymeB"
      },
      "execution_count": 103,
      "outputs": []
    },
    {
      "cell_type": "code",
      "source": [
        "RF_5.fit(X_train_set3_RGB, y_train_set3_RGB)"
      ],
      "metadata": {
        "id": "2u8Gs3O5ymeB",
        "outputId": "132c14e4-f482-47e4-e269-9d26bca96ca5",
        "colab": {
          "base_uri": "https://localhost:8080/"
        }
      },
      "execution_count": 104,
      "outputs": [
        {
          "output_type": "execute_result",
          "data": {
            "text/plain": [
              "RandomForestClassifier()"
            ]
          },
          "metadata": {},
          "execution_count": 104
        }
      ]
    },
    {
      "cell_type": "code",
      "source": [
        "y_pred_set3_RGB = RF_5.predict(X_test_set3_RGB)"
      ],
      "metadata": {
        "id": "7R-ziVhxymeB"
      },
      "execution_count": 105,
      "outputs": []
    },
    {
      "cell_type": "code",
      "source": [
        "print(\"Accuracy:\", metrics.accuracy_score(y_test_set3_RGB, y_pred_set3_RGB))"
      ],
      "metadata": {
        "id": "huNcpR3XymeB",
        "outputId": "a4dfe5c3-cabc-4056-d096-c77231db763a",
        "colab": {
          "base_uri": "https://localhost:8080/"
        }
      },
      "execution_count": 106,
      "outputs": [
        {
          "output_type": "stream",
          "name": "stdout",
          "text": [
            "Accuracy: 0.4154798761609907\n"
          ]
        }
      ]
    },
    {
      "cell_type": "markdown",
      "source": [
        "###HSV"
      ],
      "metadata": {
        "id": "nIpmbU0cymeB"
      }
    },
    {
      "cell_type": "code",
      "source": [
        "RF_6 = RandomForestClassifier()"
      ],
      "metadata": {
        "id": "zkSBLfDYymeC"
      },
      "execution_count": 107,
      "outputs": []
    },
    {
      "cell_type": "code",
      "source": [
        "HSV_Set3 = table_Set3.drop(['R-ref','G-ref','B-ref','R-Shad','G-Shad','B-Shad','H-ref','S-ref','V-ref','Setting','Ref','Shad','Img'], axis=1)"
      ],
      "metadata": {
        "id": "DXiP8ji6ymeC"
      },
      "execution_count": 108,
      "outputs": []
    },
    {
      "cell_type": "code",
      "source": [
        "HSV_concat6 = pd.concat([table_Set1,table_Set2,table_Set4,table_Set6])"
      ],
      "metadata": {
        "id": "3DH91RpoymeC"
      },
      "execution_count": 109,
      "outputs": []
    },
    {
      "cell_type": "code",
      "source": [
        "HSV_all_concat6 = HSV_concat6.drop(['R-ref','G-ref','B-ref','R-Shad','G-Shad','B-Shad','H-ref','S-ref','V-ref','Setting','Ref','Shad','Img'], axis=1)"
      ],
      "metadata": {
        "id": "fE9nKp7yymeC"
      },
      "execution_count": 110,
      "outputs": []
    },
    {
      "cell_type": "code",
      "source": [
        "X_test_set3_HSV = np.array(HSV_Set3)"
      ],
      "metadata": {
        "id": "BRE_FmGHymeC"
      },
      "execution_count": 111,
      "outputs": []
    },
    {
      "cell_type": "code",
      "source": [
        "y_set3_HSV =  table_Set3.iloc[:,14:15]"
      ],
      "metadata": {
        "id": "BKLBl2lzymeC"
      },
      "execution_count": 112,
      "outputs": []
    },
    {
      "cell_type": "code",
      "source": [
        "y_test_set3_HSV = np.array(y_set3_HSV)"
      ],
      "metadata": {
        "id": "geyc-6IoymeC"
      },
      "execution_count": 113,
      "outputs": []
    },
    {
      "cell_type": "code",
      "source": [
        "X_train_set3_HSV = np.array(HSV_all_concat6)"
      ],
      "metadata": {
        "id": "l6xUdCHTymeC"
      },
      "execution_count": 114,
      "outputs": []
    },
    {
      "cell_type": "code",
      "source": [
        "y_train_set3HSV = HSV_concat6.iloc[:,14:15]"
      ],
      "metadata": {
        "id": "oEoOTVn6ymeC"
      },
      "execution_count": 115,
      "outputs": []
    },
    {
      "cell_type": "code",
      "source": [
        "y_train_set3_HSV = np.array(y_train_set3HSV)"
      ],
      "metadata": {
        "id": "w6nY7XPsymeC"
      },
      "execution_count": 116,
      "outputs": []
    },
    {
      "cell_type": "code",
      "source": [
        "y_train_set3_HSV.shape = (len(y_train_set3_HSV,))"
      ],
      "metadata": {
        "id": "6oUiPL9qymeD"
      },
      "execution_count": 117,
      "outputs": []
    },
    {
      "cell_type": "code",
      "source": [
        "RF_6.fit(X_train_set3_HSV, y_train_set3_HSV)"
      ],
      "metadata": {
        "id": "D5g6bUBZymeD",
        "outputId": "fcc0df32-2b15-4613-e093-a515701152b4",
        "colab": {
          "base_uri": "https://localhost:8080/"
        }
      },
      "execution_count": 118,
      "outputs": [
        {
          "output_type": "execute_result",
          "data": {
            "text/plain": [
              "RandomForestClassifier()"
            ]
          },
          "metadata": {},
          "execution_count": 118
        }
      ]
    },
    {
      "cell_type": "code",
      "source": [
        "y_pred_set3_HSV = RF_6.predict(X_test_set3_HSV)"
      ],
      "metadata": {
        "id": "u3VazC_IymeD"
      },
      "execution_count": 119,
      "outputs": []
    },
    {
      "cell_type": "code",
      "source": [
        "print(\"Accuracy:\", metrics.accuracy_score(y_test_set3_HSV, y_pred_set3_HSV))"
      ],
      "metadata": {
        "id": "hn22LWI4ymeD",
        "outputId": "b9373e1e-f332-48db-dbf6-abf69c88d66f",
        "colab": {
          "base_uri": "https://localhost:8080/"
        }
      },
      "execution_count": 120,
      "outputs": [
        {
          "output_type": "stream",
          "name": "stdout",
          "text": [
            "Accuracy: 0.38606811145510833\n"
          ]
        }
      ]
    },
    {
      "cell_type": "markdown",
      "source": [
        "#Set4 test"
      ],
      "metadata": {
        "id": "mOcJzlA_zl2c"
      }
    },
    {
      "cell_type": "markdown",
      "source": [
        "###RGB"
      ],
      "metadata": {
        "id": "1uEy4fxkzl2c"
      }
    },
    {
      "cell_type": "code",
      "source": [
        "RF_7 = RandomForestClassifier()"
      ],
      "metadata": {
        "id": "Pq09EnaIzl2c"
      },
      "execution_count": 121,
      "outputs": []
    },
    {
      "cell_type": "code",
      "source": [
        "RGB_Set4 = table_Set4.drop(['R-ref','G-ref','B-ref','H-ref','S-ref','V-ref','H-Shad','S-Shad','V-Shad','Setting','Ref','Shad','Img'], axis=1)"
      ],
      "metadata": {
        "id": "btgomLOUzl2c"
      },
      "execution_count": 122,
      "outputs": []
    },
    {
      "cell_type": "code",
      "source": [
        "RGB_concat7 = pd.concat([table_Set1,table_Set2,table_Set3,table_Set6])"
      ],
      "metadata": {
        "id": "gdPPp0ewzl2d"
      },
      "execution_count": 123,
      "outputs": []
    },
    {
      "cell_type": "code",
      "source": [
        "RGB_all_concat7 = RGB_concat7.drop(['R-ref','G-ref','B-ref','H-ref','S-ref','V-ref','H-Shad','S-Shad','V-Shad','Setting','Ref','Shad','Img'], axis=1)"
      ],
      "metadata": {
        "id": "SNd_twUQzl2d"
      },
      "execution_count": 124,
      "outputs": []
    },
    {
      "cell_type": "code",
      "source": [
        "X_test_set4_RGB = np.array(RGB_Set4)"
      ],
      "metadata": {
        "id": "8bMPd3bxzl2d"
      },
      "execution_count": 125,
      "outputs": []
    },
    {
      "cell_type": "code",
      "source": [
        "y_set4_RGB =  table_Set4.iloc[:,14:15]"
      ],
      "metadata": {
        "id": "m_slOyqXzl2d"
      },
      "execution_count": 126,
      "outputs": []
    },
    {
      "cell_type": "code",
      "source": [
        "y_test_set4_RGB = np.array(y_set4_RGB)"
      ],
      "metadata": {
        "id": "ys50YiqYzl2d"
      },
      "execution_count": 127,
      "outputs": []
    },
    {
      "cell_type": "code",
      "source": [
        "X_train_set4_RGB = np.array(RGB_all_concat7)"
      ],
      "metadata": {
        "id": "Gtck7Hhszl2d"
      },
      "execution_count": 128,
      "outputs": []
    },
    {
      "cell_type": "code",
      "source": [
        "y_train_set4RGB = RGB_concat7.iloc[:,14:15]"
      ],
      "metadata": {
        "id": "0z9tTR8Izl2d"
      },
      "execution_count": 129,
      "outputs": []
    },
    {
      "cell_type": "code",
      "source": [
        "y_train_set4_RGB = np.array(y_train_set4RGB)"
      ],
      "metadata": {
        "id": "jcvLQWwXzl2d"
      },
      "execution_count": 130,
      "outputs": []
    },
    {
      "cell_type": "code",
      "source": [
        "y_train_set4_RGB.shape = (len(y_train_set4_RGB,))"
      ],
      "metadata": {
        "id": "zrAfLCYTzl2d"
      },
      "execution_count": 131,
      "outputs": []
    },
    {
      "cell_type": "code",
      "source": [
        "RF_7.fit(X_train_set4_RGB, y_train_set4_RGB)"
      ],
      "metadata": {
        "id": "wAWFtefzzl2d",
        "outputId": "d1c96e85-d3bf-4ca8-e3f5-6b9fe5669064",
        "colab": {
          "base_uri": "https://localhost:8080/"
        }
      },
      "execution_count": 132,
      "outputs": [
        {
          "output_type": "execute_result",
          "data": {
            "text/plain": [
              "RandomForestClassifier()"
            ]
          },
          "metadata": {},
          "execution_count": 132
        }
      ]
    },
    {
      "cell_type": "code",
      "source": [
        "y_pred_set4_RGB = RF_7.predict(X_test_set4_RGB)"
      ],
      "metadata": {
        "id": "vgBgx6qSzl2e"
      },
      "execution_count": 133,
      "outputs": []
    },
    {
      "cell_type": "code",
      "source": [
        "print(\"Accuracy:\", metrics.accuracy_score(y_test_set4_RGB, y_pred_set4_RGB))"
      ],
      "metadata": {
        "id": "6NkowftUzl2e",
        "outputId": "2023c179-6dd3-4086-82e9-a5981e7dfbe3",
        "colab": {
          "base_uri": "https://localhost:8080/"
        }
      },
      "execution_count": 134,
      "outputs": [
        {
          "output_type": "stream",
          "name": "stdout",
          "text": [
            "Accuracy: 0.163125\n"
          ]
        }
      ]
    },
    {
      "cell_type": "markdown",
      "source": [
        "###HSV"
      ],
      "metadata": {
        "id": "ubwTl9fdzl2e"
      }
    },
    {
      "cell_type": "code",
      "source": [
        "RF_8 = RandomForestClassifier()"
      ],
      "metadata": {
        "id": "f7Q5fA6gzl2e"
      },
      "execution_count": 135,
      "outputs": []
    },
    {
      "cell_type": "code",
      "source": [
        "HSV_Set4 = table_Set4.drop(['R-ref','G-ref','B-ref','R-Shad','G-Shad','B-Shad','H-ref','S-ref','V-ref','Setting','Ref','Shad','Img'], axis=1)"
      ],
      "metadata": {
        "id": "8sOFZnWBzl2e"
      },
      "execution_count": 136,
      "outputs": []
    },
    {
      "cell_type": "code",
      "source": [
        "HSV_concat8 = pd.concat([table_Set1,table_Set2,table_Set3,table_Set6])"
      ],
      "metadata": {
        "id": "btL_owPQzl2e"
      },
      "execution_count": 137,
      "outputs": []
    },
    {
      "cell_type": "code",
      "source": [
        "HSV_all_concat8 = HSV_concat8.drop(['R-ref','G-ref','B-ref','R-Shad','G-Shad','B-Shad','H-ref','S-ref','V-ref','Setting','Ref','Shad','Img'], axis=1)"
      ],
      "metadata": {
        "id": "Z3l3tEjfzl2e"
      },
      "execution_count": 138,
      "outputs": []
    },
    {
      "cell_type": "code",
      "source": [
        "X_test_set4_HSV = np.array(HSV_Set4)"
      ],
      "metadata": {
        "id": "VJGQXB9qzl2e"
      },
      "execution_count": 139,
      "outputs": []
    },
    {
      "cell_type": "code",
      "source": [
        "y_set4_HSV =  table_Set4.iloc[:,14:15]"
      ],
      "metadata": {
        "id": "UufcKfxdzl2e"
      },
      "execution_count": 140,
      "outputs": []
    },
    {
      "cell_type": "code",
      "source": [
        "y_test_set4_HSV = np.array(y_set4_HSV)"
      ],
      "metadata": {
        "id": "ZdtGzrCWzl2e"
      },
      "execution_count": 141,
      "outputs": []
    },
    {
      "cell_type": "code",
      "source": [
        "X_train_set4_HSV = np.array(HSV_all_concat8)"
      ],
      "metadata": {
        "id": "6eepGA7izl2f"
      },
      "execution_count": 142,
      "outputs": []
    },
    {
      "cell_type": "code",
      "source": [
        "y_train_set4HSV = HSV_concat8.iloc[:,14:15]"
      ],
      "metadata": {
        "id": "EJ7JeDftzl2f"
      },
      "execution_count": 143,
      "outputs": []
    },
    {
      "cell_type": "code",
      "source": [
        "y_train_set4_HSV = np.array(y_train_set4HSV)"
      ],
      "metadata": {
        "id": "rlE_YLhOzl2f"
      },
      "execution_count": 144,
      "outputs": []
    },
    {
      "cell_type": "code",
      "source": [
        "y_train_set4_HSV.shape = (len(y_train_set4_HSV,))"
      ],
      "metadata": {
        "id": "CJ2WAIm3zl2f"
      },
      "execution_count": 145,
      "outputs": []
    },
    {
      "cell_type": "code",
      "source": [
        "RF_8.fit(X_train_set4_HSV, y_train_set4_HSV)"
      ],
      "metadata": {
        "id": "2upoYIkVzl2f",
        "outputId": "503a0a9f-f1f6-400a-c389-fe57917edb8f",
        "colab": {
          "base_uri": "https://localhost:8080/"
        }
      },
      "execution_count": 146,
      "outputs": [
        {
          "output_type": "execute_result",
          "data": {
            "text/plain": [
              "RandomForestClassifier()"
            ]
          },
          "metadata": {},
          "execution_count": 146
        }
      ]
    },
    {
      "cell_type": "code",
      "source": [
        "y_pred_set4_HSV = RF_8.predict(X_test_set4_HSV)"
      ],
      "metadata": {
        "id": "XhYa1QxFzl2f"
      },
      "execution_count": 147,
      "outputs": []
    },
    {
      "cell_type": "code",
      "source": [
        "print(\"Accuracy:\", metrics.accuracy_score(y_test_set4_HSV, y_pred_set4_HSV))"
      ],
      "metadata": {
        "id": "JPA9zN5tzl2f",
        "outputId": "7d120a39-8e57-4557-8f39-271273778b4b",
        "colab": {
          "base_uri": "https://localhost:8080/"
        }
      },
      "execution_count": 148,
      "outputs": [
        {
          "output_type": "stream",
          "name": "stdout",
          "text": [
            "Accuracy: 0.196796875\n"
          ]
        }
      ]
    },
    {
      "cell_type": "markdown",
      "source": [
        "#Set6 test"
      ],
      "metadata": {
        "id": "QahfKyye2Plx"
      }
    },
    {
      "cell_type": "markdown",
      "source": [
        "###RGB"
      ],
      "metadata": {
        "id": "3BWw2mqs2VQB"
      }
    },
    {
      "cell_type": "code",
      "source": [
        "RF_9 = RandomForestClassifier()"
      ],
      "metadata": {
        "id": "HzfOV-kY2VQB"
      },
      "execution_count": 149,
      "outputs": []
    },
    {
      "cell_type": "code",
      "source": [
        "RGB_Set6 = table_Set6.drop(['R-ref','G-ref','B-ref','H-ref','S-ref','V-ref','H-Shad','S-Shad','V-Shad','Setting','Ref','Shad','Img'], axis=1)"
      ],
      "metadata": {
        "id": "FaslkWeD2VQC"
      },
      "execution_count": 150,
      "outputs": []
    },
    {
      "cell_type": "code",
      "source": [
        "RGB_concat9 = pd.concat([table_Set1,table_Set2,table_Set3,table_Set4])"
      ],
      "metadata": {
        "id": "vJZWhcbf2VQC"
      },
      "execution_count": 151,
      "outputs": []
    },
    {
      "cell_type": "code",
      "source": [
        "RGB_all_concat9 = RGB_concat9.drop(['R-ref','G-ref','B-ref','H-ref','S-ref','V-ref','H-Shad','S-Shad','V-Shad','Setting','Ref','Shad','Img'], axis=1)"
      ],
      "metadata": {
        "id": "QEkw01dC2VQC"
      },
      "execution_count": 152,
      "outputs": []
    },
    {
      "cell_type": "code",
      "source": [
        "X_test_set6_RGB = np.array(RGB_Set6)"
      ],
      "metadata": {
        "id": "M62UqC542VQC"
      },
      "execution_count": 153,
      "outputs": []
    },
    {
      "cell_type": "code",
      "source": [
        "y_set6_RGB =  table_Set6.iloc[:,14:15]"
      ],
      "metadata": {
        "id": "NnLTCAT32VQC"
      },
      "execution_count": 154,
      "outputs": []
    },
    {
      "cell_type": "code",
      "source": [
        "y_test_set6_RGB = np.array(y_set6_RGB)"
      ],
      "metadata": {
        "id": "bidUdfvU2VQC"
      },
      "execution_count": 155,
      "outputs": []
    },
    {
      "cell_type": "code",
      "source": [
        "X_train_set6_RGB = np.array(RGB_all_concat9)"
      ],
      "metadata": {
        "id": "1M3dZYSV2VQC"
      },
      "execution_count": 156,
      "outputs": []
    },
    {
      "cell_type": "code",
      "source": [
        "y_train_set6RGB = RGB_concat9.iloc[:,14:15]"
      ],
      "metadata": {
        "id": "GDkDCbMP2VQC"
      },
      "execution_count": 157,
      "outputs": []
    },
    {
      "cell_type": "code",
      "source": [
        "y_train_set6_RGB = np.array(y_train_set6RGB)"
      ],
      "metadata": {
        "id": "CYA-K1cI2VQC"
      },
      "execution_count": 158,
      "outputs": []
    },
    {
      "cell_type": "code",
      "source": [
        "y_train_set6_RGB.shape = (len(y_train_set6_RGB,))"
      ],
      "metadata": {
        "id": "U7Q0xDh32VQC"
      },
      "execution_count": 159,
      "outputs": []
    },
    {
      "cell_type": "code",
      "source": [
        "RF_9.fit(X_train_set6_RGB, y_train_set6_RGB)"
      ],
      "metadata": {
        "id": "a9dcFx062VQD",
        "outputId": "8321f32e-7421-4ed7-d8e9-74b2b5d7fd3b",
        "colab": {
          "base_uri": "https://localhost:8080/"
        }
      },
      "execution_count": 160,
      "outputs": [
        {
          "output_type": "execute_result",
          "data": {
            "text/plain": [
              "RandomForestClassifier()"
            ]
          },
          "metadata": {},
          "execution_count": 160
        }
      ]
    },
    {
      "cell_type": "code",
      "source": [
        "y_pred_set6_RGB = RF_9.predict(X_test_set6_RGB)"
      ],
      "metadata": {
        "id": "60h0GzDq2VQD"
      },
      "execution_count": 161,
      "outputs": []
    },
    {
      "cell_type": "code",
      "source": [
        "print(\"Accuracy:\", metrics.accuracy_score(y_test_set6_RGB, y_pred_set6_RGB))"
      ],
      "metadata": {
        "id": "K5WOQRVn2VQD",
        "outputId": "54aad276-250c-4df8-f84e-05c57d6a79f5",
        "colab": {
          "base_uri": "https://localhost:8080/"
        }
      },
      "execution_count": 162,
      "outputs": [
        {
          "output_type": "stream",
          "name": "stdout",
          "text": [
            "Accuracy: 0.3295807453416149\n"
          ]
        }
      ]
    },
    {
      "cell_type": "markdown",
      "source": [
        "###HSV"
      ],
      "metadata": {
        "id": "_nzwx1lo2VQD"
      }
    },
    {
      "cell_type": "code",
      "source": [
        "RF_10 = RandomForestClassifier()"
      ],
      "metadata": {
        "id": "cYF3U5xF2VQD"
      },
      "execution_count": 163,
      "outputs": []
    },
    {
      "cell_type": "code",
      "source": [
        "HSV_Set6 = table_Set6.drop(['R-ref','G-ref','B-ref','R-Shad','G-Shad','B-Shad','H-ref','S-ref','V-ref','Setting','Ref','Shad','Img'], axis=1)"
      ],
      "metadata": {
        "id": "D_lemnYe2VQD"
      },
      "execution_count": 164,
      "outputs": []
    },
    {
      "cell_type": "code",
      "source": [
        "HSV_concat10 = pd.concat([table_Set1,table_Set2,table_Set3,table_Set4])"
      ],
      "metadata": {
        "id": "fSj18obd2VQD"
      },
      "execution_count": 165,
      "outputs": []
    },
    {
      "cell_type": "code",
      "source": [
        "HSV_all_concat10 = HSV_concat10.drop(['R-ref','G-ref','B-ref','R-Shad','G-Shad','B-Shad','H-ref','S-ref','V-ref','Setting','Ref','Shad','Img'], axis=1)"
      ],
      "metadata": {
        "id": "OKv1pwi12VQD"
      },
      "execution_count": 166,
      "outputs": []
    },
    {
      "cell_type": "code",
      "source": [
        "X_test_set6_HSV = np.array(HSV_Set6)"
      ],
      "metadata": {
        "id": "jdMSyB0M2VQD"
      },
      "execution_count": 167,
      "outputs": []
    },
    {
      "cell_type": "code",
      "source": [
        "y_set6_HSV =  table_Set6.iloc[:,14:15]"
      ],
      "metadata": {
        "id": "f2X0266E2VQD"
      },
      "execution_count": 168,
      "outputs": []
    },
    {
      "cell_type": "code",
      "source": [
        "y_test_set6_HSV = np.array(y_set6_HSV)"
      ],
      "metadata": {
        "id": "FJGLUal_2VQD"
      },
      "execution_count": 169,
      "outputs": []
    },
    {
      "cell_type": "code",
      "source": [
        "X_train_set6_HSV = np.array(HSV_all_concat10)"
      ],
      "metadata": {
        "id": "qmbCiEoc2VQD"
      },
      "execution_count": 170,
      "outputs": []
    },
    {
      "cell_type": "code",
      "source": [
        "y_train_set6HSV = HSV_concat10.iloc[:,14:15]"
      ],
      "metadata": {
        "id": "wGhE2dtQ2VQE"
      },
      "execution_count": 171,
      "outputs": []
    },
    {
      "cell_type": "code",
      "source": [
        "y_train_set6_HSV = np.array(y_train_set6HSV)"
      ],
      "metadata": {
        "id": "5WrAjpkS2VQE"
      },
      "execution_count": 172,
      "outputs": []
    },
    {
      "cell_type": "code",
      "source": [
        "y_train_set6_HSV.shape = (len(y_train_set6_HSV,))"
      ],
      "metadata": {
        "id": "PL3uDZi62VQE"
      },
      "execution_count": 173,
      "outputs": []
    },
    {
      "cell_type": "code",
      "source": [
        "RF_10.fit(X_train_set6_HSV, y_train_set6_HSV)"
      ],
      "metadata": {
        "id": "RN_lHWPw2VQE",
        "outputId": "b5505fcd-5fec-47a8-c459-d2c69102a1c0",
        "colab": {
          "base_uri": "https://localhost:8080/"
        }
      },
      "execution_count": 174,
      "outputs": [
        {
          "output_type": "execute_result",
          "data": {
            "text/plain": [
              "RandomForestClassifier()"
            ]
          },
          "metadata": {},
          "execution_count": 174
        }
      ]
    },
    {
      "cell_type": "code",
      "source": [
        "y_pred_set6_HSV = RF_10.predict(X_test_set6_HSV)"
      ],
      "metadata": {
        "id": "TqqR_c612VQE"
      },
      "execution_count": 178,
      "outputs": []
    },
    {
      "cell_type": "code",
      "source": [
        "print(\"Accuracy:\", metrics.accuracy_score(y_test_set6_HSV, y_pred_set6_HSV))"
      ],
      "metadata": {
        "id": "K7BcMRAi2VQE",
        "outputId": "a101d8a5-88fa-4bd5-dad3-c0288bb35118",
        "colab": {
          "base_uri": "https://localhost:8080/"
        }
      },
      "execution_count": 179,
      "outputs": [
        {
          "output_type": "stream",
          "name": "stdout",
          "text": [
            "Accuracy: 0.30263975155279504\n"
          ]
        }
      ]
    }
  ]
}