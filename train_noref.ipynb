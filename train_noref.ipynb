{
  "nbformat": 4,
  "nbformat_minor": 0,
  "metadata": {
    "colab": {
      "name": "train_noref.ipynb",
      "provenance": [],
      "authorship_tag": "ABX9TyOzyGwjTH4s8BfQhNW8ewVZ",
      "include_colab_link": true
    },
    "kernelspec": {
      "name": "python3",
      "display_name": "Python 3"
    },
    "language_info": {
      "name": "python"
    }
  },
  "cells": [
    {
      "cell_type": "markdown",
      "metadata": {
        "id": "view-in-github",
        "colab_type": "text"
      },
      "source": [
        "<a href=\"https://colab.research.google.com/github/Kggzzz/DentalShadeMatching/blob/main/train_noref.ipynb\" target=\"_parent\"><img src=\"https://colab.research.google.com/assets/colab-badge.svg\" alt=\"Open In Colab\"/></a>"
      ]
    },
    {
      "cell_type": "markdown",
      "source": [
        "##import"
      ],
      "metadata": {
        "id": "U7P0fnXbntXJ"
      }
    },
    {
      "cell_type": "code",
      "execution_count": 2,
      "metadata": {
        "id": "CBNVeRvKnhgT"
      },
      "outputs": [],
      "source": [
        "import numpy as np\n",
        "from sklearn import metrics\n",
        "from sklearn import datasets\n",
        "from sklearn.ensemble import RandomForestClassifier\n",
        "import pandas as pd\n",
        "import pickle"
      ]
    },
    {
      "cell_type": "code",
      "source": [
        "from sklearn.preprocessing import LabelEncoder\n",
        "\n",
        "from tensorflow.keras.utils import to_categorical"
      ],
      "metadata": {
        "id": "mz3W6rh4np0A"
      },
      "execution_count": 3,
      "outputs": []
    },
    {
      "cell_type": "code",
      "source": [
        "import matplotlib.pyplot as plt\n",
        "import matplotlib.image as mpimg\n",
        "from matplotlib.pyplot import savefig\n",
        "import itertools\n",
        "from sklearn.metrics import confusion_matrix\n",
        "from sklearn.utils.multiclass import unique_labels"
      ],
      "metadata": {
        "id": "2C4P_GX-ns6C"
      },
      "execution_count": 4,
      "outputs": []
    },
    {
      "cell_type": "code",
      "source": [
        "from google.colab import drive \n",
        "drive.mount('/content/drive')"
      ],
      "metadata": {
        "colab": {
          "base_uri": "https://localhost:8080/"
        },
        "id": "ynsM-JK5nvfH",
        "outputId": "ce4df37d-141d-4bb1-ac74-f2cb2fcbe182"
      },
      "execution_count": 5,
      "outputs": [
        {
          "output_type": "stream",
          "name": "stdout",
          "text": [
            "Mounted at /content/drive\n"
          ]
        }
      ]
    },
    {
      "cell_type": "code",
      "source": [
        "import os"
      ],
      "metadata": {
        "id": "8BJQsUohn0tp"
      },
      "execution_count": 6,
      "outputs": []
    },
    {
      "cell_type": "code",
      "source": [
        "path = '/content/drive/My Drive/shadeimg/SVM shade'"
      ],
      "metadata": {
        "id": "SXjQd9XkoELY"
      },
      "execution_count": 7,
      "outputs": []
    },
    {
      "cell_type": "markdown",
      "source": [
        "#เตรียมข้อมูล"
      ],
      "metadata": {
        "id": "GWK0E7h5n2VF"
      }
    },
    {
      "cell_type": "markdown",
      "source": [
        "##Set1"
      ],
      "metadata": {
        "id": "3PnxcjaFn5ie"
      }
    },
    {
      "cell_type": "code",
      "source": [
        "Set1 = os.path.join(path,'Datapoint_1.xlsx')\n",
        "print(Set1)"
      ],
      "metadata": {
        "colab": {
          "base_uri": "https://localhost:8080/"
        },
        "id": "7gtMudIkoGiR",
        "outputId": "b157506c-f587-4d5b-e052-d059cfbf419a"
      },
      "execution_count": 8,
      "outputs": [
        {
          "output_type": "stream",
          "name": "stdout",
          "text": [
            "/content/drive/My Drive/shadeimg/SVM shade/Datapoint_1.xlsx\n"
          ]
        }
      ]
    },
    {
      "cell_type": "code",
      "source": [
        "S1_A1 = pd.read_excel(Set1, sheet_name='A1_1')\n",
        "S1_A2 = pd.read_excel(Set1, sheet_name='A2_1')\n",
        "S1_A3 = pd.read_excel(Set1, sheet_name='A3_1')\n",
        "S1_A3_5 = pd.read_excel(Set1, sheet_name='A3.5_1')\n",
        "S1_A4 = pd.read_excel(Set1, sheet_name='A4_1')\n",
        "S1_B1 = pd.read_excel(Set1, sheet_name='B1_1')\n",
        "S1_B2 = pd.read_excel(Set1, sheet_name='B2_1')\n",
        "S1_B3 = pd.read_excel(Set1, sheet_name='B3_1')\n",
        "S1_B4 = pd.read_excel(Set1, sheet_name='B4_1')\n",
        "S1_C1 = pd.read_excel(Set1, sheet_name='C1_1')\n",
        "S1_C2 = pd.read_excel(Set1, sheet_name='C2_1')\n",
        "S1_C3 = pd.read_excel(Set1, sheet_name='C3_1')\n",
        "S1_C4 = pd.read_excel(Set1, sheet_name='C4_1')\n",
        "S1_D2 = pd.read_excel(Set1, sheet_name='D2_1')\n",
        "S1_D3 = pd.read_excel(Set1, sheet_name='D3_1')\n",
        "S1_D4 = pd.read_excel(Set1, sheet_name='D4_1')"
      ],
      "metadata": {
        "id": "IvhvxObCoRCo"
      },
      "execution_count": 9,
      "outputs": []
    },
    {
      "cell_type": "code",
      "source": [
        "table_Set1 = pd.concat([S1_A1,S1_A2,S1_A3,S1_A3_5,S1_A4,S1_B1,S1_B2,S1_B3,S1_B4,S1_C1,S1_C2,S1_C3,S1_C4,S1_D2,S1_D3,S1_D4])"
      ],
      "metadata": {
        "id": "c5BE_yH7q5pw"
      },
      "execution_count": 10,
      "outputs": []
    },
    {
      "cell_type": "markdown",
      "source": [
        "##Set2"
      ],
      "metadata": {
        "id": "i8lD5Ogkn7_T"
      }
    },
    {
      "cell_type": "code",
      "source": [
        "Set2 = os.path.join(path,'Datapoint_2.xlsx')\n",
        "print(Set2)"
      ],
      "metadata": {
        "colab": {
          "base_uri": "https://localhost:8080/"
        },
        "id": "1zw7U8iqoHYz",
        "outputId": "09e627bf-b79e-422b-fb9c-b382f6d91073"
      },
      "execution_count": 11,
      "outputs": [
        {
          "output_type": "stream",
          "name": "stdout",
          "text": [
            "/content/drive/My Drive/shadeimg/SVM shade/Datapoint_2.xlsx\n"
          ]
        }
      ]
    },
    {
      "cell_type": "code",
      "source": [
        "S2_A1 = pd.read_excel(Set2, sheet_name='A1_2')\n",
        "S2_A2 = pd.read_excel(Set2, sheet_name='A2_2')\n",
        "S2_A3 = pd.read_excel(Set2, sheet_name='A3_2')\n",
        "S2_A3_5 = pd.read_excel(Set2, sheet_name='A3.5_2')\n",
        "S2_A4 = pd.read_excel(Set2, sheet_name='A4_2')\n",
        "S2_B1 = pd.read_excel(Set2, sheet_name='B1_2')\n",
        "S2_B2 = pd.read_excel(Set2, sheet_name='B2_2')\n",
        "S2_B3 = pd.read_excel(Set2, sheet_name='B3_2')\n",
        "S2_B4 = pd.read_excel(Set2, sheet_name='B4_2')\n",
        "S2_C1 = pd.read_excel(Set2, sheet_name='C1_2')\n",
        "S2_C2 = pd.read_excel(Set2, sheet_name='C2_2')\n",
        "S2_C3 = pd.read_excel(Set2, sheet_name='C3_2')\n",
        "S2_C4 = pd.read_excel(Set2, sheet_name='C4_2')\n",
        "S2_D2 = pd.read_excel(Set2, sheet_name='D2_2')\n",
        "S2_D3 = pd.read_excel(Set2, sheet_name='D3_2')\n",
        "S2_D4 = pd.read_excel(Set2, sheet_name='D4_2')"
      ],
      "metadata": {
        "id": "JqZcIhgypAm1"
      },
      "execution_count": 12,
      "outputs": []
    },
    {
      "cell_type": "code",
      "source": [
        "table_Set2 = pd.concat([S2_A1,S2_A2,S2_A3,S2_A3_5,S2_A4,S2_B1,S2_B2,S2_B3,S2_B4,S2_C1,S2_C2,S2_C3,S2_C4,S2_D2,S2_D3,S2_D4])"
      ],
      "metadata": {
        "id": "Ad7AJbI_qReZ"
      },
      "execution_count": 13,
      "outputs": []
    },
    {
      "cell_type": "markdown",
      "source": [
        "##Set3"
      ],
      "metadata": {
        "id": "U89YBcG8n9Qs"
      }
    },
    {
      "cell_type": "code",
      "source": [
        "Set3 = os.path.join(path,'Datapoint_3.xlsx')\n",
        "print(Set3)"
      ],
      "metadata": {
        "colab": {
          "base_uri": "https://localhost:8080/"
        },
        "id": "H3vPiRzDoIPj",
        "outputId": "9bb47b75-e705-4386-d217-8bb25997d31b"
      },
      "execution_count": 14,
      "outputs": [
        {
          "output_type": "stream",
          "name": "stdout",
          "text": [
            "/content/drive/My Drive/shadeimg/SVM shade/Datapoint_3.xlsx\n"
          ]
        }
      ]
    },
    {
      "cell_type": "code",
      "source": [
        "S3_A1 = pd.read_excel(Set3, sheet_name='A1_3')\n",
        "S3_A2 = pd.read_excel(Set3, sheet_name='A2_3')\n",
        "S3_A3 = pd.read_excel(Set3, sheet_name='A3_3')\n",
        "S3_A3_5 = pd.read_excel(Set3, sheet_name='A3.5_3')\n",
        "S3_A4 = pd.read_excel(Set3, sheet_name='A4_3')\n",
        "S3_B1 = pd.read_excel(Set3, sheet_name='B1_3')\n",
        "S3_B2 = pd.read_excel(Set3, sheet_name='B2_3')\n",
        "S3_B3 = pd.read_excel(Set3, sheet_name='B3_3')\n",
        "S3_B4 = pd.read_excel(Set3, sheet_name='B4_3')\n",
        "S3_C1 = pd.read_excel(Set3, sheet_name='C1_3')\n",
        "S3_C2 = pd.read_excel(Set3, sheet_name='C2_3')\n",
        "S3_C3 = pd.read_excel(Set3, sheet_name='C3_3')\n",
        "S3_C4 = pd.read_excel(Set3, sheet_name='C4_3')\n",
        "S3_D2 = pd.read_excel(Set3, sheet_name='D2_3')\n",
        "S3_D3 = pd.read_excel(Set3, sheet_name='D3_3')\n",
        "S3_D4 = pd.read_excel(Set3, sheet_name='D4_3')"
      ],
      "metadata": {
        "id": "oP5NnzkdpPmj"
      },
      "execution_count": 15,
      "outputs": []
    },
    {
      "cell_type": "code",
      "source": [
        "table_Set3 = pd.concat([S3_A1,S3_A2,S3_A3,S3_A3_5,S3_A4,S3_B1,S3_B2,S3_B3,S3_B4,S3_C1,S3_C2,S3_C3,S3_C4,S3_D2,S3_D3,S3_D4])"
      ],
      "metadata": {
        "id": "HYitdqKprCU_"
      },
      "execution_count": 16,
      "outputs": []
    },
    {
      "cell_type": "markdown",
      "source": [
        "##Set4"
      ],
      "metadata": {
        "id": "EOPSL-xon-bL"
      }
    },
    {
      "cell_type": "code",
      "source": [
        "Set4 = os.path.join(path,'Datapoint_4.xlsx')\n",
        "print(Set4)"
      ],
      "metadata": {
        "colab": {
          "base_uri": "https://localhost:8080/"
        },
        "id": "8yxv13TWoKe_",
        "outputId": "5b874ae8-c26e-4f53-fd60-b499cb2b45e9"
      },
      "execution_count": 17,
      "outputs": [
        {
          "output_type": "stream",
          "name": "stdout",
          "text": [
            "/content/drive/My Drive/shadeimg/SVM shade/Datapoint_4.xlsx\n"
          ]
        }
      ]
    },
    {
      "cell_type": "code",
      "source": [
        "S4_A1 = pd.read_excel(Set4, sheet_name='A1_4')\n",
        "S4_A2 = pd.read_excel(Set4, sheet_name='A2_4')\n",
        "S4_A3 = pd.read_excel(Set4, sheet_name='A3_4')\n",
        "S4_A3_5 = pd.read_excel(Set4, sheet_name='A3.5_4')\n",
        "S4_A4 = pd.read_excel(Set4, sheet_name='A4_4')\n",
        "S4_B1 = pd.read_excel(Set4, sheet_name='B1_4')\n",
        "S4_B2 = pd.read_excel(Set4, sheet_name='B2_4')\n",
        "S4_B3 = pd.read_excel(Set4, sheet_name='B3_4')\n",
        "S4_B4 = pd.read_excel(Set4, sheet_name='B4_4')\n",
        "S4_C1 = pd.read_excel(Set4, sheet_name='C1_4')\n",
        "S4_C2 = pd.read_excel(Set4, sheet_name='C2_4')\n",
        "S4_C3 = pd.read_excel(Set4, sheet_name='C3_4')\n",
        "S4_C4 = pd.read_excel(Set4, sheet_name='C4_4')\n",
        "S4_D2 = pd.read_excel(Set4, sheet_name='D2_4')\n",
        "S4_D3 = pd.read_excel(Set4, sheet_name='D3_4')\n",
        "S4_D4 = pd.read_excel(Set4, sheet_name='D4_4')"
      ],
      "metadata": {
        "id": "0kqgM1N_pnB-"
      },
      "execution_count": 18,
      "outputs": []
    },
    {
      "cell_type": "code",
      "source": [
        "table_Set4 = pd.concat([S4_A1,S4_A2,S4_A3,S4_A3_5,S4_A4,S4_B1,S4_B2,S4_B3,S4_B4,S4_C1,S4_C2,S4_C3,S4_C4,S4_D2,S4_D3,S4_D4])"
      ],
      "metadata": {
        "id": "0Un0gn0krIhO"
      },
      "execution_count": 19,
      "outputs": []
    },
    {
      "cell_type": "markdown",
      "source": [
        "##Set5"
      ],
      "metadata": {
        "id": "DIDW-00Yn_57"
      }
    },
    {
      "cell_type": "code",
      "source": [
        "Set5 = os.path.join(path,'Datapoint_5.xlsx')\n",
        "print(Set5)"
      ],
      "metadata": {
        "colab": {
          "base_uri": "https://localhost:8080/"
        },
        "id": "3nFloBByoOoo",
        "outputId": "983569f4-e08e-4ccd-b352-7fe36688b787"
      },
      "execution_count": 20,
      "outputs": [
        {
          "output_type": "stream",
          "name": "stdout",
          "text": [
            "/content/drive/My Drive/shadeimg/SVM shade/Datapoint_5.xlsx\n"
          ]
        }
      ]
    },
    {
      "cell_type": "code",
      "source": [
        "S5_A1 = pd.read_excel(Set5, sheet_name='A1_5')\n",
        "S5_A2 = pd.read_excel(Set5, sheet_name='A2_5')\n",
        "S5_A3 = pd.read_excel(Set5, sheet_name='A3_5')\n",
        "S5_A3_5 = pd.read_excel(Set5, sheet_name='A3.5_5')\n",
        "S5_A4 = pd.read_excel(Set5, sheet_name='A4_5')\n",
        "S5_B1 = pd.read_excel(Set5, sheet_name='B1_5')\n",
        "S5_B2 = pd.read_excel(Set5, sheet_name='B2_5')\n",
        "S5_B3 = pd.read_excel(Set5, sheet_name='B3_5')\n",
        "S5_B4 = pd.read_excel(Set5, sheet_name='B4_5')\n",
        "S5_C1 = pd.read_excel(Set5, sheet_name='C1_5')\n",
        "S5_C2 = pd.read_excel(Set5, sheet_name='C2_5')\n",
        "S5_C3 = pd.read_excel(Set5, sheet_name='C3_5')\n",
        "S5_C4 = pd.read_excel(Set5, sheet_name='C4_5')\n",
        "S5_D2 = pd.read_excel(Set5, sheet_name='D2_5')\n",
        "S5_D3 = pd.read_excel(Set5, sheet_name='D3_5')\n",
        "S5_D4 = pd.read_excel(Set5, sheet_name='D4_5')"
      ],
      "metadata": {
        "id": "UEfOwUKop21m"
      },
      "execution_count": 21,
      "outputs": []
    },
    {
      "cell_type": "code",
      "source": [
        "table_Set5 = pd.concat([S5_A1,S5_A2,S5_A3,S5_A3_5,S5_A4,S5_B1,S5_B2,S5_B3,S5_B4,S5_C1,S5_C2,S5_C3,S5_C4,S5_D2,S5_D3,S5_D4])"
      ],
      "metadata": {
        "id": "dEUijdwurPeJ"
      },
      "execution_count": 22,
      "outputs": []
    },
    {
      "cell_type": "markdown",
      "source": [
        "##Set6"
      ],
      "metadata": {
        "id": "QuQLJO-qoBXx"
      }
    },
    {
      "cell_type": "code",
      "source": [
        "Set6 = os.path.join(path,'Datapoint_6.xlsx')\n",
        "print(Set6)"
      ],
      "metadata": {
        "colab": {
          "base_uri": "https://localhost:8080/"
        },
        "id": "mY_SJru7oQbP",
        "outputId": "c38d2c0f-fccb-4e8a-d816-ee6efc178594"
      },
      "execution_count": 23,
      "outputs": [
        {
          "output_type": "stream",
          "name": "stdout",
          "text": [
            "/content/drive/My Drive/shadeimg/SVM shade/Datapoint_6.xlsx\n"
          ]
        }
      ]
    },
    {
      "cell_type": "code",
      "source": [
        "S6_A1 = pd.read_excel(Set6, sheet_name='A1_6')\n",
        "S6_A2 = pd.read_excel(Set6, sheet_name='A2_6')\n",
        "S6_A3 = pd.read_excel(Set6, sheet_name='A3_6')\n",
        "S6_A3_5 = pd.read_excel(Set6, sheet_name='A3.5_6')\n",
        "S6_A4 = pd.read_excel(Set6, sheet_name='A4_6')\n",
        "S6_B1 = pd.read_excel(Set6, sheet_name='B1_6')\n",
        "S6_B2 = pd.read_excel(Set6, sheet_name='B2_6')\n",
        "S6_B3 = pd.read_excel(Set6, sheet_name='B3_6')\n",
        "S6_B4 = pd.read_excel(Set6, sheet_name='B4_6')\n",
        "S6_C1 = pd.read_excel(Set6, sheet_name='C1_6')\n",
        "S6_C2 = pd.read_excel(Set6, sheet_name='C2_6')\n",
        "S6_C3 = pd.read_excel(Set6, sheet_name='C3_6')\n",
        "S6_C4 = pd.read_excel(Set6, sheet_name='C4_6')\n",
        "S6_D2 = pd.read_excel(Set6, sheet_name='D2_6')\n",
        "S6_D3 = pd.read_excel(Set6, sheet_name='D3_6')\n",
        "S6_D4 = pd.read_excel(Set6, sheet_name='D4_6')"
      ],
      "metadata": {
        "id": "-6yaEBM5p3PM"
      },
      "execution_count": 24,
      "outputs": []
    },
    {
      "cell_type": "code",
      "source": [
        "table_Set6 = pd.concat([S6_A1,S6_A2,S6_A3,S6_A3_5,S6_A4,S6_B1,S6_B2,S6_B3,S6_B4,S6_C1,S6_C2,S6_C3,S6_C4,S6_D2,S6_D3,S6_D4])"
      ],
      "metadata": {
        "id": "Ohe_vZU8rZfM"
      },
      "execution_count": 25,
      "outputs": []
    },
    {
      "cell_type": "markdown",
      "source": [
        "#Train"
      ],
      "metadata": {
        "id": "PJf2WP__riPu"
      }
    },
    {
      "cell_type": "markdown",
      "source": [
        "##Set5 test"
      ],
      "metadata": {
        "id": "XUFyBqRErpKT"
      }
    },
    {
      "cell_type": "code",
      "source": [
        "RGB_tableSet5 = table_Set5.drop(['R-ref','G-ref','B-ref','H-ref','S-ref','V-ref','H-Shad','S-Shad','V-Shad','Setting','Ref','Shad','Img'], axis=1)"
      ],
      "metadata": {
        "id": "jLDmF2_crj3S"
      },
      "execution_count": 26,
      "outputs": []
    },
    {
      "cell_type": "code",
      "source": [
        "RGB_tableall = pd.concat([table_Set1,table_Set2,table_Set3,table_Set4,table_Set6])"
      ],
      "metadata": {
        "id": "65LyY8DIsE6R"
      },
      "execution_count": 27,
      "outputs": []
    },
    {
      "cell_type": "code",
      "source": [
        "RGB_tableall_1 = RGB_tableall.drop(['R-ref','G-ref','B-ref','H-ref','S-ref','V-ref','H-Shad','S-Shad','V-Shad','Setting','Ref','Shad','Img'], axis=1)"
      ],
      "metadata": {
        "id": "yXuw8i_Uscu3"
      },
      "execution_count": 28,
      "outputs": []
    },
    {
      "cell_type": "code",
      "source": [
        "X_test_RGB_Set5 = np.array(RGB_tableSet5)"
      ],
      "metadata": {
        "id": "-cS4vhjGsg-e"
      },
      "execution_count": 29,
      "outputs": []
    },
    {
      "cell_type": "code",
      "source": [
        "y_RGB_Set5 =  table_Set5.iloc[:,14:15]"
      ],
      "metadata": {
        "id": "mVD-l-ZHs0xm"
      },
      "execution_count": 30,
      "outputs": []
    },
    {
      "cell_type": "code",
      "source": [
        "y_test_RGB_Set5 = np.array(y_RGB_Set5)"
      ],
      "metadata": {
        "id": "wcLlzPrWs5ce"
      },
      "execution_count": 31,
      "outputs": []
    },
    {
      "cell_type": "code",
      "source": [
        "y_test_RGB = np.array(y_test_RGB_Set5)"
      ],
      "metadata": {
        "id": "iEUR2VTjs7bg"
      },
      "execution_count": 32,
      "outputs": []
    },
    {
      "cell_type": "code",
      "source": [
        "X_train_RGB = np.array(RGB_tableall_1)"
      ],
      "metadata": {
        "id": "r-Cnh1eBs9C5"
      },
      "execution_count": 33,
      "outputs": []
    },
    {
      "cell_type": "code",
      "source": [
        "y_train_RGB_Set5 = RGB_tableall.iloc[:,14:15]"
      ],
      "metadata": {
        "id": "AJhkJvzrs_Eo"
      },
      "execution_count": 34,
      "outputs": []
    },
    {
      "cell_type": "code",
      "source": [
        "y_train_RGB = np.array(y_train_RGB_Set5)"
      ],
      "metadata": {
        "id": "2PaA9TCatBiY"
      },
      "execution_count": 35,
      "outputs": []
    },
    {
      "cell_type": "code",
      "source": [
        "RF = RandomForestClassifier()"
      ],
      "metadata": {
        "id": "qt8kiIgKt0Gf"
      },
      "execution_count": 36,
      "outputs": []
    },
    {
      "cell_type": "code",
      "source": [
        "RF.fit(X_train_RGB, y_train_RGB)"
      ],
      "metadata": {
        "colab": {
          "base_uri": "https://localhost:8080/"
        },
        "id": "Rukj9Wj2tCej",
        "outputId": "bae431f5-957a-4d38-9555-849db129a7cc"
      },
      "execution_count": 37,
      "outputs": [
        {
          "output_type": "stream",
          "name": "stderr",
          "text": [
            "/usr/local/lib/python3.7/dist-packages/ipykernel_launcher.py:1: DataConversionWarning: A column-vector y was passed when a 1d array was expected. Please change the shape of y to (n_samples,), for example using ravel().\n",
            "  \"\"\"Entry point for launching an IPython kernel.\n"
          ]
        },
        {
          "output_type": "execute_result",
          "data": {
            "text/plain": [
              "RandomForestClassifier()"
            ]
          },
          "metadata": {},
          "execution_count": 37
        }
      ]
    },
    {
      "cell_type": "code",
      "source": [
        "y_pred_RGB_Set5 = RF.predict(X_test_RGB_Set5)"
      ],
      "metadata": {
        "id": "irVMfU5AtDn0"
      },
      "execution_count": 38,
      "outputs": []
    },
    {
      "cell_type": "code",
      "source": [
        "print(\"Accuracy:\", metrics.accuracy_score(y_test_RGB, y_pred_RGB_Set5))"
      ],
      "metadata": {
        "colab": {
          "base_uri": "https://localhost:8080/"
        },
        "id": "3qrkWPtdtEgZ",
        "outputId": "668d85f8-3a3f-43e1-b106-564e496ccb29"
      },
      "execution_count": 39,
      "outputs": [
        {
          "output_type": "stream",
          "name": "stdout",
          "text": [
            "Accuracy: 0.3053125\n"
          ]
        }
      ]
    },
    {
      "cell_type": "markdown",
      "source": [
        "#Confusion"
      ],
      "metadata": {
        "id": "KzN3AKffuRSY"
      }
    },
    {
      "cell_type": "code",
      "source": [
        "le = LabelEncoder()"
      ],
      "metadata": {
        "id": "gec63eLSvUE8"
      },
      "execution_count": 40,
      "outputs": []
    },
    {
      "cell_type": "code",
      "source": [
        "new_y_test_s5 = np.array(table_Set5['Shad'])\n",
        "new_y_test_s5.shape = (len(new_y_test_s5),)\n",
        "np.left_shift = LabelEncoder()\n",
        "new_y_test_s5 = le.fit_transform(new_y_test_s5)\n",
        "new_y_test_s5 = to_categorical(new_y_test_s5, num_classes=16)\n",
        "\n",
        "new_y_pred_s5 = RF.predict(X_test_RGB_Set5)\n",
        "new_y_pred2_s5 = le.fit_transform(new_y_pred_s5)\n",
        "new_y_pred2_s5 = to_categorical(new_y_pred2_s5, num_classes=16)"
      ],
      "metadata": {
        "id": "pUhVAFEhuTjx"
      },
      "execution_count": 41,
      "outputs": []
    },
    {
      "cell_type": "code",
      "source": [
        "new_y_test_s5.ndim"
      ],
      "metadata": {
        "colab": {
          "base_uri": "https://localhost:8080/"
        },
        "id": "eU7CZhkTv3w1",
        "outputId": "2e490a1b-d71e-4dbd-99f0-c40cf49e7593"
      },
      "execution_count": 42,
      "outputs": [
        {
          "output_type": "execute_result",
          "data": {
            "text/plain": [
              "2"
            ]
          },
          "metadata": {},
          "execution_count": 42
        }
      ]
    },
    {
      "cell_type": "code",
      "source": [
        "new_y_pred2_s5.ndim"
      ],
      "metadata": {
        "colab": {
          "base_uri": "https://localhost:8080/"
        },
        "id": "upUAp4x3v4HL",
        "outputId": "906d8a10-429b-498d-c51c-986e1eea14d8"
      },
      "execution_count": 43,
      "outputs": [
        {
          "output_type": "execute_result",
          "data": {
            "text/plain": [
              "2"
            ]
          },
          "metadata": {},
          "execution_count": 43
        }
      ]
    },
    {
      "cell_type": "code",
      "source": [
        "y_pred = new_y_pred2_s5.argmax(axis=1)          #ค่า predict \n",
        "y_true  = new_y_test_s5.argmax(axis=1)\n",
        "confusion_matrix(y_true, y_pred)"
      ],
      "metadata": {
        "colab": {
          "base_uri": "https://localhost:8080/"
        },
        "id": "6FW5Ds06v9Fo",
        "outputId": "e723be12-ad67-469f-acfc-b3be55b9eb3c"
      },
      "execution_count": 44,
      "outputs": [
        {
          "output_type": "execute_result",
          "data": {
            "text/plain": [
              "array([[128,   5,   0,   0,   2,  45,   4,   6,   2,  42,  31, 132,  20,\n",
              "        320,  52,  11],\n",
              "       [  4, 208,   0,   1,  59,   0,  13,   0,   7,  21, 102,  46, 226,\n",
              "         69,  24,  20],\n",
              "       [  4,  80, 130,  35,  77,   0,   0,   6,  13,  12,  51,  48,  99,\n",
              "          0, 192,  53],\n",
              "       [  0,   0,   5, 328, 242,   0,   0,  13,   1,   0,   0, 100, 101,\n",
              "          0,  10,   0],\n",
              "       [  0,   0,   6,  50, 310,   0,   0,   0,   0,   0,   5, 127, 257,\n",
              "          0,  44,   1],\n",
              "       [ 32,  25,   0,   7,   2, 304,   6,  17,   6,  66, 206,  23,   0,\n",
              "         68,  25,  13],\n",
              "       [ 51,  97,  11,   1,   0,  24, 223,   7,   2, 174, 129,  15,   9,\n",
              "         47,   6,   4],\n",
              "       [  0,  28, 147,  57, 150,   0,   0,  75,   9,   3,  40,  58,  48,\n",
              "          0,  57, 128],\n",
              "       [  0,   0,   6, 225, 205,   0,   0,  45, 175,   0,   0,  54,  70,\n",
              "          0,   3,  17],\n",
              "       [192,   6,   3,   0,   1,  38,  24,   0,  10, 151,  12,  45,  18,\n",
              "        283,  10,   7],\n",
              "       [ 10, 138,  13,   1,  12,   0,   2,   0,   0,  77, 290,   0, 152,\n",
              "         51,  53,   1],\n",
              "       [  0,  38,   5,  57,  26,   0,   0,   2,   0,   0, 114, 259,  35,\n",
              "          0, 260,   4],\n",
              "       [  0,   0,   0,  60,  75,   0,   0,   0,   0,   0,  17, 250, 378,\n",
              "          0,  20,   0],\n",
              "       [ 78,   0,   0,   2,   7,  15,   0,   0,   2,  16,  10, 181, 132,\n",
              "        355,   2,   0],\n",
              "       [  0,  67,   5,  11,  27,   0,   1,   0,   1,   4,  96,  86, 175,\n",
              "          3, 323,   1],\n",
              "       [  0,  29,  57,   0,   0,   0,  21,  12,   0,  16, 128, 114,   6,\n",
              "          0, 146, 271]])"
            ]
          },
          "metadata": {},
          "execution_count": 44
        }
      ]
    },
    {
      "cell_type": "code",
      "source": [
        "class_names = le.classes_ \n",
        "class_names"
      ],
      "metadata": {
        "colab": {
          "base_uri": "https://localhost:8080/"
        },
        "id": "GgcpGWx_wHO8",
        "outputId": "b6a4aa96-016f-4117-92d3-e1a2ab519694"
      },
      "execution_count": 45,
      "outputs": [
        {
          "output_type": "execute_result",
          "data": {
            "text/plain": [
              "array(['A1', 'A2', 'A3', 'A3.5', 'A4', 'B1', 'B2', 'B3', 'B4', 'C1', 'C2',\n",
              "       'C3', 'C4', 'D2', 'D3', 'D4'], dtype=object)"
            ]
          },
          "metadata": {},
          "execution_count": 45
        }
      ]
    },
    {
      "cell_type": "code",
      "source": [
        "def plot_confusion_matrix(y_true, y_pred, classes,\n",
        "                          normalize=False,\n",
        "                          title=None,\n",
        "                          cmap=plt.cm.BuPu):\n",
        "    \"\"\"\n",
        "    This function prints and plots the confusion matrix.\n",
        "    Normalization can be applied by setting normalize=True.\n",
        "    \"\"\"\n",
        "    if not title:\n",
        "        if normalize:\n",
        "            title = 'Normalized confusion matrix'\n",
        "        else:\n",
        "            title = 'Confusion matrix, without normalization'\n",
        "\n",
        "    # Compute confusion matrix\n",
        "    cm = confusion_matrix(y_true, y_pred)\n",
        "    # Only use the labels that appear in the data\n",
        "    classes = classes[unique_labels(y_true, y_pred)]\n",
        "    if normalize:\n",
        "        cm = cm.astype('float') / cm.sum(axis=1)[:, np.newaxis]\n",
        "        print(\"Normalized confusion matrix\")\n",
        "    else:\n",
        "        print('Confusion matrix, without normalization')\n",
        "\n",
        "    print(cm)\n",
        "\n",
        "    fig, ax = plt.subplots()\n",
        "    im = ax.imshow(cm, interpolation='nearest', cmap=cmap)\n",
        "    ax.figure.colorbar(im, ax=ax)\n",
        "    # We want to show all ticks...\n",
        "    ax.set(xticks=np.arange(cm.shape[1]),\n",
        "           yticks=np.arange(cm.shape[0]),\n",
        "           # ... and label them with the respective list entries\n",
        "           xticklabels=classes, yticklabels=classes,\n",
        "           title=title,\n",
        "           ylabel='True label',\n",
        "           xlabel='Predicted label')\n",
        "\n",
        "    # Rotate the tick labels and set their alignment.\n",
        "    plt.setp(ax.get_xticklabels(), rotation=45, ha=\"right\",\n",
        "             rotation_mode=\"anchor\")\n",
        "\n",
        "    # Loop over data dimensions and create text annotations.\n",
        "    fmt = '.2f' if normalize else 'd'\n",
        "    thresh = cm.max() / 2.\n",
        "    for i in range(cm.shape[0]):\n",
        "        for j in range(cm.shape[1]):\n",
        "            ax.text(j, i, format(cm[i, j], fmt),\n",
        "                    ha=\"center\", va=\"center\",\n",
        "                    color=\"white\" if cm[i, j] > thresh else \"black\")\n",
        "    fig.tight_layout()\n",
        "    return ax\n",
        "\n",
        "\n",
        "np.set_printoptions(precision=2)\n",
        "\n",
        "# Plot non-normalized confusion matrix\n",
        "plot_confusion_matrix(y_true, y_pred, classes=class_names,\n",
        "                      title='Confusion matrix, without normalization')\n",
        "\n",
        "# Plot normalized confusion matrix\n",
        "plot_confusion_matrix(y_true, y_pred, classes=class_names, normalize=True,\n",
        "                      title='Normalized confusion matrix')\n",
        "\n",
        "plt.show()"
      ],
      "metadata": {
        "colab": {
          "base_uri": "https://localhost:8080/",
          "height": 1000
        },
        "id": "SexFGKDswK2-",
        "outputId": "5a14b871-6a60-490e-f1ba-6128cbb913a1"
      },
      "execution_count": 46,
      "outputs": [
        {
          "output_type": "stream",
          "name": "stdout",
          "text": [
            "Confusion matrix, without normalization\n",
            "[[128   5   0   0   2  45   4   6   2  42  31 132  20 320  52  11]\n",
            " [  4 208   0   1  59   0  13   0   7  21 102  46 226  69  24  20]\n",
            " [  4  80 130  35  77   0   0   6  13  12  51  48  99   0 192  53]\n",
            " [  0   0   5 328 242   0   0  13   1   0   0 100 101   0  10   0]\n",
            " [  0   0   6  50 310   0   0   0   0   0   5 127 257   0  44   1]\n",
            " [ 32  25   0   7   2 304   6  17   6  66 206  23   0  68  25  13]\n",
            " [ 51  97  11   1   0  24 223   7   2 174 129  15   9  47   6   4]\n",
            " [  0  28 147  57 150   0   0  75   9   3  40  58  48   0  57 128]\n",
            " [  0   0   6 225 205   0   0  45 175   0   0  54  70   0   3  17]\n",
            " [192   6   3   0   1  38  24   0  10 151  12  45  18 283  10   7]\n",
            " [ 10 138  13   1  12   0   2   0   0  77 290   0 152  51  53   1]\n",
            " [  0  38   5  57  26   0   0   2   0   0 114 259  35   0 260   4]\n",
            " [  0   0   0  60  75   0   0   0   0   0  17 250 378   0  20   0]\n",
            " [ 78   0   0   2   7  15   0   0   2  16  10 181 132 355   2   0]\n",
            " [  0  67   5  11  27   0   1   0   1   4  96  86 175   3 323   1]\n",
            " [  0  29  57   0   0   0  21  12   0  16 128 114   6   0 146 271]]\n",
            "Normalized confusion matrix\n",
            "[[0.16 0.01 0.   0.   0.   0.06 0.01 0.01 0.   0.05 0.04 0.17 0.03 0.4\n",
            "  0.07 0.01]\n",
            " [0.01 0.26 0.   0.   0.07 0.   0.02 0.   0.01 0.03 0.13 0.06 0.28 0.09\n",
            "  0.03 0.03]\n",
            " [0.01 0.1  0.16 0.04 0.1  0.   0.   0.01 0.02 0.01 0.06 0.06 0.12 0.\n",
            "  0.24 0.07]\n",
            " [0.   0.   0.01 0.41 0.3  0.   0.   0.02 0.   0.   0.   0.12 0.13 0.\n",
            "  0.01 0.  ]\n",
            " [0.   0.   0.01 0.06 0.39 0.   0.   0.   0.   0.   0.01 0.16 0.32 0.\n",
            "  0.06 0.  ]\n",
            " [0.04 0.03 0.   0.01 0.   0.38 0.01 0.02 0.01 0.08 0.26 0.03 0.   0.09\n",
            "  0.03 0.02]\n",
            " [0.06 0.12 0.01 0.   0.   0.03 0.28 0.01 0.   0.22 0.16 0.02 0.01 0.06\n",
            "  0.01 0.01]\n",
            " [0.   0.04 0.18 0.07 0.19 0.   0.   0.09 0.01 0.   0.05 0.07 0.06 0.\n",
            "  0.07 0.16]\n",
            " [0.   0.   0.01 0.28 0.26 0.   0.   0.06 0.22 0.   0.   0.07 0.09 0.\n",
            "  0.   0.02]\n",
            " [0.24 0.01 0.   0.   0.   0.05 0.03 0.   0.01 0.19 0.01 0.06 0.02 0.35\n",
            "  0.01 0.01]\n",
            " [0.01 0.17 0.02 0.   0.01 0.   0.   0.   0.   0.1  0.36 0.   0.19 0.06\n",
            "  0.07 0.  ]\n",
            " [0.   0.05 0.01 0.07 0.03 0.   0.   0.   0.   0.   0.14 0.32 0.04 0.\n",
            "  0.33 0.01]\n",
            " [0.   0.   0.   0.07 0.09 0.   0.   0.   0.   0.   0.02 0.31 0.47 0.\n",
            "  0.03 0.  ]\n",
            " [0.1  0.   0.   0.   0.01 0.02 0.   0.   0.   0.02 0.01 0.23 0.17 0.44\n",
            "  0.   0.  ]\n",
            " [0.   0.08 0.01 0.01 0.03 0.   0.   0.   0.   0.01 0.12 0.11 0.22 0.\n",
            "  0.4  0.  ]\n",
            " [0.   0.04 0.07 0.   0.   0.   0.03 0.01 0.   0.02 0.16 0.14 0.01 0.\n",
            "  0.18 0.34]]\n"
          ]
        },
        {
          "output_type": "display_data",
          "data": {
            "text/plain": [
              "<Figure size 432x288 with 2 Axes>"
            ],
            "image/png": "[encoded data removed]"
          },
          "metadata": {
            "needs_background": "light"
          }
        },
        {
          "output_type": "display_data",
          "data": {
            "text/plain": [
              "<Figure size 432x288 with 2 Axes>"
            ],
            "image/png": "[encoded data removed]"
          },
          "metadata": {
            "needs_background": "light"
          }
        }
      ]
    }
  ]
}