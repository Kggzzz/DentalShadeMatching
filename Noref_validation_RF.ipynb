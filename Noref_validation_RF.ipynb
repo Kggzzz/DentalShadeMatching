{
  "nbformat": 4,
  "nbformat_minor": 0,
  "metadata": {
    "colab": {
      "name": "Noref_validation_RF.ipynb",
      "provenance": [],
      "authorship_tag": "ABX9TyONok8og1QwLPKMK3PjT6KR",
      "include_colab_link": true
    },
    "kernelspec": {
      "name": "python3",
      "display_name": "Python 3"
    },
    "language_info": {
      "name": "python"
    }
  },
  "cells": [
    {
      "cell_type": "markdown",
      "metadata": {
        "id": "view-in-github",
        "colab_type": "text"
      },
      "source": [
        "<a href=\"https://colab.research.google.com/github/Kggzzz/DentalShadeMatching/blob/main/Noref_validation_RF.ipynb\" target=\"_parent\"><img src=\"https://colab.research.google.com/assets/colab-badge.svg\" alt=\"Open In Colab\"/></a>"
      ]
    },
    {
      "cell_type": "code",
      "execution_count": 1,
      "metadata": {
        "id": "XN8xO5b2WcQs"
      },
      "outputs": [],
      "source": [
        "import pandas as pd"
      ]
    },
    {
      "cell_type": "code",
      "source": [
        "from google.colab import drive \n",
        "drive.mount('/content/drive')"
      ],
      "metadata": {
        "colab": {
          "base_uri": "https://localhost:8080/"
        },
        "id": "JolCsM8DWkzM",
        "outputId": "73eed4ff-ada9-4c55-c771-6d2134107cd8"
      },
      "execution_count": 2,
      "outputs": [
        {
          "output_type": "stream",
          "name": "stdout",
          "text": [
            "Mounted at /content/drive\n"
          ]
        }
      ]
    },
    {
      "cell_type": "code",
      "source": [
        "import os"
      ],
      "metadata": {
        "id": "l3ADth3UWmWx"
      },
      "execution_count": 3,
      "outputs": []
    },
    {
      "cell_type": "code",
      "source": [
        "path = '/content/drive/My Drive/shadeimg/SVM shade'"
      ],
      "metadata": {
        "id": "PN5gBh_wWnTk"
      },
      "execution_count": 4,
      "outputs": []
    },
    {
      "cell_type": "code",
      "source": [
        "os.listdir(path)"
      ],
      "metadata": {
        "colab": {
          "base_uri": "https://localhost:8080/"
        },
        "id": "6V7IO0iGWpgF",
        "outputId": "7119198c-91c7-4acc-d6d0-4742b6908475"
      },
      "execution_count": 5,
      "outputs": [
        {
          "output_type": "execute_result",
          "data": {
            "text/plain": [
              "['DD.xlsx',\n",
              " 'CC.xlsx',\n",
              " 'BB.xlsx',\n",
              " 'Shade_AA.xlsx',\n",
              " 'Shade_CC.xlsx',\n",
              " 'Shade_DD.xlsx',\n",
              " 'Shade_BB.xlsx',\n",
              " 'AA.xlsx',\n",
              " 'AA_2.xlsx',\n",
              " 'Shad_A.xlsx',\n",
              " 'Shad_B.xlsx',\n",
              " 'Shad_C.xlsx',\n",
              " 'Shad_D.xlsx',\n",
              " 'Setting4.xlsx',\n",
              " 'Color-checkerAA.xlsx',\n",
              " 'Color-checkerBB.xlsx',\n",
              " 'Color-checkerCC.xlsx',\n",
              " 'Setting2.xlsx',\n",
              " 'D3set51.csv',\n",
              " 'Setting1.xlsx',\n",
              " 'CheckerDD.xlsx',\n",
              " 'Setting3.xlsx',\n",
              " 'Setting6.xlsx',\n",
              " 'Setting5.xlsx',\n",
              " 'checkerShad_A .xlsx',\n",
              " 'checkerShad_B.xlsx',\n",
              " 'checkerShad_C.xlsx',\n",
              " 'D3Set5-61.xlsx',\n",
              " 'checkerShad_D.xlsx',\n",
              " 'Color-checkerDD.xlsx',\n",
              " 'Datapoint_1.xlsx',\n",
              " 'Datapoint_2.xlsx',\n",
              " 'Datapoint_3.xlsx',\n",
              " 'Datapoint_4.xlsx',\n",
              " 'Datapoint_6.xlsx',\n",
              " 'Datapoint_5.xlsx']"
            ]
          },
          "metadata": {},
          "execution_count": 5
        }
      ]
    },
    {
      "cell_type": "code",
      "source": [
        "Set1 = os.path.join(path,'Datapoint_1.xlsx')\n",
        "print(Set1)"
      ],
      "metadata": {
        "colab": {
          "base_uri": "https://localhost:8080/"
        },
        "id": "HqBwtklQWrjT",
        "outputId": "dd6f9903-b446-4603-abf9-18af4f5dff6d"
      },
      "execution_count": 6,
      "outputs": [
        {
          "output_type": "stream",
          "name": "stdout",
          "text": [
            "/content/drive/My Drive/shadeimg/SVM shade/Datapoint_1.xlsx\n"
          ]
        }
      ]
    },
    {
      "cell_type": "code",
      "source": [
        "Set2 = os.path.join(path,'Datapoint_2.xlsx')\n",
        "print(Set2)"
      ],
      "metadata": {
        "colab": {
          "base_uri": "https://localhost:8080/"
        },
        "id": "gtsVscJ0aFAy",
        "outputId": "6b853b50-760b-4a05-dcc2-cd4929331109"
      },
      "execution_count": 7,
      "outputs": [
        {
          "output_type": "stream",
          "name": "stdout",
          "text": [
            "/content/drive/My Drive/shadeimg/SVM shade/Datapoint_2.xlsx\n"
          ]
        }
      ]
    },
    {
      "cell_type": "code",
      "source": [
        "Set3 = os.path.join(path,'Datapoint_3.xlsx')\n",
        "print(Set3)"
      ],
      "metadata": {
        "colab": {
          "base_uri": "https://localhost:8080/"
        },
        "id": "-h9WRjWwaGNz",
        "outputId": "3ac49aa2-4e06-4f03-9231-47db4352dfcb"
      },
      "execution_count": 8,
      "outputs": [
        {
          "output_type": "stream",
          "name": "stdout",
          "text": [
            "/content/drive/My Drive/shadeimg/SVM shade/Datapoint_3.xlsx\n"
          ]
        }
      ]
    },
    {
      "cell_type": "code",
      "source": [
        "Set4 = os.path.join(path,'Datapoint_4.xlsx')\n",
        "print(Set4)"
      ],
      "metadata": {
        "colab": {
          "base_uri": "https://localhost:8080/"
        },
        "id": "meqQ3flLaHab",
        "outputId": "1add101e-7fd3-4433-a793-dc9982c42eba"
      },
      "execution_count": 9,
      "outputs": [
        {
          "output_type": "stream",
          "name": "stdout",
          "text": [
            "/content/drive/My Drive/shadeimg/SVM shade/Datapoint_4.xlsx\n"
          ]
        }
      ]
    },
    {
      "cell_type": "code",
      "source": [
        "Set6 = os.path.join(path,'Datapoint_6.xlsx')\n",
        "print(Set6)"
      ],
      "metadata": {
        "colab": {
          "base_uri": "https://localhost:8080/"
        },
        "id": "HZzyzcjm1tVj",
        "outputId": "114fed88-ba95-4820-9f0b-f137ba732c82"
      },
      "execution_count": 10,
      "outputs": [
        {
          "output_type": "stream",
          "name": "stdout",
          "text": [
            "/content/drive/My Drive/shadeimg/SVM shade/Datapoint_6.xlsx\n"
          ]
        }
      ]
    },
    {
      "cell_type": "code",
      "source": [
        "import numpy as np"
      ],
      "metadata": {
        "id": "Ul_zJOW3aPj3"
      },
      "execution_count": 11,
      "outputs": []
    },
    {
      "cell_type": "code",
      "source": [
        "from sklearn import metrics"
      ],
      "metadata": {
        "id": "A7CIfOAfaQhY"
      },
      "execution_count": 12,
      "outputs": []
    },
    {
      "cell_type": "code",
      "source": [
        "from sklearn import datasets"
      ],
      "metadata": {
        "id": "wnvnwlPaaRxS"
      },
      "execution_count": 13,
      "outputs": []
    },
    {
      "cell_type": "code",
      "source": [
        "from sklearn.ensemble import RandomForestClassifier"
      ],
      "metadata": {
        "id": "lGa_QPEBaSwA"
      },
      "execution_count": 14,
      "outputs": []
    },
    {
      "cell_type": "markdown",
      "source": [
        "#Data"
      ],
      "metadata": {
        "id": "Y3Zly83kWxcq"
      }
    },
    {
      "cell_type": "code",
      "source": [
        "A1Set1 = pd.read_excel(Set1 , sheet_name='A1_1')\n",
        "\n",
        "A2Set1 = pd.read_excel(Set1, sheet_name='A2_1')\n",
        "\n",
        "A3Set1 = pd.read_excel(Set1, sheet_name='A3_1')\n",
        "\n",
        "A3_5Set1 = pd.read_excel(Set1, sheet_name='A3.5_1')\n",
        "\n",
        "A4Set1 = pd.read_excel(Set1, sheet_name='A4_1')\n",
        "\n",
        "B1Set1 = pd.read_excel(Set1 , sheet_name='B1_1')\n",
        "\n",
        "B2Set1 = pd.read_excel(Set1, sheet_name='B2_1')\n",
        "\n",
        "B3Set1 = pd.read_excel(Set1, sheet_name='B3_1')\n",
        "\n",
        "B4Set1 = pd.read_excel(Set1, sheet_name='B4_1')\n",
        "\n",
        "C1Set1 = pd.read_excel(Set1 , sheet_name='C1_1')\n",
        "\n",
        "C2Set1 = pd.read_excel(Set1, sheet_name='C2_1')\n",
        "\n",
        "C3Set1 = pd.read_excel(Set1, sheet_name='C3_1')\n",
        "\n",
        "C4Set1 = pd.read_excel(Set1, sheet_name='C4_1')\n",
        "\n",
        "D2Set1 = pd.read_excel(Set1, sheet_name='D2_1')\n",
        "\n",
        "D3Set1 = pd.read_excel(Set1, sheet_name='D3_1')\n",
        "\n",
        "D4Set1 = pd.read_excel(Set1, sheet_name='D4_1')"
      ],
      "metadata": {
        "id": "qW_6dnO4WvtV"
      },
      "execution_count": 15,
      "outputs": []
    },
    {
      "cell_type": "code",
      "source": [
        "table_Set1 = pd.concat([A1Set1,A2Set1,A3Set1,A3_5Set1,A4Set1,B1Set1,B2Set1,B3Set1,B4Set1,C1Set1,C2Set1,C3Set1,C4Set1,D2Set1,D3Set1,D4Set1])"
      ],
      "metadata": {
        "id": "KyzRglIRXdKP"
      },
      "execution_count": 16,
      "outputs": []
    },
    {
      "cell_type": "code",
      "source": [
        "table_Set1.shape"
      ],
      "metadata": {
        "colab": {
          "base_uri": "https://localhost:8080/"
        },
        "id": "6hVbwQEKYU7F",
        "outputId": "539479d4-d4ea-496b-d163-a1eea3844d8b"
      },
      "execution_count": 17,
      "outputs": [
        {
          "output_type": "execute_result",
          "data": {
            "text/plain": [
              "(12855, 16)"
            ]
          },
          "metadata": {},
          "execution_count": 17
        }
      ]
    },
    {
      "cell_type": "code",
      "source": [
        "A1Set2 = pd.read_excel(Set2 , sheet_name='A1_2')\n",
        "\n",
        "A2Set2 = pd.read_excel(Set2, sheet_name='A2_2')\n",
        "\n",
        "A3Set2 = pd.read_excel(Set2, sheet_name='A3_2')\n",
        "\n",
        "A3_5Set2 = pd.read_excel(Set2, sheet_name='A3.5_2')\n",
        "\n",
        "A4Set2 = pd.read_excel(Set2, sheet_name='A4_2')\n",
        "\n",
        "B1Set2 = pd.read_excel(Set2 , sheet_name='B1_2')\n",
        "\n",
        "B2Set2 = pd.read_excel(Set2, sheet_name='B2_2')\n",
        "\n",
        "B3Set2 = pd.read_excel(Set2, sheet_name='B3_2')\n",
        "\n",
        "B4Set2 = pd.read_excel(Set2, sheet_name='B4_2')\n",
        "\n",
        "C1Set2 = pd.read_excel(Set2 , sheet_name='C1_2')\n",
        "\n",
        "C2Set2 = pd.read_excel(Set2, sheet_name='C2_2')\n",
        "\n",
        "C3Set2 = pd.read_excel(Set2, sheet_name='C3_2')\n",
        "\n",
        "C4Set2 = pd.read_excel(Set2, sheet_name='C4_2')\n",
        "\n",
        "D2Set2 = pd.read_excel(Set2, sheet_name='D2_2')\n",
        "\n",
        "D3Set2 = pd.read_excel(Set2, sheet_name='D3_2')\n",
        "\n",
        "D4Set2 = pd.read_excel(Set2, sheet_name='D4_2')"
      ],
      "metadata": {
        "id": "R7z8THSqYWGL"
      },
      "execution_count": 18,
      "outputs": []
    },
    {
      "cell_type": "code",
      "source": [
        "table_Set2 = pd.concat([A1Set2,A2Set2,A3Set2,A3_5Set2,A4Set2,B1Set2,B2Set2,B3Set2,B4Set2,C1Set2,C2Set2,C3Set2,C4Set2,D2Set2,D3Set2,D4Set2])"
      ],
      "metadata": {
        "id": "5WJOoOhdYoFs"
      },
      "execution_count": 19,
      "outputs": []
    },
    {
      "cell_type": "code",
      "source": [
        "table_Set2.shape"
      ],
      "metadata": {
        "colab": {
          "base_uri": "https://localhost:8080/"
        },
        "id": "qZ-y9NS2Yx2j",
        "outputId": "c5ed512b-6a83-49d7-bbbe-4a6b6d684c2f"
      },
      "execution_count": 20,
      "outputs": [
        {
          "output_type": "execute_result",
          "data": {
            "text/plain": [
              "(13005, 16)"
            ]
          },
          "metadata": {},
          "execution_count": 20
        }
      ]
    },
    {
      "cell_type": "code",
      "source": [
        "A1Set3 = pd.read_excel(Set3, sheet_name='A1_3')\n",
        "\n",
        "A2Set3 = pd.read_excel(Set3, sheet_name='A2_3')\n",
        "\n",
        "A3Set3 = pd.read_excel(Set3, sheet_name='A3_3')\n",
        "\n",
        "A3_5Set3 = pd.read_excel(Set3, sheet_name='A3.5_3')\n",
        "\n",
        "A4Set3 = pd.read_excel(Set3, sheet_name='A4_3')\n",
        "\n",
        "B1Set3 = pd.read_excel(Set3, sheet_name='B1_3')\n",
        "\n",
        "B2Set3 = pd.read_excel(Set3, sheet_name='B2_3')\n",
        "\n",
        "B3Set3 = pd.read_excel(Set3, sheet_name='B3_3')\n",
        "\n",
        "B4Set3 = pd.read_excel(Set3, sheet_name='B4_3')\n",
        "\n",
        "C1Set3 = pd.read_excel(Set3, sheet_name='C1_3')\n",
        "\n",
        "C2Set3 = pd.read_excel(Set3, sheet_name='C2_3')\n",
        "\n",
        "C3Set3 = pd.read_excel(Set3, sheet_name='C3_3')\n",
        "\n",
        "C4Set3 = pd.read_excel(Set3, sheet_name='C4_3')\n",
        "\n",
        "D2Set3 = pd.read_excel(Set3, sheet_name='D2_3')\n",
        "\n",
        "D3Set3 = pd.read_excel(Set3, sheet_name='D3_3')\n",
        "\n",
        "D4Set3 = pd.read_excel(Set3, sheet_name='D4_3')"
      ],
      "metadata": {
        "id": "apsanJ4zYz6c"
      },
      "execution_count": 21,
      "outputs": []
    },
    {
      "cell_type": "code",
      "source": [
        "table_Set3 = pd.concat([A1Set3,A2Set3,A3Set3,A3_5Set3,A4Set3,B1Set3,B2Set3,B3Set3,B4Set3,C1Set3,C2Set3,C3Set3,C4Set3,D2Set3,D3Set3,D4Set3])"
      ],
      "metadata": {
        "id": "V3wOy53PZCcC"
      },
      "execution_count": 22,
      "outputs": []
    },
    {
      "cell_type": "code",
      "source": [
        "table_Set3.shape"
      ],
      "metadata": {
        "colab": {
          "base_uri": "https://localhost:8080/"
        },
        "id": "I8Kly-34ZEo-",
        "outputId": "3b935b54-d4ae-4e81-fc62-9b2cf62f0c69"
      },
      "execution_count": 23,
      "outputs": [
        {
          "output_type": "execute_result",
          "data": {
            "text/plain": [
              "(12920, 16)"
            ]
          },
          "metadata": {},
          "execution_count": 23
        }
      ]
    },
    {
      "cell_type": "code",
      "source": [
        "A1Set4 = pd.read_excel(Set4, sheet_name='A1_4')\n",
        "\n",
        "A2Set4 = pd.read_excel(Set4, sheet_name='A2_4')\n",
        "\n",
        "A3Set4 = pd.read_excel(Set4, sheet_name='A3_4')\n",
        "\n",
        "A3_5Set4 = pd.read_excel(Set4, sheet_name='A3.5_4')\n",
        "\n",
        "A4Set4 = pd.read_excel(Set4, sheet_name='A4_4')\n",
        "\n",
        "B1Set4 = pd.read_excel(Set4, sheet_name='B1_4')\n",
        "\n",
        "B2Set4 = pd.read_excel(Set4, sheet_name='B2_4')\n",
        "\n",
        "B3Set4 = pd.read_excel(Set4, sheet_name='B3_4')\n",
        "\n",
        "B4Set4 = pd.read_excel(Set4, sheet_name='B4_4')\n",
        "\n",
        "C1Set4 = pd.read_excel(Set4, sheet_name='C1_4')\n",
        "\n",
        "C2Set4 = pd.read_excel(Set4, sheet_name='C2_4')\n",
        "\n",
        "C3Set4 = pd.read_excel(Set4, sheet_name='C3_4')\n",
        "\n",
        "C4Set4 = pd.read_excel(Set4, sheet_name='C4_4')\n",
        "\n",
        "D2Set4 = pd.read_excel(Set4, sheet_name='D2_4')\n",
        "\n",
        "D3Set4 = pd.read_excel(Set4, sheet_name='D3_4')\n",
        "\n",
        "D4Set4 = pd.read_excel(Set4, sheet_name='D4_4')"
      ],
      "metadata": {
        "id": "Xxap2gbcZB7d"
      },
      "execution_count": 24,
      "outputs": []
    },
    {
      "cell_type": "code",
      "source": [
        "table_Set4 = pd.concat([A1Set4,A2Set4,A3Set4,A3_5Set4,A4Set4,B1Set4,B2Set4,B3Set4,B4Set4,C1Set4,C2Set4,C3Set4,C4Set4,D2Set4,D3Set4,D4Set4])"
      ],
      "metadata": {
        "id": "Rk_-rsUNZU4X"
      },
      "execution_count": 25,
      "outputs": []
    },
    {
      "cell_type": "code",
      "source": [
        "table_Set4.shape"
      ],
      "metadata": {
        "colab": {
          "base_uri": "https://localhost:8080/"
        },
        "id": "2H27hF0HZU4X",
        "outputId": "dac89a9d-5c29-414b-ffa9-6212171d1404"
      },
      "execution_count": 26,
      "outputs": [
        {
          "output_type": "execute_result",
          "data": {
            "text/plain": [
              "(12800, 16)"
            ]
          },
          "metadata": {},
          "execution_count": 26
        }
      ]
    },
    {
      "cell_type": "code",
      "source": [
        "A1Set6 = pd.read_excel(Set6 , sheet_name='A1_6')\n",
        "\n",
        "A2Set6 = pd.read_excel(Set6, sheet_name='A2_6')\n",
        "\n",
        "A3Set6 = pd.read_excel(Set6, sheet_name='A3_6')\n",
        "\n",
        "A3_5Set6 = pd.read_excel(Set6, sheet_name='A3.5_6')\n",
        "\n",
        "A4Set6 = pd.read_excel(Set6, sheet_name='A4_6')\n",
        "\n",
        "B1Set6 = pd.read_excel(Set6 , sheet_name='B1_6')\n",
        "\n",
        "B2Set6 = pd.read_excel(Set6, sheet_name='B2_6')\n",
        "\n",
        "B3Set6 = pd.read_excel(Set6, sheet_name='B3_6')\n",
        "\n",
        "B4Set6 = pd.read_excel(Set6, sheet_name='B4_6')\n",
        "\n",
        "C1Set6 = pd.read_excel(Set6 , sheet_name='C1_6')\n",
        "\n",
        "C2Set6 = pd.read_excel(Set6, sheet_name='C2_6')\n",
        "\n",
        "C3Set6 = pd.read_excel(Set6, sheet_name='C3_6')\n",
        "\n",
        "C4Set6 = pd.read_excel(Set6, sheet_name='C4_6')\n",
        "\n",
        "D2Set6 = pd.read_excel(Set6, sheet_name='D2_6')\n",
        "\n",
        "D3Set6 = pd.read_excel(Set6, sheet_name='D3_6')\n",
        "\n",
        "D4Set6 = pd.read_excel(Set6, sheet_name='D4_6')"
      ],
      "metadata": {
        "id": "OiVvTJAdZcGR"
      },
      "execution_count": 27,
      "outputs": []
    },
    {
      "cell_type": "code",
      "source": [
        "table_Set6 = pd.concat([A1Set6,A2Set6,A3Set6,A3_5Set6,A4Set6,B1Set6,B2Set6,B3Set6,B4Set6,C1Set6,C2Set6,C3Set6,C4Set6,D2Set6,D3Set6,D4Set6])"
      ],
      "metadata": {
        "id": "6gfsDVJzZcGS"
      },
      "execution_count": 28,
      "outputs": []
    },
    {
      "cell_type": "code",
      "source": [
        "table_Set6.shape"
      ],
      "metadata": {
        "colab": {
          "base_uri": "https://localhost:8080/"
        },
        "id": "gE1hF4CXZcGS",
        "outputId": "44bfe3f7-655a-4237-93ad-a70153aff4ec"
      },
      "execution_count": 29,
      "outputs": [
        {
          "output_type": "execute_result",
          "data": {
            "text/plain": [
              "(12880, 16)"
            ]
          },
          "metadata": {},
          "execution_count": 29
        }
      ]
    },
    {
      "cell_type": "markdown",
      "source": [
        "#RF"
      ],
      "metadata": {
        "id": "ZRDGcoKhZ8mL"
      }
    },
    {
      "cell_type": "markdown",
      "source": [
        "#Set1 test"
      ],
      "metadata": {
        "id": "NlLmQQRgab9I"
      }
    },
    {
      "cell_type": "markdown",
      "source": [
        "###RGB"
      ],
      "metadata": {
        "id": "XkJHrTSyZ96W"
      }
    },
    {
      "cell_type": "code",
      "source": [
        "RF_1 = RandomForestClassifier()"
      ],
      "metadata": {
        "id": "tkAEgrcQaA3K"
      },
      "execution_count": null,
      "outputs": []
    },
    {
      "cell_type": "code",
      "source": [
        "RGB_Set1 = table_Set1.drop(['H-ref','S-ref','V-ref','H-Shad','S-Shad','V-Shad','Setting','Ref','Shad','Img'], axis=1)"
      ],
      "metadata": {
        "id": "1JjRH2GjaaBQ"
      },
      "execution_count": null,
      "outputs": []
    },
    {
      "cell_type": "code",
      "source": [
        "RGB_concat1 = pd.concat([table_Set1,table_Set1,A3Set6,A3_5Set6,A4Set6,B1Set6,B2Set6,B3Set6,B4Set6,C1Set6,C2Set6,C3Set6,C4Set6,D2Set6,D3Set6,D4Set6])"
      ],
      "metadata": {
        "id": "6Rd3Lkmlaju2"
      },
      "execution_count": null,
      "outputs": []
    },
    {
      "cell_type": "markdown",
      "source": [
        "###HSV"
      ],
      "metadata": {
        "id": "0u5VUfVhZ_z2"
      }
    }
  ]
}