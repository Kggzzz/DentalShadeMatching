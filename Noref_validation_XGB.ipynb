{
  "nbformat": 4,
  "nbformat_minor": 0,
  "metadata": {
    "colab": {
      "name": "Noref_validation_XGB.ipynb",
      "provenance": [],
      "include_colab_link": true
    },
    "kernelspec": {
      "name": "python3",
      "display_name": "Python 3"
    },
    "language_info": {
      "name": "python"
    }
  },
  "cells": [
    {
      "cell_type": "markdown",
      "metadata": {
        "id": "view-in-github",
        "colab_type": "text"
      },
      "source": [
        "<a href=\"https://colab.research.google.com/github/Kggzzz/DentalShadeMatching/blob/main/Noref_validation_XGB.ipynb\" target=\"_parent\"><img src=\"https://colab.research.google.com/assets/colab-badge.svg\" alt=\"Open In Colab\"/></a>"
      ]
    },
    {
      "cell_type": "code",
      "execution_count": null,
      "metadata": {
        "id": "XN8xO5b2WcQs"
      },
      "outputs": [],
      "source": [
        "import pandas as pd"
      ]
    },
    {
      "cell_type": "code",
      "source": [
        "from google.colab import drive \n",
        "drive.mount('/content/drive')"
      ],
      "metadata": {
        "colab": {
          "base_uri": "https://localhost:8080/"
        },
        "id": "JolCsM8DWkzM",
        "outputId": "4384f481-923b-4637-8343-d2efd903dbd4"
      },
      "execution_count": null,
      "outputs": [
        {
          "output_type": "stream",
          "name": "stdout",
          "text": [
            "Mounted at /content/drive\n"
          ]
        }
      ]
    },
    {
      "cell_type": "code",
      "source": [
        "import os"
      ],
      "metadata": {
        "id": "l3ADth3UWmWx"
      },
      "execution_count": null,
      "outputs": []
    },
    {
      "cell_type": "code",
      "source": [
        "path = '/content/drive/My Drive/shadeimg/SVM shade'"
      ],
      "metadata": {
        "id": "PN5gBh_wWnTk"
      },
      "execution_count": null,
      "outputs": []
    },
    {
      "cell_type": "code",
      "source": [
        "os.listdir(path)"
      ],
      "metadata": {
        "colab": {
          "base_uri": "https://localhost:8080/"
        },
        "id": "6V7IO0iGWpgF",
        "outputId": "e779ac8e-d24b-4daf-cfc4-a1be577f33d4"
      },
      "execution_count": null,
      "outputs": [
        {
          "output_type": "execute_result",
          "data": {
            "text/plain": [
              "['DD.xlsx',\n",
              " 'CC.xlsx',\n",
              " 'BB.xlsx',\n",
              " 'Shade_AA.xlsx',\n",
              " 'Shade_CC.xlsx',\n",
              " 'Shade_DD.xlsx',\n",
              " 'Shade_BB.xlsx',\n",
              " 'AA.xlsx',\n",
              " 'AA_2.xlsx',\n",
              " 'Shad_A.xlsx',\n",
              " 'Shad_B.xlsx',\n",
              " 'Shad_C.xlsx',\n",
              " 'Shad_D.xlsx',\n",
              " 'Setting4.xlsx',\n",
              " 'Color-checkerAA.xlsx',\n",
              " 'Color-checkerBB.xlsx',\n",
              " 'Color-checkerCC.xlsx',\n",
              " 'Setting2.xlsx',\n",
              " 'D3set51.csv',\n",
              " 'Setting1.xlsx',\n",
              " 'CheckerDD.xlsx',\n",
              " 'Setting3.xlsx',\n",
              " 'Setting6.xlsx',\n",
              " 'Setting5.xlsx',\n",
              " 'checkerShad_A .xlsx',\n",
              " 'checkerShad_B.xlsx',\n",
              " 'checkerShad_C.xlsx',\n",
              " 'D3Set5-61.xlsx',\n",
              " 'checkerShad_D.xlsx',\n",
              " 'Color-checkerDD.xlsx',\n",
              " 'Datapoint_1.xlsx',\n",
              " 'Datapoint_2.xlsx',\n",
              " 'Datapoint_3.xlsx',\n",
              " 'Datapoint_4.xlsx',\n",
              " 'Datapoint_6.xlsx',\n",
              " 'Datapoint_5.xlsx']"
            ]
          },
          "metadata": {},
          "execution_count": 5
        }
      ]
    },
    {
      "cell_type": "code",
      "source": [
        "Set1 = os.path.join(path,'Datapoint_1.xlsx')\n",
        "print(Set1)"
      ],
      "metadata": {
        "colab": {
          "base_uri": "https://localhost:8080/"
        },
        "id": "HqBwtklQWrjT",
        "outputId": "da885fec-f1ba-4a82-f5c1-27295f73209f"
      },
      "execution_count": null,
      "outputs": [
        {
          "output_type": "stream",
          "name": "stdout",
          "text": [
            "/content/drive/My Drive/shadeimg/SVM shade/Datapoint_1.xlsx\n"
          ]
        }
      ]
    },
    {
      "cell_type": "code",
      "source": [
        "Set2 = os.path.join(path,'Datapoint_2.xlsx')\n",
        "print(Set2)"
      ],
      "metadata": {
        "colab": {
          "base_uri": "https://localhost:8080/"
        },
        "id": "gtsVscJ0aFAy",
        "outputId": "36d57549-cbed-4e22-9c43-9c93c3dec5d7"
      },
      "execution_count": null,
      "outputs": [
        {
          "output_type": "stream",
          "name": "stdout",
          "text": [
            "/content/drive/My Drive/shadeimg/SVM shade/Datapoint_2.xlsx\n"
          ]
        }
      ]
    },
    {
      "cell_type": "code",
      "source": [
        "Set3 = os.path.join(path,'Datapoint_3.xlsx')\n",
        "print(Set3)"
      ],
      "metadata": {
        "colab": {
          "base_uri": "https://localhost:8080/"
        },
        "id": "-h9WRjWwaGNz",
        "outputId": "2e0ffc22-ae6a-42d6-e881-b5f9cd3b2e4f"
      },
      "execution_count": null,
      "outputs": [
        {
          "output_type": "stream",
          "name": "stdout",
          "text": [
            "/content/drive/My Drive/shadeimg/SVM shade/Datapoint_3.xlsx\n"
          ]
        }
      ]
    },
    {
      "cell_type": "code",
      "source": [
        "Set4 = os.path.join(path,'Datapoint_4.xlsx')\n",
        "print(Set4)"
      ],
      "metadata": {
        "colab": {
          "base_uri": "https://localhost:8080/"
        },
        "id": "meqQ3flLaHab",
        "outputId": "49b99247-c710-49b9-cd83-3433fa1e952d"
      },
      "execution_count": null,
      "outputs": [
        {
          "output_type": "stream",
          "name": "stdout",
          "text": [
            "/content/drive/My Drive/shadeimg/SVM shade/Datapoint_4.xlsx\n"
          ]
        }
      ]
    },
    {
      "cell_type": "code",
      "source": [
        "Set6 = os.path.join(path,'Datapoint_6.xlsx')\n",
        "print(Set6)"
      ],
      "metadata": {
        "colab": {
          "base_uri": "https://localhost:8080/"
        },
        "id": "HZzyzcjm1tVj",
        "outputId": "6517bd36-f975-40c7-dbd2-76439ee8d7d5"
      },
      "execution_count": null,
      "outputs": [
        {
          "output_type": "stream",
          "name": "stdout",
          "text": [
            "/content/drive/My Drive/shadeimg/SVM shade/Datapoint_6.xlsx\n"
          ]
        }
      ]
    },
    {
      "cell_type": "code",
      "source": [
        "import numpy as np"
      ],
      "metadata": {
        "id": "Ul_zJOW3aPj3"
      },
      "execution_count": null,
      "outputs": []
    },
    {
      "cell_type": "code",
      "source": [
        "from sklearn import metrics"
      ],
      "metadata": {
        "id": "A7CIfOAfaQhY"
      },
      "execution_count": null,
      "outputs": []
    },
    {
      "cell_type": "code",
      "source": [
        "from sklearn import datasets"
      ],
      "metadata": {
        "id": "wnvnwlPaaRxS"
      },
      "execution_count": null,
      "outputs": []
    },
    {
      "cell_type": "code",
      "source": [
        "import xgboost as xgb"
      ],
      "metadata": {
        "id": "lGa_QPEBaSwA"
      },
      "execution_count": null,
      "outputs": []
    },
    {
      "cell_type": "markdown",
      "source": [
        "#Data"
      ],
      "metadata": {
        "id": "Y3Zly83kWxcq"
      }
    },
    {
      "cell_type": "code",
      "source": [
        "A1Set1 = pd.read_excel(Set1 , sheet_name='A1_1')\n",
        "\n",
        "A2Set1 = pd.read_excel(Set1, sheet_name='A2_1')\n",
        "\n",
        "A3Set1 = pd.read_excel(Set1, sheet_name='A3_1')\n",
        "\n",
        "A3_5Set1 = pd.read_excel(Set1, sheet_name='A3.5_1')\n",
        "\n",
        "A4Set1 = pd.read_excel(Set1, sheet_name='A4_1')\n",
        "\n",
        "B1Set1 = pd.read_excel(Set1 , sheet_name='B1_1')\n",
        "\n",
        "B2Set1 = pd.read_excel(Set1, sheet_name='B2_1')\n",
        "\n",
        "B3Set1 = pd.read_excel(Set1, sheet_name='B3_1')\n",
        "\n",
        "B4Set1 = pd.read_excel(Set1, sheet_name='B4_1')\n",
        "\n",
        "C1Set1 = pd.read_excel(Set1 , sheet_name='C1_1')\n",
        "\n",
        "C2Set1 = pd.read_excel(Set1, sheet_name='C2_1')\n",
        "\n",
        "C3Set1 = pd.read_excel(Set1, sheet_name='C3_1')\n",
        "\n",
        "C4Set1 = pd.read_excel(Set1, sheet_name='C4_1')\n",
        "\n",
        "D2Set1 = pd.read_excel(Set1, sheet_name='D2_1')\n",
        "\n",
        "D3Set1 = pd.read_excel(Set1, sheet_name='D3_1')\n",
        "\n",
        "D4Set1 = pd.read_excel(Set1, sheet_name='D4_1')"
      ],
      "metadata": {
        "id": "qW_6dnO4WvtV"
      },
      "execution_count": null,
      "outputs": []
    },
    {
      "cell_type": "code",
      "source": [
        "table_Set1 = pd.concat([A1Set1,A2Set1,A3Set1,A3_5Set1,A4Set1,B1Set1,B2Set1,B3Set1,B4Set1,C1Set1,C2Set1,C3Set1,C4Set1,D2Set1,D3Set1,D4Set1])"
      ],
      "metadata": {
        "id": "KyzRglIRXdKP"
      },
      "execution_count": null,
      "outputs": []
    },
    {
      "cell_type": "code",
      "source": [
        "table_Set1.shape"
      ],
      "metadata": {
        "colab": {
          "base_uri": "https://localhost:8080/"
        },
        "id": "6hVbwQEKYU7F",
        "outputId": "3c13029c-7b81-4212-dbc4-2d72dd745c8d"
      },
      "execution_count": null,
      "outputs": [
        {
          "output_type": "execute_result",
          "data": {
            "text/plain": [
              "(12855, 16)"
            ]
          },
          "metadata": {},
          "execution_count": 17
        }
      ]
    },
    {
      "cell_type": "code",
      "source": [
        "A1Set2 = pd.read_excel(Set2 , sheet_name='A1_2')\n",
        "\n",
        "A2Set2 = pd.read_excel(Set2, sheet_name='A2_2')\n",
        "\n",
        "A3Set2 = pd.read_excel(Set2, sheet_name='A3_2')\n",
        "\n",
        "A3_5Set2 = pd.read_excel(Set2, sheet_name='A3.5_2')\n",
        "\n",
        "A4Set2 = pd.read_excel(Set2, sheet_name='A4_2')\n",
        "\n",
        "B1Set2 = pd.read_excel(Set2 , sheet_name='B1_2')\n",
        "\n",
        "B2Set2 = pd.read_excel(Set2, sheet_name='B2_2')\n",
        "\n",
        "B3Set2 = pd.read_excel(Set2, sheet_name='B3_2')\n",
        "\n",
        "B4Set2 = pd.read_excel(Set2, sheet_name='B4_2')\n",
        "\n",
        "C1Set2 = pd.read_excel(Set2 , sheet_name='C1_2')\n",
        "\n",
        "C2Set2 = pd.read_excel(Set2, sheet_name='C2_2')\n",
        "\n",
        "C3Set2 = pd.read_excel(Set2, sheet_name='C3_2')\n",
        "\n",
        "C4Set2 = pd.read_excel(Set2, sheet_name='C4_2')\n",
        "\n",
        "D2Set2 = pd.read_excel(Set2, sheet_name='D2_2')\n",
        "\n",
        "D3Set2 = pd.read_excel(Set2, sheet_name='D3_2')\n",
        "\n",
        "D4Set2 = pd.read_excel(Set2, sheet_name='D4_2')"
      ],
      "metadata": {
        "id": "R7z8THSqYWGL"
      },
      "execution_count": null,
      "outputs": []
    },
    {
      "cell_type": "code",
      "source": [
        "table_Set2 = pd.concat([A1Set2,A2Set2,A3Set2,A3_5Set2,A4Set2,B1Set2,B2Set2,B3Set2,B4Set2,C1Set2,C2Set2,C3Set2,C4Set2,D2Set2,D3Set2,D4Set2])"
      ],
      "metadata": {
        "id": "5WJOoOhdYoFs"
      },
      "execution_count": null,
      "outputs": []
    },
    {
      "cell_type": "code",
      "source": [
        "table_Set2.shape"
      ],
      "metadata": {
        "colab": {
          "base_uri": "https://localhost:8080/"
        },
        "id": "qZ-y9NS2Yx2j",
        "outputId": "0a369c03-7fda-4ec5-8985-7fbb2e119b1e"
      },
      "execution_count": null,
      "outputs": [
        {
          "output_type": "execute_result",
          "data": {
            "text/plain": [
              "(13005, 16)"
            ]
          },
          "metadata": {},
          "execution_count": 20
        }
      ]
    },
    {
      "cell_type": "code",
      "source": [
        "A1Set3 = pd.read_excel(Set3, sheet_name='A1_3')\n",
        "\n",
        "A2Set3 = pd.read_excel(Set3, sheet_name='A2_3')\n",
        "\n",
        "A3Set3 = pd.read_excel(Set3, sheet_name='A3_3')\n",
        "\n",
        "A3_5Set3 = pd.read_excel(Set3, sheet_name='A3.5_3')\n",
        "\n",
        "A4Set3 = pd.read_excel(Set3, sheet_name='A4_3')\n",
        "\n",
        "B1Set3 = pd.read_excel(Set3, sheet_name='B1_3')\n",
        "\n",
        "B2Set3 = pd.read_excel(Set3, sheet_name='B2_3')\n",
        "\n",
        "B3Set3 = pd.read_excel(Set3, sheet_name='B3_3')\n",
        "\n",
        "B4Set3 = pd.read_excel(Set3, sheet_name='B4_3')\n",
        "\n",
        "C1Set3 = pd.read_excel(Set3, sheet_name='C1_3')\n",
        "\n",
        "C2Set3 = pd.read_excel(Set3, sheet_name='C2_3')\n",
        "\n",
        "C3Set3 = pd.read_excel(Set3, sheet_name='C3_3')\n",
        "\n",
        "C4Set3 = pd.read_excel(Set3, sheet_name='C4_3')\n",
        "\n",
        "D2Set3 = pd.read_excel(Set3, sheet_name='D2_3')\n",
        "\n",
        "D3Set3 = pd.read_excel(Set3, sheet_name='D3_3')\n",
        "\n",
        "D4Set3 = pd.read_excel(Set3, sheet_name='D4_3')"
      ],
      "metadata": {
        "id": "apsanJ4zYz6c"
      },
      "execution_count": null,
      "outputs": []
    },
    {
      "cell_type": "code",
      "source": [
        "table_Set3 = pd.concat([A1Set3,A2Set3,A3Set3,A3_5Set3,A4Set3,B1Set3,B2Set3,B3Set3,B4Set3,C1Set3,C2Set3,C3Set3,C4Set3,D2Set3,D3Set3,D4Set3])"
      ],
      "metadata": {
        "id": "V3wOy53PZCcC"
      },
      "execution_count": null,
      "outputs": []
    },
    {
      "cell_type": "code",
      "source": [
        "table_Set3.shape"
      ],
      "metadata": {
        "colab": {
          "base_uri": "https://localhost:8080/"
        },
        "id": "I8Kly-34ZEo-",
        "outputId": "cd61135c-0f6e-446b-97b1-db22c3f21ae3"
      },
      "execution_count": null,
      "outputs": [
        {
          "output_type": "execute_result",
          "data": {
            "text/plain": [
              "(12920, 16)"
            ]
          },
          "metadata": {},
          "execution_count": 23
        }
      ]
    },
    {
      "cell_type": "code",
      "source": [
        "A1Set4 = pd.read_excel(Set4, sheet_name='A1_4')\n",
        "\n",
        "A2Set4 = pd.read_excel(Set4, sheet_name='A2_4')\n",
        "\n",
        "A3Set4 = pd.read_excel(Set4, sheet_name='A3_4')\n",
        "\n",
        "A3_5Set4 = pd.read_excel(Set4, sheet_name='A3.5_4')\n",
        "\n",
        "A4Set4 = pd.read_excel(Set4, sheet_name='A4_4')\n",
        "\n",
        "B1Set4 = pd.read_excel(Set4, sheet_name='B1_4')\n",
        "\n",
        "B2Set4 = pd.read_excel(Set4, sheet_name='B2_4')\n",
        "\n",
        "B3Set4 = pd.read_excel(Set4, sheet_name='B3_4')\n",
        "\n",
        "B4Set4 = pd.read_excel(Set4, sheet_name='B4_4')\n",
        "\n",
        "C1Set4 = pd.read_excel(Set4, sheet_name='C1_4')\n",
        "\n",
        "C2Set4 = pd.read_excel(Set4, sheet_name='C2_4')\n",
        "\n",
        "C3Set4 = pd.read_excel(Set4, sheet_name='C3_4')\n",
        "\n",
        "C4Set4 = pd.read_excel(Set4, sheet_name='C4_4')\n",
        "\n",
        "D2Set4 = pd.read_excel(Set4, sheet_name='D2_4')\n",
        "\n",
        "D3Set4 = pd.read_excel(Set4, sheet_name='D3_4')\n",
        "\n",
        "D4Set4 = pd.read_excel(Set4, sheet_name='D4_4')"
      ],
      "metadata": {
        "id": "Xxap2gbcZB7d"
      },
      "execution_count": null,
      "outputs": []
    },
    {
      "cell_type": "code",
      "source": [
        "table_Set4 = pd.concat([A1Set4,A2Set4,A3Set4,A3_5Set4,A4Set4,B1Set4,B2Set4,B3Set4,B4Set4,C1Set4,C2Set4,C3Set4,C4Set4,D2Set4,D3Set4,D4Set4])"
      ],
      "metadata": {
        "id": "Rk_-rsUNZU4X"
      },
      "execution_count": null,
      "outputs": []
    },
    {
      "cell_type": "code",
      "source": [
        "table_Set4.shape"
      ],
      "metadata": {
        "colab": {
          "base_uri": "https://localhost:8080/"
        },
        "id": "2H27hF0HZU4X",
        "outputId": "a9bb45de-6fee-4453-b5dc-55e2741c7d3f"
      },
      "execution_count": null,
      "outputs": [
        {
          "output_type": "execute_result",
          "data": {
            "text/plain": [
              "(12800, 16)"
            ]
          },
          "metadata": {},
          "execution_count": 26
        }
      ]
    },
    {
      "cell_type": "code",
      "source": [
        "A1Set6 = pd.read_excel(Set6 , sheet_name='A1_6')\n",
        "\n",
        "A2Set6 = pd.read_excel(Set6, sheet_name='A2_6')\n",
        "\n",
        "A3Set6 = pd.read_excel(Set6, sheet_name='A3_6')\n",
        "\n",
        "A3_5Set6 = pd.read_excel(Set6, sheet_name='A3.5_6')\n",
        "\n",
        "A4Set6 = pd.read_excel(Set6, sheet_name='A4_6')\n",
        "\n",
        "B1Set6 = pd.read_excel(Set6 , sheet_name='B1_6')\n",
        "\n",
        "B2Set6 = pd.read_excel(Set6, sheet_name='B2_6')\n",
        "\n",
        "B3Set6 = pd.read_excel(Set6, sheet_name='B3_6')\n",
        "\n",
        "B4Set6 = pd.read_excel(Set6, sheet_name='B4_6')\n",
        "\n",
        "C1Set6 = pd.read_excel(Set6 , sheet_name='C1_6')\n",
        "\n",
        "C2Set6 = pd.read_excel(Set6, sheet_name='C2_6')\n",
        "\n",
        "C3Set6 = pd.read_excel(Set6, sheet_name='C3_6')\n",
        "\n",
        "C4Set6 = pd.read_excel(Set6, sheet_name='C4_6')\n",
        "\n",
        "D2Set6 = pd.read_excel(Set6, sheet_name='D2_6')\n",
        "\n",
        "D3Set6 = pd.read_excel(Set6, sheet_name='D3_6')\n",
        "\n",
        "D4Set6 = pd.read_excel(Set6, sheet_name='D4_6')"
      ],
      "metadata": {
        "id": "OiVvTJAdZcGR"
      },
      "execution_count": null,
      "outputs": []
    },
    {
      "cell_type": "code",
      "source": [
        "table_Set6 = pd.concat([A1Set6,A2Set6,A3Set6,A3_5Set6,A4Set6,B1Set6,B2Set6,B3Set6,B4Set6,C1Set6,C2Set6,C3Set6,C4Set6,D2Set6,D3Set6,D4Set6])"
      ],
      "metadata": {
        "id": "6gfsDVJzZcGS"
      },
      "execution_count": null,
      "outputs": []
    },
    {
      "cell_type": "code",
      "source": [
        "table_Set6.shape"
      ],
      "metadata": {
        "colab": {
          "base_uri": "https://localhost:8080/"
        },
        "id": "gE1hF4CXZcGS",
        "outputId": "630555ed-8a9a-437a-d9c5-6f27608c59aa"
      },
      "execution_count": null,
      "outputs": [
        {
          "output_type": "execute_result",
          "data": {
            "text/plain": [
              "(12880, 16)"
            ]
          },
          "metadata": {},
          "execution_count": 29
        }
      ]
    },
    {
      "cell_type": "markdown",
      "source": [
        "#RF"
      ],
      "metadata": {
        "id": "ZRDGcoKhZ8mL"
      }
    },
    {
      "cell_type": "markdown",
      "source": [
        "#Set1 test"
      ],
      "metadata": {
        "id": "NlLmQQRgab9I"
      }
    },
    {
      "cell_type": "markdown",
      "source": [
        "###RGB"
      ],
      "metadata": {
        "id": "XkJHrTSyZ96W"
      }
    },
    {
      "cell_type": "code",
      "source": [
        "RF_1 = xgb.XGBClassifier()"
      ],
      "metadata": {
        "id": "tkAEgrcQaA3K"
      },
      "execution_count": null,
      "outputs": []
    },
    {
      "cell_type": "code",
      "source": [
        "RGB_Set1 = table_Set1.drop(['R-ref','G-ref','B-ref','H-ref','S-ref','V-ref','H-Shad','S-Shad','V-Shad','Setting','Ref','Shad','Img'], axis=1)"
      ],
      "metadata": {
        "id": "1JjRH2GjaaBQ"
      },
      "execution_count": null,
      "outputs": []
    },
    {
      "cell_type": "code",
      "source": [
        "RGB_concat1 = pd.concat([table_Set2,table_Set3,table_Set4,table_Set6])"
      ],
      "metadata": {
        "id": "6Rd3Lkmlaju2"
      },
      "execution_count": null,
      "outputs": []
    },
    {
      "cell_type": "code",
      "source": [
        "RGB_all_concat1 = RGB_concat1.drop(['R-ref','G-ref','B-ref','H-ref','S-ref','V-ref','H-Shad','S-Shad','V-Shad','Setting','Ref','Shad','Img'], axis=1)"
      ],
      "metadata": {
        "id": "AkoqEJNpvMSU"
      },
      "execution_count": null,
      "outputs": []
    },
    {
      "cell_type": "code",
      "source": [
        "X_test_set1_RGB = np.array(RGB_Set1)"
      ],
      "metadata": {
        "id": "xp9V4lgSv0GW"
      },
      "execution_count": null,
      "outputs": []
    },
    {
      "cell_type": "code",
      "source": [
        "y_set1_RGB =  table_Set1.iloc[:,14:15]"
      ],
      "metadata": {
        "id": "8GbbeXdOv7zg"
      },
      "execution_count": null,
      "outputs": []
    },
    {
      "cell_type": "code",
      "source": [
        "y_test_set1_RGB = np.array(y_set1_RGB)"
      ],
      "metadata": {
        "id": "C_jqXDSSwA5c"
      },
      "execution_count": null,
      "outputs": []
    },
    {
      "cell_type": "code",
      "source": [
        "X_train_set1_RGB = np.array(RGB_all_concat1)"
      ],
      "metadata": {
        "id": "tDvmfFOVwFba"
      },
      "execution_count": null,
      "outputs": []
    },
    {
      "cell_type": "code",
      "source": [
        "y_train_set1RGB = RGB_concat1.iloc[:,14:15]"
      ],
      "metadata": {
        "id": "Sf956hCOwKeO"
      },
      "execution_count": null,
      "outputs": []
    },
    {
      "cell_type": "code",
      "source": [
        "y_train_set1_RGB = np.array(y_train_set1RGB)"
      ],
      "metadata": {
        "id": "l3zeHlM0wRfg"
      },
      "execution_count": null,
      "outputs": []
    },
    {
      "cell_type": "code",
      "source": [
        "y_train_set1_RGB.shape = (len(y_train_set1_RGB,))"
      ],
      "metadata": {
        "id": "qqyEVTYgwWDQ"
      },
      "execution_count": null,
      "outputs": []
    },
    {
      "cell_type": "code",
      "source": [
        "RF_1.fit(X_train_set1_RGB, y_train_set1_RGB)"
      ],
      "metadata": {
        "id": "snFGLqx9wUkz",
        "outputId": "f69e4931-66eb-4278-973d-3802c0ee5714",
        "colab": {
          "base_uri": "https://localhost:8080/"
        }
      },
      "execution_count": null,
      "outputs": [
        {
          "output_type": "execute_result",
          "data": {
            "text/plain": [
              "XGBClassifier(objective='multi:softprob')"
            ]
          },
          "metadata": {},
          "execution_count": 41
        }
      ]
    },
    {
      "cell_type": "code",
      "source": [
        "y_pred_set1_RGB = RF_1.predict(X_test_set1_RGB)"
      ],
      "metadata": {
        "id": "DVR6d2ocwiJO"
      },
      "execution_count": null,
      "outputs": []
    },
    {
      "cell_type": "code",
      "source": [
        "print(\"Accuracy:\", metrics.accuracy_score(y_test_set1_RGB, y_pred_set1_RGB))"
      ],
      "metadata": {
        "id": "rf5tGJjtwqCK",
        "outputId": "d21a7643-7869-4887-93db-0fbee3c89e27",
        "colab": {
          "base_uri": "https://localhost:8080/"
        }
      },
      "execution_count": null,
      "outputs": [
        {
          "output_type": "stream",
          "name": "stdout",
          "text": [
            "Accuracy: 0.03998444185141968\n"
          ]
        }
      ]
    },
    {
      "cell_type": "markdown",
      "source": [
        "###HSV"
      ],
      "metadata": {
        "id": "0u5VUfVhZ_z2"
      }
    },
    {
      "cell_type": "code",
      "source": [
        "RF_2 = xgb.XGBClassifier()"
      ],
      "metadata": {
        "id": "H4KBlguYw64u"
      },
      "execution_count": null,
      "outputs": []
    },
    {
      "cell_type": "code",
      "source": [
        "HSV_Set1 = table_Set1.drop(['R-ref','G-ref','B-ref','R-Shad','G-Shad','B-Shad','H-ref','S-ref','V-ref','Setting','Ref','Shad','Img'], axis=1)"
      ],
      "metadata": {
        "id": "tvKmiE6Zw64v"
      },
      "execution_count": null,
      "outputs": []
    },
    {
      "cell_type": "code",
      "source": [
        "HSV_concat2 = pd.concat([table_Set2,table_Set3,table_Set4,table_Set6])"
      ],
      "metadata": {
        "id": "PpOJfBAqw64v"
      },
      "execution_count": null,
      "outputs": []
    },
    {
      "cell_type": "code",
      "source": [
        "HSV_all_concat2 = HSV_concat2.drop(['R-ref','G-ref','B-ref','R-Shad','G-Shad','B-Shad','H-ref','S-ref','V-ref','Setting','Ref','Shad','Img'], axis=1)"
      ],
      "metadata": {
        "id": "ntq6wLKZw64v"
      },
      "execution_count": null,
      "outputs": []
    },
    {
      "cell_type": "code",
      "source": [
        "X_test_set1_HSV = np.array(HSV_Set1)"
      ],
      "metadata": {
        "id": "kX_weWijw64v"
      },
      "execution_count": null,
      "outputs": []
    },
    {
      "cell_type": "code",
      "source": [
        "y_set1_HSV =  table_Set1.iloc[:,14:15]"
      ],
      "metadata": {
        "id": "5fcROkTLw64v"
      },
      "execution_count": null,
      "outputs": []
    },
    {
      "cell_type": "code",
      "source": [
        "y_test_set1_HSV = np.array(y_set1_HSV)"
      ],
      "metadata": {
        "id": "lTz6i8wVw64v"
      },
      "execution_count": null,
      "outputs": []
    },
    {
      "cell_type": "code",
      "source": [
        "X_train_set1_HSV = np.array(HSV_all_concat2)"
      ],
      "metadata": {
        "id": "kYirqF63w64v"
      },
      "execution_count": null,
      "outputs": []
    },
    {
      "cell_type": "code",
      "source": [
        "y_train_set1HSV = HSV_concat2.iloc[:,14:15]"
      ],
      "metadata": {
        "id": "qOXNt3Scw64v"
      },
      "execution_count": null,
      "outputs": []
    },
    {
      "cell_type": "code",
      "source": [
        "y_train_set1_HSV = np.array(y_train_set1HSV)"
      ],
      "metadata": {
        "id": "vf_qDkaXw64v"
      },
      "execution_count": null,
      "outputs": []
    },
    {
      "cell_type": "code",
      "source": [
        "y_train_set1_HSV.shape = (len(y_train_set1_HSV,))"
      ],
      "metadata": {
        "id": "VlIrtS-jw64w"
      },
      "execution_count": null,
      "outputs": []
    },
    {
      "cell_type": "code",
      "source": [
        "RF_2.fit(X_train_set1_HSV, y_train_set1_HSV)"
      ],
      "metadata": {
        "id": "d6ha55FHw64w",
        "outputId": "56d036c6-142a-46de-a711-a84a36ddd086",
        "colab": {
          "base_uri": "https://localhost:8080/"
        }
      },
      "execution_count": null,
      "outputs": [
        {
          "output_type": "execute_result",
          "data": {
            "text/plain": [
              "XGBClassifier(objective='multi:softprob')"
            ]
          },
          "metadata": {},
          "execution_count": 55
        }
      ]
    },
    {
      "cell_type": "code",
      "source": [
        "y_pred_set1_HSV = RF_2.predict(X_test_set1_HSV)"
      ],
      "metadata": {
        "id": "VRUKaowMw64w"
      },
      "execution_count": null,
      "outputs": []
    },
    {
      "cell_type": "code",
      "source": [
        "print(\"Accuracy:\", metrics.accuracy_score(y_test_set1_HSV, y_pred_set1_HSV))"
      ],
      "metadata": {
        "id": "TtABHeaNw64w",
        "outputId": "24dfd149-86df-43cb-f5da-a4b46013361e",
        "colab": {
          "base_uri": "https://localhost:8080/"
        }
      },
      "execution_count": null,
      "outputs": [
        {
          "output_type": "stream",
          "name": "stdout",
          "text": [
            "Accuracy: 0.07615713730066122\n"
          ]
        }
      ]
    },
    {
      "cell_type": "markdown",
      "source": [
        "#Set2 test"
      ],
      "metadata": {
        "id": "OYFSBQdwxqoF"
      }
    },
    {
      "cell_type": "markdown",
      "source": [
        "###RGB"
      ],
      "metadata": {
        "id": "xSahiumOxwF7"
      }
    },
    {
      "cell_type": "code",
      "source": [
        "RF_3 = xgb.XGBClassifier()"
      ],
      "metadata": {
        "id": "NRUXoGDpxwF7"
      },
      "execution_count": null,
      "outputs": []
    },
    {
      "cell_type": "code",
      "source": [
        "RGB_Set2 = table_Set2.drop(['R-ref','G-ref','B-ref','H-ref','S-ref','V-ref','H-Shad','S-Shad','V-Shad','Setting','Ref','Shad','Img'], axis=1)"
      ],
      "metadata": {
        "id": "Yu9oJDbHxwF7"
      },
      "execution_count": null,
      "outputs": []
    },
    {
      "cell_type": "code",
      "source": [
        "RGB_concat3 = pd.concat([table_Set1,table_Set3,table_Set4,table_Set6])"
      ],
      "metadata": {
        "id": "nm7IMroJxwF8"
      },
      "execution_count": null,
      "outputs": []
    },
    {
      "cell_type": "code",
      "source": [
        "RGB_all_concat3 = RGB_concat3.drop(['R-ref','G-ref','B-ref','H-ref','S-ref','V-ref','H-Shad','S-Shad','V-Shad','Setting','Ref','Shad','Img'], axis=1)"
      ],
      "metadata": {
        "id": "f8z-dJiyxwF8"
      },
      "execution_count": null,
      "outputs": []
    },
    {
      "cell_type": "code",
      "source": [
        "X_test_set2_RGB = np.array(RGB_Set2)"
      ],
      "metadata": {
        "id": "goJ3lPbhxwF8"
      },
      "execution_count": null,
      "outputs": []
    },
    {
      "cell_type": "code",
      "source": [
        "y_set2_RGB =  table_Set2.iloc[:,14:15]"
      ],
      "metadata": {
        "id": "Bi46NlXrxwF8"
      },
      "execution_count": null,
      "outputs": []
    },
    {
      "cell_type": "code",
      "source": [
        "y_test_set2_RGB = np.array(y_set2_RGB)"
      ],
      "metadata": {
        "id": "5BBYaiCtxwF8"
      },
      "execution_count": null,
      "outputs": []
    },
    {
      "cell_type": "code",
      "source": [
        "X_train_set2_RGB = np.array(RGB_all_concat3)"
      ],
      "metadata": {
        "id": "sr5PysDvxwF8"
      },
      "execution_count": null,
      "outputs": []
    },
    {
      "cell_type": "code",
      "source": [
        "y_train_set2RGB = RGB_concat3.iloc[:,14:15]"
      ],
      "metadata": {
        "id": "epetzMloxwF8"
      },
      "execution_count": null,
      "outputs": []
    },
    {
      "cell_type": "code",
      "source": [
        "y_train_set2_RGB = np.array(y_train_set2RGB)"
      ],
      "metadata": {
        "id": "HSChJdNpxwF8"
      },
      "execution_count": null,
      "outputs": []
    },
    {
      "cell_type": "code",
      "source": [
        "y_train_set2_RGB.shape = (len(y_train_set2_RGB,))"
      ],
      "metadata": {
        "id": "-7-fszHoxwF8"
      },
      "execution_count": null,
      "outputs": []
    },
    {
      "cell_type": "code",
      "source": [
        "RF_3.fit(X_train_set2_RGB, y_train_set2_RGB)"
      ],
      "metadata": {
        "id": "x3wshtX-xwF9",
        "outputId": "96dd7823-bef7-4105-b907-fd7208527439",
        "colab": {
          "base_uri": "https://localhost:8080/"
        }
      },
      "execution_count": null,
      "outputs": [
        {
          "output_type": "execute_result",
          "data": {
            "text/plain": [
              "XGBClassifier(objective='multi:softprob')"
            ]
          },
          "metadata": {},
          "execution_count": 69
        }
      ]
    },
    {
      "cell_type": "code",
      "source": [
        "y_pred_set2_RGB = RF_3.predict(X_test_set2_RGB)"
      ],
      "metadata": {
        "id": "1y6zp4uTxwF9"
      },
      "execution_count": null,
      "outputs": []
    },
    {
      "cell_type": "code",
      "source": [
        "print(\"Accuracy:\", metrics.accuracy_score(y_test_set2_RGB, y_pred_set2_RGB))"
      ],
      "metadata": {
        "id": "Q-Y3q_KUxwF9",
        "outputId": "5fbb273b-9c0f-4148-ad3c-954b84adf520",
        "colab": {
          "base_uri": "https://localhost:8080/"
        }
      },
      "execution_count": null,
      "outputs": [
        {
          "output_type": "stream",
          "name": "stdout",
          "text": [
            "Accuracy: 0.06251441753171857\n"
          ]
        }
      ]
    },
    {
      "cell_type": "markdown",
      "source": [
        "###HSV"
      ],
      "metadata": {
        "id": "lBSENbq2xwF9"
      }
    },
    {
      "cell_type": "code",
      "source": [
        "RF_4 = xgb.XGBClassifier()"
      ],
      "metadata": {
        "id": "tXz7reCVxwF9"
      },
      "execution_count": null,
      "outputs": []
    },
    {
      "cell_type": "code",
      "source": [
        "HSV_Set2 = table_Set2.drop(['R-ref','G-ref','B-ref','R-Shad','G-Shad','B-Shad','H-ref','S-ref','V-ref','Setting','Ref','Shad','Img'], axis=1)"
      ],
      "metadata": {
        "id": "25pjlT5oxwF9"
      },
      "execution_count": null,
      "outputs": []
    },
    {
      "cell_type": "code",
      "source": [
        "HSV_concat4 = pd.concat([table_Set2,table_Set3,table_Set4,table_Set6])"
      ],
      "metadata": {
        "id": "Vvy1itS2xwF9"
      },
      "execution_count": null,
      "outputs": []
    },
    {
      "cell_type": "code",
      "source": [
        "HSV_all_concat4 = HSV_concat4.drop(['R-ref','G-ref','B-ref','R-Shad','G-Shad','B-Shad','H-ref','S-ref','V-ref','Setting','Ref','Shad','Img'], axis=1)"
      ],
      "metadata": {
        "id": "UVsXMN9ixwF9"
      },
      "execution_count": null,
      "outputs": []
    },
    {
      "cell_type": "code",
      "source": [
        "X_test_set2_HSV = np.array(HSV_Set2)"
      ],
      "metadata": {
        "id": "_DDpNhNkxwF9"
      },
      "execution_count": null,
      "outputs": []
    },
    {
      "cell_type": "code",
      "source": [
        "y_set2_HSV =  table_Set2.iloc[:,14:15]"
      ],
      "metadata": {
        "id": "QjEGAUqkxwF9"
      },
      "execution_count": null,
      "outputs": []
    },
    {
      "cell_type": "code",
      "source": [
        "y_test_set2_HSV = np.array(y_set2_HSV)"
      ],
      "metadata": {
        "id": "D7-w7UG8xwF-"
      },
      "execution_count": null,
      "outputs": []
    },
    {
      "cell_type": "code",
      "source": [
        "X_train_set2_HSV = np.array(HSV_all_concat4)"
      ],
      "metadata": {
        "id": "x3rOXQjUxwF-"
      },
      "execution_count": null,
      "outputs": []
    },
    {
      "cell_type": "code",
      "source": [
        "y_train_set2HSV = HSV_concat4.iloc[:,14:15]"
      ],
      "metadata": {
        "id": "o-WcP398xwF-"
      },
      "execution_count": null,
      "outputs": []
    },
    {
      "cell_type": "code",
      "source": [
        "y_train_set2_HSV = np.array(y_train_set2HSV)"
      ],
      "metadata": {
        "id": "ktgBoQysxwF-"
      },
      "execution_count": null,
      "outputs": []
    },
    {
      "cell_type": "code",
      "source": [
        "y_train_set2_HSV.shape = (len(y_train_set2_HSV,))"
      ],
      "metadata": {
        "id": "kUjAR32xxwF-"
      },
      "execution_count": null,
      "outputs": []
    },
    {
      "cell_type": "code",
      "source": [
        "RF_4.fit(X_train_set2_HSV, y_train_set2_HSV)"
      ],
      "metadata": {
        "id": "v0vsc3vgxwF-",
        "outputId": "894deec7-2224-4554-a6f6-1507cfa7c173",
        "colab": {
          "base_uri": "https://localhost:8080/"
        }
      },
      "execution_count": null,
      "outputs": [
        {
          "output_type": "execute_result",
          "data": {
            "text/plain": [
              "XGBClassifier(objective='multi:softprob')"
            ]
          },
          "metadata": {},
          "execution_count": 83
        }
      ]
    },
    {
      "cell_type": "code",
      "source": [
        "y_pred_set2_HSV = RF_4.predict(X_test_set2_HSV)"
      ],
      "metadata": {
        "id": "LjAraPQFxwF-"
      },
      "execution_count": null,
      "outputs": []
    },
    {
      "cell_type": "code",
      "source": [
        "print(\"Accuracy:\", metrics.accuracy_score(y_test_set2_HSV, y_pred_set2_HSV))"
      ],
      "metadata": {
        "id": "eoAds6mLxwF-",
        "outputId": "f319b33b-672c-466c-8aa9-7e0c3e12ffef",
        "colab": {
          "base_uri": "https://localhost:8080/"
        }
      },
      "execution_count": null,
      "outputs": [
        {
          "output_type": "stream",
          "name": "stdout",
          "text": [
            "Accuracy: 0.6920415224913494\n"
          ]
        }
      ]
    },
    {
      "cell_type": "markdown",
      "source": [
        "#Set3 test"
      ],
      "metadata": {
        "id": "0TLXtOO-yhAg"
      }
    },
    {
      "cell_type": "markdown",
      "source": [
        "###RGB"
      ],
      "metadata": {
        "id": "8ET-s46Fymd_"
      }
    },
    {
      "cell_type": "code",
      "source": [
        "RF_5 = xgb.XGBClassifier()"
      ],
      "metadata": {
        "id": "mHf3sHeFymeA"
      },
      "execution_count": null,
      "outputs": []
    },
    {
      "cell_type": "code",
      "source": [
        "RGB_Set3 = table_Set3.drop(['R-ref','G-ref','B-ref','H-ref','S-ref','V-ref','H-Shad','S-Shad','V-Shad','Setting','Ref','Shad','Img'], axis=1)"
      ],
      "metadata": {
        "id": "7dRkMB5bymeA"
      },
      "execution_count": null,
      "outputs": []
    },
    {
      "cell_type": "code",
      "source": [
        "RGB_concat5 = pd.concat([table_Set1,table_Set2,table_Set4,table_Set6])"
      ],
      "metadata": {
        "id": "33QH8XZVymeA"
      },
      "execution_count": null,
      "outputs": []
    },
    {
      "cell_type": "code",
      "source": [
        "RGB_all_concat5 = RGB_concat5.drop(['R-ref','G-ref','B-ref','H-ref','S-ref','V-ref','H-Shad','S-Shad','V-Shad','Setting','Ref','Shad','Img'], axis=1)"
      ],
      "metadata": {
        "id": "FTR6Hk27ymeA"
      },
      "execution_count": null,
      "outputs": []
    },
    {
      "cell_type": "code",
      "source": [
        "X_test_set3_RGB = np.array(RGB_Set3)"
      ],
      "metadata": {
        "id": "7krC9XWnymeA"
      },
      "execution_count": null,
      "outputs": []
    },
    {
      "cell_type": "code",
      "source": [
        "y_set3_RGB =  table_Set3.iloc[:,14:15]"
      ],
      "metadata": {
        "id": "FC_EXZt8ymeA"
      },
      "execution_count": null,
      "outputs": []
    },
    {
      "cell_type": "code",
      "source": [
        "y_test_set3_RGB = np.array(y_set3_RGB)"
      ],
      "metadata": {
        "id": "_nk3i42jymeB"
      },
      "execution_count": null,
      "outputs": []
    },
    {
      "cell_type": "code",
      "source": [
        "X_train_set3_RGB = np.array(RGB_all_concat5)"
      ],
      "metadata": {
        "id": "cYIa8tKbymeB"
      },
      "execution_count": null,
      "outputs": []
    },
    {
      "cell_type": "code",
      "source": [
        "y_train_set3RGB = RGB_concat5.iloc[:,14:15]"
      ],
      "metadata": {
        "id": "HQW89GGOymeB"
      },
      "execution_count": null,
      "outputs": []
    },
    {
      "cell_type": "code",
      "source": [
        "y_train_set3_RGB = np.array(y_train_set3RGB)"
      ],
      "metadata": {
        "id": "REBUYeyWymeB"
      },
      "execution_count": null,
      "outputs": []
    },
    {
      "cell_type": "code",
      "source": [
        "y_train_set3_RGB.shape = (len(y_train_set3_RGB,))"
      ],
      "metadata": {
        "id": "0i_hSg-rymeB"
      },
      "execution_count": null,
      "outputs": []
    },
    {
      "cell_type": "code",
      "source": [
        "RF_5.fit(X_train_set3_RGB, y_train_set3_RGB)"
      ],
      "metadata": {
        "id": "2u8Gs3O5ymeB",
        "outputId": "4e54dd9d-51c4-4834-fa35-b9ce66eb54b2",
        "colab": {
          "base_uri": "https://localhost:8080/"
        }
      },
      "execution_count": null,
      "outputs": [
        {
          "output_type": "execute_result",
          "data": {
            "text/plain": [
              "XGBClassifier(objective='multi:softprob')"
            ]
          },
          "metadata": {},
          "execution_count": 97
        }
      ]
    },
    {
      "cell_type": "code",
      "source": [
        "y_pred_set3_RGB = RF_5.predict(X_test_set3_RGB)"
      ],
      "metadata": {
        "id": "7R-ziVhxymeB"
      },
      "execution_count": null,
      "outputs": []
    },
    {
      "cell_type": "code",
      "source": [
        "print(\"Accuracy:\", metrics.accuracy_score(y_test_set3_RGB, y_pred_set3_RGB))"
      ],
      "metadata": {
        "id": "huNcpR3XymeB",
        "outputId": "e472a76d-5b6a-4f89-9bd3-7552dd4d6d0e",
        "colab": {
          "base_uri": "https://localhost:8080/"
        }
      },
      "execution_count": null,
      "outputs": [
        {
          "output_type": "stream",
          "name": "stdout",
          "text": [
            "Accuracy: 0.30038699690402476\n"
          ]
        }
      ]
    },
    {
      "cell_type": "markdown",
      "source": [
        "###HSV"
      ],
      "metadata": {
        "id": "nIpmbU0cymeB"
      }
    },
    {
      "cell_type": "code",
      "source": [
        "RF_6 = xgb.XGBClassifier()"
      ],
      "metadata": {
        "id": "zkSBLfDYymeC"
      },
      "execution_count": null,
      "outputs": []
    },
    {
      "cell_type": "code",
      "source": [
        "HSV_Set3 = table_Set3.drop(['R-ref','G-ref','B-ref','R-Shad','G-Shad','B-Shad','H-ref','S-ref','V-ref','Setting','Ref','Shad','Img'], axis=1)"
      ],
      "metadata": {
        "id": "DXiP8ji6ymeC"
      },
      "execution_count": null,
      "outputs": []
    },
    {
      "cell_type": "code",
      "source": [
        "HSV_concat6 = pd.concat([table_Set1,table_Set2,table_Set4,table_Set6])"
      ],
      "metadata": {
        "id": "3DH91RpoymeC"
      },
      "execution_count": null,
      "outputs": []
    },
    {
      "cell_type": "code",
      "source": [
        "HSV_all_concat6 = HSV_concat6.drop(['R-ref','G-ref','B-ref','R-Shad','G-Shad','B-Shad','H-ref','S-ref','V-ref','Setting','Ref','Shad','Img'], axis=1)"
      ],
      "metadata": {
        "id": "fE9nKp7yymeC"
      },
      "execution_count": null,
      "outputs": []
    },
    {
      "cell_type": "code",
      "source": [
        "X_test_set3_HSV = np.array(HSV_Set3)"
      ],
      "metadata": {
        "id": "BRE_FmGHymeC"
      },
      "execution_count": null,
      "outputs": []
    },
    {
      "cell_type": "code",
      "source": [
        "y_set3_HSV =  table_Set3.iloc[:,14:15]"
      ],
      "metadata": {
        "id": "BKLBl2lzymeC"
      },
      "execution_count": null,
      "outputs": []
    },
    {
      "cell_type": "code",
      "source": [
        "y_test_set3_HSV = np.array(y_set3_HSV)"
      ],
      "metadata": {
        "id": "geyc-6IoymeC"
      },
      "execution_count": null,
      "outputs": []
    },
    {
      "cell_type": "code",
      "source": [
        "X_train_set3_HSV = np.array(HSV_all_concat6)"
      ],
      "metadata": {
        "id": "l6xUdCHTymeC"
      },
      "execution_count": null,
      "outputs": []
    },
    {
      "cell_type": "code",
      "source": [
        "y_train_set3HSV = HSV_concat6.iloc[:,14:15]"
      ],
      "metadata": {
        "id": "oEoOTVn6ymeC"
      },
      "execution_count": null,
      "outputs": []
    },
    {
      "cell_type": "code",
      "source": [
        "y_train_set3_HSV = np.array(y_train_set3HSV)"
      ],
      "metadata": {
        "id": "w6nY7XPsymeC"
      },
      "execution_count": null,
      "outputs": []
    },
    {
      "cell_type": "code",
      "source": [
        "y_train_set3_HSV.shape = (len(y_train_set3_HSV,))"
      ],
      "metadata": {
        "id": "6oUiPL9qymeD"
      },
      "execution_count": null,
      "outputs": []
    },
    {
      "cell_type": "code",
      "source": [
        "RF_6.fit(X_train_set3_HSV, y_train_set3_HSV)"
      ],
      "metadata": {
        "id": "D5g6bUBZymeD",
        "outputId": "77371eae-e47d-48be-84a8-bb575173acfd",
        "colab": {
          "base_uri": "https://localhost:8080/"
        }
      },
      "execution_count": null,
      "outputs": [
        {
          "output_type": "execute_result",
          "data": {
            "text/plain": [
              "XGBClassifier(objective='multi:softprob')"
            ]
          },
          "metadata": {},
          "execution_count": 111
        }
      ]
    },
    {
      "cell_type": "code",
      "source": [
        "y_pred_set3_HSV = RF_6.predict(X_test_set3_HSV)"
      ],
      "metadata": {
        "id": "u3VazC_IymeD"
      },
      "execution_count": null,
      "outputs": []
    },
    {
      "cell_type": "code",
      "source": [
        "print(\"Accuracy:\", metrics.accuracy_score(y_test_set3_HSV, y_pred_set3_HSV))"
      ],
      "metadata": {
        "id": "hn22LWI4ymeD",
        "outputId": "294f742f-e2f7-4eff-fa4e-3bb1b6c44b77",
        "colab": {
          "base_uri": "https://localhost:8080/"
        }
      },
      "execution_count": null,
      "outputs": [
        {
          "output_type": "stream",
          "name": "stdout",
          "text": [
            "Accuracy: 0.41756965944272445\n"
          ]
        }
      ]
    },
    {
      "cell_type": "markdown",
      "source": [
        "#Set4 test"
      ],
      "metadata": {
        "id": "mOcJzlA_zl2c"
      }
    },
    {
      "cell_type": "markdown",
      "source": [
        "###RGB"
      ],
      "metadata": {
        "id": "1uEy4fxkzl2c"
      }
    },
    {
      "cell_type": "code",
      "source": [
        "RF_7 = xgb.XGBClassifier()"
      ],
      "metadata": {
        "id": "Pq09EnaIzl2c"
      },
      "execution_count": null,
      "outputs": []
    },
    {
      "cell_type": "code",
      "source": [
        "RGB_Set4 = table_Set4.drop(['R-ref','G-ref','B-ref','H-ref','S-ref','V-ref','H-Shad','S-Shad','V-Shad','Setting','Ref','Shad','Img'], axis=1)"
      ],
      "metadata": {
        "id": "btgomLOUzl2c"
      },
      "execution_count": null,
      "outputs": []
    },
    {
      "cell_type": "code",
      "source": [
        "RGB_concat7 = pd.concat([table_Set1,table_Set2,table_Set3,table_Set6])"
      ],
      "metadata": {
        "id": "gdPPp0ewzl2d"
      },
      "execution_count": null,
      "outputs": []
    },
    {
      "cell_type": "code",
      "source": [
        "RGB_all_concat7 = RGB_concat7.drop(['R-ref','G-ref','B-ref','H-ref','S-ref','V-ref','H-Shad','S-Shad','V-Shad','Setting','Ref','Shad','Img'], axis=1)"
      ],
      "metadata": {
        "id": "SNd_twUQzl2d"
      },
      "execution_count": null,
      "outputs": []
    },
    {
      "cell_type": "code",
      "source": [
        "X_test_set4_RGB = np.array(RGB_Set4)"
      ],
      "metadata": {
        "id": "8bMPd3bxzl2d"
      },
      "execution_count": null,
      "outputs": []
    },
    {
      "cell_type": "code",
      "source": [
        "y_set4_RGB =  table_Set4.iloc[:,14:15]"
      ],
      "metadata": {
        "id": "m_slOyqXzl2d"
      },
      "execution_count": null,
      "outputs": []
    },
    {
      "cell_type": "code",
      "source": [
        "y_test_set4_RGB = np.array(y_set4_RGB)"
      ],
      "metadata": {
        "id": "ys50YiqYzl2d"
      },
      "execution_count": null,
      "outputs": []
    },
    {
      "cell_type": "code",
      "source": [
        "X_train_set4_RGB = np.array(RGB_all_concat7)"
      ],
      "metadata": {
        "id": "Gtck7Hhszl2d"
      },
      "execution_count": null,
      "outputs": []
    },
    {
      "cell_type": "code",
      "source": [
        "y_train_set4RGB = RGB_concat7.iloc[:,14:15]"
      ],
      "metadata": {
        "id": "0z9tTR8Izl2d"
      },
      "execution_count": null,
      "outputs": []
    },
    {
      "cell_type": "code",
      "source": [
        "y_train_set4_RGB = np.array(y_train_set4RGB)"
      ],
      "metadata": {
        "id": "jcvLQWwXzl2d"
      },
      "execution_count": null,
      "outputs": []
    },
    {
      "cell_type": "code",
      "source": [
        "y_train_set4_RGB.shape = (len(y_train_set4_RGB,))"
      ],
      "metadata": {
        "id": "zrAfLCYTzl2d"
      },
      "execution_count": null,
      "outputs": []
    },
    {
      "cell_type": "code",
      "source": [
        "RF_7.fit(X_train_set4_RGB, y_train_set4_RGB)"
      ],
      "metadata": {
        "id": "wAWFtefzzl2d",
        "outputId": "a37affab-3c52-4fdd-ee3d-6768c938db6e",
        "colab": {
          "base_uri": "https://localhost:8080/"
        }
      },
      "execution_count": null,
      "outputs": [
        {
          "output_type": "execute_result",
          "data": {
            "text/plain": [
              "XGBClassifier(objective='multi:softprob')"
            ]
          },
          "metadata": {},
          "execution_count": 125
        }
      ]
    },
    {
      "cell_type": "code",
      "source": [
        "y_pred_set4_RGB = RF_7.predict(X_test_set4_RGB)"
      ],
      "metadata": {
        "id": "vgBgx6qSzl2e"
      },
      "execution_count": null,
      "outputs": []
    },
    {
      "cell_type": "code",
      "source": [
        "print(\"Accuracy:\", metrics.accuracy_score(y_test_set4_RGB, y_pred_set4_RGB))"
      ],
      "metadata": {
        "id": "6NkowftUzl2e",
        "outputId": "44677364-77c9-4694-ca1b-55e69c28dcf2",
        "colab": {
          "base_uri": "https://localhost:8080/"
        }
      },
      "execution_count": null,
      "outputs": [
        {
          "output_type": "stream",
          "name": "stdout",
          "text": [
            "Accuracy: 0.117109375\n"
          ]
        }
      ]
    },
    {
      "cell_type": "markdown",
      "source": [
        "###HSV"
      ],
      "metadata": {
        "id": "ubwTl9fdzl2e"
      }
    },
    {
      "cell_type": "code",
      "source": [
        "RF_8 = xgb.XGBClassifier()"
      ],
      "metadata": {
        "id": "f7Q5fA6gzl2e"
      },
      "execution_count": null,
      "outputs": []
    },
    {
      "cell_type": "code",
      "source": [
        "HSV_Set4 = table_Set4.drop(['R-ref','G-ref','B-ref','R-Shad','G-Shad','B-Shad','H-ref','S-ref','V-ref','Setting','Ref','Shad','Img'], axis=1)"
      ],
      "metadata": {
        "id": "8sOFZnWBzl2e"
      },
      "execution_count": null,
      "outputs": []
    },
    {
      "cell_type": "code",
      "source": [
        "HSV_concat8 = pd.concat([table_Set1,table_Set2,table_Set3,table_Set6])"
      ],
      "metadata": {
        "id": "btL_owPQzl2e"
      },
      "execution_count": null,
      "outputs": []
    },
    {
      "cell_type": "code",
      "source": [
        "HSV_all_concat8 = HSV_concat8.drop(['R-ref','G-ref','B-ref','R-Shad','G-Shad','B-Shad','H-ref','S-ref','V-ref','Setting','Ref','Shad','Img'], axis=1)"
      ],
      "metadata": {
        "id": "Z3l3tEjfzl2e"
      },
      "execution_count": null,
      "outputs": []
    },
    {
      "cell_type": "code",
      "source": [
        "X_test_set4_HSV = np.array(HSV_Set4)"
      ],
      "metadata": {
        "id": "VJGQXB9qzl2e"
      },
      "execution_count": null,
      "outputs": []
    },
    {
      "cell_type": "code",
      "source": [
        "y_set4_HSV =  table_Set4.iloc[:,14:15]"
      ],
      "metadata": {
        "id": "UufcKfxdzl2e"
      },
      "execution_count": null,
      "outputs": []
    },
    {
      "cell_type": "code",
      "source": [
        "y_test_set4_HSV = np.array(y_set4_HSV)"
      ],
      "metadata": {
        "id": "ZdtGzrCWzl2e"
      },
      "execution_count": null,
      "outputs": []
    },
    {
      "cell_type": "code",
      "source": [
        "X_train_set4_HSV = np.array(HSV_all_concat8)"
      ],
      "metadata": {
        "id": "6eepGA7izl2f"
      },
      "execution_count": null,
      "outputs": []
    },
    {
      "cell_type": "code",
      "source": [
        "y_train_set4HSV = HSV_concat8.iloc[:,14:15]"
      ],
      "metadata": {
        "id": "EJ7JeDftzl2f"
      },
      "execution_count": null,
      "outputs": []
    },
    {
      "cell_type": "code",
      "source": [
        "y_train_set4_HSV = np.array(y_train_set4HSV)"
      ],
      "metadata": {
        "id": "rlE_YLhOzl2f"
      },
      "execution_count": null,
      "outputs": []
    },
    {
      "cell_type": "code",
      "source": [
        "y_train_set4_HSV.shape = (len(y_train_set4_HSV,))"
      ],
      "metadata": {
        "id": "CJ2WAIm3zl2f"
      },
      "execution_count": null,
      "outputs": []
    },
    {
      "cell_type": "code",
      "source": [
        "RF_8.fit(X_train_set4_HSV, y_train_set4_HSV)"
      ],
      "metadata": {
        "id": "2upoYIkVzl2f",
        "outputId": "0652a932-e14d-43e0-c505-ab97aa729a1e",
        "colab": {
          "base_uri": "https://localhost:8080/"
        }
      },
      "execution_count": null,
      "outputs": [
        {
          "output_type": "execute_result",
          "data": {
            "text/plain": [
              "XGBClassifier(objective='multi:softprob')"
            ]
          },
          "metadata": {},
          "execution_count": 139
        }
      ]
    },
    {
      "cell_type": "code",
      "source": [
        "y_pred_set4_HSV = RF_8.predict(X_test_set4_HSV)"
      ],
      "metadata": {
        "id": "XhYa1QxFzl2f"
      },
      "execution_count": null,
      "outputs": []
    },
    {
      "cell_type": "code",
      "source": [
        "print(\"Accuracy:\", metrics.accuracy_score(y_test_set4_HSV, y_pred_set4_HSV))"
      ],
      "metadata": {
        "id": "JPA9zN5tzl2f",
        "outputId": "cb813f10-aa98-4acb-dd33-828d6595eebc",
        "colab": {
          "base_uri": "https://localhost:8080/"
        }
      },
      "execution_count": null,
      "outputs": [
        {
          "output_type": "stream",
          "name": "stdout",
          "text": [
            "Accuracy: 0.16765625\n"
          ]
        }
      ]
    },
    {
      "cell_type": "markdown",
      "source": [
        "#Set6 test"
      ],
      "metadata": {
        "id": "QahfKyye2Plx"
      }
    },
    {
      "cell_type": "markdown",
      "source": [
        "###RGB"
      ],
      "metadata": {
        "id": "3BWw2mqs2VQB"
      }
    },
    {
      "cell_type": "code",
      "source": [
        "RF_9 = xgb.XGBClassifier()"
      ],
      "metadata": {
        "id": "HzfOV-kY2VQB"
      },
      "execution_count": null,
      "outputs": []
    },
    {
      "cell_type": "code",
      "source": [
        "RGB_Set6 = table_Set6.drop(['R-ref','G-ref','B-ref','H-ref','S-ref','V-ref','H-Shad','S-Shad','V-Shad','Setting','Ref','Shad','Img'], axis=1)"
      ],
      "metadata": {
        "id": "FaslkWeD2VQC"
      },
      "execution_count": null,
      "outputs": []
    },
    {
      "cell_type": "code",
      "source": [
        "RGB_concat9 = pd.concat([table_Set1,table_Set2,table_Set3,table_Set4])"
      ],
      "metadata": {
        "id": "vJZWhcbf2VQC"
      },
      "execution_count": null,
      "outputs": []
    },
    {
      "cell_type": "code",
      "source": [
        "RGB_all_concat9 = RGB_concat9.drop(['R-ref','G-ref','B-ref','H-ref','S-ref','V-ref','H-Shad','S-Shad','V-Shad','Setting','Ref','Shad','Img'], axis=1)"
      ],
      "metadata": {
        "id": "QEkw01dC2VQC"
      },
      "execution_count": null,
      "outputs": []
    },
    {
      "cell_type": "code",
      "source": [
        "X_test_set6_RGB = np.array(RGB_Set6)"
      ],
      "metadata": {
        "id": "M62UqC542VQC"
      },
      "execution_count": null,
      "outputs": []
    },
    {
      "cell_type": "code",
      "source": [
        "y_set6_RGB =  table_Set6.iloc[:,14:15]"
      ],
      "metadata": {
        "id": "NnLTCAT32VQC"
      },
      "execution_count": null,
      "outputs": []
    },
    {
      "cell_type": "code",
      "source": [
        "y_test_set6_RGB = np.array(y_set6_RGB)"
      ],
      "metadata": {
        "id": "bidUdfvU2VQC"
      },
      "execution_count": null,
      "outputs": []
    },
    {
      "cell_type": "code",
      "source": [
        "X_train_set6_RGB = np.array(RGB_all_concat9)"
      ],
      "metadata": {
        "id": "1M3dZYSV2VQC"
      },
      "execution_count": null,
      "outputs": []
    },
    {
      "cell_type": "code",
      "source": [
        "y_train_set6RGB = RGB_concat9.iloc[:,14:15]"
      ],
      "metadata": {
        "id": "GDkDCbMP2VQC"
      },
      "execution_count": null,
      "outputs": []
    },
    {
      "cell_type": "code",
      "source": [
        "y_train_set6_RGB = np.array(y_train_set6RGB)"
      ],
      "metadata": {
        "id": "CYA-K1cI2VQC"
      },
      "execution_count": null,
      "outputs": []
    },
    {
      "cell_type": "code",
      "source": [
        "y_train_set6_RGB.shape = (len(y_train_set6_RGB,))"
      ],
      "metadata": {
        "id": "U7Q0xDh32VQC"
      },
      "execution_count": null,
      "outputs": []
    },
    {
      "cell_type": "code",
      "source": [
        "RF_9.fit(X_train_set6_RGB, y_train_set6_RGB)"
      ],
      "metadata": {
        "id": "a9dcFx062VQD",
        "outputId": "3d0857a1-980f-444c-e8d9-df54d20e7334",
        "colab": {
          "base_uri": "https://localhost:8080/"
        }
      },
      "execution_count": null,
      "outputs": [
        {
          "output_type": "execute_result",
          "data": {
            "text/plain": [
              "XGBClassifier(objective='multi:softprob')"
            ]
          },
          "metadata": {},
          "execution_count": 153
        }
      ]
    },
    {
      "cell_type": "code",
      "source": [
        "y_pred_set6_RGB = RF_9.predict(X_test_set6_RGB)"
      ],
      "metadata": {
        "id": "60h0GzDq2VQD"
      },
      "execution_count": null,
      "outputs": []
    },
    {
      "cell_type": "code",
      "source": [
        "print(\"Accuracy:\", metrics.accuracy_score(y_test_set6_RGB, y_pred_set6_RGB))"
      ],
      "metadata": {
        "id": "K5WOQRVn2VQD",
        "outputId": "7fdcb385-c305-4ac1-beba-79efb13397bb",
        "colab": {
          "base_uri": "https://localhost:8080/"
        }
      },
      "execution_count": null,
      "outputs": [
        {
          "output_type": "stream",
          "name": "stdout",
          "text": [
            "Accuracy: 0.26521739130434785\n"
          ]
        }
      ]
    },
    {
      "cell_type": "markdown",
      "source": [
        "###HSV"
      ],
      "metadata": {
        "id": "_nzwx1lo2VQD"
      }
    },
    {
      "cell_type": "code",
      "source": [
        "RF_10 = xgb.XGBClassifier()"
      ],
      "metadata": {
        "id": "cYF3U5xF2VQD"
      },
      "execution_count": null,
      "outputs": []
    },
    {
      "cell_type": "code",
      "source": [
        "HSV_Set6 = table_Set6.drop(['R-ref','G-ref','B-ref','R-Shad','G-Shad','B-Shad','H-ref','S-ref','V-ref','Setting','Ref','Shad','Img'], axis=1)"
      ],
      "metadata": {
        "id": "D_lemnYe2VQD"
      },
      "execution_count": null,
      "outputs": []
    },
    {
      "cell_type": "code",
      "source": [
        "HSV_concat10 = pd.concat([table_Set1,table_Set2,table_Set3,table_Set4])"
      ],
      "metadata": {
        "id": "fSj18obd2VQD"
      },
      "execution_count": null,
      "outputs": []
    },
    {
      "cell_type": "code",
      "source": [
        "HSV_all_concat10 = HSV_concat10.drop(['R-ref','G-ref','B-ref','R-Shad','G-Shad','B-Shad','H-ref','S-ref','V-ref','Setting','Ref','Shad','Img'], axis=1)"
      ],
      "metadata": {
        "id": "OKv1pwi12VQD"
      },
      "execution_count": null,
      "outputs": []
    },
    {
      "cell_type": "code",
      "source": [
        "X_test_set6_HSV = np.array(HSV_Set6)"
      ],
      "metadata": {
        "id": "jdMSyB0M2VQD"
      },
      "execution_count": null,
      "outputs": []
    },
    {
      "cell_type": "code",
      "source": [
        "y_set6_HSV =  table_Set6.iloc[:,14:15]"
      ],
      "metadata": {
        "id": "f2X0266E2VQD"
      },
      "execution_count": null,
      "outputs": []
    },
    {
      "cell_type": "code",
      "source": [
        "y_test_set6_HSV = np.array(y_set6_HSV)"
      ],
      "metadata": {
        "id": "FJGLUal_2VQD"
      },
      "execution_count": null,
      "outputs": []
    },
    {
      "cell_type": "code",
      "source": [
        "X_train_set6_HSV = np.array(HSV_all_concat10)"
      ],
      "metadata": {
        "id": "qmbCiEoc2VQD"
      },
      "execution_count": null,
      "outputs": []
    },
    {
      "cell_type": "code",
      "source": [
        "y_train_set6HSV = HSV_concat10.iloc[:,14:15]"
      ],
      "metadata": {
        "id": "wGhE2dtQ2VQE"
      },
      "execution_count": null,
      "outputs": []
    },
    {
      "cell_type": "code",
      "source": [
        "y_train_set6_HSV = np.array(y_train_set6HSV)"
      ],
      "metadata": {
        "id": "5WrAjpkS2VQE"
      },
      "execution_count": null,
      "outputs": []
    },
    {
      "cell_type": "code",
      "source": [
        "y_train_set6_HSV.shape = (len(y_train_set6_HSV,))"
      ],
      "metadata": {
        "id": "PL3uDZi62VQE"
      },
      "execution_count": null,
      "outputs": []
    },
    {
      "cell_type": "code",
      "source": [
        "RF_10.fit(X_train_set6_HSV, y_train_set6_HSV)"
      ],
      "metadata": {
        "id": "RN_lHWPw2VQE",
        "outputId": "125528af-7c0e-4c6e-8cf9-1c09d9f8f76d",
        "colab": {
          "base_uri": "https://localhost:8080/"
        }
      },
      "execution_count": null,
      "outputs": [
        {
          "output_type": "execute_result",
          "data": {
            "text/plain": [
              "XGBClassifier(objective='multi:softprob')"
            ]
          },
          "metadata": {},
          "execution_count": 167
        }
      ]
    },
    {
      "cell_type": "code",
      "source": [
        "y_pred_set6_HSV = RF_10.predict(X_test_set6_HSV)"
      ],
      "metadata": {
        "id": "TqqR_c612VQE"
      },
      "execution_count": null,
      "outputs": []
    },
    {
      "cell_type": "code",
      "source": [
        "print(\"Accuracy:\", metrics.accuracy_score(y_test_set6_HSV, y_pred_set6_HSV))"
      ],
      "metadata": {
        "id": "K7BcMRAi2VQE",
        "outputId": "e721954d-45e9-4470-9771-722ab2a9b5c1",
        "colab": {
          "base_uri": "https://localhost:8080/"
        }
      },
      "execution_count": null,
      "outputs": [
        {
          "output_type": "stream",
          "name": "stdout",
          "text": [
            "Accuracy: 0.36312111801242236\n"
          ]
        }
      ]
    }
  ]
}