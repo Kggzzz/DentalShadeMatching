{
  "nbformat": 4,
  "nbformat_minor": 0,
  "metadata": {
    "colab": {
      "name": "SVM3_set2_test.ipynb",
      "provenance": [],
      "authorship_tag": "ABX9TyML6N1H+2YfD34NytEWB4XC",
      "include_colab_link": true
    },
    "kernelspec": {
      "name": "python3",
      "display_name": "Python 3"
    },
    "language_info": {
      "name": "python"
    }
  },
  "cells": [
    {
      "cell_type": "markdown",
      "metadata": {
        "id": "view-in-github",
        "colab_type": "text"
      },
      "source": [
        "<a href=\"https://colab.research.google.com/github/Kggzzz/DentalShadeMatching/blob/main/SVM3_set2_test.ipynb\" target=\"_parent\"><img src=\"https://colab.research.google.com/assets/colab-badge.svg\" alt=\"Open In Colab\"/></a>"
      ]
    },
    {
      "cell_type": "code",
      "execution_count": null,
      "metadata": {
        "id": "-cZ0jZK7T4Ai"
      },
      "outputs": [],
      "source": [
        "import pandas as pd"
      ]
    },
    {
      "cell_type": "code",
      "source": [
        "from google.colab import drive \n",
        "drive.mount('/content/drive')"
      ],
      "metadata": {
        "colab": {
          "base_uri": "https://localhost:8080/"
        },
        "id": "Y7V1TPrcZR_T",
        "outputId": "f930d441-7fe0-4715-9e99-8700e8815c10"
      },
      "execution_count": null,
      "outputs": [
        {
          "output_type": "stream",
          "name": "stdout",
          "text": [
            "Mounted at /content/drive\n"
          ]
        }
      ]
    },
    {
      "cell_type": "code",
      "source": [
        "import os"
      ],
      "metadata": {
        "id": "jya59PReZTM8"
      },
      "execution_count": null,
      "outputs": []
    },
    {
      "cell_type": "code",
      "source": [
        "path = '/content/drive/My Drive/shadeimg/SVM shade'"
      ],
      "metadata": {
        "id": "cmIn20dmZV1o"
      },
      "execution_count": null,
      "outputs": []
    },
    {
      "cell_type": "code",
      "source": [
        "os.listdir(path)"
      ],
      "metadata": {
        "colab": {
          "base_uri": "https://localhost:8080/"
        },
        "id": "C8LkZKqkZXU0",
        "outputId": "29526a2e-128e-47ee-e5f5-74c109674ce1"
      },
      "execution_count": null,
      "outputs": [
        {
          "output_type": "execute_result",
          "data": {
            "text/plain": [
              "['DD.xlsx',\n",
              " 'CC.xlsx',\n",
              " 'BB.xlsx',\n",
              " 'Shade_AA.xlsx',\n",
              " 'Shade_CC.xlsx',\n",
              " 'Shade_DD.xlsx',\n",
              " 'Shade_BB.xlsx',\n",
              " 'AA.xlsx',\n",
              " 'AA_2.xlsx',\n",
              " 'Shad_A.xlsx',\n",
              " 'Shad_B.xlsx',\n",
              " 'Shad_C.xlsx',\n",
              " 'Shad_D.xlsx',\n",
              " 'Setting4.xlsx',\n",
              " 'Color-checkerAA.xlsx',\n",
              " 'Color-checkerBB.xlsx',\n",
              " 'Color-checkerCC.xlsx',\n",
              " 'Setting2.xlsx',\n",
              " 'D3set51.csv',\n",
              " 'Setting1.xlsx',\n",
              " 'CheckerDD.xlsx',\n",
              " 'Setting3.xlsx',\n",
              " 'Setting6.xlsx',\n",
              " 'Setting5.xlsx',\n",
              " 'checkerShad_A .xlsx',\n",
              " 'checkerShad_B.xlsx',\n",
              " 'checkerShad_C.xlsx',\n",
              " 'D3Set5-61.xlsx',\n",
              " 'checkerShad_D.xlsx',\n",
              " 'Color-checkerDD.xlsx',\n",
              " 'Datapoint_1.xlsx',\n",
              " 'Datapoint_2.xlsx',\n",
              " 'Datapoint_3.xlsx',\n",
              " 'Datapoint_4.xlsx',\n",
              " 'Datapoint_6.xlsx',\n",
              " 'Datapoint_5.xlsx']"
            ]
          },
          "metadata": {},
          "execution_count": 5
        }
      ]
    },
    {
      "cell_type": "code",
      "source": [
        "Set1 = os.path.join(path,'Datapoint_1.xlsx')\n",
        "print(Set1)"
      ],
      "metadata": {
        "colab": {
          "base_uri": "https://localhost:8080/"
        },
        "id": "Ga4foq2ZZX7c",
        "outputId": "1a529f0a-fd96-4c58-a959-37cb1a09f848"
      },
      "execution_count": null,
      "outputs": [
        {
          "output_type": "stream",
          "name": "stdout",
          "text": [
            "/content/drive/My Drive/shadeimg/SVM shade/Datapoint_1.xlsx\n"
          ]
        }
      ]
    },
    {
      "cell_type": "code",
      "source": [
        "Set2 = os.path.join(path,'Datapoint_2.xlsx')\n",
        "print(Set2)"
      ],
      "metadata": {
        "colab": {
          "base_uri": "https://localhost:8080/"
        },
        "id": "gtsVscJ0aFAy",
        "outputId": "15590000-9a94-4e9f-a38f-cd82af36944e"
      },
      "execution_count": null,
      "outputs": [
        {
          "output_type": "stream",
          "name": "stdout",
          "text": [
            "/content/drive/My Drive/shadeimg/SVM shade/Datapoint_2.xlsx\n"
          ]
        }
      ]
    },
    {
      "cell_type": "code",
      "source": [
        "Set3 = os.path.join(path,'Datapoint_3.xlsx')\n",
        "print(Set3)"
      ],
      "metadata": {
        "colab": {
          "base_uri": "https://localhost:8080/"
        },
        "id": "-h9WRjWwaGNz",
        "outputId": "69a92189-9038-48e5-96d9-ef83d8e15159"
      },
      "execution_count": null,
      "outputs": [
        {
          "output_type": "stream",
          "name": "stdout",
          "text": [
            "/content/drive/My Drive/shadeimg/SVM shade/Datapoint_3.xlsx\n"
          ]
        }
      ]
    },
    {
      "cell_type": "code",
      "source": [
        "Set4 = os.path.join(path,'Datapoint_4.xlsx')\n",
        "print(Set4)"
      ],
      "metadata": {
        "colab": {
          "base_uri": "https://localhost:8080/"
        },
        "id": "meqQ3flLaHab",
        "outputId": "e7c336b1-2f3d-455d-fcd4-bd6a0c29e880"
      },
      "execution_count": null,
      "outputs": [
        {
          "output_type": "stream",
          "name": "stdout",
          "text": [
            "/content/drive/My Drive/shadeimg/SVM shade/Datapoint_4.xlsx\n"
          ]
        }
      ]
    },
    {
      "cell_type": "code",
      "source": [
        "Set6 = os.path.join(path,'Datapoint_6.xlsx')\n",
        "print(Set6)"
      ],
      "metadata": {
        "id": "HZzyzcjm1tVj",
        "outputId": "94cfe054-a6aa-4920-be0b-00cf6597ea36",
        "colab": {
          "base_uri": "https://localhost:8080/"
        }
      },
      "execution_count": null,
      "outputs": [
        {
          "output_type": "stream",
          "name": "stdout",
          "text": [
            "/content/drive/My Drive/shadeimg/SVM shade/Datapoint_6.xlsx\n"
          ]
        }
      ]
    },
    {
      "cell_type": "code",
      "source": [
        "import numpy as np"
      ],
      "metadata": {
        "id": "Ul_zJOW3aPj3"
      },
      "execution_count": null,
      "outputs": []
    },
    {
      "cell_type": "code",
      "source": [
        "from sklearn import metrics"
      ],
      "metadata": {
        "id": "A7CIfOAfaQhY"
      },
      "execution_count": null,
      "outputs": []
    },
    {
      "cell_type": "code",
      "source": [
        "from sklearn import datasets"
      ],
      "metadata": {
        "id": "wnvnwlPaaRxS"
      },
      "execution_count": null,
      "outputs": []
    },
    {
      "cell_type": "code",
      "source": [
        "from sklearn import svm"
      ],
      "metadata": {
        "id": "lGa_QPEBaSwA"
      },
      "execution_count": null,
      "outputs": []
    },
    {
      "cell_type": "markdown",
      "source": [
        "#AA"
      ],
      "metadata": {
        "id": "poM422dmJDh0"
      }
    },
    {
      "cell_type": "markdown",
      "source": [
        "##A1"
      ],
      "metadata": {
        "id": "Cb9iZlIWmt1B"
      }
    },
    {
      "cell_type": "code",
      "source": [
        "table_A1Set1 = pd.read_excel(Set1 , sheet_name='A1_1')\n",
        "\n",
        "table_A1Set2 = pd.read_excel(Set2, sheet_name='A1_2')\n",
        "\n",
        "table_A1Set3 = pd.read_excel(Set3, sheet_name='A1_3')\n",
        "\n",
        "table_A1Set4 = pd.read_excel(Set4, sheet_name='A1_4')\n",
        "\n",
        "table_A1Set6 = pd.read_excel(Set6, sheet_name='A1_6')"
      ],
      "metadata": {
        "id": "4Kf9aT59JKhr"
      },
      "execution_count": null,
      "outputs": []
    },
    {
      "cell_type": "markdown",
      "source": [
        "###RGB"
      ],
      "metadata": {
        "id": "LxojQbqFpTUM"
      }
    },
    {
      "cell_type": "code",
      "source": [
        "clf1 =svm.SVC()"
      ],
      "metadata": {
        "id": "CCYFIj5O2PQW"
      },
      "execution_count": null,
      "outputs": []
    },
    {
      "cell_type": "code",
      "source": [
        "RGB_A1_Set2 = table_A1Set2.drop(['H-ref','S-ref','V-ref','H-Shad','S-Shad','V-Shad','Setting','Ref','Shad','Img'], axis=1)"
      ],
      "metadata": {
        "id": "uexju8za2St7"
      },
      "execution_count": null,
      "outputs": []
    },
    {
      "cell_type": "code",
      "source": [
        "RGB_A1_Set1 = table_A1Set1\n",
        "\n",
        "RGB_A1_Set3 = table_A1Set3\n",
        "\n",
        "RGB_A1_Set4 = table_A1Set4\n",
        "\n",
        "RGB_A1_Set6 = table_A1Set6"
      ],
      "metadata": {
        "id": "1pnPSeki2VJf"
      },
      "execution_count": null,
      "outputs": []
    },
    {
      "cell_type": "code",
      "source": [
        "RGB_A1_concat0 = pd.concat([RGB_A1_Set1,RGB_A1_Set3,RGB_A1_Set4,RGB_A1_Set6])"
      ],
      "metadata": {
        "id": "ish2tjnV2dOn"
      },
      "execution_count": null,
      "outputs": []
    },
    {
      "cell_type": "code",
      "source": [
        "RGB_A1_concat2 = RGB_A1_concat0.drop(['H-ref','S-ref','V-ref','H-Shad','S-Shad','V-Shad','Setting','Ref','Shad','Img'], axis=1)"
      ],
      "metadata": {
        "id": "hGlrbV602h2u"
      },
      "execution_count": null,
      "outputs": []
    },
    {
      "cell_type": "code",
      "source": [
        "X_test_A1_RGB = np.array(RGB_A1_Set2)"
      ],
      "metadata": {
        "id": "kf80Bnvx2ksF"
      },
      "execution_count": null,
      "outputs": []
    },
    {
      "cell_type": "code",
      "source": [
        "y_A1_RGB =  table_A1Set2.iloc[:,14:15]"
      ],
      "metadata": {
        "id": "-taOeLV22muy"
      },
      "execution_count": null,
      "outputs": []
    },
    {
      "cell_type": "code",
      "source": [
        "y_test_A1_RGB = np.array(y_A1_RGB)"
      ],
      "metadata": {
        "id": "TqnbpbiD2r3V"
      },
      "execution_count": null,
      "outputs": []
    },
    {
      "cell_type": "code",
      "source": [
        "X_train_A1_RGB = np.array(RGB_A1_concat2)"
      ],
      "metadata": {
        "id": "6reZkxa82uCH"
      },
      "execution_count": null,
      "outputs": []
    },
    {
      "cell_type": "code",
      "source": [
        "y_train_A1RGB = RGB_A1_concat0.iloc[:,14:15]"
      ],
      "metadata": {
        "id": "VaBz97ae2vAk"
      },
      "execution_count": null,
      "outputs": []
    },
    {
      "cell_type": "code",
      "source": [
        "y_train_A1_RGB = np.array(y_train_A1RGB)"
      ],
      "metadata": {
        "id": "nlYSktja2v9i"
      },
      "execution_count": null,
      "outputs": []
    },
    {
      "cell_type": "code",
      "source": [
        "y_train_A1_RGB.shape = (len(y_train_A1_RGB,))"
      ],
      "metadata": {
        "id": "mWorLWkhYlJ7"
      },
      "execution_count": null,
      "outputs": []
    },
    {
      "cell_type": "code",
      "source": [
        "clf1.fit(X_train_A1_RGB, y_train_A1_RGB)"
      ],
      "metadata": {
        "id": "1Q1Dn1542xof",
        "outputId": "7c1ed38f-54e7-4aa5-ef5b-d6f211cd8988",
        "colab": {
          "base_uri": "https://localhost:8080/"
        }
      },
      "execution_count": null,
      "outputs": [
        {
          "output_type": "execute_result",
          "data": {
            "text/plain": [
              "SVC()"
            ]
          },
          "metadata": {},
          "execution_count": 28
        }
      ]
    },
    {
      "cell_type": "code",
      "source": [
        "y_pred_A1_RGB = clf1.predict(X_test_A1_RGB)"
      ],
      "metadata": {
        "id": "BwZa4xk12ykL"
      },
      "execution_count": null,
      "outputs": []
    },
    {
      "cell_type": "code",
      "source": [
        "print(\"Accuracy:\", metrics.accuracy_score(y_test_A1_RGB, y_pred_A1_RGB))"
      ],
      "metadata": {
        "id": "fQ2jNCMZ2z0z",
        "outputId": "37bd5b9b-a9dd-4b31-dbbe-c6f92848fc3a",
        "colab": {
          "base_uri": "https://localhost:8080/"
        }
      },
      "execution_count": null,
      "outputs": [
        {
          "output_type": "stream",
          "name": "stdout",
          "text": [
            "Accuracy: 0.24720496894409938\n"
          ]
        }
      ]
    },
    {
      "cell_type": "markdown",
      "source": [
        "###HSV"
      ],
      "metadata": {
        "id": "HXG5uLYX23qh"
      }
    },
    {
      "cell_type": "code",
      "source": [
        "clf2 =svm.SVC()"
      ],
      "metadata": {
        "id": "eln-0RNM26dh"
      },
      "execution_count": null,
      "outputs": []
    },
    {
      "cell_type": "code",
      "source": [
        "HSV_A1_Set2 = table_A1Set2.drop(['R-ref','G-ref','B-ref','R-Shad','G-Shad','B-Shad','Setting','Ref','Shad','Img'], axis=1)"
      ],
      "metadata": {
        "id": "ZESO_55R3yxU"
      },
      "execution_count": null,
      "outputs": []
    },
    {
      "cell_type": "code",
      "source": [
        "HSV_A1_concat2 = RGB_A1_concat0.drop(['R-ref','G-ref','B-ref','R-Shad','G-Shad','B-Shad','Setting','Ref','Shad','Img'], axis=1)"
      ],
      "metadata": {
        "id": "WK0Ir6EI31KV"
      },
      "execution_count": null,
      "outputs": []
    },
    {
      "cell_type": "code",
      "source": [
        "X_test_A1_HSV = np.array(HSV_A1_Set2)"
      ],
      "metadata": {
        "id": "CI7kEN7835eL"
      },
      "execution_count": null,
      "outputs": []
    },
    {
      "cell_type": "code",
      "source": [
        "y_A1_HSV =  table_A1Set2.iloc[:,14:15]"
      ],
      "metadata": {
        "id": "g02iJGh936gB"
      },
      "execution_count": null,
      "outputs": []
    },
    {
      "cell_type": "code",
      "source": [
        "y_test_A1_HSV = np.array(y_A1_RGB)"
      ],
      "metadata": {
        "id": "V--ATMEe37pl"
      },
      "execution_count": null,
      "outputs": []
    },
    {
      "cell_type": "code",
      "source": [
        "X_train_A1_HSV = np.array(HSV_A1_concat2)"
      ],
      "metadata": {
        "id": "0qJQocVJ38x0"
      },
      "execution_count": null,
      "outputs": []
    },
    {
      "cell_type": "code",
      "source": [
        "y_train_A1HSV = RGB_A1_concat0.iloc[:,14:15]"
      ],
      "metadata": {
        "id": "rdacruxs390m"
      },
      "execution_count": null,
      "outputs": []
    },
    {
      "cell_type": "code",
      "source": [
        "y_train_A1_HSV = np.array(y_train_A1HSV)"
      ],
      "metadata": {
        "id": "99KbAwXt3_HW"
      },
      "execution_count": null,
      "outputs": []
    },
    {
      "cell_type": "code",
      "source": [
        "y_train_A1_HSV.shape = (len(y_train_A1_HSV,))"
      ],
      "metadata": {
        "id": "8Ai-kuk9Y9pr"
      },
      "execution_count": null,
      "outputs": []
    },
    {
      "cell_type": "code",
      "source": [
        "clf2.fit(X_train_A1_HSV, y_train_A1_HSV)"
      ],
      "metadata": {
        "id": "rcwDgqqz4ANl",
        "outputId": "6278ecde-c3cb-4b55-9503-9980313c1e9a",
        "colab": {
          "base_uri": "https://localhost:8080/"
        }
      },
      "execution_count": null,
      "outputs": [
        {
          "output_type": "execute_result",
          "data": {
            "text/plain": [
              "SVC()"
            ]
          },
          "metadata": {},
          "execution_count": 41
        }
      ]
    },
    {
      "cell_type": "code",
      "source": [
        "y_pred_A1_HSV = clf2.predict(X_test_A1_HSV)"
      ],
      "metadata": {
        "id": "4o89fBrQ4BLw"
      },
      "execution_count": null,
      "outputs": []
    },
    {
      "cell_type": "code",
      "source": [
        "print(\"Accuracy:\", metrics.accuracy_score(y_test_A1_HSV, y_pred_A1_HSV))"
      ],
      "metadata": {
        "id": "GdHKAU6T4CJE",
        "outputId": "9f2252e2-aa6f-40eb-a7dc-748d7b9f17ef",
        "colab": {
          "base_uri": "https://localhost:8080/"
        }
      },
      "execution_count": null,
      "outputs": [
        {
          "output_type": "stream",
          "name": "stdout",
          "text": [
            "Accuracy: 0.062111801242236024\n"
          ]
        }
      ]
    },
    {
      "cell_type": "markdown",
      "source": [
        "##A2"
      ],
      "metadata": {
        "id": "YiCpdmgVfsgl"
      }
    },
    {
      "cell_type": "code",
      "source": [
        "table_A2Set1 = pd.read_excel(Set1 , sheet_name='A2_1')\n",
        "\n",
        "table_A2Set2 = pd.read_excel(Set2 , sheet_name='A2_2')\n",
        "\n",
        "table_A2Set3 = pd.read_excel(Set3 , sheet_name='A2_3')\n",
        "\n",
        "table_A2Set4 = pd.read_excel(Set4 , sheet_name='A2_4')\n",
        "\n",
        "table_A2Set6 = pd.read_excel(Set6 , sheet_name='A2_6')"
      ],
      "metadata": {
        "id": "cQqaNLeMfsgm"
      },
      "execution_count": null,
      "outputs": []
    },
    {
      "cell_type": "markdown",
      "source": [
        "###RGB"
      ],
      "metadata": {
        "id": "oRvHAVySfsgn"
      }
    },
    {
      "cell_type": "code",
      "source": [
        "clf3=svm.SVC()"
      ],
      "metadata": {
        "id": "AdZjjys8ji8y"
      },
      "execution_count": null,
      "outputs": []
    },
    {
      "cell_type": "code",
      "source": [
        "RGB_A2_Set2 = table_A2Set2.drop(['H-ref','S-ref','V-ref','H-Shad','S-Shad','V-Shad','Setting','Ref','Shad','Img'], axis=1)"
      ],
      "metadata": {
        "id": "0joCSr_Rfsgn"
      },
      "execution_count": null,
      "outputs": []
    },
    {
      "cell_type": "code",
      "source": [
        "RGB_A2_Set1 = table_A2Set1\n",
        "\n",
        "RGB_A2_Set3 = table_A2Set3\n",
        "\n",
        "RGB_A2_Set4 = table_A2Set4\n",
        "\n",
        "RGB_A2_Set6 = table_A2Set6"
      ],
      "metadata": {
        "id": "RdIInq3Ifsgo"
      },
      "execution_count": null,
      "outputs": []
    },
    {
      "cell_type": "code",
      "source": [
        "RGB_A2_concat0 = pd.concat([RGB_A2_Set1,RGB_A2_Set3,RGB_A2_Set4,RGB_A2_Set6])"
      ],
      "metadata": {
        "id": "s4A2Dg3ifsgo"
      },
      "execution_count": null,
      "outputs": []
    },
    {
      "cell_type": "code",
      "source": [
        "RGB_A2_concat2 = RGB_A2_concat0.drop(['H-ref','S-ref','V-ref','H-Shad','S-Shad','V-Shad','Setting','Ref','Shad','Img'], axis=1)"
      ],
      "metadata": {
        "id": "efAFS1B-fsgo"
      },
      "execution_count": null,
      "outputs": []
    },
    {
      "cell_type": "code",
      "source": [
        "X_test_A2_RGB = np.array(RGB_A2_Set2)"
      ],
      "metadata": {
        "id": "5L9ie-Cufsgp"
      },
      "execution_count": null,
      "outputs": []
    },
    {
      "cell_type": "code",
      "source": [
        "y_A2_RGB =  table_A2Set2.iloc[:,14:15]"
      ],
      "metadata": {
        "id": "V1oBKY80fsgp"
      },
      "execution_count": null,
      "outputs": []
    },
    {
      "cell_type": "code",
      "source": [
        "y_test_A2_RGB = np.array(y_A2_RGB)"
      ],
      "metadata": {
        "id": "b7DmzU6ffsgp"
      },
      "execution_count": null,
      "outputs": []
    },
    {
      "cell_type": "code",
      "source": [
        "X_train_A2_RGB = np.array(RGB_A2_concat2)"
      ],
      "metadata": {
        "id": "uOykvjBWfsgp"
      },
      "execution_count": null,
      "outputs": []
    },
    {
      "cell_type": "code",
      "source": [
        "y_train_A2RGB = RGB_A2_concat0.iloc[:,14:15]"
      ],
      "metadata": {
        "id": "u56pkV_xfsgp"
      },
      "execution_count": null,
      "outputs": []
    },
    {
      "cell_type": "code",
      "source": [
        "y_train_A2_RGB = np.array(y_train_A2RGB)"
      ],
      "metadata": {
        "id": "DdWkKadofsgp"
      },
      "execution_count": null,
      "outputs": []
    },
    {
      "cell_type": "code",
      "source": [
        "y_train_A2_RGB.shape = (len(y_train_A2_RGB,))"
      ],
      "metadata": {
        "id": "zasp_Pv5ZAHV"
      },
      "execution_count": null,
      "outputs": []
    },
    {
      "cell_type": "code",
      "source": [
        "clf3.fit(X_train_A2_RGB, y_train_A2_RGB)"
      ],
      "metadata": {
        "colab": {
          "base_uri": "https://localhost:8080/"
        },
        "outputId": "abf95838-a299-4c1c-bee5-89de5c2e37ea",
        "id": "nJlXfRCvfsgq"
      },
      "execution_count": null,
      "outputs": [
        {
          "output_type": "execute_result",
          "data": {
            "text/plain": [
              "SVC()"
            ]
          },
          "metadata": {},
          "execution_count": 57
        }
      ]
    },
    {
      "cell_type": "code",
      "source": [
        "y_pred_A2_RGB = clf3.predict(X_test_A2_RGB)"
      ],
      "metadata": {
        "id": "Mr4rCcPifsgq"
      },
      "execution_count": null,
      "outputs": []
    },
    {
      "cell_type": "code",
      "source": [
        "print(\"Accuracy:\", metrics.accuracy_score(y_test_A2_RGB, y_pred_A2_RGB))"
      ],
      "metadata": {
        "colab": {
          "base_uri": "https://localhost:8080/"
        },
        "outputId": "57723b6b-9499-4c86-c80c-e0c6895fbec7",
        "id": "BkA5kF5Vfsgq"
      },
      "execution_count": null,
      "outputs": [
        {
          "output_type": "stream",
          "name": "stdout",
          "text": [
            "Accuracy: 0.058823529411764705\n"
          ]
        }
      ]
    },
    {
      "cell_type": "markdown",
      "source": [
        "###HSV"
      ],
      "metadata": {
        "id": "RZb3Xue3fsgq"
      }
    },
    {
      "cell_type": "code",
      "source": [
        "clf4=svm.SVC()"
      ],
      "metadata": {
        "id": "5-WIM94ZjmF7"
      },
      "execution_count": null,
      "outputs": []
    },
    {
      "cell_type": "code",
      "source": [
        "HSV_A2_Set2 = table_A2Set2.drop(['R-ref','G-ref','B-ref','R-Shad','G-Shad','B-Shad','Setting','Ref','Shad','Img'], axis=1)"
      ],
      "metadata": {
        "id": "UBWdPn2ffsgq"
      },
      "execution_count": null,
      "outputs": []
    },
    {
      "cell_type": "code",
      "source": [
        "HSV_A2_concat2 = RGB_A2_concat0.drop(['H-ref','S-ref','V-ref','H-Shad','S-Shad','V-Shad','Setting','Ref','Shad','Img'], axis=1)"
      ],
      "metadata": {
        "id": "TOLzHUcIfsgr"
      },
      "execution_count": null,
      "outputs": []
    },
    {
      "cell_type": "code",
      "source": [
        "X_test_A2_HSV = np.array(HSV_A2_Set2)"
      ],
      "metadata": {
        "id": "jbg9-iKkfsgr"
      },
      "execution_count": null,
      "outputs": []
    },
    {
      "cell_type": "code",
      "source": [
        "y_A2_HSV =  table_A2Set2.iloc[:,14:15]"
      ],
      "metadata": {
        "id": "XQBJSPXpfsgr"
      },
      "execution_count": null,
      "outputs": []
    },
    {
      "cell_type": "code",
      "source": [
        "y_test_A2_HSV = np.array(y_A2_RGB)"
      ],
      "metadata": {
        "id": "G0mJHUDtfsgr"
      },
      "execution_count": null,
      "outputs": []
    },
    {
      "cell_type": "code",
      "source": [
        "X_train_A2_HSV = np.array(HSV_A2_concat2)"
      ],
      "metadata": {
        "id": "MYuphJxqfsgr"
      },
      "execution_count": null,
      "outputs": []
    },
    {
      "cell_type": "code",
      "source": [
        "y_train_A2HSV = RGB_A2_concat0.iloc[:,14:15]"
      ],
      "metadata": {
        "id": "xldroU3hfsgr"
      },
      "execution_count": null,
      "outputs": []
    },
    {
      "cell_type": "code",
      "source": [
        "y_train_A2_HSV = np.array(y_train_A2HSV)"
      ],
      "metadata": {
        "id": "Gjz_GGx3fsgr"
      },
      "execution_count": null,
      "outputs": []
    },
    {
      "cell_type": "code",
      "source": [
        "y_train_A2_HSV.shape = (len(y_train_A2_HSV,))"
      ],
      "metadata": {
        "id": "QZCzdlRcZCzK"
      },
      "execution_count": null,
      "outputs": []
    },
    {
      "cell_type": "code",
      "source": [
        "clf4.fit(X_train_A2_HSV, y_train_A2_HSV)"
      ],
      "metadata": {
        "colab": {
          "base_uri": "https://localhost:8080/"
        },
        "outputId": "024c7dc9-5424-484e-9ef1-c5aa058e93a6",
        "id": "_Hd02RyCfsgs"
      },
      "execution_count": null,
      "outputs": [
        {
          "output_type": "execute_result",
          "data": {
            "text/plain": [
              "SVC()"
            ]
          },
          "metadata": {},
          "execution_count": 70
        }
      ]
    },
    {
      "cell_type": "code",
      "source": [
        "y_pred_A2_HSV = clf4.predict(X_test_A2_HSV)"
      ],
      "metadata": {
        "id": "mTrqWErPfsgs"
      },
      "execution_count": null,
      "outputs": []
    },
    {
      "cell_type": "code",
      "source": [
        "print(\"Accuracy:\", metrics.accuracy_score(y_test_A2_HSV, y_pred_A2_HSV))"
      ],
      "metadata": {
        "colab": {
          "base_uri": "https://localhost:8080/"
        },
        "outputId": "eabc8bc2-687a-4f65-e93e-58556c6ccd9a",
        "id": "w9a9emMufsgs"
      },
      "execution_count": null,
      "outputs": [
        {
          "output_type": "stream",
          "name": "stdout",
          "text": [
            "Accuracy: 0.058823529411764705\n"
          ]
        }
      ]
    },
    {
      "cell_type": "markdown",
      "source": [
        "##A3"
      ],
      "metadata": {
        "id": "PHQLHF5yh0le"
      }
    },
    {
      "cell_type": "code",
      "source": [
        "table_A3Set1 = pd.read_excel(Set1 , sheet_name='A3_1')\n",
        "\n",
        "table_A3Set2 = pd.read_excel(Set2 , sheet_name='A3_2')\n",
        "\n",
        "table_A3Set3 = pd.read_excel(Set3 , sheet_name='A3_3')\n",
        "\n",
        "table_A3Set4 = pd.read_excel(Set4 , sheet_name='A3_4')\n",
        "\n",
        "table_A3Set6 = pd.read_excel(Set6 , sheet_name='A3_6')"
      ],
      "metadata": {
        "id": "3XA21fdZh0le"
      },
      "execution_count": null,
      "outputs": []
    },
    {
      "cell_type": "markdown",
      "source": [
        "###RGB"
      ],
      "metadata": {
        "id": "HoVTXFtnh0lf"
      }
    },
    {
      "cell_type": "code",
      "source": [
        "clf5=svm.SVC()"
      ],
      "metadata": {
        "id": "mLXqv-jVjqh8"
      },
      "execution_count": null,
      "outputs": []
    },
    {
      "cell_type": "code",
      "source": [
        "RGB_A3_Set2 = table_A3Set2.drop(['H-ref','S-ref','V-ref','H-Shad','S-Shad','V-Shad','Setting','Ref','Shad','Img'], axis=1)"
      ],
      "metadata": {
        "id": "Vk9mUgzNh0lf"
      },
      "execution_count": null,
      "outputs": []
    },
    {
      "cell_type": "code",
      "source": [
        "RGB_A3_Set1 = table_A3Set1\n",
        "\n",
        "RGB_A3_Set3 = table_A3Set3\n",
        "\n",
        "RGB_A3_Set4 = table_A3Set4\n",
        "\n",
        "RGB_A3_Set6 = table_A3Set6"
      ],
      "metadata": {
        "id": "LDbpm3y5h0lf"
      },
      "execution_count": null,
      "outputs": []
    },
    {
      "cell_type": "code",
      "source": [
        "RGB_A3_concat0 = pd.concat([RGB_A3_Set1,RGB_A3_Set3,RGB_A3_Set4,RGB_A3_Set6])"
      ],
      "metadata": {
        "id": "4pA-hfDZduq-"
      },
      "execution_count": null,
      "outputs": []
    },
    {
      "cell_type": "code",
      "source": [
        "RGB_A3_concat2 = RGB_A3_concat0.drop(['H-ref','S-ref','V-ref','H-Shad','S-Shad','V-Shad','Setting','Ref','Shad','Img'], axis=1)"
      ],
      "metadata": {
        "id": "giMn7WiRh0lg"
      },
      "execution_count": null,
      "outputs": []
    },
    {
      "cell_type": "code",
      "source": [
        "X_test_A3_RGB = np.array(RGB_A3_Set2)"
      ],
      "metadata": {
        "id": "t2Oh3U-6h0lg"
      },
      "execution_count": null,
      "outputs": []
    },
    {
      "cell_type": "code",
      "source": [
        "y_A3_RGB =  table_A3Set2.iloc[:,14:15]"
      ],
      "metadata": {
        "id": "c5mW71sgh0lg"
      },
      "execution_count": null,
      "outputs": []
    },
    {
      "cell_type": "code",
      "source": [
        "y_test_A3_RGB = np.array(y_A3_RGB)"
      ],
      "metadata": {
        "id": "vFW4TBk2h0lg"
      },
      "execution_count": null,
      "outputs": []
    },
    {
      "cell_type": "code",
      "source": [
        "X_train_A3_RGB = np.array(RGB_A3_concat2)"
      ],
      "metadata": {
        "id": "FrKDluEmh0lg"
      },
      "execution_count": null,
      "outputs": []
    },
    {
      "cell_type": "code",
      "source": [
        "y_train_A3RGB = RGB_A3_concat0.iloc[:,14:15]"
      ],
      "metadata": {
        "id": "qhAriA-9h0lg"
      },
      "execution_count": null,
      "outputs": []
    },
    {
      "cell_type": "code",
      "source": [
        "y_train_A3_RGB = np.array(y_train_A3RGB)"
      ],
      "metadata": {
        "id": "mFmZVCgZh0lg"
      },
      "execution_count": null,
      "outputs": []
    },
    {
      "cell_type": "code",
      "source": [
        "y_train_A3_RGB.shape = (len(y_train_A3_RGB,))"
      ],
      "metadata": {
        "id": "TMk-YvLjZW2k"
      },
      "execution_count": null,
      "outputs": []
    },
    {
      "cell_type": "code",
      "source": [
        "clf5.fit(X_train_A3_RGB, y_train_A3_RGB)"
      ],
      "metadata": {
        "colab": {
          "base_uri": "https://localhost:8080/"
        },
        "outputId": "d1318437-7d54-4003-9f5e-3121a27df2ed",
        "id": "tj0T259Ih0lh"
      },
      "execution_count": null,
      "outputs": [
        {
          "output_type": "execute_result",
          "data": {
            "text/plain": [
              "SVC()"
            ]
          },
          "metadata": {},
          "execution_count": 86
        }
      ]
    },
    {
      "cell_type": "code",
      "source": [
        "y_pred_A3_RGB = clf5.predict(X_test_A3_RGB)"
      ],
      "metadata": {
        "id": "nFB2J2xSh0lh"
      },
      "execution_count": null,
      "outputs": []
    },
    {
      "cell_type": "code",
      "source": [
        "print(\"Accuracy:\", metrics.accuracy_score(y_test_A3_RGB, y_pred_A3_RGB))"
      ],
      "metadata": {
        "colab": {
          "base_uri": "https://localhost:8080/"
        },
        "outputId": "bec2fdf7-fcb7-4ed4-fc93-87aadfe6297e",
        "id": "o6T3HmYeh0lh"
      },
      "execution_count": null,
      "outputs": [
        {
          "output_type": "stream",
          "name": "stdout",
          "text": [
            "Accuracy: 0.14375\n"
          ]
        }
      ]
    },
    {
      "cell_type": "markdown",
      "source": [
        "###HSV"
      ],
      "metadata": {
        "id": "7fRDUIm4h0lh"
      }
    },
    {
      "cell_type": "code",
      "source": [
        "clf6=svm.SVC()"
      ],
      "metadata": {
        "id": "rFEahA70jtqt"
      },
      "execution_count": null,
      "outputs": []
    },
    {
      "cell_type": "code",
      "source": [
        "HSV_A3_Set2 = table_A3Set2.drop(['R-ref','G-ref','B-ref','R-Shad','G-Shad','B-Shad','Setting','Ref','Shad','Img'], axis=1)"
      ],
      "metadata": {
        "id": "9kVGkRzvh0lh"
      },
      "execution_count": null,
      "outputs": []
    },
    {
      "cell_type": "code",
      "source": [
        "HSV_A3_concat2 = RGB_A3_concat0.drop(['R-ref','G-ref','B-ref','R-Shad','G-Shad','B-Shad','Setting','Ref','Shad','Img'], axis=1)"
      ],
      "metadata": {
        "id": "3dB7gOBuh0li"
      },
      "execution_count": null,
      "outputs": []
    },
    {
      "cell_type": "code",
      "source": [
        "X_test_A3_HSV = np.array(HSV_A3_Set2)"
      ],
      "metadata": {
        "id": "fyV1KV7eh0li"
      },
      "execution_count": null,
      "outputs": []
    },
    {
      "cell_type": "code",
      "source": [
        "y_A3_HSV =  table_A3Set2.iloc[:,14:15]"
      ],
      "metadata": {
        "id": "3s_tC7uuh0li"
      },
      "execution_count": null,
      "outputs": []
    },
    {
      "cell_type": "code",
      "source": [
        "y_test_A3_HSV = np.array(y_A3_RGB)"
      ],
      "metadata": {
        "id": "ee6hCQxLh0li"
      },
      "execution_count": null,
      "outputs": []
    },
    {
      "cell_type": "code",
      "source": [
        "X_train_A3_HSV = np.array(HSV_A3_concat2)"
      ],
      "metadata": {
        "id": "I4eE7wQBh0li"
      },
      "execution_count": null,
      "outputs": []
    },
    {
      "cell_type": "code",
      "source": [
        "y_train_A3HSV = RGB_A3_concat0.iloc[:,14:15]"
      ],
      "metadata": {
        "id": "C4FhoMswh0li"
      },
      "execution_count": null,
      "outputs": []
    },
    {
      "cell_type": "code",
      "source": [
        "y_train_A3_HSV = np.array(y_train_A3HSV)"
      ],
      "metadata": {
        "id": "YLC-DmyLh0li"
      },
      "execution_count": null,
      "outputs": []
    },
    {
      "cell_type": "code",
      "source": [
        "y_train_A3_HSV.shape = (len(y_train_A3_HSV,))"
      ],
      "metadata": {
        "id": "IoCTmdUgZZL2"
      },
      "execution_count": null,
      "outputs": []
    },
    {
      "cell_type": "code",
      "source": [
        "clf6.fit(X_train_A3_HSV, y_train_A3_HSV)"
      ],
      "metadata": {
        "colab": {
          "base_uri": "https://localhost:8080/"
        },
        "outputId": "63b27421-60ef-406c-b4cf-db453dfd3c45",
        "id": "ofA6k6FYh0li"
      },
      "execution_count": null,
      "outputs": [
        {
          "output_type": "execute_result",
          "data": {
            "text/plain": [
              "SVC()"
            ]
          },
          "metadata": {},
          "execution_count": 99
        }
      ]
    },
    {
      "cell_type": "code",
      "source": [
        "y_pred_A3_HSV = clf6.predict(X_test_A3_HSV)"
      ],
      "metadata": {
        "id": "qKQL86MOh0lj"
      },
      "execution_count": null,
      "outputs": []
    },
    {
      "cell_type": "code",
      "source": [
        "print(\"Accuracy:\", metrics.accuracy_score(y_test_A3_HSV, y_pred_A3_HSV))"
      ],
      "metadata": {
        "colab": {
          "base_uri": "https://localhost:8080/"
        },
        "outputId": "e9153165-e8b5-4204-d01c-f54defb936cb",
        "id": "2lCd48LPh0lj"
      },
      "execution_count": null,
      "outputs": [
        {
          "output_type": "stream",
          "name": "stdout",
          "text": [
            "Accuracy: 0.10125\n"
          ]
        }
      ]
    },
    {
      "cell_type": "markdown",
      "source": [
        "##A3.5"
      ],
      "metadata": {
        "id": "480etiaejoWu"
      }
    },
    {
      "cell_type": "code",
      "source": [
        "table_A3_5Set1 = pd.read_excel(Set1 , sheet_name='A3.5_1')\n",
        "\n",
        "table_A3_5Set2 = pd.read_excel(Set2 , sheet_name='A3.5_2')\n",
        "\n",
        "table_A3_5Set3 = pd.read_excel(Set3 , sheet_name='A3.5_3')\n",
        "\n",
        "table_A3_5Set4 = pd.read_excel(Set4 , sheet_name='A3.5_4')\n",
        "\n",
        "table_A3_5Set6 = pd.read_excel(Set6 , sheet_name='A3.5_6')"
      ],
      "metadata": {
        "id": "mXi7Gb9pjoWu"
      },
      "execution_count": null,
      "outputs": []
    },
    {
      "cell_type": "markdown",
      "source": [
        "###RGB"
      ],
      "metadata": {
        "id": "szqdEZaHjoWv"
      }
    },
    {
      "cell_type": "code",
      "source": [
        "clf7=svm.SVC()"
      ],
      "metadata": {
        "id": "MIPTPHf7jw-H"
      },
      "execution_count": null,
      "outputs": []
    },
    {
      "cell_type": "code",
      "source": [
        "RGB_A3_5_Set2 = table_A3_5Set2.drop(['H-ref','S-ref','V-ref','H-Shad','S-Shad','V-Shad','Setting','Ref','Shad','Img'], axis=1)"
      ],
      "metadata": {
        "id": "k3kvC36YjoWv"
      },
      "execution_count": null,
      "outputs": []
    },
    {
      "cell_type": "code",
      "source": [
        "RGB_A3_5_Set1 = table_A3_5Set1\n",
        "\n",
        "RGB_A3_5_Set3 = table_A3_5Set3\n",
        "\n",
        "RGB_A3_5_Set4 = table_A3_5Set4\n",
        "\n",
        "RGB_A3_5_Set6 = table_A3_5Set6"
      ],
      "metadata": {
        "id": "gFpr3qLfjoWv"
      },
      "execution_count": null,
      "outputs": []
    },
    {
      "cell_type": "code",
      "source": [
        "RGB_A3_5_concat0 = pd.concat([RGB_A3_5_Set1,RGB_A3_5_Set3,RGB_A3_5_Set4,RGB_A3_5_Set6])"
      ],
      "metadata": {
        "id": "LBO9ruQPfsDz"
      },
      "execution_count": null,
      "outputs": []
    },
    {
      "cell_type": "code",
      "source": [
        "RGB_A3_5_concat2 = RGB_A3_5_concat0.drop(['H-ref','S-ref','V-ref','H-Shad','S-Shad','V-Shad','Setting','Ref','Shad','Img'], axis=1)"
      ],
      "metadata": {
        "id": "OIKxmY3pjoWv"
      },
      "execution_count": null,
      "outputs": []
    },
    {
      "cell_type": "code",
      "source": [
        "X_test_A3_5_RGB = np.array(RGB_A3_5_Set2)"
      ],
      "metadata": {
        "id": "cYD4qo1XjoWw"
      },
      "execution_count": null,
      "outputs": []
    },
    {
      "cell_type": "code",
      "source": [
        "y_A3_5_RGB =  table_A3_5Set2.iloc[:,14:15]"
      ],
      "metadata": {
        "id": "vJxHOjUkjoWw"
      },
      "execution_count": null,
      "outputs": []
    },
    {
      "cell_type": "code",
      "source": [
        "y_test_A3_5_RGB = np.array(y_A3_5_RGB)"
      ],
      "metadata": {
        "id": "cobCJjzljoWw"
      },
      "execution_count": null,
      "outputs": []
    },
    {
      "cell_type": "code",
      "source": [
        "X_train_A3_5_RGB = np.array(RGB_A3_5_concat2)"
      ],
      "metadata": {
        "id": "dfMok11LjoWw"
      },
      "execution_count": null,
      "outputs": []
    },
    {
      "cell_type": "code",
      "source": [
        "y_train_A3_5RGB = RGB_A3_5_concat0.iloc[:,14:15]"
      ],
      "metadata": {
        "id": "MjjBCpJ4joWw"
      },
      "execution_count": null,
      "outputs": []
    },
    {
      "cell_type": "code",
      "source": [
        "y_train_A3_5_RGB = np.array(y_train_A3_5RGB)"
      ],
      "metadata": {
        "id": "CmWagAKLjoWw"
      },
      "execution_count": null,
      "outputs": []
    },
    {
      "cell_type": "code",
      "source": [
        "y_train_A3_5_RGB.shape = (len(y_train_A3_5_RGB,))"
      ],
      "metadata": {
        "id": "FWfR_g-uZcV6"
      },
      "execution_count": null,
      "outputs": []
    },
    {
      "cell_type": "code",
      "source": [
        "clf7.fit(X_train_A3_5_RGB, y_train_A3_5_RGB)"
      ],
      "metadata": {
        "colab": {
          "base_uri": "https://localhost:8080/"
        },
        "outputId": "71570624-d186-4746-9ed6-7fa04ba0cac9",
        "id": "9LZJjOA2joWw"
      },
      "execution_count": null,
      "outputs": [
        {
          "output_type": "execute_result",
          "data": {
            "text/plain": [
              "SVC()"
            ]
          },
          "metadata": {},
          "execution_count": 115
        }
      ]
    },
    {
      "cell_type": "code",
      "source": [
        "y_pred_A3_5_RGB = clf7.predict(X_test_A3_5_RGB)"
      ],
      "metadata": {
        "id": "XArHxf8ujoWw"
      },
      "execution_count": null,
      "outputs": []
    },
    {
      "cell_type": "code",
      "source": [
        "print(\"Accuracy:\", metrics.accuracy_score(y_test_A3_5_RGB, y_pred_A3_5_RGB))"
      ],
      "metadata": {
        "colab": {
          "base_uri": "https://localhost:8080/"
        },
        "outputId": "c96f3530-bf10-4124-a1c3-be47d6c60ba7",
        "id": "R2MXW1HujoWw"
      },
      "execution_count": null,
      "outputs": [
        {
          "output_type": "stream",
          "name": "stdout",
          "text": [
            "Accuracy: 0.1225\n"
          ]
        }
      ]
    },
    {
      "cell_type": "markdown",
      "source": [
        "###HSV"
      ],
      "metadata": {
        "id": "_IExAm4gjoWx"
      }
    },
    {
      "cell_type": "code",
      "source": [
        "clf8=svm.SVC()"
      ],
      "metadata": {
        "id": "Y7mgJ71tj1JW"
      },
      "execution_count": null,
      "outputs": []
    },
    {
      "cell_type": "code",
      "source": [
        "HSV_A3_5_Set2 = table_A3_5Set2.drop(['R-ref','G-ref','B-ref','R-Shad','G-Shad','B-Shad','Setting','Ref','Shad','Img'], axis=1)"
      ],
      "metadata": {
        "id": "lhj5PV07joWx"
      },
      "execution_count": null,
      "outputs": []
    },
    {
      "cell_type": "code",
      "source": [
        "HSV_A3_5_concat2 = RGB_A3_5_concat0.drop(['R-ref','G-ref','B-ref','R-Shad','G-Shad','B-Shad','Setting','Ref','Shad','Img'], axis=1)"
      ],
      "metadata": {
        "id": "8oHPZ7YajoWx"
      },
      "execution_count": null,
      "outputs": []
    },
    {
      "cell_type": "code",
      "source": [
        "X_test_A3_5_HSV = np.array(HSV_A3_5_Set2)"
      ],
      "metadata": {
        "id": "cZ2L64gojoWx"
      },
      "execution_count": null,
      "outputs": []
    },
    {
      "cell_type": "code",
      "source": [
        "y_A3_5_HSV =  table_A3_5Set2.iloc[:,14:15]"
      ],
      "metadata": {
        "id": "fKuRKeGXjoWx"
      },
      "execution_count": null,
      "outputs": []
    },
    {
      "cell_type": "code",
      "source": [
        "y_test_A3_5_HSV = np.array(y_A3_5_RGB)"
      ],
      "metadata": {
        "id": "FA7kZYn2joWx"
      },
      "execution_count": null,
      "outputs": []
    },
    {
      "cell_type": "code",
      "source": [
        "X_train_A3_5_HSV = np.array(HSV_A3_5_concat2)"
      ],
      "metadata": {
        "id": "Lpr6XTwwjoWx"
      },
      "execution_count": null,
      "outputs": []
    },
    {
      "cell_type": "code",
      "source": [
        "y_train_A3_5HSV = RGB_A3_5_concat0.iloc[:,14:15]"
      ],
      "metadata": {
        "id": "fU-86S2TjoWx"
      },
      "execution_count": null,
      "outputs": []
    },
    {
      "cell_type": "code",
      "source": [
        "y_train_A3_5_HSV = np.array(y_train_A3_5HSV)"
      ],
      "metadata": {
        "id": "dLsM5Ta9joWx"
      },
      "execution_count": null,
      "outputs": []
    },
    {
      "cell_type": "code",
      "source": [
        "y_train_A3_5_HSV.shape = (len(y_train_A3_5_HSV,))"
      ],
      "metadata": {
        "id": "oMrUlB6aZetG"
      },
      "execution_count": null,
      "outputs": []
    },
    {
      "cell_type": "code",
      "source": [
        "clf8.fit(X_train_A3_5_HSV, y_train_A3_5_HSV)"
      ],
      "metadata": {
        "colab": {
          "base_uri": "https://localhost:8080/"
        },
        "outputId": "5e51d8c1-4f2e-41ec-d254-7e3473437701",
        "id": "YyIuDeUHjoWy"
      },
      "execution_count": null,
      "outputs": [
        {
          "output_type": "execute_result",
          "data": {
            "text/plain": [
              "SVC()"
            ]
          },
          "metadata": {},
          "execution_count": 128
        }
      ]
    },
    {
      "cell_type": "code",
      "source": [
        "y_pred_A3_5_HSV = clf8.predict(X_test_A3_5_HSV)"
      ],
      "metadata": {
        "id": "3vwQoGB9joWy"
      },
      "execution_count": null,
      "outputs": []
    },
    {
      "cell_type": "code",
      "source": [
        "print(\"Accuracy:\", metrics.accuracy_score(y_test_A3_5_HSV, y_pred_A3_5_HSV))"
      ],
      "metadata": {
        "colab": {
          "base_uri": "https://localhost:8080/"
        },
        "outputId": "1244aedd-f563-4f41-8c74-ea9468a73f8b",
        "id": "ztP1KhpfjoWy"
      },
      "execution_count": null,
      "outputs": [
        {
          "output_type": "stream",
          "name": "stdout",
          "text": [
            "Accuracy: 0.06625\n"
          ]
        }
      ]
    },
    {
      "cell_type": "markdown",
      "source": [
        "##A4"
      ],
      "metadata": {
        "id": "QtddIFhZmT6y"
      }
    },
    {
      "cell_type": "code",
      "source": [
        "table_A4Set1 = pd.read_excel(Set1 , sheet_name='A4_1')\n",
        "\n",
        "table_A4Set2 = pd.read_excel(Set2 , sheet_name='A4_2')\n",
        "\n",
        "table_A4Set3 = pd.read_excel(Set3 , sheet_name='A4_3')\n",
        "\n",
        "table_A4Set4 = pd.read_excel(Set4 , sheet_name='A4_4')\n",
        "\n",
        "table_A4Set6 = pd.read_excel(Set6 , sheet_name='A4_6')"
      ],
      "metadata": {
        "id": "UTdvgDYRmT6y"
      },
      "execution_count": null,
      "outputs": []
    },
    {
      "cell_type": "markdown",
      "source": [
        "###RGB"
      ],
      "metadata": {
        "id": "xkr8_V_nmT6z"
      }
    },
    {
      "cell_type": "code",
      "source": [
        "clf9=svm.SVC()"
      ],
      "metadata": {
        "id": "fJt7HOuBj44J"
      },
      "execution_count": null,
      "outputs": []
    },
    {
      "cell_type": "code",
      "source": [
        "RGB_A4_Set2 = table_A4Set2.drop(['H-ref','S-ref','V-ref','H-Shad','S-Shad','V-Shad','Setting','Ref','Shad','Img'], axis=1)"
      ],
      "metadata": {
        "id": "72idAyO1mT6z"
      },
      "execution_count": null,
      "outputs": []
    },
    {
      "cell_type": "code",
      "source": [
        "RGB_A4_Set1 = table_A4Set1\n",
        "\n",
        "RGB_A4_Set3 = table_A4Set3\n",
        "\n",
        "RGB_A4_Set4 = table_A4Set4\n",
        "\n",
        "RGB_A4_Set6 = table_A4Set6"
      ],
      "metadata": {
        "id": "Gl4tUns2mT6z"
      },
      "execution_count": null,
      "outputs": []
    },
    {
      "cell_type": "code",
      "source": [
        "RGB_A4_concat0 = pd.concat([RGB_A4_Set1,RGB_A4_Set3,RGB_A4_Set4,RGB_A4_Set6])"
      ],
      "metadata": {
        "id": "JZhUVRKzgwC0"
      },
      "execution_count": null,
      "outputs": []
    },
    {
      "cell_type": "code",
      "source": [
        "RGB_A4_concat2 = RGB_A4_concat0.drop(['H-ref','S-ref','V-ref','H-Shad','S-Shad','V-Shad','Setting','Ref','Shad','Img'], axis=1)"
      ],
      "metadata": {
        "id": "27nGfKormT60"
      },
      "execution_count": null,
      "outputs": []
    },
    {
      "cell_type": "code",
      "source": [
        "X_test_A4_RGB = np.array(RGB_A4_Set2)"
      ],
      "metadata": {
        "id": "Qc4YS3uHmT60"
      },
      "execution_count": null,
      "outputs": []
    },
    {
      "cell_type": "code",
      "source": [
        "y_A4_RGB =  table_A4Set2.iloc[:,14:15]"
      ],
      "metadata": {
        "id": "tqo97GyZmT60"
      },
      "execution_count": null,
      "outputs": []
    },
    {
      "cell_type": "code",
      "source": [
        "y_test_A4_RGB = np.array(y_A4_RGB)"
      ],
      "metadata": {
        "id": "gOFEqZsnmT60"
      },
      "execution_count": null,
      "outputs": []
    },
    {
      "cell_type": "code",
      "source": [
        "X_train_A4_RGB = np.array(RGB_A4_concat2)"
      ],
      "metadata": {
        "id": "evdsCaIqmT60"
      },
      "execution_count": null,
      "outputs": []
    },
    {
      "cell_type": "code",
      "source": [
        "y_train_A4_RGB = RGB_A4_concat0.iloc[:,14:15]"
      ],
      "metadata": {
        "id": "UDKVjmV3mT60"
      },
      "execution_count": null,
      "outputs": []
    },
    {
      "cell_type": "code",
      "source": [
        "y_train_A4_RGB = np.array(y_train_A4_RGB)"
      ],
      "metadata": {
        "id": "HWKuVJsEmT60"
      },
      "execution_count": null,
      "outputs": []
    },
    {
      "cell_type": "code",
      "source": [
        "y_train_A4_RGB.shape = (len(y_train_A4_RGB,))"
      ],
      "metadata": {
        "id": "JzGdiBVeZhdt"
      },
      "execution_count": null,
      "outputs": []
    },
    {
      "cell_type": "code",
      "source": [
        "clf9.fit(X_train_A4_RGB, y_train_A4_RGB)"
      ],
      "metadata": {
        "colab": {
          "base_uri": "https://localhost:8080/"
        },
        "outputId": "eb7550e3-b5a2-4c34-e8eb-251330523b88",
        "id": "mKLrfno7mT61"
      },
      "execution_count": null,
      "outputs": [
        {
          "output_type": "execute_result",
          "data": {
            "text/plain": [
              "SVC()"
            ]
          },
          "metadata": {},
          "execution_count": 144
        }
      ]
    },
    {
      "cell_type": "code",
      "source": [
        "y_pred_A4_RGB = clf9.predict(X_test_A4_RGB)"
      ],
      "metadata": {
        "id": "Vq3eKt90mT61"
      },
      "execution_count": null,
      "outputs": []
    },
    {
      "cell_type": "code",
      "source": [
        "print(\"Accuracy:\", metrics.accuracy_score(y_test_A4_RGB, y_pred_A4_RGB))"
      ],
      "metadata": {
        "colab": {
          "base_uri": "https://localhost:8080/"
        },
        "outputId": "48cb1d4f-3db7-493b-e78c-a60bfbdf291b",
        "id": "7v0zBiIVmT61"
      },
      "execution_count": null,
      "outputs": [
        {
          "output_type": "stream",
          "name": "stdout",
          "text": [
            "Accuracy: 0.09875\n"
          ]
        }
      ]
    },
    {
      "cell_type": "markdown",
      "source": [
        "###HSV"
      ],
      "metadata": {
        "id": "SFfZqFEqmT61"
      }
    },
    {
      "cell_type": "code",
      "source": [
        "clf10=svm.SVC()"
      ],
      "metadata": {
        "id": "eXns4Mnmj9cg"
      },
      "execution_count": null,
      "outputs": []
    },
    {
      "cell_type": "code",
      "source": [
        "HSV_A4_Set2 = table_A4Set2.drop(['R-ref','G-ref','B-ref','R-Shad','G-Shad','B-Shad','Setting','Ref','Shad','Img'], axis=1)"
      ],
      "metadata": {
        "id": "sicvN6smmT61"
      },
      "execution_count": null,
      "outputs": []
    },
    {
      "cell_type": "code",
      "source": [
        "HSV_A4_concat2 = RGB_A4_concat0.drop(['R-ref','G-ref','B-ref','R-Shad','G-Shad','B-Shad','Setting','Ref','Shad','Img'], axis=1)"
      ],
      "metadata": {
        "id": "iQDhby-dmT61"
      },
      "execution_count": null,
      "outputs": []
    },
    {
      "cell_type": "code",
      "source": [
        "X_test_A4_HSV = np.array(HSV_A4_Set2)"
      ],
      "metadata": {
        "id": "gGPuTgHamT62"
      },
      "execution_count": null,
      "outputs": []
    },
    {
      "cell_type": "code",
      "source": [
        "y_A4_HSV =  table_A4Set2.iloc[:,14:15]"
      ],
      "metadata": {
        "id": "B9OqUKypmT62"
      },
      "execution_count": null,
      "outputs": []
    },
    {
      "cell_type": "code",
      "source": [
        "y_test_A4_HSV = np.array(y_A4_RGB)"
      ],
      "metadata": {
        "id": "z5Jh7WrlmT62"
      },
      "execution_count": null,
      "outputs": []
    },
    {
      "cell_type": "code",
      "source": [
        "X_train_A4_HSV = np.array(HSV_A4_concat2)"
      ],
      "metadata": {
        "id": "ZxnVmXUKmT62"
      },
      "execution_count": null,
      "outputs": []
    },
    {
      "cell_type": "code",
      "source": [
        "y_train_A4HSV = RGB_A4_concat0.iloc[:,14:15]"
      ],
      "metadata": {
        "id": "V6lZEw3jmT62"
      },
      "execution_count": null,
      "outputs": []
    },
    {
      "cell_type": "code",
      "source": [
        "y_train_A4_HSV = np.array(y_train_A4HSV)"
      ],
      "metadata": {
        "id": "xSFHaFsFmT62"
      },
      "execution_count": null,
      "outputs": []
    },
    {
      "cell_type": "code",
      "source": [
        "y_train_A4_HSV.shape = (len(y_train_A4_HSV,))"
      ],
      "metadata": {
        "id": "svVY24EuZkGl"
      },
      "execution_count": null,
      "outputs": []
    },
    {
      "cell_type": "code",
      "source": [
        "clf10.fit(X_train_A4_HSV, y_train_A4_HSV)"
      ],
      "metadata": {
        "colab": {
          "base_uri": "https://localhost:8080/"
        },
        "outputId": "8571c5ea-44fa-4d64-ed07-53e5ec98f0ee",
        "id": "hW7GM7GRmT62"
      },
      "execution_count": null,
      "outputs": [
        {
          "output_type": "execute_result",
          "data": {
            "text/plain": [
              "SVC()"
            ]
          },
          "metadata": {},
          "execution_count": 157
        }
      ]
    },
    {
      "cell_type": "code",
      "source": [
        "y_pred_A4_HSV = clf10.predict(X_test_A4_HSV)"
      ],
      "metadata": {
        "id": "HlQR18cxmT62"
      },
      "execution_count": null,
      "outputs": []
    },
    {
      "cell_type": "code",
      "source": [
        "print(\"Accuracy:\", metrics.accuracy_score(y_test_A4_HSV, y_pred_A4_HSV))"
      ],
      "metadata": {
        "colab": {
          "base_uri": "https://localhost:8080/"
        },
        "outputId": "0de807c2-a22d-4131-c23b-0dd72032eb6d",
        "id": "_ABaescjmT62"
      },
      "execution_count": null,
      "outputs": [
        {
          "output_type": "stream",
          "name": "stdout",
          "text": [
            "Accuracy: 0.0625\n"
          ]
        }
      ]
    },
    {
      "cell_type": "markdown",
      "source": [
        "#BB"
      ],
      "metadata": {
        "id": "_QZmNKGToJfj"
      }
    },
    {
      "cell_type": "markdown",
      "source": [
        "##B1"
      ],
      "metadata": {
        "id": "se58n_Qroh-i"
      }
    },
    {
      "cell_type": "code",
      "source": [
        "table_B1Set1 = pd.read_excel(Set1 , sheet_name='B1_1')\n",
        "\n",
        "table_B1Set2 = pd.read_excel(Set2 , sheet_name='B1_2')\n",
        "\n",
        "table_B1Set3 = pd.read_excel(Set3 , sheet_name='B1_3')\n",
        "\n",
        "table_B1Set4 = pd.read_excel(Set4 , sheet_name='B1_4')\n",
        "\n",
        "table_B1Set6 = pd.read_excel(Set6 , sheet_name='B1_6')"
      ],
      "metadata": {
        "id": "ySX9ISTZoh-o"
      },
      "execution_count": null,
      "outputs": []
    },
    {
      "cell_type": "markdown",
      "source": [
        "###RGB"
      ],
      "metadata": {
        "id": "O_FJgLnHoh-p"
      }
    },
    {
      "cell_type": "code",
      "source": [
        "clf11=svm.SVC()"
      ],
      "metadata": {
        "id": "UrOpZjhrkASD"
      },
      "execution_count": null,
      "outputs": []
    },
    {
      "cell_type": "code",
      "source": [
        "RGB_B1_Set2 = table_B1Set2.drop(['H-ref','S-ref','V-ref','H-Shad','S-Shad','V-Shad','Setting','Ref','Shad','Img'], axis=1)"
      ],
      "metadata": {
        "id": "U6oEjDfooh-p"
      },
      "execution_count": null,
      "outputs": []
    },
    {
      "cell_type": "code",
      "source": [
        "RGB_B1_Set1 = table_B1Set1\n",
        "\n",
        "RGB_B1_Set3 = table_B1Set3\n",
        "\n",
        "RGB_B1_Set4 = table_B1Set4\n",
        "\n",
        "RGB_B1_Set6 = table_B1Set6"
      ],
      "metadata": {
        "id": "Bb4epOesoh-p"
      },
      "execution_count": null,
      "outputs": []
    },
    {
      "cell_type": "code",
      "source": [
        "RGB_B1_concat0 = pd.concat([RGB_B1_Set1,RGB_B1_Set3,RGB_B1_Set4,RGB_B1_Set6])"
      ],
      "metadata": {
        "id": "IexWyYFoh0GX"
      },
      "execution_count": null,
      "outputs": []
    },
    {
      "cell_type": "code",
      "source": [
        "RGB_B1_concat2 = RGB_B1_concat0.drop(['H-ref','S-ref','V-ref','H-Shad','S-Shad','V-Shad','Setting','Ref','Shad','Img'], axis=1)"
      ],
      "metadata": {
        "id": "rFdgV2Gzoh-p"
      },
      "execution_count": null,
      "outputs": []
    },
    {
      "cell_type": "code",
      "source": [
        "X_test_B1_RGB = np.array(RGB_B1_Set2)"
      ],
      "metadata": {
        "id": "w7GJ9Tckoh-p"
      },
      "execution_count": null,
      "outputs": []
    },
    {
      "cell_type": "code",
      "source": [
        "y_B1_RGB =  table_B1Set2.iloc[:,14:15]"
      ],
      "metadata": {
        "id": "R1znsRQWoh-p"
      },
      "execution_count": null,
      "outputs": []
    },
    {
      "cell_type": "code",
      "source": [
        "y_test_B1_RGB = np.array(y_B1_RGB)"
      ],
      "metadata": {
        "id": "jsKRNbKyoh-p"
      },
      "execution_count": null,
      "outputs": []
    },
    {
      "cell_type": "code",
      "source": [
        "X_train_B1_RGB = np.array(RGB_B1_concat2)"
      ],
      "metadata": {
        "id": "Ts-lXxcnoh-q"
      },
      "execution_count": null,
      "outputs": []
    },
    {
      "cell_type": "code",
      "source": [
        "y_train_B1RGB = RGB_B1_concat0.iloc[:,14:15]"
      ],
      "metadata": {
        "id": "W4aZ3hAdoh-q"
      },
      "execution_count": null,
      "outputs": []
    },
    {
      "cell_type": "code",
      "source": [
        "y_train_B1_RGB = np.array(y_train_B1RGB)"
      ],
      "metadata": {
        "id": "ynpJaH-Voh-q"
      },
      "execution_count": null,
      "outputs": []
    },
    {
      "cell_type": "code",
      "source": [
        "y_train_B1_RGB.shape = (len(y_train_B1_RGB,))"
      ],
      "metadata": {
        "id": "gjBDY91JZm5h"
      },
      "execution_count": null,
      "outputs": []
    },
    {
      "cell_type": "code",
      "source": [
        "clf11.fit(X_train_B1_RGB, y_train_B1_RGB)"
      ],
      "metadata": {
        "colab": {
          "base_uri": "https://localhost:8080/"
        },
        "outputId": "275fdb13-f2c9-4623-b69b-1b1b5a7aad4e",
        "id": "ID-UOUcfoh-q"
      },
      "execution_count": null,
      "outputs": [
        {
          "output_type": "execute_result",
          "data": {
            "text/plain": [
              "SVC()"
            ]
          },
          "metadata": {},
          "execution_count": 173
        }
      ]
    },
    {
      "cell_type": "code",
      "source": [
        "y_pred_B1_RGB = clf11.predict(X_test_B1_RGB)"
      ],
      "metadata": {
        "id": "NaLy2DdCoh-q"
      },
      "execution_count": null,
      "outputs": []
    },
    {
      "cell_type": "code",
      "source": [
        "print(\"Accuracy:\", metrics.accuracy_score(y_test_B1_RGB, y_pred_B1_RGB))"
      ],
      "metadata": {
        "colab": {
          "base_uri": "https://localhost:8080/"
        },
        "outputId": "76cede06-04e8-42ef-f10f-1a46f679df72",
        "id": "7ODrXbt8oh-q"
      },
      "execution_count": null,
      "outputs": [
        {
          "output_type": "stream",
          "name": "stdout",
          "text": [
            "Accuracy: 0.13540372670807455\n"
          ]
        }
      ]
    },
    {
      "cell_type": "markdown",
      "source": [
        "###HSV"
      ],
      "metadata": {
        "id": "LqH-Neruoh-q"
      }
    },
    {
      "cell_type": "code",
      "source": [
        "clf12=svm.SVC()"
      ],
      "metadata": {
        "id": "KiY6lW0mkDMe"
      },
      "execution_count": null,
      "outputs": []
    },
    {
      "cell_type": "code",
      "source": [
        "HSV_B1_Set2 = table_B1Set2.drop(['R-ref','G-ref','B-ref','R-Shad','G-Shad','B-Shad','Setting','Ref','Shad','Img'], axis=1)"
      ],
      "metadata": {
        "id": "qRp-RtNMoh-q"
      },
      "execution_count": null,
      "outputs": []
    },
    {
      "cell_type": "code",
      "source": [
        "HSV_B1_concat2 = RGB_B1_concat0.drop(['R-ref','G-ref','B-ref','R-Shad','G-Shad','B-Shad','Setting','Ref','Shad','Img'], axis=1)"
      ],
      "metadata": {
        "id": "k9OpSll3oh-r"
      },
      "execution_count": null,
      "outputs": []
    },
    {
      "cell_type": "code",
      "source": [
        "X_test_B1_HSV = np.array(HSV_B1_Set2)"
      ],
      "metadata": {
        "id": "-CETjUEBoh-r"
      },
      "execution_count": null,
      "outputs": []
    },
    {
      "cell_type": "code",
      "source": [
        "y_B1_HSV =  table_B1Set2.iloc[:,14:15]"
      ],
      "metadata": {
        "id": "PjRR4vyioh-r"
      },
      "execution_count": null,
      "outputs": []
    },
    {
      "cell_type": "code",
      "source": [
        "y_test_B1_HSV = np.array(y_B1_RGB)"
      ],
      "metadata": {
        "id": "y5RnrM4Ioh-r"
      },
      "execution_count": null,
      "outputs": []
    },
    {
      "cell_type": "code",
      "source": [
        "X_train_B1_HSV = np.array(HSV_B1_concat2)"
      ],
      "metadata": {
        "id": "wjcX6HYGoh-r"
      },
      "execution_count": null,
      "outputs": []
    },
    {
      "cell_type": "code",
      "source": [
        "y_train_B1HSV = RGB_B1_concat0.iloc[:,14:15]"
      ],
      "metadata": {
        "id": "dXhgnBj5oh-r"
      },
      "execution_count": null,
      "outputs": []
    },
    {
      "cell_type": "code",
      "source": [
        "y_train_B1_HSV = np.array(y_train_B1HSV)"
      ],
      "metadata": {
        "id": "HmO2ONBmoh-r"
      },
      "execution_count": null,
      "outputs": []
    },
    {
      "cell_type": "code",
      "source": [
        "y_train_B1_HSV.shape = (len(y_train_B1_HSV,))"
      ],
      "metadata": {
        "id": "e9EpcFjXZpSR"
      },
      "execution_count": null,
      "outputs": []
    },
    {
      "cell_type": "code",
      "source": [
        "clf12.fit(X_train_B1_HSV, y_train_B1_HSV)"
      ],
      "metadata": {
        "colab": {
          "base_uri": "https://localhost:8080/"
        },
        "outputId": "6b72d183-4f8e-4080-e6f1-a28b1bc6fb2c",
        "id": "DnC3rvT9oh-r"
      },
      "execution_count": null,
      "outputs": [
        {
          "output_type": "execute_result",
          "data": {
            "text/plain": [
              "SVC()"
            ]
          },
          "metadata": {},
          "execution_count": 186
        }
      ]
    },
    {
      "cell_type": "code",
      "source": [
        "y_pred_B1_HSV = clf12.predict(X_test_B1_HSV)"
      ],
      "metadata": {
        "id": "Cg1T4HSdoh-r"
      },
      "execution_count": null,
      "outputs": []
    },
    {
      "cell_type": "code",
      "source": [
        "print(\"Accuracy:\", metrics.accuracy_score(y_test_B1_HSV, y_pred_B1_HSV))"
      ],
      "metadata": {
        "colab": {
          "base_uri": "https://localhost:8080/"
        },
        "outputId": "d2259d6b-ed27-4ea5-8989-c51d0c93afaf",
        "id": "yMBJje_xoh-r"
      },
      "execution_count": null,
      "outputs": [
        {
          "output_type": "stream",
          "name": "stdout",
          "text": [
            "Accuracy: 0.12422360248447205\n"
          ]
        }
      ]
    },
    {
      "cell_type": "markdown",
      "source": [
        "##B2"
      ],
      "metadata": {
        "id": "9NN_QqeCp0es"
      }
    },
    {
      "cell_type": "code",
      "source": [
        "table_B2Set1 = pd.read_excel(Set1 , sheet_name='B2_1')\n",
        "\n",
        "table_B2Set2 = pd.read_excel(Set2 , sheet_name='B2_2')\n",
        "\n",
        "table_B2Set3 = pd.read_excel(Set3 , sheet_name='B2_3')\n",
        "\n",
        "table_B2Set4 = pd.read_excel(Set4 , sheet_name='B2_4')\n",
        "\n",
        "table_B2Set6 = pd.read_excel(Set6 , sheet_name='B2_6')"
      ],
      "metadata": {
        "id": "doMqM22lp0es"
      },
      "execution_count": null,
      "outputs": []
    },
    {
      "cell_type": "markdown",
      "source": [
        "###RGB"
      ],
      "metadata": {
        "id": "fISYhQjlp0et"
      }
    },
    {
      "cell_type": "code",
      "source": [
        "clf13=svm.SVC()"
      ],
      "metadata": {
        "id": "QK0BkzNJkH-1"
      },
      "execution_count": null,
      "outputs": []
    },
    {
      "cell_type": "code",
      "source": [
        "RGB_B2_Set2 = table_B2Set2.drop(['H-ref','S-ref','V-ref','H-Shad','S-Shad','V-Shad','Setting','Ref','Shad','Img'], axis=1)"
      ],
      "metadata": {
        "id": "iEZFoIqKp0et"
      },
      "execution_count": null,
      "outputs": []
    },
    {
      "cell_type": "code",
      "source": [
        "RGB_B2_Set1 = table_B2Set1\n",
        "\n",
        "RGB_B2_Set3 = table_B2Set3\n",
        "\n",
        "RGB_B2_Set4 = table_B2Set4\n",
        "\n",
        "RGB_B2_Set6 = table_B2Set6"
      ],
      "metadata": {
        "id": "OgUJ9Hj2p0et"
      },
      "execution_count": null,
      "outputs": []
    },
    {
      "cell_type": "code",
      "source": [
        "RGB_B2_concat0 = pd.concat([RGB_B2_Set1,RGB_B2_Set3,RGB_B2_Set4,RGB_B2_Set6])"
      ],
      "metadata": {
        "id": "F62C9WuijEwx"
      },
      "execution_count": null,
      "outputs": []
    },
    {
      "cell_type": "code",
      "source": [
        "RGB_B2_concat2 = RGB_B2_concat0.drop(['H-ref','S-ref','V-ref','H-Shad','S-Shad','V-Shad','Setting','Ref','Shad','Img'], axis=1)"
      ],
      "metadata": {
        "id": "OGZ1uxtip0eu"
      },
      "execution_count": null,
      "outputs": []
    },
    {
      "cell_type": "code",
      "source": [
        "X_test_B2_RGB = np.array(RGB_B2_Set2)"
      ],
      "metadata": {
        "id": "rcc7ihUcp0eu"
      },
      "execution_count": null,
      "outputs": []
    },
    {
      "cell_type": "code",
      "source": [
        "y_B2_RGB =  table_B2Set2.iloc[:,14:15]"
      ],
      "metadata": {
        "id": "xtXVZfgQp0eu"
      },
      "execution_count": null,
      "outputs": []
    },
    {
      "cell_type": "code",
      "source": [
        "y_test_B2_RGB = np.array(y_B2_RGB)"
      ],
      "metadata": {
        "id": "iDYlulqBp0eu"
      },
      "execution_count": null,
      "outputs": []
    },
    {
      "cell_type": "code",
      "source": [
        "X_train_B2_RGB = np.array(RGB_B2_concat2)"
      ],
      "metadata": {
        "id": "Uf4RlAP5p0eu"
      },
      "execution_count": null,
      "outputs": []
    },
    {
      "cell_type": "code",
      "source": [
        "y_train_B2RGB = RGB_B2_concat0.iloc[:,14:15]"
      ],
      "metadata": {
        "id": "-7OL72MSp0ev"
      },
      "execution_count": null,
      "outputs": []
    },
    {
      "cell_type": "code",
      "source": [
        "y_train_B2_RGB = np.array(y_train_B2RGB)"
      ],
      "metadata": {
        "id": "UOscGSpMp0ev"
      },
      "execution_count": null,
      "outputs": []
    },
    {
      "cell_type": "code",
      "source": [
        "y_train_B2_RGB.shape = (len(y_train_B2_RGB,))"
      ],
      "metadata": {
        "id": "P8OiWbUJZsPv"
      },
      "execution_count": null,
      "outputs": []
    },
    {
      "cell_type": "code",
      "source": [
        "clf13.fit(X_train_B2_RGB, y_train_B2_RGB)"
      ],
      "metadata": {
        "colab": {
          "base_uri": "https://localhost:8080/"
        },
        "outputId": "f3c6ecc9-9ccd-46d2-c507-3171a48e6e99",
        "id": "a-aOJ6sop0ev"
      },
      "execution_count": null,
      "outputs": [
        {
          "output_type": "execute_result",
          "data": {
            "text/plain": [
              "SVC()"
            ]
          },
          "metadata": {},
          "execution_count": 202
        }
      ]
    },
    {
      "cell_type": "code",
      "source": [
        "y_pred_B2_RGB = clf13.predict(X_test_B2_RGB)"
      ],
      "metadata": {
        "id": "bp7PF8XDp0ev"
      },
      "execution_count": null,
      "outputs": []
    },
    {
      "cell_type": "code",
      "source": [
        "print(\"Accuracy:\", metrics.accuracy_score(y_test_B2_RGB, y_pred_B2_RGB))"
      ],
      "metadata": {
        "colab": {
          "base_uri": "https://localhost:8080/"
        },
        "outputId": "7f5ad09e-180e-4244-86c6-798c3c46644e",
        "id": "pzqdbkN1p0ev"
      },
      "execution_count": null,
      "outputs": [
        {
          "output_type": "stream",
          "name": "stdout",
          "text": [
            "Accuracy: 0.084472049689441\n"
          ]
        }
      ]
    },
    {
      "cell_type": "markdown",
      "source": [
        "###HSV"
      ],
      "metadata": {
        "id": "lMLcdIT5p0ev"
      }
    },
    {
      "cell_type": "code",
      "source": [
        "clf14=svm.SVC()"
      ],
      "metadata": {
        "id": "vNJMZ4WZkLkX"
      },
      "execution_count": null,
      "outputs": []
    },
    {
      "cell_type": "code",
      "source": [
        "HSV_B2_Set2 = table_B2Set2.drop(['R-ref','G-ref','B-ref','R-Shad','G-Shad','B-Shad','Setting','Ref','Shad','Img'], axis=1)"
      ],
      "metadata": {
        "id": "2gsI1AQ0p0ev"
      },
      "execution_count": null,
      "outputs": []
    },
    {
      "cell_type": "code",
      "source": [
        "HSV_B2_concat2 = RGB_B2_concat0.drop(['R-ref','G-ref','B-ref','R-Shad','G-Shad','B-Shad','Setting','Ref','Shad','Img'], axis=1)"
      ],
      "metadata": {
        "id": "pKW0df3rp0ew"
      },
      "execution_count": null,
      "outputs": []
    },
    {
      "cell_type": "code",
      "source": [
        "X_test_B2_HSV = np.array(HSV_B2_Set2)"
      ],
      "metadata": {
        "id": "QDJKTswfp0ew"
      },
      "execution_count": null,
      "outputs": []
    },
    {
      "cell_type": "code",
      "source": [
        "y_B2_HSV =  table_B2Set2.iloc[:,14:15]"
      ],
      "metadata": {
        "id": "-YAtMSidp0ew"
      },
      "execution_count": null,
      "outputs": []
    },
    {
      "cell_type": "code",
      "source": [
        "y_test_B2_HSV = np.array(y_B2_RGB)"
      ],
      "metadata": {
        "id": "MSf7X-qPp0ew"
      },
      "execution_count": null,
      "outputs": []
    },
    {
      "cell_type": "code",
      "source": [
        "X_train_B2_HSV = np.array(HSV_B2_concat2)"
      ],
      "metadata": {
        "id": "QD_HUbRxp0ew"
      },
      "execution_count": null,
      "outputs": []
    },
    {
      "cell_type": "code",
      "source": [
        "y_train_B2HSV = RGB_B2_concat0.iloc[:,14:15]"
      ],
      "metadata": {
        "id": "2AHHkeYqp0ew"
      },
      "execution_count": null,
      "outputs": []
    },
    {
      "cell_type": "code",
      "source": [
        "y_train_B2_HSV = np.array(y_train_B2HSV)"
      ],
      "metadata": {
        "id": "pWE1iXOjp0ew"
      },
      "execution_count": null,
      "outputs": []
    },
    {
      "cell_type": "code",
      "source": [
        "y_train_B2_HSV.shape = (len(y_train_B2_HSV,))"
      ],
      "metadata": {
        "id": "WSVhhyM5ZvXu"
      },
      "execution_count": null,
      "outputs": []
    },
    {
      "cell_type": "code",
      "source": [
        "clf14.fit(X_train_B2_HSV, y_train_B2_HSV)"
      ],
      "metadata": {
        "colab": {
          "base_uri": "https://localhost:8080/"
        },
        "outputId": "c0f247d9-e21a-45c7-df72-719bee10a9e2",
        "id": "y21hMmlHp0ew"
      },
      "execution_count": null,
      "outputs": [
        {
          "output_type": "execute_result",
          "data": {
            "text/plain": [
              "SVC()"
            ]
          },
          "metadata": {},
          "execution_count": 215
        }
      ]
    },
    {
      "cell_type": "code",
      "source": [
        "y_pred_B2_HSV = clf14.predict(X_test_B2_HSV)"
      ],
      "metadata": {
        "id": "avnCdEk0p0ex"
      },
      "execution_count": null,
      "outputs": []
    },
    {
      "cell_type": "code",
      "source": [
        "print(\"Accuracy:\", metrics.accuracy_score(y_test_B2_HSV, y_pred_B2_HSV))"
      ],
      "metadata": {
        "colab": {
          "base_uri": "https://localhost:8080/"
        },
        "outputId": "d5162940-95ab-4100-b831-fa28f3d93bd8",
        "id": "U6LBXCvgp0ex"
      },
      "execution_count": null,
      "outputs": [
        {
          "output_type": "stream",
          "name": "stdout",
          "text": [
            "Accuracy: 0.11180124223602485\n"
          ]
        }
      ]
    },
    {
      "cell_type": "markdown",
      "source": [
        "##B3"
      ],
      "metadata": {
        "id": "fFNlFx5qsHOQ"
      }
    },
    {
      "cell_type": "code",
      "source": [
        "table_B3Set1 = pd.read_excel(Set1 , sheet_name='B3_1')\n",
        "\n",
        "table_B3Set2 = pd.read_excel(Set2 , sheet_name='B3_2')\n",
        "\n",
        "table_B3Set3 = pd.read_excel(Set3 , sheet_name='B3_3')\n",
        "\n",
        "table_B3Set4 = pd.read_excel(Set4 , sheet_name='B3_4')\n",
        "\n",
        "table_B3Set6 = pd.read_excel(Set6 , sheet_name='B3_6')"
      ],
      "metadata": {
        "id": "R3t_fo44sHOR"
      },
      "execution_count": null,
      "outputs": []
    },
    {
      "cell_type": "markdown",
      "source": [
        "###RGB"
      ],
      "metadata": {
        "id": "4njF_sDtsHOS"
      }
    },
    {
      "cell_type": "code",
      "source": [
        "clf15=svm.SVC()"
      ],
      "metadata": {
        "id": "eY-iXIbKkP9k"
      },
      "execution_count": null,
      "outputs": []
    },
    {
      "cell_type": "code",
      "source": [
        "RGB_B3_Set2 = table_B3Set2.drop(['H-ref','S-ref','V-ref','H-Shad','S-Shad','V-Shad','Setting','Ref','Shad','Img'], axis=1)"
      ],
      "metadata": {
        "id": "yqLZe8yvsHOS"
      },
      "execution_count": null,
      "outputs": []
    },
    {
      "cell_type": "code",
      "source": [
        "RGB_B3_Set1 = table_B3Set1\n",
        "\n",
        "RGB_B3_Set3 = table_B3Set3\n",
        "\n",
        "RGB_B3_Set4 = table_B3Set4\n",
        "\n",
        "RGB_B3_Set6 = table_B3Set6"
      ],
      "metadata": {
        "id": "QO9PuOA4sHOS"
      },
      "execution_count": null,
      "outputs": []
    },
    {
      "cell_type": "code",
      "source": [
        "RGB_B3_concat0 = pd.concat([RGB_B3_Set1,RGB_B3_Set3,RGB_B3_Set4,RGB_B3_Set6])"
      ],
      "metadata": {
        "id": "shPvvfFokKV2"
      },
      "execution_count": null,
      "outputs": []
    },
    {
      "cell_type": "code",
      "source": [
        "RGB_B3_concat2 = RGB_B3_concat0.drop(['H-ref','S-ref','V-ref','H-Shad','S-Shad','V-Shad','Setting','Ref','Shad','Img'], axis=1)"
      ],
      "metadata": {
        "id": "Jb7qyHcKsHOT"
      },
      "execution_count": null,
      "outputs": []
    },
    {
      "cell_type": "code",
      "source": [
        "X_test_B3_RGB = np.array(RGB_B3_Set2)"
      ],
      "metadata": {
        "id": "YDNP71CEsHOT"
      },
      "execution_count": null,
      "outputs": []
    },
    {
      "cell_type": "code",
      "source": [
        "y_B3_RGB =  table_B3Set2.iloc[:,14:15]"
      ],
      "metadata": {
        "id": "zXlAvcTbsHOT"
      },
      "execution_count": null,
      "outputs": []
    },
    {
      "cell_type": "code",
      "source": [
        "y_test_B3_RGB = np.array(y_B3_RGB)"
      ],
      "metadata": {
        "id": "Cp8YOfTIsHOT"
      },
      "execution_count": null,
      "outputs": []
    },
    {
      "cell_type": "code",
      "source": [
        "X_train_B3_RGB = np.array(RGB_B3_concat2)"
      ],
      "metadata": {
        "id": "oiWh59IVsHOT"
      },
      "execution_count": null,
      "outputs": []
    },
    {
      "cell_type": "code",
      "source": [
        "y_train_B3RGB = RGB_B3_concat0.iloc[:,14:15]"
      ],
      "metadata": {
        "id": "59dXexhHsHOT"
      },
      "execution_count": null,
      "outputs": []
    },
    {
      "cell_type": "code",
      "source": [
        "y_train_B3_RGB = np.array(y_train_B3RGB)"
      ],
      "metadata": {
        "id": "QuBse9EysHOT"
      },
      "execution_count": null,
      "outputs": []
    },
    {
      "cell_type": "code",
      "source": [
        "y_train_B3_RGB.shape = (len(y_train_B3_RGB,))"
      ],
      "metadata": {
        "id": "C8KJxZICZyQD"
      },
      "execution_count": null,
      "outputs": []
    },
    {
      "cell_type": "code",
      "source": [
        "clf15.fit(X_train_B3_RGB, y_train_B3_RGB)"
      ],
      "metadata": {
        "colab": {
          "base_uri": "https://localhost:8080/"
        },
        "outputId": "1954cff0-602c-47da-899d-5d60ff781677",
        "id": "dTDGBxEYsHOU"
      },
      "execution_count": null,
      "outputs": [
        {
          "output_type": "execute_result",
          "data": {
            "text/plain": [
              "SVC()"
            ]
          },
          "metadata": {},
          "execution_count": 231
        }
      ]
    },
    {
      "cell_type": "code",
      "source": [
        "y_pred_B3_RGB = clf15.predict(X_test_B3_RGB)"
      ],
      "metadata": {
        "id": "zOyhYKUasHOU"
      },
      "execution_count": null,
      "outputs": []
    },
    {
      "cell_type": "code",
      "source": [
        "print(\"Accuracy:\", metrics.accuracy_score(y_test_B3_RGB, y_pred_B3_RGB))"
      ],
      "metadata": {
        "colab": {
          "base_uri": "https://localhost:8080/"
        },
        "outputId": "ef837048-bfe9-4981-eceb-c2ed942e6c3e",
        "id": "pUWkHRcxsHOU"
      },
      "execution_count": null,
      "outputs": [
        {
          "output_type": "stream",
          "name": "stdout",
          "text": [
            "Accuracy: 0.21490683229813665\n"
          ]
        }
      ]
    },
    {
      "cell_type": "markdown",
      "source": [
        "###HSV"
      ],
      "metadata": {
        "id": "a2v2Cu1qsHOU"
      }
    },
    {
      "cell_type": "code",
      "source": [
        "clf16=svm.SVC()"
      ],
      "metadata": {
        "id": "H1bZEmYckUZj"
      },
      "execution_count": null,
      "outputs": []
    },
    {
      "cell_type": "code",
      "source": [
        "HSV_B3_Set2 = table_B3Set2.drop(['R-ref','G-ref','B-ref','R-Shad','G-Shad','B-Shad','Setting','Ref','Shad','Img'], axis=1)"
      ],
      "metadata": {
        "id": "1T1WMuuWsHOU"
      },
      "execution_count": null,
      "outputs": []
    },
    {
      "cell_type": "code",
      "source": [
        "HSV_B3_concat2 = RGB_B3_concat0.drop(['R-ref','G-ref','B-ref','R-Shad','G-Shad','B-Shad','Setting','Ref','Shad','Img'], axis=1)"
      ],
      "metadata": {
        "id": "aAZsaClWsHOU"
      },
      "execution_count": null,
      "outputs": []
    },
    {
      "cell_type": "code",
      "source": [
        "X_test_B3_HSV = np.array(HSV_B3_Set2)"
      ],
      "metadata": {
        "id": "WAFnYBGhsHOU"
      },
      "execution_count": null,
      "outputs": []
    },
    {
      "cell_type": "code",
      "source": [
        "y_B3_HSV =  table_B3Set2.iloc[:,14:15]"
      ],
      "metadata": {
        "id": "5okDH6bvsHOV"
      },
      "execution_count": null,
      "outputs": []
    },
    {
      "cell_type": "code",
      "source": [
        "y_test_B3_HSV = np.array(y_B3_RGB)"
      ],
      "metadata": {
        "id": "ktvtDkJSsHOV"
      },
      "execution_count": null,
      "outputs": []
    },
    {
      "cell_type": "code",
      "source": [
        "X_train_B3_HSV = np.array(HSV_B3_concat2)"
      ],
      "metadata": {
        "id": "F-dVwJiQsHOV"
      },
      "execution_count": null,
      "outputs": []
    },
    {
      "cell_type": "code",
      "source": [
        "y_train_B3HSV = RGB_B3_concat0.iloc[:,14:15]"
      ],
      "metadata": {
        "id": "FDpg1LPbsHOV"
      },
      "execution_count": null,
      "outputs": []
    },
    {
      "cell_type": "code",
      "source": [
        "y_train_B3_HSV = np.array(y_train_B3HSV)"
      ],
      "metadata": {
        "id": "OmmzdN7OsHOV"
      },
      "execution_count": null,
      "outputs": []
    },
    {
      "cell_type": "code",
      "source": [
        "y_train_B3_HSV.shape = (len(y_train_B3_HSV,))"
      ],
      "metadata": {
        "id": "j8qvHCKmZ1Bw"
      },
      "execution_count": null,
      "outputs": []
    },
    {
      "cell_type": "code",
      "source": [
        "clf16.fit(X_train_B3_HSV, y_train_B3_HSV)"
      ],
      "metadata": {
        "colab": {
          "base_uri": "https://localhost:8080/"
        },
        "outputId": "48ec03e7-0f5d-4090-e756-92687805cb14",
        "id": "m2vhHsuwsHOV"
      },
      "execution_count": null,
      "outputs": [
        {
          "output_type": "execute_result",
          "data": {
            "text/plain": [
              "SVC()"
            ]
          },
          "metadata": {},
          "execution_count": 244
        }
      ]
    },
    {
      "cell_type": "code",
      "source": [
        "y_pred_B3_HSV = clf16.predict(X_test_B3_HSV)"
      ],
      "metadata": {
        "id": "Ky-ZY420sHOV"
      },
      "execution_count": null,
      "outputs": []
    },
    {
      "cell_type": "code",
      "source": [
        "print(\"Accuracy:\", metrics.accuracy_score(y_test_B3_HSV, y_pred_B3_HSV))"
      ],
      "metadata": {
        "colab": {
          "base_uri": "https://localhost:8080/"
        },
        "outputId": "190c5933-d5ff-4aee-ed01-b4d582ef011a",
        "id": "V_h7tdPBsHOV"
      },
      "execution_count": null,
      "outputs": [
        {
          "output_type": "stream",
          "name": "stdout",
          "text": [
            "Accuracy: 0.06335403726708075\n"
          ]
        }
      ]
    },
    {
      "cell_type": "markdown",
      "source": [
        "##B4"
      ],
      "metadata": {
        "id": "Cqdvh1d4tDKz"
      }
    },
    {
      "cell_type": "code",
      "source": [
        "table_B4Set1 = pd.read_excel(Set1 , sheet_name='B4_1')\n",
        "\n",
        "table_B4Set2 = pd.read_excel(Set2 , sheet_name='B4_2')\n",
        "\n",
        "table_B4Set3 = pd.read_excel(Set3 , sheet_name='B4_3')\n",
        "\n",
        "table_B4Set4 = pd.read_excel(Set4 , sheet_name='B4_4')\n",
        "\n",
        "table_B4Set6 = pd.read_excel(Set6 , sheet_name='B4_6')"
      ],
      "metadata": {
        "id": "MMB7W5dmtDK0"
      },
      "execution_count": null,
      "outputs": []
    },
    {
      "cell_type": "markdown",
      "source": [
        "###RGB"
      ],
      "metadata": {
        "id": "yhLLze51tDK0"
      }
    },
    {
      "cell_type": "code",
      "source": [
        "clf17=svm.SVC()"
      ],
      "metadata": {
        "id": "o_GgoFWukX5n"
      },
      "execution_count": null,
      "outputs": []
    },
    {
      "cell_type": "code",
      "source": [
        "RGB_B4_Set2 = table_B4Set2.drop(['H-ref','S-ref','V-ref','H-Shad','S-Shad','V-Shad','Setting','Ref','Shad','Img'], axis=1)"
      ],
      "metadata": {
        "id": "vRObWfxTtDK0"
      },
      "execution_count": null,
      "outputs": []
    },
    {
      "cell_type": "code",
      "source": [
        "RGB_B4_Set1 = table_B4Set1\n",
        "\n",
        "RGB_B4_Set3 = table_B4Set3\n",
        "\n",
        "RGB_B4_Set4 = table_B4Set4\n",
        "\n",
        "RGB_B4_Set6 = table_B4Set6"
      ],
      "metadata": {
        "id": "qa5YSX8WtDK1"
      },
      "execution_count": null,
      "outputs": []
    },
    {
      "cell_type": "code",
      "source": [
        "RGB_B4_concat0 = pd.concat([RGB_B4_Set1,RGB_B4_Set3,RGB_B4_Set4,RGB_B4_Set6])"
      ],
      "metadata": {
        "id": "Bf6RG3akmJb_"
      },
      "execution_count": null,
      "outputs": []
    },
    {
      "cell_type": "code",
      "source": [
        "RGB_B4_concat2 = RGB_B4_concat0.drop(['H-ref','S-ref','V-ref','H-Shad','S-Shad','V-Shad','Setting','Ref','Shad','Img'], axis=1)"
      ],
      "metadata": {
        "id": "jxqKeWgKtDK1"
      },
      "execution_count": null,
      "outputs": []
    },
    {
      "cell_type": "code",
      "source": [
        "X_test_B4_RGB = np.array(RGB_B4_Set2)"
      ],
      "metadata": {
        "id": "580vZZA_tDK2"
      },
      "execution_count": null,
      "outputs": []
    },
    {
      "cell_type": "code",
      "source": [
        "y_B4_RGB =  table_B4Set2.iloc[:,14:15]"
      ],
      "metadata": {
        "id": "_Hdc8Yi_tDK2"
      },
      "execution_count": null,
      "outputs": []
    },
    {
      "cell_type": "code",
      "source": [
        "y_test_B4_RGB = np.array(y_B4_RGB)"
      ],
      "metadata": {
        "id": "wD0UYgdPtDK2"
      },
      "execution_count": null,
      "outputs": []
    },
    {
      "cell_type": "code",
      "source": [
        "X_train_B4_RGB = np.array(RGB_B4_concat2)"
      ],
      "metadata": {
        "id": "ozTac6WstDK2"
      },
      "execution_count": null,
      "outputs": []
    },
    {
      "cell_type": "code",
      "source": [
        "y_train_B4RGB = RGB_B4_concat0.iloc[:,14:15]"
      ],
      "metadata": {
        "id": "HobHEx5ctDK2"
      },
      "execution_count": null,
      "outputs": []
    },
    {
      "cell_type": "code",
      "source": [
        "y_train_B4_RGB = np.array(y_train_B4RGB)"
      ],
      "metadata": {
        "id": "XZ0quwGvtDK2"
      },
      "execution_count": null,
      "outputs": []
    },
    {
      "cell_type": "code",
      "source": [
        "y_train_B4_RGB.shape = (len(y_train_B4_RGB,))"
      ],
      "metadata": {
        "id": "XupQXuHSZ3VS"
      },
      "execution_count": null,
      "outputs": []
    },
    {
      "cell_type": "code",
      "source": [
        "clf17.fit(X_train_B4_RGB, y_train_B4_RGB)"
      ],
      "metadata": {
        "colab": {
          "base_uri": "https://localhost:8080/"
        },
        "outputId": "4be6cd82-213a-4a83-f3fe-0277f89f3776",
        "id": "T_x28SvCtDK2"
      },
      "execution_count": null,
      "outputs": [
        {
          "output_type": "execute_result",
          "data": {
            "text/plain": [
              "SVC()"
            ]
          },
          "metadata": {},
          "execution_count": 260
        }
      ]
    },
    {
      "cell_type": "code",
      "source": [
        "y_pred_B4_RGB = clf17.predict(X_test_B4_RGB)"
      ],
      "metadata": {
        "id": "hzIH7DSLtDK2"
      },
      "execution_count": null,
      "outputs": []
    },
    {
      "cell_type": "code",
      "source": [
        "print(\"Accuracy:\", metrics.accuracy_score(y_test_B4_RGB, y_pred_B4_RGB))"
      ],
      "metadata": {
        "colab": {
          "base_uri": "https://localhost:8080/"
        },
        "outputId": "fd04ad3a-f163-4488-c586-0d5488baa22b",
        "id": "GEEbdpHWtDK2"
      },
      "execution_count": null,
      "outputs": [
        {
          "output_type": "stream",
          "name": "stdout",
          "text": [
            "Accuracy: 0.08322981366459627\n"
          ]
        }
      ]
    },
    {
      "cell_type": "markdown",
      "source": [
        "###HSV"
      ],
      "metadata": {
        "id": "0uU72QTItDK3"
      }
    },
    {
      "cell_type": "code",
      "source": [
        "clf18=svm.SVC()"
      ],
      "metadata": {
        "id": "nWF3QUf6kbQI"
      },
      "execution_count": null,
      "outputs": []
    },
    {
      "cell_type": "code",
      "source": [
        "HSV_B4_Set2 = table_B4Set2.drop(['R-ref','G-ref','B-ref','R-Shad','G-Shad','B-Shad','Setting','Ref','Shad','Img'], axis=1)"
      ],
      "metadata": {
        "id": "UmeCk7BEtDK3"
      },
      "execution_count": null,
      "outputs": []
    },
    {
      "cell_type": "code",
      "source": [
        "HSV_B4_concat2 = RGB_B4_concat0.drop(['R-ref','G-ref','B-ref','R-Shad','G-Shad','B-Shad','Setting','Ref','Shad','Img'], axis=1)"
      ],
      "metadata": {
        "id": "ZxnIQOSvtDK3"
      },
      "execution_count": null,
      "outputs": []
    },
    {
      "cell_type": "code",
      "source": [
        "X_test_B4_HSV = np.array(HSV_B4_Set2)"
      ],
      "metadata": {
        "id": "aSLDyIKBtDK3"
      },
      "execution_count": null,
      "outputs": []
    },
    {
      "cell_type": "code",
      "source": [
        "y_B4_HSV =  table_B4Set2.iloc[:,14:15]"
      ],
      "metadata": {
        "id": "FTlJFVSLtDK3"
      },
      "execution_count": null,
      "outputs": []
    },
    {
      "cell_type": "code",
      "source": [
        "y_test_B4_HSV = np.array(y_B4_RGB)"
      ],
      "metadata": {
        "id": "ZEV2tUCttDK3"
      },
      "execution_count": null,
      "outputs": []
    },
    {
      "cell_type": "code",
      "source": [
        "X_train_B4_HSV = np.array(HSV_B4_concat2)"
      ],
      "metadata": {
        "id": "9JqQWNVCtDK3"
      },
      "execution_count": null,
      "outputs": []
    },
    {
      "cell_type": "code",
      "source": [
        "y_train_B4HSV = RGB_B4_concat0.iloc[:,14:15]"
      ],
      "metadata": {
        "id": "bpU-fvwMtDK3"
      },
      "execution_count": null,
      "outputs": []
    },
    {
      "cell_type": "code",
      "source": [
        "y_train_B4_HSV = np.array(y_train_B4HSV)"
      ],
      "metadata": {
        "id": "F_wqNTDBtDK4"
      },
      "execution_count": null,
      "outputs": []
    },
    {
      "cell_type": "code",
      "source": [
        "y_train_B4_HSV.shape = (len(y_train_B4_HSV,))"
      ],
      "metadata": {
        "id": "nONmk6bSZ6Ee"
      },
      "execution_count": null,
      "outputs": []
    },
    {
      "cell_type": "code",
      "source": [
        "clf18.fit(X_train_B4_HSV, y_train_B4_HSV)"
      ],
      "metadata": {
        "colab": {
          "base_uri": "https://localhost:8080/"
        },
        "outputId": "294dde78-40a0-46c3-9bda-e20fc7b55458",
        "id": "T6Pk-fwVtDK4"
      },
      "execution_count": null,
      "outputs": [
        {
          "output_type": "execute_result",
          "data": {
            "text/plain": [
              "SVC()"
            ]
          },
          "metadata": {},
          "execution_count": 273
        }
      ]
    },
    {
      "cell_type": "code",
      "source": [
        "y_pred_B4_HSV = clf18.predict(X_test_B4_HSV)"
      ],
      "metadata": {
        "id": "J1JaTO8ztDK4"
      },
      "execution_count": null,
      "outputs": []
    },
    {
      "cell_type": "code",
      "source": [
        "print(\"Accuracy:\", metrics.accuracy_score(y_test_B4_HSV, y_pred_B4_HSV))"
      ],
      "metadata": {
        "colab": {
          "base_uri": "https://localhost:8080/"
        },
        "outputId": "490c01db-c0d3-43be-a037-982a4a974923",
        "id": "ciaeVTHrtDK4"
      },
      "execution_count": null,
      "outputs": [
        {
          "output_type": "stream",
          "name": "stdout",
          "text": [
            "Accuracy: 0.062111801242236024\n"
          ]
        }
      ]
    },
    {
      "cell_type": "markdown",
      "source": [
        "#CC"
      ],
      "metadata": {
        "id": "YmEFu_3tt92a"
      }
    },
    {
      "cell_type": "markdown",
      "source": [
        "##C1"
      ],
      "metadata": {
        "id": "VmnxrOB3uK8S"
      }
    },
    {
      "cell_type": "code",
      "source": [
        "table_C1Set1 = pd.read_excel(Set1 , sheet_name='C1_1')\n",
        "\n",
        "table_C1Set2 = pd.read_excel(Set2 , sheet_name='C1_2')\n",
        "\n",
        "table_C1Set3 = pd.read_excel(Set3 , sheet_name='C1_3')\n",
        "\n",
        "table_C1Set4 = pd.read_excel(Set4 , sheet_name='C1_4')\n",
        "\n",
        "table_C1Set6 = pd.read_excel(Set6 , sheet_name='C1_6')"
      ],
      "metadata": {
        "id": "DwwAi7JBuK8T"
      },
      "execution_count": null,
      "outputs": []
    },
    {
      "cell_type": "markdown",
      "source": [
        "###RGB"
      ],
      "metadata": {
        "id": "5keaf1tduK8T"
      }
    },
    {
      "cell_type": "code",
      "source": [
        "clf19=svm.SVC()"
      ],
      "metadata": {
        "id": "q0iyRzFJkgqq"
      },
      "execution_count": null,
      "outputs": []
    },
    {
      "cell_type": "code",
      "source": [
        "RGB_C1_Set2 = table_C1Set2.drop(['H-ref','S-ref','V-ref','H-Shad','S-Shad','V-Shad','Setting','Ref','Shad','Img'], axis=1)"
      ],
      "metadata": {
        "id": "LVBCr4rsuK8U"
      },
      "execution_count": null,
      "outputs": []
    },
    {
      "cell_type": "code",
      "source": [
        "RGB_C1_Set1 = table_C1Set1\n",
        "\n",
        "RGB_C1_Set3 = table_C1Set3\n",
        "\n",
        "RGB_C1_Set4 = table_C1Set4\n",
        "\n",
        "RGB_C1_Set6 = table_C1Set6"
      ],
      "metadata": {
        "id": "SGDR0saNuK8U"
      },
      "execution_count": null,
      "outputs": []
    },
    {
      "cell_type": "code",
      "source": [
        "RGB_C1_concat0 = pd.concat([RGB_C1_Set1,RGB_C1_Set3,RGB_C1_Set4,RGB_C1_Set6])"
      ],
      "metadata": {
        "id": "-zjMZ6u1nSIR"
      },
      "execution_count": null,
      "outputs": []
    },
    {
      "cell_type": "code",
      "source": [
        "RGB_C1_concat2 = RGB_B1_concat0.drop(['H-ref','S-ref','V-ref','H-Shad','S-Shad','V-Shad','Setting','Ref','Shad','Img'], axis=1)"
      ],
      "metadata": {
        "id": "2rTrCnwXuK8U"
      },
      "execution_count": null,
      "outputs": []
    },
    {
      "cell_type": "code",
      "source": [
        "X_test_C1_RGB = np.array(RGB_C1_Set2)"
      ],
      "metadata": {
        "id": "VEFT7a3ZuK8U"
      },
      "execution_count": null,
      "outputs": []
    },
    {
      "cell_type": "code",
      "source": [
        "y_C1_RGB =  table_C1Set2.iloc[:,14:15]"
      ],
      "metadata": {
        "id": "1_rvYWFCuK8V"
      },
      "execution_count": null,
      "outputs": []
    },
    {
      "cell_type": "code",
      "source": [
        "y_test_C1_RGB = np.array(y_C1_RGB)"
      ],
      "metadata": {
        "id": "5iWJSETLuK8V"
      },
      "execution_count": null,
      "outputs": []
    },
    {
      "cell_type": "code",
      "source": [
        "X_train_C1_RGB = np.array(RGB_C1_concat2)"
      ],
      "metadata": {
        "id": "vdIUmKq1uK8V"
      },
      "execution_count": null,
      "outputs": []
    },
    {
      "cell_type": "code",
      "source": [
        "y_train_C1RGB = RGB_C1_concat0.iloc[:,14:15]"
      ],
      "metadata": {
        "id": "k1-QsydzuK8V"
      },
      "execution_count": null,
      "outputs": []
    },
    {
      "cell_type": "code",
      "source": [
        "y_train_C1_RGB = np.array(y_train_C1RGB)"
      ],
      "metadata": {
        "id": "SEOH7fl2uK8V"
      },
      "execution_count": null,
      "outputs": []
    },
    {
      "cell_type": "code",
      "source": [
        "y_train_C1_RGB.shape = (len(y_train_C1_RGB,))"
      ],
      "metadata": {
        "id": "KZqOrErUZ9LK"
      },
      "execution_count": null,
      "outputs": []
    },
    {
      "cell_type": "code",
      "source": [
        "clf19.fit(X_train_C1_RGB, y_train_C1_RGB)"
      ],
      "metadata": {
        "colab": {
          "base_uri": "https://localhost:8080/"
        },
        "outputId": "08c2ef3a-2a2a-45bf-ef5e-38574ac3025e",
        "id": "wDmlG34luK8V"
      },
      "execution_count": null,
      "outputs": [
        {
          "output_type": "execute_result",
          "data": {
            "text/plain": [
              "SVC()"
            ]
          },
          "metadata": {},
          "execution_count": 289
        }
      ]
    },
    {
      "cell_type": "code",
      "source": [
        "y_pred_C1_RGB = clf19.predict(X_test_C1_RGB)"
      ],
      "metadata": {
        "id": "cul6CJoGuK8V"
      },
      "execution_count": null,
      "outputs": []
    },
    {
      "cell_type": "code",
      "source": [
        "print(\"Accuracy:\", metrics.accuracy_score(y_test_C1_RGB, y_pred_C1_RGB))"
      ],
      "metadata": {
        "colab": {
          "base_uri": "https://localhost:8080/"
        },
        "outputId": "766c2d8a-9f40-43bb-981a-f1824210d107",
        "id": "JgIocA5RuK8V"
      },
      "execution_count": null,
      "outputs": [
        {
          "output_type": "stream",
          "name": "stdout",
          "text": [
            "Accuracy: 0.2186335403726708\n"
          ]
        }
      ]
    },
    {
      "cell_type": "markdown",
      "source": [
        "###HSV"
      ],
      "metadata": {
        "id": "jqD4u3nkuK8W"
      }
    },
    {
      "cell_type": "code",
      "source": [
        "clf20=svm.SVC()"
      ],
      "metadata": {
        "id": "1asqINBakj53"
      },
      "execution_count": null,
      "outputs": []
    },
    {
      "cell_type": "code",
      "source": [
        "HSV_C1_Set2 = table_C1Set2.drop(['R-ref','G-ref','B-ref','R-Shad','G-Shad','B-Shad','Setting','Ref','Shad','Img'], axis=1)"
      ],
      "metadata": {
        "id": "PPcgRIdPuK8W"
      },
      "execution_count": null,
      "outputs": []
    },
    {
      "cell_type": "code",
      "source": [
        "HSV_C1_concat2 = RGB_C1_concat0.drop(['R-ref','G-ref','B-ref','R-Shad','G-Shad','B-Shad','Setting','Ref','Shad','Img'], axis=1)"
      ],
      "metadata": {
        "id": "Kuhm-IuSuK8W"
      },
      "execution_count": null,
      "outputs": []
    },
    {
      "cell_type": "code",
      "source": [
        "X_test_C1_HSV = np.array(HSV_C1_Set2)"
      ],
      "metadata": {
        "id": "jaMGZ-BPuK8W"
      },
      "execution_count": null,
      "outputs": []
    },
    {
      "cell_type": "code",
      "source": [
        "y_C1_HSV =  table_C1Set2.iloc[:,14:15]"
      ],
      "metadata": {
        "id": "O6w6ncjuuK8W"
      },
      "execution_count": null,
      "outputs": []
    },
    {
      "cell_type": "code",
      "source": [
        "y_test_C1_HSV = np.array(y_C1_RGB)"
      ],
      "metadata": {
        "id": "7aCdQO7NuK8W"
      },
      "execution_count": null,
      "outputs": []
    },
    {
      "cell_type": "code",
      "source": [
        "X_train_C1_HSV = np.array(HSV_C1_concat2)"
      ],
      "metadata": {
        "id": "a6Wxd-7suK8W"
      },
      "execution_count": null,
      "outputs": []
    },
    {
      "cell_type": "code",
      "source": [
        "y_train_C1HSV = RGB_C1_concat0.iloc[:,14:15]"
      ],
      "metadata": {
        "id": "BL1mCT4muK8W"
      },
      "execution_count": null,
      "outputs": []
    },
    {
      "cell_type": "code",
      "source": [
        "y_train_C1_HSV = np.array(y_train_C1HSV)"
      ],
      "metadata": {
        "id": "ze6vigz-uK8W"
      },
      "execution_count": null,
      "outputs": []
    },
    {
      "cell_type": "code",
      "source": [
        "y_train_C1_HSV.shape = (len(y_train_C1_HSV,))"
      ],
      "metadata": {
        "id": "9NOYRfh9aAPj"
      },
      "execution_count": null,
      "outputs": []
    },
    {
      "cell_type": "code",
      "source": [
        "clf20.fit(X_train_C1_HSV, y_train_C1_HSV)"
      ],
      "metadata": {
        "colab": {
          "base_uri": "https://localhost:8080/"
        },
        "outputId": "c4c645f3-c861-497d-ffea-39e794d41269",
        "id": "neDKUdhCuK8X"
      },
      "execution_count": null,
      "outputs": [
        {
          "output_type": "execute_result",
          "data": {
            "text/plain": [
              "SVC()"
            ]
          },
          "metadata": {},
          "execution_count": 302
        }
      ]
    },
    {
      "cell_type": "code",
      "source": [
        "y_pred_C1_HSV = clf20.predict(X_test_C1_HSV)"
      ],
      "metadata": {
        "id": "sXavKcRZuK8X"
      },
      "execution_count": null,
      "outputs": []
    },
    {
      "cell_type": "code",
      "source": [
        "print(\"Accuracy:\", metrics.accuracy_score(y_test_C1_HSV, y_pred_C1_HSV))"
      ],
      "metadata": {
        "colab": {
          "base_uri": "https://localhost:8080/"
        },
        "outputId": "12a25dcd-e768-4b83-a6b0-8fd454cdbe9e",
        "id": "lV79DUGnuK8X"
      },
      "execution_count": null,
      "outputs": [
        {
          "output_type": "stream",
          "name": "stdout",
          "text": [
            "Accuracy: 0.062111801242236024\n"
          ]
        }
      ]
    },
    {
      "cell_type": "markdown",
      "source": [
        "##C2"
      ],
      "metadata": {
        "id": "YNY_T-YOuK8X"
      }
    },
    {
      "cell_type": "code",
      "source": [
        "table_C2Set1 = pd.read_excel(Set1 , sheet_name='C2_1')\n",
        "\n",
        "table_C2Set2 = pd.read_excel(Set2 , sheet_name='C2_2')\n",
        "\n",
        "table_C2Set3 = pd.read_excel(Set3 , sheet_name='C2_3')\n",
        "\n",
        "table_C2Set4 = pd.read_excel(Set4 , sheet_name='C2_4')\n",
        "\n",
        "table_C2Set6 = pd.read_excel(Set6 , sheet_name='C2_6')"
      ],
      "metadata": {
        "id": "WMEieFRYuK8X"
      },
      "execution_count": null,
      "outputs": []
    },
    {
      "cell_type": "markdown",
      "source": [
        "###RGB"
      ],
      "metadata": {
        "id": "14z-y0z0uK8Y"
      }
    },
    {
      "cell_type": "code",
      "source": [
        "clf21=svm.SVC()"
      ],
      "metadata": {
        "id": "0zG3r5r5kq61"
      },
      "execution_count": null,
      "outputs": []
    },
    {
      "cell_type": "code",
      "source": [
        "RGB_C2_Set2 = table_C2Set2.drop(['H-ref','S-ref','V-ref','H-Shad','S-Shad','V-Shad','Setting','Ref','Shad','Img'], axis=1)"
      ],
      "metadata": {
        "id": "N74ITrYGuK8Y"
      },
      "execution_count": null,
      "outputs": []
    },
    {
      "cell_type": "code",
      "source": [
        "RGB_C2_Set1 = table_C2Set1\n",
        "\n",
        "RGB_C2_Set3 = table_C2Set3\n",
        "\n",
        "RGB_C2_Set4 = table_C2Set4\n",
        "\n",
        "RGB_C2_Set6 = table_C2Set6"
      ],
      "metadata": {
        "id": "FvgfuG53uK8Y"
      },
      "execution_count": null,
      "outputs": []
    },
    {
      "cell_type": "code",
      "source": [
        "RGB_C2_concat0 = pd.concat([RGB_C2_Set1,RGB_C2_Set3,RGB_C2_Set4,RGB_C2_Set6])"
      ],
      "metadata": {
        "id": "buvgSRoFg5Da"
      },
      "execution_count": null,
      "outputs": []
    },
    {
      "cell_type": "code",
      "source": [
        "RGB_C2_concat2 = RGB_C2_concat0.drop(['H-ref','S-ref','V-ref','H-Shad','S-Shad','V-Shad','Setting','Ref','Shad','Img'], axis=1)"
      ],
      "metadata": {
        "id": "5QW32NZ1uK8Y"
      },
      "execution_count": null,
      "outputs": []
    },
    {
      "cell_type": "code",
      "source": [
        "X_test_C2_RGB = np.array(RGB_C2_Set2)"
      ],
      "metadata": {
        "id": "y3HWzyi7uK8Y"
      },
      "execution_count": null,
      "outputs": []
    },
    {
      "cell_type": "code",
      "source": [
        "y_C2_RGB =  table_C2Set2.iloc[:,14:15]"
      ],
      "metadata": {
        "id": "pvwyv_UjuK8Y"
      },
      "execution_count": null,
      "outputs": []
    },
    {
      "cell_type": "code",
      "source": [
        "y_test_C2_RGB = np.array(y_B2_RGB)"
      ],
      "metadata": {
        "id": "7AqmxULnuK8Y"
      },
      "execution_count": null,
      "outputs": []
    },
    {
      "cell_type": "code",
      "source": [
        "X_train_C2_RGB = np.array(RGB_C2_concat2)"
      ],
      "metadata": {
        "id": "kbaCmDQouK8Z"
      },
      "execution_count": null,
      "outputs": []
    },
    {
      "cell_type": "code",
      "source": [
        "y_train_C2RGB = RGB_C2_concat0.iloc[:,14:15]"
      ],
      "metadata": {
        "id": "QFr7Q2mruK8Z"
      },
      "execution_count": null,
      "outputs": []
    },
    {
      "cell_type": "code",
      "source": [
        "y_train_C2_RGB = np.array(y_train_C2RGB)"
      ],
      "metadata": {
        "id": "QM4liKsyuK8Z"
      },
      "execution_count": null,
      "outputs": []
    },
    {
      "cell_type": "code",
      "source": [
        "y_train_C2_RGB.shape = (len(y_train_C2_RGB,))"
      ],
      "metadata": {
        "id": "8Xn_eu8waC94"
      },
      "execution_count": null,
      "outputs": []
    },
    {
      "cell_type": "code",
      "source": [
        "clf21.fit(X_train_C2_RGB, y_train_C2_RGB)"
      ],
      "metadata": {
        "colab": {
          "base_uri": "https://localhost:8080/"
        },
        "outputId": "9e4129bf-b4f8-4800-9bdf-2bd56055e7dc",
        "id": "SCZ4Kb9yuK8Z"
      },
      "execution_count": null,
      "outputs": [
        {
          "output_type": "execute_result",
          "data": {
            "text/plain": [
              "SVC()"
            ]
          },
          "metadata": {},
          "execution_count": 318
        }
      ]
    },
    {
      "cell_type": "code",
      "source": [
        "y_pred_C2_RGB = clf21.predict(X_test_C2_RGB)"
      ],
      "metadata": {
        "id": "8LGlyJrBuK8Z"
      },
      "execution_count": null,
      "outputs": []
    },
    {
      "cell_type": "code",
      "source": [
        "print(\"Accuracy:\", metrics.accuracy_score(y_test_C2_RGB, y_pred_C2_RGB))"
      ],
      "metadata": {
        "colab": {
          "base_uri": "https://localhost:8080/"
        },
        "outputId": "ba7fe1f4-a3bb-47a1-f44e-397a071e8ad6",
        "id": "O5IintGtuK8Z"
      },
      "execution_count": null,
      "outputs": [
        {
          "output_type": "stream",
          "name": "stdout",
          "text": [
            "Accuracy: 0.0968944099378882\n"
          ]
        }
      ]
    },
    {
      "cell_type": "markdown",
      "source": [
        "###HSV"
      ],
      "metadata": {
        "id": "m9ZymQUWuK8Z"
      }
    },
    {
      "cell_type": "code",
      "source": [
        "clf22=svm.SVC()"
      ],
      "metadata": {
        "id": "Z1b61ok1kt6k"
      },
      "execution_count": null,
      "outputs": []
    },
    {
      "cell_type": "code",
      "source": [
        "HSV_C2_Set2 = table_C2Set2.drop(['R-ref','G-ref','B-ref','R-Shad','G-Shad','B-Shad','Setting','Ref','Shad','Img'], axis=1)"
      ],
      "metadata": {
        "id": "q5xlUfKquK8Z"
      },
      "execution_count": null,
      "outputs": []
    },
    {
      "cell_type": "code",
      "source": [
        "HSV_C2_concat2 = RGB_C2_concat0.drop(['R-ref','G-ref','B-ref','R-Shad','G-Shad','B-Shad','Setting','Ref','Shad','Img'], axis=1)"
      ],
      "metadata": {
        "id": "s-viJk-8uK8Z"
      },
      "execution_count": null,
      "outputs": []
    },
    {
      "cell_type": "code",
      "source": [
        "X_test_C2_HSV = np.array(HSV_C2_Set2)"
      ],
      "metadata": {
        "id": "3bWxFDmTuK8a"
      },
      "execution_count": null,
      "outputs": []
    },
    {
      "cell_type": "code",
      "source": [
        "y_C2_HSV =  table_C2Set2.iloc[:,14:15]"
      ],
      "metadata": {
        "id": "lpnovtd2uK8a"
      },
      "execution_count": null,
      "outputs": []
    },
    {
      "cell_type": "code",
      "source": [
        "y_test_C2_HSV = np.array(y_C2_RGB)"
      ],
      "metadata": {
        "id": "6GQ5gtAHuK8a"
      },
      "execution_count": null,
      "outputs": []
    },
    {
      "cell_type": "code",
      "source": [
        "X_train_C2_HSV = np.array(HSV_C2_concat2)"
      ],
      "metadata": {
        "id": "PGXplz_NuK8a"
      },
      "execution_count": null,
      "outputs": []
    },
    {
      "cell_type": "code",
      "source": [
        "y_train_C2HSV = RGB_C2_concat0.iloc[:,14:15]"
      ],
      "metadata": {
        "id": "vOmolRtnuK8a"
      },
      "execution_count": null,
      "outputs": []
    },
    {
      "cell_type": "code",
      "source": [
        "y_train_C2_HSV = np.array(y_train_C2HSV)"
      ],
      "metadata": {
        "id": "DgpIHz4cuK8a"
      },
      "execution_count": null,
      "outputs": []
    },
    {
      "cell_type": "code",
      "source": [
        "y_train_C2_HSV.shape = (len(y_train_C2_HSV,))"
      ],
      "metadata": {
        "id": "Pd2D_dtMaF6U"
      },
      "execution_count": null,
      "outputs": []
    },
    {
      "cell_type": "code",
      "source": [
        "clf22.fit(X_train_C2_HSV, y_train_C2_HSV)"
      ],
      "metadata": {
        "colab": {
          "base_uri": "https://localhost:8080/"
        },
        "outputId": "e2ccb386-b4d3-4d64-9d4e-1b88a09dbf53",
        "id": "2DKI59WsuK8a"
      },
      "execution_count": null,
      "outputs": [
        {
          "output_type": "execute_result",
          "data": {
            "text/plain": [
              "SVC()"
            ]
          },
          "metadata": {},
          "execution_count": 331
        }
      ]
    },
    {
      "cell_type": "code",
      "source": [
        "y_pred_C2_HSV = clf22.predict(X_test_C2_HSV)"
      ],
      "metadata": {
        "id": "hwrwDjh7uK8a"
      },
      "execution_count": null,
      "outputs": []
    },
    {
      "cell_type": "code",
      "source": [
        "print(\"Accuracy:\", metrics.accuracy_score(y_test_C2_HSV, y_pred_C2_HSV))"
      ],
      "metadata": {
        "colab": {
          "base_uri": "https://localhost:8080/"
        },
        "outputId": "eeb372df-4069-47d9-d382-8cd512221995",
        "id": "HyFHjL4fuK8a"
      },
      "execution_count": null,
      "outputs": [
        {
          "output_type": "stream",
          "name": "stdout",
          "text": [
            "Accuracy: 0.11180124223602485\n"
          ]
        }
      ]
    },
    {
      "cell_type": "markdown",
      "source": [
        "##C3"
      ],
      "metadata": {
        "id": "rK-ZJLNyuK8b"
      }
    },
    {
      "cell_type": "code",
      "source": [
        "table_C3Set1 = pd.read_excel(Set1 , sheet_name='C3_1')\n",
        "\n",
        "table_C3Set2 = pd.read_excel(Set2 , sheet_name='C3_2')\n",
        "\n",
        "table_C3Set3 = pd.read_excel(Set3 , sheet_name='C3_3')\n",
        "\n",
        "table_C3Set4 = pd.read_excel(Set4 , sheet_name='C3_4')\n",
        "\n",
        "table_C3Set6 = pd.read_excel(Set6 , sheet_name='C3_6')"
      ],
      "metadata": {
        "id": "q-_w5TrjuK8b"
      },
      "execution_count": null,
      "outputs": []
    },
    {
      "cell_type": "markdown",
      "source": [
        "###RGB"
      ],
      "metadata": {
        "id": "livhC8UguK8b"
      }
    },
    {
      "cell_type": "code",
      "source": [
        "clf23=svm.SVC()"
      ],
      "metadata": {
        "id": "kT5WRZaDkw-h"
      },
      "execution_count": null,
      "outputs": []
    },
    {
      "cell_type": "code",
      "source": [
        "RGB_C3_Set2 = table_C3Set2.drop(['H-ref','S-ref','V-ref','H-Shad','S-Shad','V-Shad','Setting','Ref','Shad','Img'], axis=1)"
      ],
      "metadata": {
        "id": "ISqB5DK5uK8b"
      },
      "execution_count": null,
      "outputs": []
    },
    {
      "cell_type": "code",
      "source": [
        "RGB_C3_Set1 = table_C3Set1\n",
        "\n",
        "RGB_C3_Set3 = table_C3Set3\n",
        "\n",
        "RGB_C3_Set4 = table_C3Set4\n",
        "\n",
        "RGB_C3_Set6 = table_C3Set6"
      ],
      "metadata": {
        "id": "94holi5juK8b"
      },
      "execution_count": null,
      "outputs": []
    },
    {
      "cell_type": "code",
      "source": [
        "RGB_C3_concat0 = pd.concat([RGB_C3_Set1,RGB_C3_Set3,RGB_C3_Set4,RGB_C3_Set6])"
      ],
      "metadata": {
        "id": "PTcRIYkhhKr6"
      },
      "execution_count": null,
      "outputs": []
    },
    {
      "cell_type": "code",
      "source": [
        "RGB_C3_concat2 = RGB_C3_concat0.drop(['H-ref','S-ref','V-ref','H-Shad','S-Shad','V-Shad','Setting','Ref','Shad','Img'], axis=1)"
      ],
      "metadata": {
        "id": "APEofv4juK8c"
      },
      "execution_count": null,
      "outputs": []
    },
    {
      "cell_type": "code",
      "source": [
        "X_test_C3_RGB = np.array(RGB_C3_Set2)"
      ],
      "metadata": {
        "id": "BSMKHBOiuK8c"
      },
      "execution_count": null,
      "outputs": []
    },
    {
      "cell_type": "code",
      "source": [
        "y_C3_RGB =  table_C3Set2.iloc[:,14:15]"
      ],
      "metadata": {
        "id": "6ewQAsdKuK8c"
      },
      "execution_count": null,
      "outputs": []
    },
    {
      "cell_type": "code",
      "source": [
        "y_test_C3_RGB = np.array(y_C3_RGB)"
      ],
      "metadata": {
        "id": "MzpREteZuK8c"
      },
      "execution_count": null,
      "outputs": []
    },
    {
      "cell_type": "code",
      "source": [
        "X_train_C3_RGB = np.array(RGB_C3_concat2)"
      ],
      "metadata": {
        "id": "fGl85QjvuK8c"
      },
      "execution_count": null,
      "outputs": []
    },
    {
      "cell_type": "code",
      "source": [
        "y_train_C3RGB = RGB_C3_concat0.iloc[:,14:15]"
      ],
      "metadata": {
        "id": "fA9e3KQDuK8c"
      },
      "execution_count": null,
      "outputs": []
    },
    {
      "cell_type": "code",
      "source": [
        "y_train_C3_RGB = np.array(y_train_C3RGB)"
      ],
      "metadata": {
        "id": "A6g2ijSwuK8c"
      },
      "execution_count": null,
      "outputs": []
    },
    {
      "cell_type": "code",
      "source": [
        "y_train_C3_RGB.shape = (len(y_train_C3_RGB,))"
      ],
      "metadata": {
        "id": "8EHHN3NjaIqf"
      },
      "execution_count": null,
      "outputs": []
    },
    {
      "cell_type": "code",
      "source": [
        "clf23.fit(X_train_C3_RGB, y_train_C3_RGB)"
      ],
      "metadata": {
        "colab": {
          "base_uri": "https://localhost:8080/"
        },
        "outputId": "0106b1b6-c627-4a90-eddc-608a4da24f92",
        "id": "2mTRXAEBuK8c"
      },
      "execution_count": null,
      "outputs": [
        {
          "output_type": "execute_result",
          "data": {
            "text/plain": [
              "SVC()"
            ]
          },
          "metadata": {},
          "execution_count": 347
        }
      ]
    },
    {
      "cell_type": "code",
      "source": [
        "y_pred_C3_RGB = clf23.predict(X_test_C3_RGB)"
      ],
      "metadata": {
        "id": "zhWYBiVsuK8d"
      },
      "execution_count": null,
      "outputs": []
    },
    {
      "cell_type": "code",
      "source": [
        "print(\"Accuracy:\", metrics.accuracy_score(y_test_C3_RGB, y_pred_C3_RGB))"
      ],
      "metadata": {
        "colab": {
          "base_uri": "https://localhost:8080/"
        },
        "outputId": "4e733e1a-c44c-461e-af34-51ea71ccccdd",
        "id": "QXKAW4-FuK8d"
      },
      "execution_count": null,
      "outputs": [
        {
          "output_type": "stream",
          "name": "stdout",
          "text": [
            "Accuracy: 0.115527950310559\n"
          ]
        }
      ]
    },
    {
      "cell_type": "markdown",
      "source": [
        "###HSV"
      ],
      "metadata": {
        "id": "Tcn_9zpPuK8d"
      }
    },
    {
      "cell_type": "code",
      "source": [
        "clf24=svm.SVC()"
      ],
      "metadata": {
        "id": "ihddSUGBk0TE"
      },
      "execution_count": null,
      "outputs": []
    },
    {
      "cell_type": "code",
      "source": [
        "HSV_C3_Set2 = table_C3Set2.drop(['R-ref','G-ref','B-ref','R-Shad','G-Shad','B-Shad','Setting','Ref','Shad','Img'], axis=1)"
      ],
      "metadata": {
        "id": "8YGWOpmUuK8d"
      },
      "execution_count": null,
      "outputs": []
    },
    {
      "cell_type": "code",
      "source": [
        "HSV_C3_concat2 = RGB_C3_concat0.drop(['R-ref','G-ref','B-ref','R-Shad','G-Shad','B-Shad','Setting','Ref','Shad','Img'], axis=1)"
      ],
      "metadata": {
        "id": "_ffYkSLwuK8d"
      },
      "execution_count": null,
      "outputs": []
    },
    {
      "cell_type": "code",
      "source": [
        "X_test_C3_HSV = np.array(HSV_C3_Set2)"
      ],
      "metadata": {
        "id": "_V99mUp2uK8d"
      },
      "execution_count": null,
      "outputs": []
    },
    {
      "cell_type": "code",
      "source": [
        "y_C3_HSV =  table_C3Set2.iloc[:,14:15]"
      ],
      "metadata": {
        "id": "_mqy3vKjuK8d"
      },
      "execution_count": null,
      "outputs": []
    },
    {
      "cell_type": "code",
      "source": [
        "y_test_C3_HSV = np.array(y_C3_RGB)"
      ],
      "metadata": {
        "id": "nqroCQSCuK8d"
      },
      "execution_count": null,
      "outputs": []
    },
    {
      "cell_type": "code",
      "source": [
        "X_train_C3_HSV = np.array(HSV_C3_concat2)"
      ],
      "metadata": {
        "id": "eaij-4V_uK8d"
      },
      "execution_count": null,
      "outputs": []
    },
    {
      "cell_type": "code",
      "source": [
        "y_train_C3HSV = RGB_C3_concat0.iloc[:,14:15]"
      ],
      "metadata": {
        "id": "SNbPbhi0uK8d"
      },
      "execution_count": null,
      "outputs": []
    },
    {
      "cell_type": "code",
      "source": [
        "y_train_C3_HSV = np.array(y_train_C3HSV)"
      ],
      "metadata": {
        "id": "ymd4fVW3uK8d"
      },
      "execution_count": null,
      "outputs": []
    },
    {
      "cell_type": "code",
      "source": [
        "y_train_C3_HSV.shape = (len(y_train_C3_HSV,))"
      ],
      "metadata": {
        "id": "9f6rbzVCaLeJ"
      },
      "execution_count": null,
      "outputs": []
    },
    {
      "cell_type": "code",
      "source": [
        "clf24.fit(X_train_C3_HSV, y_train_C3_HSV)"
      ],
      "metadata": {
        "colab": {
          "base_uri": "https://localhost:8080/"
        },
        "outputId": "770528c4-cb93-40c2-fbec-158f5f198ff2",
        "id": "G2xivXIyuK8e"
      },
      "execution_count": null,
      "outputs": [
        {
          "output_type": "execute_result",
          "data": {
            "text/plain": [
              "SVC()"
            ]
          },
          "metadata": {},
          "execution_count": 360
        }
      ]
    },
    {
      "cell_type": "code",
      "source": [
        "y_pred_C3_HSV = clf24.predict(X_test_C3_HSV)"
      ],
      "metadata": {
        "id": "_c_42BEKuK8e"
      },
      "execution_count": null,
      "outputs": []
    },
    {
      "cell_type": "code",
      "source": [
        "print(\"Accuracy:\", metrics.accuracy_score(y_test_C3_HSV, y_pred_C3_HSV))"
      ],
      "metadata": {
        "colab": {
          "base_uri": "https://localhost:8080/"
        },
        "outputId": "3617972d-acc1-49c4-c067-26217a2aedb1",
        "id": "fnMe2K_VuK8e"
      },
      "execution_count": null,
      "outputs": [
        {
          "output_type": "stream",
          "name": "stdout",
          "text": [
            "Accuracy: 0.062111801242236024\n"
          ]
        }
      ]
    },
    {
      "cell_type": "markdown",
      "source": [
        "##C4"
      ],
      "metadata": {
        "id": "qWONdRUpuK8e"
      }
    },
    {
      "cell_type": "code",
      "source": [
        "table_C4Set1 = pd.read_excel(Set1 , sheet_name='C4_1')\n",
        "\n",
        "table_C4Set2 = pd.read_excel(Set2 , sheet_name='C4_2')\n",
        "\n",
        "table_C4Set3 = pd.read_excel(Set3 , sheet_name='C4_3')\n",
        "\n",
        "table_C4Set4 = pd.read_excel(Set4 , sheet_name='C4_4')\n",
        "\n",
        "table_C4Set6 = pd.read_excel(Set6 , sheet_name='C4_6')"
      ],
      "metadata": {
        "id": "BtGs5Fi7uK8e"
      },
      "execution_count": null,
      "outputs": []
    },
    {
      "cell_type": "markdown",
      "source": [
        "###RGB"
      ],
      "metadata": {
        "id": "itC-PgyduK8f"
      }
    },
    {
      "cell_type": "code",
      "source": [
        "clf25=svm.SVC()"
      ],
      "metadata": {
        "id": "UT8Yy8wUk3Sg"
      },
      "execution_count": null,
      "outputs": []
    },
    {
      "cell_type": "code",
      "source": [
        "RGB_C4_Set2 = table_C4Set2.drop(['H-ref','S-ref','V-ref','H-Shad','S-Shad','V-Shad','Setting','Ref','Shad','Img'], axis=1)"
      ],
      "metadata": {
        "id": "2Upie7PbuK8f"
      },
      "execution_count": null,
      "outputs": []
    },
    {
      "cell_type": "code",
      "source": [
        "RGB_C4_Set1 = table_C4Set1\n",
        "\n",
        "RGB_C4_Set3 = table_C4Set3\n",
        "\n",
        "RGB_C4_Set4 = table_C4Set4\n",
        "\n",
        "RGB_C4_Set6 = table_C4Set6"
      ],
      "metadata": {
        "id": "1MEK29oNuK8f"
      },
      "execution_count": null,
      "outputs": []
    },
    {
      "cell_type": "code",
      "source": [
        "RGB_C4_concat0 = pd.concat([RGB_C4_Set1,RGB_C4_Set3,RGB_C4_Set4,RGB_C4_Set6])"
      ],
      "metadata": {
        "id": "-_6SQaCbhgE1"
      },
      "execution_count": null,
      "outputs": []
    },
    {
      "cell_type": "code",
      "source": [
        "RGB_C4_concat2 = RGB_C4_concat0.drop(['H-ref','S-ref','V-ref','H-Shad','S-Shad','V-Shad','Setting','Ref','Shad','Img'], axis=1)"
      ],
      "metadata": {
        "id": "a-gC-GfkuK8f"
      },
      "execution_count": null,
      "outputs": []
    },
    {
      "cell_type": "code",
      "source": [
        "X_test_C4_RGB = np.array(RGB_C4_Set2)"
      ],
      "metadata": {
        "id": "oybcs3qOuK8f"
      },
      "execution_count": null,
      "outputs": []
    },
    {
      "cell_type": "code",
      "source": [
        "y_C4_RGB =  table_C4Set2.iloc[:,14:15]"
      ],
      "metadata": {
        "id": "B8JwR0-QuK8f"
      },
      "execution_count": null,
      "outputs": []
    },
    {
      "cell_type": "code",
      "source": [
        "y_test_C4_RGB = np.array(y_C4_RGB)"
      ],
      "metadata": {
        "id": "4Zr9IHe_uK8g"
      },
      "execution_count": null,
      "outputs": []
    },
    {
      "cell_type": "code",
      "source": [
        "X_train_C4_RGB = np.array(RGB_C4_concat2)"
      ],
      "metadata": {
        "id": "HW4sce4YuK8g"
      },
      "execution_count": null,
      "outputs": []
    },
    {
      "cell_type": "code",
      "source": [
        "y_train_C4RGB = RGB_C4_concat0.iloc[:,14:15]"
      ],
      "metadata": {
        "id": "8ZtEorViuK8g"
      },
      "execution_count": null,
      "outputs": []
    },
    {
      "cell_type": "code",
      "source": [
        "y_train_C4_RGB = np.array(y_train_C4RGB)"
      ],
      "metadata": {
        "id": "06EX8wlduK8g"
      },
      "execution_count": null,
      "outputs": []
    },
    {
      "cell_type": "code",
      "source": [
        "y_train_C4_RGB.shape = (len(y_train_C4_RGB,))"
      ],
      "metadata": {
        "id": "AArKTQL-aOtb"
      },
      "execution_count": null,
      "outputs": []
    },
    {
      "cell_type": "code",
      "source": [
        "clf25.fit(X_train_C4_RGB, y_train_C4_RGB)"
      ],
      "metadata": {
        "colab": {
          "base_uri": "https://localhost:8080/"
        },
        "outputId": "e6bcb87d-9d12-46a5-8d92-ac676db3ddc5",
        "id": "xvVKEn4zuK8g"
      },
      "execution_count": null,
      "outputs": [
        {
          "output_type": "execute_result",
          "data": {
            "text/plain": [
              "SVC()"
            ]
          },
          "metadata": {},
          "execution_count": 376
        }
      ]
    },
    {
      "cell_type": "code",
      "source": [
        "y_pred_C4_RGB = clf25.predict(X_test_C4_RGB)"
      ],
      "metadata": {
        "id": "gYOIwjY3uK8g"
      },
      "execution_count": null,
      "outputs": []
    },
    {
      "cell_type": "code",
      "source": [
        "print(\"Accuracy:\", metrics.accuracy_score(y_test_C4_RGB, y_pred_C4_RGB))"
      ],
      "metadata": {
        "colab": {
          "base_uri": "https://localhost:8080/"
        },
        "outputId": "4652866d-8863-43ea-f2f1-afa40f1ecfb5",
        "id": "dpge-QlmuK8g"
      },
      "execution_count": null,
      "outputs": [
        {
          "output_type": "stream",
          "name": "stdout",
          "text": [
            "Accuracy: 0.22857142857142856\n"
          ]
        }
      ]
    },
    {
      "cell_type": "markdown",
      "source": [
        "###HSV"
      ],
      "metadata": {
        "id": "3auzfsaNuK8g"
      }
    },
    {
      "cell_type": "code",
      "source": [
        "clf26=svm.SVC()"
      ],
      "metadata": {
        "id": "fpqkGie1k7mI"
      },
      "execution_count": null,
      "outputs": []
    },
    {
      "cell_type": "code",
      "source": [
        "HSV_C4_Set2 = table_C4Set2.drop(['R-ref','G-ref','B-ref','R-Shad','G-Shad','B-Shad','Setting','Ref','Shad','Img'], axis=1)"
      ],
      "metadata": {
        "id": "79x7fX5RuK8g"
      },
      "execution_count": null,
      "outputs": []
    },
    {
      "cell_type": "code",
      "source": [
        "HSV_C4_concat2 = RGB_C4_concat0.drop(['R-ref','G-ref','B-ref','R-Shad','G-Shad','B-Shad','Setting','Ref','Shad','Img'], axis=1)"
      ],
      "metadata": {
        "id": "OJtvWMzquK8g"
      },
      "execution_count": null,
      "outputs": []
    },
    {
      "cell_type": "code",
      "source": [
        "X_test_C4_HSV = np.array(HSV_C4_Set2)"
      ],
      "metadata": {
        "id": "9wwsXAPRuK8g"
      },
      "execution_count": null,
      "outputs": []
    },
    {
      "cell_type": "code",
      "source": [
        "y_C4_HSV =  table_C4Set2.iloc[:,14:15]"
      ],
      "metadata": {
        "id": "yMXKV4w-uK8h"
      },
      "execution_count": null,
      "outputs": []
    },
    {
      "cell_type": "code",
      "source": [
        "y_test_C4_HSV = np.array(y_C4_RGB)"
      ],
      "metadata": {
        "id": "vsS0ChHIuK8h"
      },
      "execution_count": null,
      "outputs": []
    },
    {
      "cell_type": "code",
      "source": [
        "X_train_C4_HSV = np.array(HSV_C4_concat2)"
      ],
      "metadata": {
        "id": "PL9ejspDuK8h"
      },
      "execution_count": null,
      "outputs": []
    },
    {
      "cell_type": "code",
      "source": [
        "y_train_C4HSV = RGB_C4_concat0.iloc[:,14:15]"
      ],
      "metadata": {
        "id": "FAf1PmlquK8h"
      },
      "execution_count": null,
      "outputs": []
    },
    {
      "cell_type": "code",
      "source": [
        "y_train_C4_HSV = np.array(y_train_C4HSV)"
      ],
      "metadata": {
        "id": "W0Kf74pWuK8h"
      },
      "execution_count": null,
      "outputs": []
    },
    {
      "cell_type": "code",
      "source": [
        "y_train_C4_HSV.shape = (len(y_train_C4_HSV,))"
      ],
      "metadata": {
        "id": "OwN9EGAGaRKW"
      },
      "execution_count": null,
      "outputs": []
    },
    {
      "cell_type": "code",
      "source": [
        "clf26.fit(X_train_C4_HSV, y_train_C4_HSV)"
      ],
      "metadata": {
        "colab": {
          "base_uri": "https://localhost:8080/"
        },
        "outputId": "4714cebb-ebc0-49c7-8d42-86795b725f10",
        "id": "7Q7bgyn-uK8h"
      },
      "execution_count": null,
      "outputs": [
        {
          "output_type": "execute_result",
          "data": {
            "text/plain": [
              "SVC()"
            ]
          },
          "metadata": {},
          "execution_count": 389
        }
      ]
    },
    {
      "cell_type": "code",
      "source": [
        "y_pred_C4_HSV = clf26.predict(X_test_C4_HSV)"
      ],
      "metadata": {
        "id": "dVZkULXFuK8h"
      },
      "execution_count": null,
      "outputs": []
    },
    {
      "cell_type": "code",
      "source": [
        "print(\"Accuracy:\", metrics.accuracy_score(y_test_C4_HSV, y_pred_C4_HSV))"
      ],
      "metadata": {
        "colab": {
          "base_uri": "https://localhost:8080/"
        },
        "outputId": "27944c92-143c-4252-ea5f-704fea3e5cb5",
        "id": "fNDv3zRluK8h"
      },
      "execution_count": null,
      "outputs": [
        {
          "output_type": "stream",
          "name": "stdout",
          "text": [
            "Accuracy: 0.062111801242236024\n"
          ]
        }
      ]
    },
    {
      "cell_type": "markdown",
      "source": [
        "#DD"
      ],
      "metadata": {
        "id": "kFckM1SuxrfW"
      }
    },
    {
      "cell_type": "markdown",
      "source": [
        "##D2"
      ],
      "metadata": {
        "id": "Dx0Ujmpqx90R"
      }
    },
    {
      "cell_type": "code",
      "source": [
        "table_D2Set1 = pd.read_excel(Set1 , sheet_name='D2_1')\n",
        "\n",
        "table_D2Set2 = pd.read_excel(Set2 , sheet_name='D2_2')\n",
        "\n",
        "table_D2Set3 = pd.read_excel(Set3 , sheet_name='D2_3')\n",
        "\n",
        "table_D2Set4 = pd.read_excel(Set4 , sheet_name='D2_4')\n",
        "\n",
        "table_D2Set6 = pd.read_excel(Set6 , sheet_name='D2_6')"
      ],
      "metadata": {
        "id": "py_AYnaOx90R"
      },
      "execution_count": null,
      "outputs": []
    },
    {
      "cell_type": "markdown",
      "source": [
        "###RGB"
      ],
      "metadata": {
        "id": "p_euaG1Sx90S"
      }
    },
    {
      "cell_type": "code",
      "source": [
        "clf27=svm.SVC()"
      ],
      "metadata": {
        "id": "0IOX-T0qk_JW"
      },
      "execution_count": null,
      "outputs": []
    },
    {
      "cell_type": "code",
      "source": [
        "RGB_D2_Set2 = table_D2Set2.drop(['H-ref','S-ref','V-ref','H-Shad','S-Shad','V-Shad','Setting','Ref','Shad','Img'], axis=1)"
      ],
      "metadata": {
        "id": "4S39UT3Rx90S"
      },
      "execution_count": null,
      "outputs": []
    },
    {
      "cell_type": "code",
      "source": [
        "RGB_D2_Set1 = table_D2Set1\n",
        "\n",
        "RGB_D2_Set3 = table_D2Set3\n",
        "\n",
        "RGB_D2_Set4 = table_D2Set4\n",
        "\n",
        "RGB_D2_Set6 = table_D2Set6"
      ],
      "metadata": {
        "id": "nJh9mta-x90S"
      },
      "execution_count": null,
      "outputs": []
    },
    {
      "cell_type": "code",
      "source": [
        "RGB_D2_concat0 = pd.concat([RGB_D2_Set1,RGB_D2_Set3,RGB_D2_Set4,RGB_D2_Set6])"
      ],
      "metadata": {
        "id": "CxzZN5qBhyUb"
      },
      "execution_count": null,
      "outputs": []
    },
    {
      "cell_type": "code",
      "source": [
        "RGB_D2_concat2 = RGB_D2_concat0.drop(['H-ref','S-ref','V-ref','H-Shad','S-Shad','V-Shad','Setting','Ref','Shad','Img'], axis=1)"
      ],
      "metadata": {
        "id": "MAwcNIm2x90T"
      },
      "execution_count": null,
      "outputs": []
    },
    {
      "cell_type": "code",
      "source": [
        "X_test_D2_RGB = np.array(RGB_D2_Set2)"
      ],
      "metadata": {
        "id": "sp1VXLkox90T"
      },
      "execution_count": null,
      "outputs": []
    },
    {
      "cell_type": "code",
      "source": [
        "y_D2_RGB =  table_D2Set2.iloc[:,14:15]"
      ],
      "metadata": {
        "id": "HjrkrzQLx90T"
      },
      "execution_count": null,
      "outputs": []
    },
    {
      "cell_type": "code",
      "source": [
        "y_test_D2_RGB = np.array(y_D2_RGB)"
      ],
      "metadata": {
        "id": "X_yNCUKWx90T"
      },
      "execution_count": null,
      "outputs": []
    },
    {
      "cell_type": "code",
      "source": [
        "X_train_D2_RGB = np.array(RGB_D2_concat2)"
      ],
      "metadata": {
        "id": "s4tbeuf1x90T"
      },
      "execution_count": null,
      "outputs": []
    },
    {
      "cell_type": "code",
      "source": [
        "y_train_D2RGB = RGB_D2_concat0.iloc[:,14:15]"
      ],
      "metadata": {
        "id": "YDH_D_rNx90T"
      },
      "execution_count": null,
      "outputs": []
    },
    {
      "cell_type": "code",
      "source": [
        "y_train_D2_RGB = np.array(y_train_D2RGB)"
      ],
      "metadata": {
        "id": "s0ZuO4mux90T"
      },
      "execution_count": null,
      "outputs": []
    },
    {
      "cell_type": "code",
      "source": [
        "y_train_D2_RGB.shape = (len(y_train_D2_RGB,))"
      ],
      "metadata": {
        "id": "hApx73ljaT5n"
      },
      "execution_count": null,
      "outputs": []
    },
    {
      "cell_type": "code",
      "source": [
        "clf27.fit(X_train_D2_RGB, y_train_D2_RGB)"
      ],
      "metadata": {
        "colab": {
          "base_uri": "https://localhost:8080/"
        },
        "outputId": "30405f5d-67fc-4ff7-d6a1-78f4d507934f",
        "id": "FgepnkAdx90U"
      },
      "execution_count": null,
      "outputs": [
        {
          "output_type": "execute_result",
          "data": {
            "text/plain": [
              "SVC()"
            ]
          },
          "metadata": {},
          "execution_count": 405
        }
      ]
    },
    {
      "cell_type": "code",
      "source": [
        "y_pred_D2_RGB = clf27.predict(X_test_D2_RGB)"
      ],
      "metadata": {
        "id": "KqZtbI1yx90U"
      },
      "execution_count": null,
      "outputs": []
    },
    {
      "cell_type": "code",
      "source": [
        "print(\"Accuracy:\", metrics.accuracy_score(y_test_D2_RGB, y_pred_D2_RGB))"
      ],
      "metadata": {
        "colab": {
          "base_uri": "https://localhost:8080/"
        },
        "outputId": "1dea3336-03de-46ea-bc64-fbd3be1488c5",
        "id": "wmJTutTAx90U"
      },
      "execution_count": null,
      "outputs": [
        {
          "output_type": "stream",
          "name": "stdout",
          "text": [
            "Accuracy: 0.22608695652173913\n"
          ]
        }
      ]
    },
    {
      "cell_type": "markdown",
      "source": [
        "###HSV"
      ],
      "metadata": {
        "id": "iTUrHbyjx90U"
      }
    },
    {
      "cell_type": "code",
      "source": [
        "clf28=svm.SVC()"
      ],
      "metadata": {
        "id": "kRYW68otlCtS"
      },
      "execution_count": null,
      "outputs": []
    },
    {
      "cell_type": "code",
      "source": [
        "HSV_D2_Set2 = table_D2Set2.drop(['R-ref','G-ref','B-ref','R-Shad','G-Shad','B-Shad','Setting','Ref','Shad','Img'], axis=1)"
      ],
      "metadata": {
        "id": "3JeaZWnkx90U"
      },
      "execution_count": null,
      "outputs": []
    },
    {
      "cell_type": "code",
      "source": [
        "HSV_D2_concat2 = RGB_D2_concat0.drop(['R-ref','G-ref','B-ref','R-Shad','G-Shad','B-Shad','Setting','Ref','Shad','Img'], axis=1)"
      ],
      "metadata": {
        "id": "3_2SN1GBx90U"
      },
      "execution_count": null,
      "outputs": []
    },
    {
      "cell_type": "code",
      "source": [
        "X_test_D2_HSV = np.array(HSV_D2_Set2)"
      ],
      "metadata": {
        "id": "RaBXco4Qx90U"
      },
      "execution_count": null,
      "outputs": []
    },
    {
      "cell_type": "code",
      "source": [
        "y_D2_HSV =  table_D2Set2.iloc[:,14:15]"
      ],
      "metadata": {
        "id": "G9P57h2qx90U"
      },
      "execution_count": null,
      "outputs": []
    },
    {
      "cell_type": "code",
      "source": [
        "y_test_D2_HSV = np.array(y_D2_RGB)"
      ],
      "metadata": {
        "id": "Tgk7oFlox90V"
      },
      "execution_count": null,
      "outputs": []
    },
    {
      "cell_type": "code",
      "source": [
        "X_train_D2_HSV = np.array(HSV_D2_concat2)"
      ],
      "metadata": {
        "id": "9YurdEdJx90V"
      },
      "execution_count": null,
      "outputs": []
    },
    {
      "cell_type": "code",
      "source": [
        "y_train_D2HSV = RGB_D2_concat0.iloc[:,14:15]"
      ],
      "metadata": {
        "id": "s3A59uQsx90V"
      },
      "execution_count": null,
      "outputs": []
    },
    {
      "cell_type": "code",
      "source": [
        "y_train_D2_HSV = np.array(y_train_D2HSV)"
      ],
      "metadata": {
        "id": "_Q8KC_jBx90V"
      },
      "execution_count": null,
      "outputs": []
    },
    {
      "cell_type": "code",
      "source": [
        "y_train_D2_HSV.shape = (len(y_train_D2_HSV,))"
      ],
      "metadata": {
        "id": "jnFCHt32aWoL"
      },
      "execution_count": null,
      "outputs": []
    },
    {
      "cell_type": "code",
      "source": [
        "clf28.fit(X_train_D2_HSV, y_train_D2_HSV)"
      ],
      "metadata": {
        "colab": {
          "base_uri": "https://localhost:8080/"
        },
        "outputId": "f8f1baa9-002e-4571-f7ee-f00034d1a856",
        "id": "hQrQntI1x90V"
      },
      "execution_count": null,
      "outputs": [
        {
          "output_type": "execute_result",
          "data": {
            "text/plain": [
              "SVC()"
            ]
          },
          "metadata": {},
          "execution_count": 418
        }
      ]
    },
    {
      "cell_type": "code",
      "source": [
        "y_pred_D2_HSV = clf28.predict(X_test_D2_HSV)"
      ],
      "metadata": {
        "id": "TsH-vaSMx90V"
      },
      "execution_count": null,
      "outputs": []
    },
    {
      "cell_type": "code",
      "source": [
        "print(\"Accuracy:\", metrics.accuracy_score(y_test_D2_HSV, y_pred_D2_HSV))"
      ],
      "metadata": {
        "colab": {
          "base_uri": "https://localhost:8080/"
        },
        "outputId": "9062dfdc-c934-4cb7-dae9-feba5f4a3e92",
        "id": "5j4gANcdx90V"
      },
      "execution_count": null,
      "outputs": [
        {
          "output_type": "stream",
          "name": "stdout",
          "text": [
            "Accuracy: 0.062111801242236024\n"
          ]
        }
      ]
    },
    {
      "cell_type": "markdown",
      "source": [
        "##D3"
      ],
      "metadata": {
        "id": "ntLV6fwAx90V"
      }
    },
    {
      "cell_type": "code",
      "source": [
        "table_D3Set1 = pd.read_excel(Set1 , sheet_name='D3_1')\n",
        "\n",
        "table_D3Set2 = pd.read_excel(Set2 , sheet_name='D3_2')\n",
        "\n",
        "table_D3Set3 = pd.read_excel(Set3 , sheet_name='D3_3')\n",
        "\n",
        "table_D3Set4 = pd.read_excel(Set4 , sheet_name='D3_4')\n",
        "\n",
        "table_D3Set6 = pd.read_excel(Set6 , sheet_name='D3_6')"
      ],
      "metadata": {
        "id": "8iTZ6oX0x90V"
      },
      "execution_count": null,
      "outputs": []
    },
    {
      "cell_type": "markdown",
      "source": [
        "###RGB"
      ],
      "metadata": {
        "id": "CYvwE4PDx90W"
      }
    },
    {
      "cell_type": "code",
      "source": [
        "clf29=svm.SVC()"
      ],
      "metadata": {
        "id": "vQwq9BtZlF-z"
      },
      "execution_count": null,
      "outputs": []
    },
    {
      "cell_type": "code",
      "source": [
        "RGB_D3_Set2 = table_D3Set2.drop(['H-ref','S-ref','V-ref','H-Shad','S-Shad','V-Shad','Setting','Ref','Shad','Img'], axis=1)"
      ],
      "metadata": {
        "id": "PlR5iWwRx90W"
      },
      "execution_count": null,
      "outputs": []
    },
    {
      "cell_type": "code",
      "source": [
        "RGB_D3_Set1 = table_D3Set1\n",
        "\n",
        "RGB_D3_Set3 = table_D3Set3\n",
        "\n",
        "RGB_D3_Set4 = table_D3Set4\n",
        "\n",
        "RGB_D3_Set6 = table_D3Set6"
      ],
      "metadata": {
        "id": "blPo4yEex90W"
      },
      "execution_count": null,
      "outputs": []
    },
    {
      "cell_type": "code",
      "source": [
        "RGB_D3_concat0 = pd.concat([RGB_D3_Set1,RGB_D3_Set3,RGB_D3_Set4,RGB_D3_Set6])"
      ],
      "metadata": {
        "id": "bl9iY6xSiIJz"
      },
      "execution_count": null,
      "outputs": []
    },
    {
      "cell_type": "code",
      "source": [
        "RGB_D3_concat2 = RGB_D3_concat0.drop(['H-ref','S-ref','V-ref','H-Shad','S-Shad','V-Shad','Setting','Ref','Shad','Img'], axis=1)"
      ],
      "metadata": {
        "id": "1yMt6NzXx90X"
      },
      "execution_count": null,
      "outputs": []
    },
    {
      "cell_type": "code",
      "source": [
        "X_test_D3_RGB = np.array(RGB_D3_Set2)"
      ],
      "metadata": {
        "id": "ufA1_Y1xx90X"
      },
      "execution_count": null,
      "outputs": []
    },
    {
      "cell_type": "code",
      "source": [
        "y_D3_RGB =  table_D3Set2.iloc[:,14:15]"
      ],
      "metadata": {
        "id": "-QW8SDSyx90X"
      },
      "execution_count": null,
      "outputs": []
    },
    {
      "cell_type": "code",
      "source": [
        "y_test_D3_RGB = np.array(y_D3_RGB)"
      ],
      "metadata": {
        "id": "kL5UDJAUx90X"
      },
      "execution_count": null,
      "outputs": []
    },
    {
      "cell_type": "code",
      "source": [
        "X_train_D3_RGB = np.array(RGB_D3_concat2)"
      ],
      "metadata": {
        "id": "I-j7R3Tnx90X"
      },
      "execution_count": null,
      "outputs": []
    },
    {
      "cell_type": "code",
      "source": [
        "y_train_D3RGB = RGB_D3_concat0.iloc[:,14:15]"
      ],
      "metadata": {
        "id": "cuBbjTNYx90X"
      },
      "execution_count": null,
      "outputs": []
    },
    {
      "cell_type": "code",
      "source": [
        "y_train_D3_RGB = np.array(y_train_D3RGB)"
      ],
      "metadata": {
        "id": "gB3TEG8Ox90Y"
      },
      "execution_count": null,
      "outputs": []
    },
    {
      "cell_type": "code",
      "source": [
        "y_train_D3_RGB.shape = (len(y_train_D3_RGB,))"
      ],
      "metadata": {
        "id": "1eTHOWBXaZkT"
      },
      "execution_count": null,
      "outputs": []
    },
    {
      "cell_type": "code",
      "source": [
        "clf29.fit(X_train_D3_RGB, y_train_D3_RGB)"
      ],
      "metadata": {
        "colab": {
          "base_uri": "https://localhost:8080/"
        },
        "outputId": "f55654bf-290b-43db-cda7-1c9d77310d10",
        "id": "owe-5XSGx90Y"
      },
      "execution_count": null,
      "outputs": [
        {
          "output_type": "execute_result",
          "data": {
            "text/plain": [
              "SVC()"
            ]
          },
          "metadata": {},
          "execution_count": 434
        }
      ]
    },
    {
      "cell_type": "code",
      "source": [
        "y_pred_D3_RGB = clf29.predict(X_test_D3_RGB)"
      ],
      "metadata": {
        "id": "_A7t5UNHx90Y"
      },
      "execution_count": null,
      "outputs": []
    },
    {
      "cell_type": "code",
      "source": [
        "print(\"Accuracy:\", metrics.accuracy_score(y_test_D3_RGB, y_pred_D3_RGB))"
      ],
      "metadata": {
        "colab": {
          "base_uri": "https://localhost:8080/"
        },
        "outputId": "35da8467-4b23-4bc0-cec4-6599d53ebc39",
        "id": "j_-xWLsfx90Y"
      },
      "execution_count": null,
      "outputs": [
        {
          "output_type": "stream",
          "name": "stdout",
          "text": [
            "Accuracy: 0.11180124223602485\n"
          ]
        }
      ]
    },
    {
      "cell_type": "markdown",
      "source": [
        "###HSV"
      ],
      "metadata": {
        "id": "_Bqu-0vjx90Y"
      }
    },
    {
      "cell_type": "code",
      "source": [
        "clf30=svm.SVC()"
      ],
      "metadata": {
        "id": "8mshw1E_lJCX"
      },
      "execution_count": null,
      "outputs": []
    },
    {
      "cell_type": "code",
      "source": [
        "HSV_D3_Set2 = table_D3Set2.drop(['R-ref','G-ref','B-ref','R-Shad','G-Shad','B-Shad','Setting','Ref','Shad','Img'], axis=1)"
      ],
      "metadata": {
        "id": "Ivz7-0R-x90Y"
      },
      "execution_count": null,
      "outputs": []
    },
    {
      "cell_type": "code",
      "source": [
        "HSV_D3_concat2 = RGB_D3_concat0.drop(['R-ref','G-ref','B-ref','R-Shad','G-Shad','B-Shad','Setting','Ref','Shad','Img'], axis=1)"
      ],
      "metadata": {
        "id": "qtZokQPJx90Y"
      },
      "execution_count": null,
      "outputs": []
    },
    {
      "cell_type": "code",
      "source": [
        "X_test_D3_HSV = np.array(HSV_D3_Set2)"
      ],
      "metadata": {
        "id": "R3Z14S8Fx90Y"
      },
      "execution_count": null,
      "outputs": []
    },
    {
      "cell_type": "code",
      "source": [
        "y_D3_HSV =  table_D3Set2.iloc[:,14:15]"
      ],
      "metadata": {
        "id": "kKyPj2eix90Y"
      },
      "execution_count": null,
      "outputs": []
    },
    {
      "cell_type": "code",
      "source": [
        "y_test_D3_HSV = np.array(y_D3_RGB)"
      ],
      "metadata": {
        "id": "U1QiYDz0x90Y"
      },
      "execution_count": null,
      "outputs": []
    },
    {
      "cell_type": "code",
      "source": [
        "X_train_D3_HSV = np.array(HSV_D3_concat2)"
      ],
      "metadata": {
        "id": "0e4tbRaOx90Z"
      },
      "execution_count": null,
      "outputs": []
    },
    {
      "cell_type": "code",
      "source": [
        "y_train_D3HSV = RGB_D3_concat0.iloc[:,14:15]"
      ],
      "metadata": {
        "id": "xT5X846Tx90Z"
      },
      "execution_count": null,
      "outputs": []
    },
    {
      "cell_type": "code",
      "source": [
        "y_train_D3_HSV = np.array(y_train_D3HSV)"
      ],
      "metadata": {
        "id": "cBdx2NTpx90Z"
      },
      "execution_count": null,
      "outputs": []
    },
    {
      "cell_type": "code",
      "source": [
        "y_train_D3_HSV.shape = (len(y_train_D3_HSV,))"
      ],
      "metadata": {
        "id": "QV6szfpmacrN"
      },
      "execution_count": null,
      "outputs": []
    },
    {
      "cell_type": "code",
      "source": [
        "clf30.fit(X_train_D3_HSV, y_train_D3_HSV)"
      ],
      "metadata": {
        "colab": {
          "base_uri": "https://localhost:8080/"
        },
        "outputId": "19bb326e-1d37-498e-aeb4-538c04d09310",
        "id": "0ltb0Lesx90Z"
      },
      "execution_count": null,
      "outputs": [
        {
          "output_type": "execute_result",
          "data": {
            "text/plain": [
              "SVC()"
            ]
          },
          "metadata": {},
          "execution_count": 447
        }
      ]
    },
    {
      "cell_type": "code",
      "source": [
        "y_pred_D3_HSV = clf30.predict(X_test_D3_HSV)"
      ],
      "metadata": {
        "id": "wC9RHVBHx90Z"
      },
      "execution_count": null,
      "outputs": []
    },
    {
      "cell_type": "code",
      "source": [
        "print(\"Accuracy:\", metrics.accuracy_score(y_test_D3_HSV, y_pred_D3_HSV))"
      ],
      "metadata": {
        "colab": {
          "base_uri": "https://localhost:8080/"
        },
        "outputId": "a6ca6b3e-880a-42de-b266-c8d63363c3b6",
        "id": "EtzMQr1Rx90Z"
      },
      "execution_count": null,
      "outputs": [
        {
          "output_type": "stream",
          "name": "stdout",
          "text": [
            "Accuracy: 0.062111801242236024\n"
          ]
        }
      ]
    },
    {
      "cell_type": "markdown",
      "source": [
        "##D4"
      ],
      "metadata": {
        "id": "WfcEm0A2x90Z"
      }
    },
    {
      "cell_type": "code",
      "source": [
        "table_D4Set1 = pd.read_excel(Set1 , sheet_name='D4_1')\n",
        "\n",
        "table_D4Set2 = pd.read_excel(Set2 , sheet_name='D4_2')\n",
        "\n",
        "table_D4Set3 = pd.read_excel(Set3 , sheet_name='D4_3')\n",
        "\n",
        "table_D4Set4 = pd.read_excel(Set4 , sheet_name='D4_4')\n",
        "\n",
        "table_D4Set6 = pd.read_excel(Set6 , sheet_name='D4_6')"
      ],
      "metadata": {
        "id": "mfacKr9gx90Z"
      },
      "execution_count": null,
      "outputs": []
    },
    {
      "cell_type": "markdown",
      "source": [
        "###RGB"
      ],
      "metadata": {
        "id": "OkOW14TRx90a"
      }
    },
    {
      "cell_type": "code",
      "source": [
        "clf31=svm.SVC()"
      ],
      "metadata": {
        "id": "wXFwMJmllMc5"
      },
      "execution_count": null,
      "outputs": []
    },
    {
      "cell_type": "code",
      "source": [
        "RGB_D4_Set2 = table_D4Set2.drop(['H-ref','S-ref','V-ref','H-Shad','S-Shad','V-Shad','Setting','Ref','Shad','Img'], axis=1)"
      ],
      "metadata": {
        "id": "UZGgIrXtx90a"
      },
      "execution_count": null,
      "outputs": []
    },
    {
      "cell_type": "code",
      "source": [
        "RGB_D4_Set1 = table_D4Set1\n",
        "\n",
        "RGB_D4_Set3 = table_D4Set3\n",
        "\n",
        "RGB_D4_Set4 = table_D4Set4\n",
        "\n",
        "RGB_D4_Set6 = table_D4Set6"
      ],
      "metadata": {
        "id": "Db0M9HHEx90a"
      },
      "execution_count": null,
      "outputs": []
    },
    {
      "cell_type": "code",
      "source": [
        "RGB_D4_concat0 = pd.concat([RGB_D4_Set1,RGB_D4_Set3,RGB_D4_Set4,RGB_D4_Set6])"
      ],
      "metadata": {
        "id": "zNEyj719iaD0"
      },
      "execution_count": null,
      "outputs": []
    },
    {
      "cell_type": "code",
      "source": [
        "RGB_D4_concat2 = RGB_D4_concat0.drop(['H-ref','S-ref','V-ref','H-Shad','S-Shad','V-Shad','Setting','Ref','Shad','Img'], axis=1)"
      ],
      "metadata": {
        "id": "Qr0VCTbfx90a"
      },
      "execution_count": null,
      "outputs": []
    },
    {
      "cell_type": "code",
      "source": [
        "X_test_D4_RGB = np.array(RGB_D4_Set2)"
      ],
      "metadata": {
        "id": "qiwNlZdnx90a"
      },
      "execution_count": null,
      "outputs": []
    },
    {
      "cell_type": "code",
      "source": [
        "y_D4_RGB =  table_D4Set2.iloc[:,14:15]"
      ],
      "metadata": {
        "id": "w_mnKAYqx90b"
      },
      "execution_count": null,
      "outputs": []
    },
    {
      "cell_type": "code",
      "source": [
        "y_test_D4_RGB = np.array(y_D4_RGB)"
      ],
      "metadata": {
        "id": "UsLaGos7x90b"
      },
      "execution_count": null,
      "outputs": []
    },
    {
      "cell_type": "code",
      "source": [
        "X_train_D4_RGB = np.array(RGB_D4_concat2)"
      ],
      "metadata": {
        "id": "Oc2f1-qOx90b"
      },
      "execution_count": null,
      "outputs": []
    },
    {
      "cell_type": "code",
      "source": [
        "y_train_D4RGB = RGB_D4_concat0.iloc[:,14:15]"
      ],
      "metadata": {
        "id": "e8HcPMlLx90b"
      },
      "execution_count": null,
      "outputs": []
    },
    {
      "cell_type": "code",
      "source": [
        "y_train_D4_RGB = np.array(y_train_D4RGB)"
      ],
      "metadata": {
        "id": "UYIfmfsqx90b"
      },
      "execution_count": null,
      "outputs": []
    },
    {
      "cell_type": "code",
      "source": [
        "y_train_D4_RGB.shape = (len(y_train_D4_RGB,))"
      ],
      "metadata": {
        "id": "TFu8ErLhafbN"
      },
      "execution_count": null,
      "outputs": []
    },
    {
      "cell_type": "code",
      "source": [
        "clf31.fit(X_train_D4_RGB, y_train_D4_RGB)"
      ],
      "metadata": {
        "colab": {
          "base_uri": "https://localhost:8080/"
        },
        "outputId": "c445033a-0cbe-47da-8b2e-359c9dccb957",
        "id": "RNdH-4qhx90b"
      },
      "execution_count": null,
      "outputs": [
        {
          "output_type": "execute_result",
          "data": {
            "text/plain": [
              "SVC()"
            ]
          },
          "metadata": {},
          "execution_count": 463
        }
      ]
    },
    {
      "cell_type": "code",
      "source": [
        "y_pred_D4_RGB = clf31.predict(X_test_D4_RGB)"
      ],
      "metadata": {
        "id": "SJT4eRs7x90b"
      },
      "execution_count": null,
      "outputs": []
    },
    {
      "cell_type": "code",
      "source": [
        "print(\"Accuracy:\", metrics.accuracy_score(y_test_D4_RGB, y_pred_D4_RGB))"
      ],
      "metadata": {
        "colab": {
          "base_uri": "https://localhost:8080/"
        },
        "outputId": "c527fc9d-657c-4b62-f672-4238cc548f3c",
        "id": "oRxmkGWix90b"
      },
      "execution_count": null,
      "outputs": [
        {
          "output_type": "stream",
          "name": "stdout",
          "text": [
            "Accuracy: 0.16666666666666666\n"
          ]
        }
      ]
    },
    {
      "cell_type": "markdown",
      "source": [
        "###HSV"
      ],
      "metadata": {
        "id": "0VkgTMm7x90b"
      }
    },
    {
      "cell_type": "code",
      "source": [
        "clf32=svm.SVC()"
      ],
      "metadata": {
        "id": "u7NPha-ulO6j"
      },
      "execution_count": null,
      "outputs": []
    },
    {
      "cell_type": "code",
      "source": [
        "HSV_D4_Set2 = table_D4Set2.drop(['R-ref','G-ref','B-ref','R-Shad','G-Shad','B-Shad','Setting','Ref','Shad','Img'], axis=1)"
      ],
      "metadata": {
        "id": "tKD0r_mJx90b"
      },
      "execution_count": null,
      "outputs": []
    },
    {
      "cell_type": "code",
      "source": [
        "HSV_D4_concat2 = RGB_D4_concat0.drop(['R-ref','G-ref','B-ref','R-Shad','G-Shad','B-Shad','Setting','Ref','Shad','Img'], axis=1)"
      ],
      "metadata": {
        "id": "KVO7778mx90b"
      },
      "execution_count": null,
      "outputs": []
    },
    {
      "cell_type": "code",
      "source": [
        "X_test_D4_HSV = np.array(HSV_D4_Set2)"
      ],
      "metadata": {
        "id": "MaqD7Q0Mx90c"
      },
      "execution_count": null,
      "outputs": []
    },
    {
      "cell_type": "code",
      "source": [
        "y_D4_HSV =  table_D4Set2.iloc[:,14:15]"
      ],
      "metadata": {
        "id": "dlMZ82Gux90c"
      },
      "execution_count": null,
      "outputs": []
    },
    {
      "cell_type": "code",
      "source": [
        "y_test_D4_HSV = np.array(y_D4_RGB)"
      ],
      "metadata": {
        "id": "eDET1Ylwx90c"
      },
      "execution_count": null,
      "outputs": []
    },
    {
      "cell_type": "code",
      "source": [
        "X_train_D4_HSV = np.array(HSV_D4_concat2)"
      ],
      "metadata": {
        "id": "0z1Zhgkyx90c"
      },
      "execution_count": null,
      "outputs": []
    },
    {
      "cell_type": "code",
      "source": [
        "y_train_D4HSV = RGB_D4_concat0.iloc[:,14:15]"
      ],
      "metadata": {
        "id": "DJhfv_Xyx90c"
      },
      "execution_count": null,
      "outputs": []
    },
    {
      "cell_type": "code",
      "source": [
        "y_train_D4_HSV = np.array(y_train_D4HSV)"
      ],
      "metadata": {
        "id": "cTxbTKbFx90c"
      },
      "execution_count": null,
      "outputs": []
    },
    {
      "cell_type": "code",
      "source": [
        "y_train_D4_HSV.shape = (len(y_train_D4_HSV,))"
      ],
      "metadata": {
        "id": "7In9w6nwaiDY"
      },
      "execution_count": null,
      "outputs": []
    },
    {
      "cell_type": "code",
      "source": [
        "clf32.fit(X_train_D4_HSV, y_train_D4_HSV)"
      ],
      "metadata": {
        "colab": {
          "base_uri": "https://localhost:8080/"
        },
        "outputId": "3340bf1b-683d-403d-f165-c7704e934d8f",
        "id": "fzoR8Swyx90c"
      },
      "execution_count": null,
      "outputs": [
        {
          "output_type": "execute_result",
          "data": {
            "text/plain": [
              "SVC()"
            ]
          },
          "metadata": {},
          "execution_count": 476
        }
      ]
    },
    {
      "cell_type": "code",
      "source": [
        "y_pred_D4_HSV = clf32.predict(X_test_D4_HSV)"
      ],
      "metadata": {
        "id": "3u_OvejMx90c"
      },
      "execution_count": null,
      "outputs": []
    },
    {
      "cell_type": "code",
      "source": [
        "print(\"Accuracy:\", metrics.accuracy_score(y_test_D4_HSV, y_pred_D4_HSV))"
      ],
      "metadata": {
        "colab": {
          "base_uri": "https://localhost:8080/"
        },
        "outputId": "ca5d6e8d-8c99-476e-c4f7-634f6b4a2642",
        "id": "5dgTtQASx90c"
      },
      "execution_count": null,
      "outputs": [
        {
          "output_type": "stream",
          "name": "stdout",
          "text": [
            "Accuracy: 0.06444444444444444\n"
          ]
        }
      ]
    },
    {
      "cell_type": "markdown",
      "source": [
        "#Accuracy"
      ],
      "metadata": {
        "id": "DednIna6z9zF"
      }
    },
    {
      "cell_type": "markdown",
      "source": [
        "##RGB"
      ],
      "metadata": {
        "id": "txfn-5vSEQKK"
      }
    },
    {
      "cell_type": "code",
      "source": [
        "print(\"A1 มี Accuracy เท่ากับ:\", metrics.accuracy_score(y_test_A1_RGB, y_pred_A1_RGB))\n",
        "print(\"A2 มี Accuracy เท่ากับ:\", metrics.accuracy_score(y_test_A2_RGB, y_pred_A2_RGB))\n",
        "print(\"A3 มี Accuracy เท่ากับ:\", metrics.accuracy_score(y_test_A3_RGB, y_pred_A3_RGB))\n",
        "print(\"A3.5 มี Accuracy เท่ากับ:\", metrics.accuracy_score(y_test_A3_5_RGB, y_pred_A3_5_RGB))\n",
        "print(\"A4 มี Accuracy เท่ากับ:\", metrics.accuracy_score(y_test_A4_RGB, y_pred_A4_RGB))\n",
        "print(\"B1 มี Accuracy เท่ากับ:\", metrics.accuracy_score(y_test_B1_RGB, y_pred_B1_RGB))\n",
        "print(\"B2 มี Accuracy เท่ากับ:\", metrics.accuracy_score(y_test_B2_RGB, y_pred_B2_RGB))\n",
        "print(\"B3 มี Accuracy เท่ากับ:\", metrics.accuracy_score(y_test_B3_RGB, y_pred_B3_RGB))\n",
        "print(\"B4 มี Accuracy เท่ากับ:\", metrics.accuracy_score(y_test_B4_RGB, y_pred_B4_RGB))\n",
        "print(\"C1 มี Accuracy เท่ากับ:\", metrics.accuracy_score(y_test_C1_RGB, y_pred_C1_RGB))\n",
        "print(\"C2 มี Accuracy เท่ากับ:\", metrics.accuracy_score(y_test_C2_RGB, y_pred_C2_RGB))\n",
        "print(\"C3 มี Accuracy เท่ากับ:\", metrics.accuracy_score(y_test_C3_RGB, y_pred_C3_RGB))\n",
        "print(\"C4 มี Accuracy เท่ากับ:\", metrics.accuracy_score(y_test_C4_RGB, y_pred_C4_RGB))\n",
        "print(\"D2 มี Accuracy เท่ากับ:\", metrics.accuracy_score(y_test_D2_RGB, y_pred_D2_RGB))\n",
        "print(\"D3 มี Accuracy เท่ากับ:\", metrics.accuracy_score(y_test_D3_RGB, y_pred_D3_RGB))\n",
        "print(\"D4 มี Accuracy เท่ากับ:\", metrics.accuracy_score(y_test_D4_RGB, y_pred_D4_RGB))"
      ],
      "metadata": {
        "id": "gAmWj0Tl_8ra",
        "outputId": "6200d415-aaf7-4200-e307-b44ae5ee4cca",
        "colab": {
          "base_uri": "https://localhost:8080/"
        }
      },
      "execution_count": null,
      "outputs": [
        {
          "output_type": "stream",
          "name": "stdout",
          "text": [
            "A1 มี Accuracy เท่ากับ: 0.24720496894409938\n",
            "A2 มี Accuracy เท่ากับ: 0.058823529411764705\n",
            "A3 มี Accuracy เท่ากับ: 0.14375\n",
            "A3.5 มี Accuracy เท่ากับ: 0.1225\n",
            "A4 มี Accuracy เท่ากับ: 0.09875\n",
            "B1 มี Accuracy เท่ากับ: 0.13540372670807455\n",
            "B2 มี Accuracy เท่ากับ: 0.084472049689441\n",
            "B3 มี Accuracy เท่ากับ: 0.21490683229813665\n",
            "B4 มี Accuracy เท่ากับ: 0.08322981366459627\n",
            "C1 มี Accuracy เท่ากับ: 0.2186335403726708\n",
            "C2 มี Accuracy เท่ากับ: 0.0968944099378882\n",
            "C3 มี Accuracy เท่ากับ: 0.115527950310559\n",
            "C4 มี Accuracy เท่ากับ: 0.22857142857142856\n",
            "D2 มี Accuracy เท่ากับ: 0.22608695652173913\n",
            "D3 มี Accuracy เท่ากับ: 0.11180124223602485\n",
            "D4 มี Accuracy เท่ากับ: 0.16666666666666666\n"
          ]
        }
      ]
    },
    {
      "cell_type": "code",
      "source": [
        "RGB_AC_A1 = metrics.accuracy_score(y_test_A1_RGB, y_pred_A1_RGB)\n",
        "RGB_AC_A2 = metrics.accuracy_score(y_test_A2_RGB, y_pred_A2_RGB)\n",
        "RGB_AC_A3 = metrics.accuracy_score(y_test_A3_RGB, y_pred_A3_RGB)\n",
        "RGB_AC_A35 = metrics.accuracy_score(y_test_A3_5_RGB, y_pred_A3_5_RGB)\n",
        "RGB_AC_A4 = metrics.accuracy_score(y_test_A4_RGB, y_pred_A4_RGB)\n",
        "RGB_AC_B1 = metrics.accuracy_score(y_test_B1_RGB, y_pred_B1_RGB)\n",
        "RGB_AC_B2 = metrics.accuracy_score(y_test_B2_RGB, y_pred_B2_RGB)\n",
        "RGB_AC_B3 = metrics.accuracy_score(y_test_B3_RGB, y_pred_B3_RGB)\n",
        "RGB_AC_B4 = metrics.accuracy_score(y_test_B4_RGB, y_pred_B4_RGB)\n",
        "RGB_AC_C1 = metrics.accuracy_score(y_test_C1_RGB, y_pred_C1_RGB)\n",
        "RGB_AC_C2 = metrics.accuracy_score(y_test_C2_RGB, y_pred_C2_RGB)\n",
        "RGB_AC_C3 = metrics.accuracy_score(y_test_C3_RGB, y_pred_C3_RGB)\n",
        "RGB_AC_C4 = metrics.accuracy_score(y_test_C4_RGB, y_pred_C4_RGB)\n",
        "RGB_AC_D2 = metrics.accuracy_score(y_test_D2_RGB, y_pred_D2_RGB)\n",
        "RGB_AC_D3 = metrics.accuracy_score(y_test_D3_RGB, y_pred_D3_RGB)\n",
        "RGB_AC_D4 = metrics.accuracy_score(y_test_D4_RGB, y_pred_D4_RGB)"
      ],
      "metadata": {
        "id": "SKekL9nlGV8F"
      },
      "execution_count": null,
      "outputs": []
    },
    {
      "cell_type": "code",
      "source": [
        "RGB_AC =  (RGB_AC_A1,RGB_AC_A2,RGB_AC_A3,RGB_AC_A35,\n",
        "           RGB_AC_A4,RGB_AC_B1,RGB_AC_B2,RGB_AC_B3,\n",
        "           RGB_AC_B4,RGB_AC_C1,RGB_AC_C2,RGB_AC_C3,\n",
        "           RGB_AC_C4,RGB_AC_D2,RGB_AC_D3,RGB_AC_D4)"
      ],
      "metadata": {
        "id": "jc2gn4qTIzA0"
      },
      "execution_count": null,
      "outputs": []
    },
    {
      "cell_type": "code",
      "source": [
        "RGB_AC"
      ],
      "metadata": {
        "id": "IvdezR2JJ6Qm",
        "outputId": "cf517c86-a5a6-40d0-fd2b-2b2dd91db399",
        "colab": {
          "base_uri": "https://localhost:8080/"
        }
      },
      "execution_count": null,
      "outputs": [
        {
          "output_type": "execute_result",
          "data": {
            "text/plain": [
              "(0.24720496894409938,\n",
              " 0.058823529411764705,\n",
              " 0.14375,\n",
              " 0.1225,\n",
              " 0.09875,\n",
              " 0.13540372670807455,\n",
              " 0.084472049689441,\n",
              " 0.21490683229813665,\n",
              " 0.08322981366459627,\n",
              " 0.2186335403726708,\n",
              " 0.0968944099378882,\n",
              " 0.115527950310559,\n",
              " 0.22857142857142856,\n",
              " 0.22608695652173913,\n",
              " 0.11180124223602485,\n",
              " 0.16666666666666666)"
            ]
          },
          "metadata": {},
          "execution_count": 482
        }
      ]
    },
    {
      "cell_type": "code",
      "source": [
        "list_RGB_AC = list()\n",
        "list_RGB_AC.append(RGB_AC)"
      ],
      "metadata": {
        "id": "bPnGIzXNHJI1"
      },
      "execution_count": null,
      "outputs": []
    },
    {
      "cell_type": "code",
      "source": [
        "Cols = ['Set2_rgb'] \n",
        "S1_1 = pd.DataFrame(RGB_AC,columns= Cols)\n",
        "S1_1"
      ],
      "metadata": {
        "id": "YcC_W6BVMaip",
        "outputId": "875f4451-98bc-4672-8b38-9f2d95a75e49",
        "colab": {
          "base_uri": "https://localhost:8080/",
          "height": 551
        }
      },
      "execution_count": null,
      "outputs": [
        {
          "output_type": "execute_result",
          "data": {
            "text/plain": [
              "    Set2_rgb\n",
              "0   0.247205\n",
              "1   0.058824\n",
              "2   0.143750\n",
              "3   0.122500\n",
              "4   0.098750\n",
              "5   0.135404\n",
              "6   0.084472\n",
              "7   0.214907\n",
              "8   0.083230\n",
              "9   0.218634\n",
              "10  0.096894\n",
              "11  0.115528\n",
              "12  0.228571\n",
              "13  0.226087\n",
              "14  0.111801\n",
              "15  0.166667"
            ],
            "text/html": [
              "\n",
              "  <div id=\"df-f8c027dc-9c0a-411c-8529-74b75bec7944\">\n",
              "    <div class=\"colab-df-container\">\n",
              "      <div>\n",
              "<style scoped>\n",
              "    .dataframe tbody tr th:only-of-type {\n",
              "        vertical-align: middle;\n",
              "    }\n",
              "\n",
              "    .dataframe tbody tr th {\n",
              "        vertical-align: top;\n",
              "    }\n",
              "\n",
              "    .dataframe thead th {\n",
              "        text-align: right;\n",
              "    }\n",
              "</style>\n",
              "<table border=\"1\" class=\"dataframe\">\n",
              "  <thead>\n",
              "    <tr style=\"text-align: right;\">\n",
              "      <th></th>\n",
              "      <th>Set2_rgb</th>\n",
              "    </tr>\n",
              "  </thead>\n",
              "  <tbody>\n",
              "    <tr>\n",
              "      <th>0</th>\n",
              "      <td>0.247205</td>\n",
              "    </tr>\n",
              "    <tr>\n",
              "      <th>1</th>\n",
              "      <td>0.058824</td>\n",
              "    </tr>\n",
              "    <tr>\n",
              "      <th>2</th>\n",
              "      <td>0.143750</td>\n",
              "    </tr>\n",
              "    <tr>\n",
              "      <th>3</th>\n",
              "      <td>0.122500</td>\n",
              "    </tr>\n",
              "    <tr>\n",
              "      <th>4</th>\n",
              "      <td>0.098750</td>\n",
              "    </tr>\n",
              "    <tr>\n",
              "      <th>5</th>\n",
              "      <td>0.135404</td>\n",
              "    </tr>\n",
              "    <tr>\n",
              "      <th>6</th>\n",
              "      <td>0.084472</td>\n",
              "    </tr>\n",
              "    <tr>\n",
              "      <th>7</th>\n",
              "      <td>0.214907</td>\n",
              "    </tr>\n",
              "    <tr>\n",
              "      <th>8</th>\n",
              "      <td>0.083230</td>\n",
              "    </tr>\n",
              "    <tr>\n",
              "      <th>9</th>\n",
              "      <td>0.218634</td>\n",
              "    </tr>\n",
              "    <tr>\n",
              "      <th>10</th>\n",
              "      <td>0.096894</td>\n",
              "    </tr>\n",
              "    <tr>\n",
              "      <th>11</th>\n",
              "      <td>0.115528</td>\n",
              "    </tr>\n",
              "    <tr>\n",
              "      <th>12</th>\n",
              "      <td>0.228571</td>\n",
              "    </tr>\n",
              "    <tr>\n",
              "      <th>13</th>\n",
              "      <td>0.226087</td>\n",
              "    </tr>\n",
              "    <tr>\n",
              "      <th>14</th>\n",
              "      <td>0.111801</td>\n",
              "    </tr>\n",
              "    <tr>\n",
              "      <th>15</th>\n",
              "      <td>0.166667</td>\n",
              "    </tr>\n",
              "  </tbody>\n",
              "</table>\n",
              "</div>\n",
              "      <button class=\"colab-df-convert\" onclick=\"convertToInteractive('df-f8c027dc-9c0a-411c-8529-74b75bec7944')\"\n",
              "              title=\"Convert this dataframe to an interactive table.\"\n",
              "              style=\"display:none;\">\n",
              "        \n",
              "  <svg xmlns=\"http://www.w3.org/2000/svg\" height=\"24px\"viewBox=\"0 0 24 24\"\n",
              "       width=\"24px\">\n",
              "    <path d=\"M0 0h24v24H0V0z\" fill=\"none\"/>\n",
              "    <path d=\"M18.56 5.44l.94 2.06.94-2.06 2.06-.94-2.06-.94-.94-2.06-.94 2.06-2.06.94zm-11 1L8.5 8.5l.94-2.06 2.06-.94-2.06-.94L8.5 2.5l-.94 2.06-2.06.94zm10 10l.94 2.06.94-2.06 2.06-.94-2.06-.94-.94-2.06-.94 2.06-2.06.94z\"/><path d=\"M17.41 7.96l-1.37-1.37c-.4-.4-.92-.59-1.43-.59-.52 0-1.04.2-1.43.59L10.3 9.45l-7.72 7.72c-.78.78-.78 2.05 0 2.83L4 21.41c.39.39.9.59 1.41.59.51 0 1.02-.2 1.41-.59l7.78-7.78 2.81-2.81c.8-.78.8-2.07 0-2.86zM5.41 20L4 18.59l7.72-7.72 1.47 1.35L5.41 20z\"/>\n",
              "  </svg>\n",
              "      </button>\n",
              "      \n",
              "  <style>\n",
              "    .colab-df-container {\n",
              "      display:flex;\n",
              "      flex-wrap:wrap;\n",
              "      gap: 12px;\n",
              "    }\n",
              "\n",
              "    .colab-df-convert {\n",
              "      background-color: #E8F0FE;\n",
              "      border: none;\n",
              "      border-radius: 50%;\n",
              "      cursor: pointer;\n",
              "      display: none;\n",
              "      fill: #1967D2;\n",
              "      height: 32px;\n",
              "      padding: 0 0 0 0;\n",
              "      width: 32px;\n",
              "    }\n",
              "\n",
              "    .colab-df-convert:hover {\n",
              "      background-color: #E2EBFA;\n",
              "      box-shadow: 0px 1px 2px rgba(60, 64, 67, 0.3), 0px 1px 3px 1px rgba(60, 64, 67, 0.15);\n",
              "      fill: #174EA6;\n",
              "    }\n",
              "\n",
              "    [theme=dark] .colab-df-convert {\n",
              "      background-color: #3B4455;\n",
              "      fill: #D2E3FC;\n",
              "    }\n",
              "\n",
              "    [theme=dark] .colab-df-convert:hover {\n",
              "      background-color: #434B5C;\n",
              "      box-shadow: 0px 1px 3px 1px rgba(0, 0, 0, 0.15);\n",
              "      filter: drop-shadow(0px 1px 2px rgba(0, 0, 0, 0.3));\n",
              "      fill: #FFFFFF;\n",
              "    }\n",
              "  </style>\n",
              "\n",
              "      <script>\n",
              "        const buttonEl =\n",
              "          document.querySelector('#df-f8c027dc-9c0a-411c-8529-74b75bec7944 button.colab-df-convert');\n",
              "        buttonEl.style.display =\n",
              "          google.colab.kernel.accessAllowed ? 'block' : 'none';\n",
              "\n",
              "        async function convertToInteractive(key) {\n",
              "          const element = document.querySelector('#df-f8c027dc-9c0a-411c-8529-74b75bec7944');\n",
              "          const dataTable =\n",
              "            await google.colab.kernel.invokeFunction('convertToInteractive',\n",
              "                                                     [key], {});\n",
              "          if (!dataTable) return;\n",
              "\n",
              "          const docLinkHtml = 'Like what you see? Visit the ' +\n",
              "            '<a target=\"_blank\" href=https://colab.research.google.com/notebooks/data_table.ipynb>data table notebook</a>'\n",
              "            + ' to learn more about interactive tables.';\n",
              "          element.innerHTML = '';\n",
              "          dataTable['output_type'] = 'display_data';\n",
              "          await google.colab.output.renderOutput(dataTable, element);\n",
              "          const docLink = document.createElement('div');\n",
              "          docLink.innerHTML = docLinkHtml;\n",
              "          element.appendChild(docLink);\n",
              "        }\n",
              "      </script>\n",
              "    </div>\n",
              "  </div>\n",
              "  "
            ]
          },
          "metadata": {},
          "execution_count": 484
        }
      ]
    },
    {
      "cell_type": "markdown",
      "source": [
        "##HSV"
      ],
      "metadata": {
        "id": "F2CX4hhnEhIA"
      }
    },
    {
      "cell_type": "code",
      "source": [
        "print(\"A1 มี Accuracy เท่ากับ:\", metrics.accuracy_score(y_test_A1_HSV, y_pred_A1_HSV))\n",
        "print(\"A2 มี Accuracy เท่ากับ:\", metrics.accuracy_score(y_test_A2_HSV, y_pred_A2_HSV))\n",
        "print(\"A3 มี Accuracy เท่ากับ:\", metrics.accuracy_score(y_test_A3_HSV, y_pred_A3_HSV))\n",
        "print(\"A3.5 มี Accuracy เท่ากับ:\", metrics.accuracy_score(y_test_A3_5_HSV, y_pred_A3_5_HSV))\n",
        "print(\"A4 มี Accuracy เท่ากับ:\", metrics.accuracy_score(y_test_A4_HSV, y_pred_A4_HSV))\n",
        "print(\"B1 มี Accuracy เท่ากับ:\", metrics.accuracy_score(y_test_B1_HSV, y_pred_B1_HSV))\n",
        "print(\"B2 มี Accuracy เท่ากับ:\", metrics.accuracy_score(y_test_B2_HSV, y_pred_B2_HSV))\n",
        "print(\"B3 มี Accuracy เท่ากับ:\", metrics.accuracy_score(y_test_B3_HSV, y_pred_B3_HSV))\n",
        "print(\"B4 มี Accuracy เท่ากับ:\", metrics.accuracy_score(y_test_B4_HSV, y_pred_B4_HSV))\n",
        "print(\"C1 มี Accuracy เท่ากับ:\", metrics.accuracy_score(y_test_C1_HSV, y_pred_C1_HSV))\n",
        "print(\"C2 มี Accuracy เท่ากับ:\", metrics.accuracy_score(y_test_C2_HSV, y_pred_C2_HSV))\n",
        "print(\"C3 มี Accuracy เท่ากับ:\", metrics.accuracy_score(y_test_C3_HSV, y_pred_C3_HSV))\n",
        "print(\"C4 มี Accuracy เท่ากับ:\", metrics.accuracy_score(y_test_C4_HSV, y_pred_C4_HSV))\n",
        "print(\"D2 มี Accuracy เท่ากับ:\", metrics.accuracy_score(y_test_D2_HSV, y_pred_D2_HSV))\n",
        "print(\"D3 มี Accuracy เท่ากับ:\", metrics.accuracy_score(y_test_D3_HSV, y_pred_D3_HSV))\n",
        "print(\"D4 มี Accuracy เท่ากับ:\", metrics.accuracy_score(y_test_D4_HSV, y_pred_D4_HSV))"
      ],
      "metadata": {
        "id": "NofOkqvcEKnU",
        "outputId": "cf3e0bcf-8695-416e-bbcf-a7f30ada2a10",
        "colab": {
          "base_uri": "https://localhost:8080/"
        }
      },
      "execution_count": null,
      "outputs": [
        {
          "output_type": "stream",
          "name": "stdout",
          "text": [
            "A1 มี Accuracy เท่ากับ: 0.062111801242236024\n",
            "A2 มี Accuracy เท่ากับ: 0.058823529411764705\n",
            "A3 มี Accuracy เท่ากับ: 0.10125\n",
            "A3.5 มี Accuracy เท่ากับ: 0.06625\n",
            "A4 มี Accuracy เท่ากับ: 0.0625\n",
            "B1 มี Accuracy เท่ากับ: 0.12422360248447205\n",
            "B2 มี Accuracy เท่ากับ: 0.11180124223602485\n",
            "B3 มี Accuracy เท่ากับ: 0.06335403726708075\n",
            "B4 มี Accuracy เท่ากับ: 0.062111801242236024\n",
            "C1 มี Accuracy เท่ากับ: 0.062111801242236024\n",
            "C2 มี Accuracy เท่ากับ: 0.11180124223602485\n",
            "C3 มี Accuracy เท่ากับ: 0.062111801242236024\n",
            "C4 มี Accuracy เท่ากับ: 0.062111801242236024\n",
            "D2 มี Accuracy เท่ากับ: 0.062111801242236024\n",
            "D3 มี Accuracy เท่ากับ: 0.062111801242236024\n",
            "D4 มี Accuracy เท่ากับ: 0.06444444444444444\n"
          ]
        }
      ]
    },
    {
      "cell_type": "code",
      "source": [
        "HSV_AC_A1 = metrics.accuracy_score(y_test_A1_HSV, y_pred_A1_HSV)\n",
        "HSV_AC_A2 = metrics.accuracy_score(y_test_A2_HSV, y_pred_A2_HSV)\n",
        "HSV_AC_A3 = metrics.accuracy_score(y_test_A3_HSV, y_pred_A3_HSV)\n",
        "HSV_AC_A35 = metrics.accuracy_score(y_test_A3_5_HSV, y_pred_A3_5_HSV)\n",
        "HSV_AC_A4 = metrics.accuracy_score(y_test_A4_HSV, y_pred_A4_HSV)\n",
        "HSV_AC_B1 = metrics.accuracy_score(y_test_B1_HSV, y_pred_B1_HSV)\n",
        "HSV_AC_B2 = metrics.accuracy_score(y_test_B2_HSV, y_pred_B2_HSV)\n",
        "HSV_AC_B3 = metrics.accuracy_score(y_test_B3_HSV, y_pred_B3_HSV)\n",
        "HSV_AC_B4 = metrics.accuracy_score(y_test_B4_HSV, y_pred_B4_HSV)\n",
        "HSV_AC_C1 = metrics.accuracy_score(y_test_C1_HSV, y_pred_C1_HSV)\n",
        "HSV_AC_C2 = metrics.accuracy_score(y_test_C2_HSV, y_pred_C2_HSV)\n",
        "HSV_AC_C3 = metrics.accuracy_score(y_test_C3_HSV, y_pred_C3_HSV)\n",
        "HSV_AC_C4 = metrics.accuracy_score(y_test_C4_HSV, y_pred_C4_HSV)\n",
        "HSV_AC_D2 = metrics.accuracy_score(y_test_D2_HSV, y_pred_D2_HSV)\n",
        "HSV_AC_D3 = metrics.accuracy_score(y_test_D3_HSV, y_pred_D3_HSV)\n",
        "HSV_AC_D4 = metrics.accuracy_score(y_test_D4_HSV, y_pred_D4_HSV)"
      ],
      "metadata": {
        "id": "9ZyVXRHMN8Xl"
      },
      "execution_count": null,
      "outputs": []
    },
    {
      "cell_type": "code",
      "source": [
        "HSV_AC =  (HSV_AC_A1,HSV_AC_A2,HSV_AC_A3,HSV_AC_A35,\n",
        "           HSV_AC_A4,HSV_AC_B1,HSV_AC_B2,HSV_AC_B3,\n",
        "           HSV_AC_B4,HSV_AC_C1,HSV_AC_C2,HSV_AC_C3,\n",
        "           HSV_AC_C4,HSV_AC_D2,HSV_AC_D3,HSV_AC_D4)"
      ],
      "metadata": {
        "id": "rAkegsftOXus"
      },
      "execution_count": null,
      "outputs": []
    },
    {
      "cell_type": "code",
      "source": [
        "list_HSV_AC = list()\n",
        "list_HSV_AC.append(RGB_AC)"
      ],
      "metadata": {
        "id": "8443LJWwOgpa"
      },
      "execution_count": null,
      "outputs": []
    },
    {
      "cell_type": "code",
      "source": [
        "Cols = ['Set2_hsv'] \n",
        "S1_2 = pd.DataFrame(HSV_AC,columns= Cols)\n",
        "S1_2"
      ],
      "metadata": {
        "id": "3pnOMEAjOit-",
        "outputId": "15ec81fb-c00a-421f-b873-29332b30fd2f",
        "colab": {
          "base_uri": "https://localhost:8080/",
          "height": 551
        }
      },
      "execution_count": null,
      "outputs": [
        {
          "output_type": "execute_result",
          "data": {
            "text/plain": [
              "    Set2_hsv\n",
              "0   0.062112\n",
              "1   0.058824\n",
              "2   0.101250\n",
              "3   0.066250\n",
              "4   0.062500\n",
              "5   0.124224\n",
              "6   0.111801\n",
              "7   0.063354\n",
              "8   0.062112\n",
              "9   0.062112\n",
              "10  0.111801\n",
              "11  0.062112\n",
              "12  0.062112\n",
              "13  0.062112\n",
              "14  0.062112\n",
              "15  0.064444"
            ],
            "text/html": [
              "\n",
              "  <div id=\"df-9529f16e-00ad-41d4-b6e4-6f66a0ecaee5\">\n",
              "    <div class=\"colab-df-container\">\n",
              "      <div>\n",
              "<style scoped>\n",
              "    .dataframe tbody tr th:only-of-type {\n",
              "        vertical-align: middle;\n",
              "    }\n",
              "\n",
              "    .dataframe tbody tr th {\n",
              "        vertical-align: top;\n",
              "    }\n",
              "\n",
              "    .dataframe thead th {\n",
              "        text-align: right;\n",
              "    }\n",
              "</style>\n",
              "<table border=\"1\" class=\"dataframe\">\n",
              "  <thead>\n",
              "    <tr style=\"text-align: right;\">\n",
              "      <th></th>\n",
              "      <th>Set2_hsv</th>\n",
              "    </tr>\n",
              "  </thead>\n",
              "  <tbody>\n",
              "    <tr>\n",
              "      <th>0</th>\n",
              "      <td>0.062112</td>\n",
              "    </tr>\n",
              "    <tr>\n",
              "      <th>1</th>\n",
              "      <td>0.058824</td>\n",
              "    </tr>\n",
              "    <tr>\n",
              "      <th>2</th>\n",
              "      <td>0.101250</td>\n",
              "    </tr>\n",
              "    <tr>\n",
              "      <th>3</th>\n",
              "      <td>0.066250</td>\n",
              "    </tr>\n",
              "    <tr>\n",
              "      <th>4</th>\n",
              "      <td>0.062500</td>\n",
              "    </tr>\n",
              "    <tr>\n",
              "      <th>5</th>\n",
              "      <td>0.124224</td>\n",
              "    </tr>\n",
              "    <tr>\n",
              "      <th>6</th>\n",
              "      <td>0.111801</td>\n",
              "    </tr>\n",
              "    <tr>\n",
              "      <th>7</th>\n",
              "      <td>0.063354</td>\n",
              "    </tr>\n",
              "    <tr>\n",
              "      <th>8</th>\n",
              "      <td>0.062112</td>\n",
              "    </tr>\n",
              "    <tr>\n",
              "      <th>9</th>\n",
              "      <td>0.062112</td>\n",
              "    </tr>\n",
              "    <tr>\n",
              "      <th>10</th>\n",
              "      <td>0.111801</td>\n",
              "    </tr>\n",
              "    <tr>\n",
              "      <th>11</th>\n",
              "      <td>0.062112</td>\n",
              "    </tr>\n",
              "    <tr>\n",
              "      <th>12</th>\n",
              "      <td>0.062112</td>\n",
              "    </tr>\n",
              "    <tr>\n",
              "      <th>13</th>\n",
              "      <td>0.062112</td>\n",
              "    </tr>\n",
              "    <tr>\n",
              "      <th>14</th>\n",
              "      <td>0.062112</td>\n",
              "    </tr>\n",
              "    <tr>\n",
              "      <th>15</th>\n",
              "      <td>0.064444</td>\n",
              "    </tr>\n",
              "  </tbody>\n",
              "</table>\n",
              "</div>\n",
              "      <button class=\"colab-df-convert\" onclick=\"convertToInteractive('df-9529f16e-00ad-41d4-b6e4-6f66a0ecaee5')\"\n",
              "              title=\"Convert this dataframe to an interactive table.\"\n",
              "              style=\"display:none;\">\n",
              "        \n",
              "  <svg xmlns=\"http://www.w3.org/2000/svg\" height=\"24px\"viewBox=\"0 0 24 24\"\n",
              "       width=\"24px\">\n",
              "    <path d=\"M0 0h24v24H0V0z\" fill=\"none\"/>\n",
              "    <path d=\"M18.56 5.44l.94 2.06.94-2.06 2.06-.94-2.06-.94-.94-2.06-.94 2.06-2.06.94zm-11 1L8.5 8.5l.94-2.06 2.06-.94-2.06-.94L8.5 2.5l-.94 2.06-2.06.94zm10 10l.94 2.06.94-2.06 2.06-.94-2.06-.94-.94-2.06-.94 2.06-2.06.94z\"/><path d=\"M17.41 7.96l-1.37-1.37c-.4-.4-.92-.59-1.43-.59-.52 0-1.04.2-1.43.59L10.3 9.45l-7.72 7.72c-.78.78-.78 2.05 0 2.83L4 21.41c.39.39.9.59 1.41.59.51 0 1.02-.2 1.41-.59l7.78-7.78 2.81-2.81c.8-.78.8-2.07 0-2.86zM5.41 20L4 18.59l7.72-7.72 1.47 1.35L5.41 20z\"/>\n",
              "  </svg>\n",
              "      </button>\n",
              "      \n",
              "  <style>\n",
              "    .colab-df-container {\n",
              "      display:flex;\n",
              "      flex-wrap:wrap;\n",
              "      gap: 12px;\n",
              "    }\n",
              "\n",
              "    .colab-df-convert {\n",
              "      background-color: #E8F0FE;\n",
              "      border: none;\n",
              "      border-radius: 50%;\n",
              "      cursor: pointer;\n",
              "      display: none;\n",
              "      fill: #1967D2;\n",
              "      height: 32px;\n",
              "      padding: 0 0 0 0;\n",
              "      width: 32px;\n",
              "    }\n",
              "\n",
              "    .colab-df-convert:hover {\n",
              "      background-color: #E2EBFA;\n",
              "      box-shadow: 0px 1px 2px rgba(60, 64, 67, 0.3), 0px 1px 3px 1px rgba(60, 64, 67, 0.15);\n",
              "      fill: #174EA6;\n",
              "    }\n",
              "\n",
              "    [theme=dark] .colab-df-convert {\n",
              "      background-color: #3B4455;\n",
              "      fill: #D2E3FC;\n",
              "    }\n",
              "\n",
              "    [theme=dark] .colab-df-convert:hover {\n",
              "      background-color: #434B5C;\n",
              "      box-shadow: 0px 1px 3px 1px rgba(0, 0, 0, 0.15);\n",
              "      filter: drop-shadow(0px 1px 2px rgba(0, 0, 0, 0.3));\n",
              "      fill: #FFFFFF;\n",
              "    }\n",
              "  </style>\n",
              "\n",
              "      <script>\n",
              "        const buttonEl =\n",
              "          document.querySelector('#df-9529f16e-00ad-41d4-b6e4-6f66a0ecaee5 button.colab-df-convert');\n",
              "        buttonEl.style.display =\n",
              "          google.colab.kernel.accessAllowed ? 'block' : 'none';\n",
              "\n",
              "        async function convertToInteractive(key) {\n",
              "          const element = document.querySelector('#df-9529f16e-00ad-41d4-b6e4-6f66a0ecaee5');\n",
              "          const dataTable =\n",
              "            await google.colab.kernel.invokeFunction('convertToInteractive',\n",
              "                                                     [key], {});\n",
              "          if (!dataTable) return;\n",
              "\n",
              "          const docLinkHtml = 'Like what you see? Visit the ' +\n",
              "            '<a target=\"_blank\" href=https://colab.research.google.com/notebooks/data_table.ipynb>data table notebook</a>'\n",
              "            + ' to learn more about interactive tables.';\n",
              "          element.innerHTML = '';\n",
              "          dataTable['output_type'] = 'display_data';\n",
              "          await google.colab.output.renderOutput(dataTable, element);\n",
              "          const docLink = document.createElement('div');\n",
              "          docLink.innerHTML = docLinkHtml;\n",
              "          element.appendChild(docLink);\n",
              "        }\n",
              "      </script>\n",
              "    </div>\n",
              "  </div>\n",
              "  "
            ]
          },
          "metadata": {},
          "execution_count": 489
        }
      ]
    },
    {
      "cell_type": "code",
      "source": [
        "name =  ('A1','A2','A3','A3.5','A4','B1','B2','B3','B4','C1','C2','C3','C4','D2','D3','D4')"
      ],
      "metadata": {
        "id": "RLPR4uP5O8M2"
      },
      "execution_count": null,
      "outputs": []
    },
    {
      "cell_type": "code",
      "source": [
        "Cols = ['shade'] \n",
        "S1_3 = pd.DataFrame(name,columns= Cols)\n",
        "S1_3"
      ],
      "metadata": {
        "id": "0MbXQK16PW33",
        "outputId": "54408569-4d0f-4c9f-d759-91ee3f8591fe",
        "colab": {
          "base_uri": "https://localhost:8080/",
          "height": 551
        }
      },
      "execution_count": null,
      "outputs": [
        {
          "output_type": "execute_result",
          "data": {
            "text/plain": [
              "   shade\n",
              "0     A1\n",
              "1     A2\n",
              "2     A3\n",
              "3   A3.5\n",
              "4     A4\n",
              "5     B1\n",
              "6     B2\n",
              "7     B3\n",
              "8     B4\n",
              "9     C1\n",
              "10    C2\n",
              "11    C3\n",
              "12    C4\n",
              "13    D2\n",
              "14    D3\n",
              "15    D4"
            ],
            "text/html": [
              "\n",
              "  <div id=\"df-2a72766f-f27b-452d-8963-50eb50b798f8\">\n",
              "    <div class=\"colab-df-container\">\n",
              "      <div>\n",
              "<style scoped>\n",
              "    .dataframe tbody tr th:only-of-type {\n",
              "        vertical-align: middle;\n",
              "    }\n",
              "\n",
              "    .dataframe tbody tr th {\n",
              "        vertical-align: top;\n",
              "    }\n",
              "\n",
              "    .dataframe thead th {\n",
              "        text-align: right;\n",
              "    }\n",
              "</style>\n",
              "<table border=\"1\" class=\"dataframe\">\n",
              "  <thead>\n",
              "    <tr style=\"text-align: right;\">\n",
              "      <th></th>\n",
              "      <th>shade</th>\n",
              "    </tr>\n",
              "  </thead>\n",
              "  <tbody>\n",
              "    <tr>\n",
              "      <th>0</th>\n",
              "      <td>A1</td>\n",
              "    </tr>\n",
              "    <tr>\n",
              "      <th>1</th>\n",
              "      <td>A2</td>\n",
              "    </tr>\n",
              "    <tr>\n",
              "      <th>2</th>\n",
              "      <td>A3</td>\n",
              "    </tr>\n",
              "    <tr>\n",
              "      <th>3</th>\n",
              "      <td>A3.5</td>\n",
              "    </tr>\n",
              "    <tr>\n",
              "      <th>4</th>\n",
              "      <td>A4</td>\n",
              "    </tr>\n",
              "    <tr>\n",
              "      <th>5</th>\n",
              "      <td>B1</td>\n",
              "    </tr>\n",
              "    <tr>\n",
              "      <th>6</th>\n",
              "      <td>B2</td>\n",
              "    </tr>\n",
              "    <tr>\n",
              "      <th>7</th>\n",
              "      <td>B3</td>\n",
              "    </tr>\n",
              "    <tr>\n",
              "      <th>8</th>\n",
              "      <td>B4</td>\n",
              "    </tr>\n",
              "    <tr>\n",
              "      <th>9</th>\n",
              "      <td>C1</td>\n",
              "    </tr>\n",
              "    <tr>\n",
              "      <th>10</th>\n",
              "      <td>C2</td>\n",
              "    </tr>\n",
              "    <tr>\n",
              "      <th>11</th>\n",
              "      <td>C3</td>\n",
              "    </tr>\n",
              "    <tr>\n",
              "      <th>12</th>\n",
              "      <td>C4</td>\n",
              "    </tr>\n",
              "    <tr>\n",
              "      <th>13</th>\n",
              "      <td>D2</td>\n",
              "    </tr>\n",
              "    <tr>\n",
              "      <th>14</th>\n",
              "      <td>D3</td>\n",
              "    </tr>\n",
              "    <tr>\n",
              "      <th>15</th>\n",
              "      <td>D4</td>\n",
              "    </tr>\n",
              "  </tbody>\n",
              "</table>\n",
              "</div>\n",
              "      <button class=\"colab-df-convert\" onclick=\"convertToInteractive('df-2a72766f-f27b-452d-8963-50eb50b798f8')\"\n",
              "              title=\"Convert this dataframe to an interactive table.\"\n",
              "              style=\"display:none;\">\n",
              "        \n",
              "  <svg xmlns=\"http://www.w3.org/2000/svg\" height=\"24px\"viewBox=\"0 0 24 24\"\n",
              "       width=\"24px\">\n",
              "    <path d=\"M0 0h24v24H0V0z\" fill=\"none\"/>\n",
              "    <path d=\"M18.56 5.44l.94 2.06.94-2.06 2.06-.94-2.06-.94-.94-2.06-.94 2.06-2.06.94zm-11 1L8.5 8.5l.94-2.06 2.06-.94-2.06-.94L8.5 2.5l-.94 2.06-2.06.94zm10 10l.94 2.06.94-2.06 2.06-.94-2.06-.94-.94-2.06-.94 2.06-2.06.94z\"/><path d=\"M17.41 7.96l-1.37-1.37c-.4-.4-.92-.59-1.43-.59-.52 0-1.04.2-1.43.59L10.3 9.45l-7.72 7.72c-.78.78-.78 2.05 0 2.83L4 21.41c.39.39.9.59 1.41.59.51 0 1.02-.2 1.41-.59l7.78-7.78 2.81-2.81c.8-.78.8-2.07 0-2.86zM5.41 20L4 18.59l7.72-7.72 1.47 1.35L5.41 20z\"/>\n",
              "  </svg>\n",
              "      </button>\n",
              "      \n",
              "  <style>\n",
              "    .colab-df-container {\n",
              "      display:flex;\n",
              "      flex-wrap:wrap;\n",
              "      gap: 12px;\n",
              "    }\n",
              "\n",
              "    .colab-df-convert {\n",
              "      background-color: #E8F0FE;\n",
              "      border: none;\n",
              "      border-radius: 50%;\n",
              "      cursor: pointer;\n",
              "      display: none;\n",
              "      fill: #1967D2;\n",
              "      height: 32px;\n",
              "      padding: 0 0 0 0;\n",
              "      width: 32px;\n",
              "    }\n",
              "\n",
              "    .colab-df-convert:hover {\n",
              "      background-color: #E2EBFA;\n",
              "      box-shadow: 0px 1px 2px rgba(60, 64, 67, 0.3), 0px 1px 3px 1px rgba(60, 64, 67, 0.15);\n",
              "      fill: #174EA6;\n",
              "    }\n",
              "\n",
              "    [theme=dark] .colab-df-convert {\n",
              "      background-color: #3B4455;\n",
              "      fill: #D2E3FC;\n",
              "    }\n",
              "\n",
              "    [theme=dark] .colab-df-convert:hover {\n",
              "      background-color: #434B5C;\n",
              "      box-shadow: 0px 1px 3px 1px rgba(0, 0, 0, 0.15);\n",
              "      filter: drop-shadow(0px 1px 2px rgba(0, 0, 0, 0.3));\n",
              "      fill: #FFFFFF;\n",
              "    }\n",
              "  </style>\n",
              "\n",
              "      <script>\n",
              "        const buttonEl =\n",
              "          document.querySelector('#df-2a72766f-f27b-452d-8963-50eb50b798f8 button.colab-df-convert');\n",
              "        buttonEl.style.display =\n",
              "          google.colab.kernel.accessAllowed ? 'block' : 'none';\n",
              "\n",
              "        async function convertToInteractive(key) {\n",
              "          const element = document.querySelector('#df-2a72766f-f27b-452d-8963-50eb50b798f8');\n",
              "          const dataTable =\n",
              "            await google.colab.kernel.invokeFunction('convertToInteractive',\n",
              "                                                     [key], {});\n",
              "          if (!dataTable) return;\n",
              "\n",
              "          const docLinkHtml = 'Like what you see? Visit the ' +\n",
              "            '<a target=\"_blank\" href=https://colab.research.google.com/notebooks/data_table.ipynb>data table notebook</a>'\n",
              "            + ' to learn more about interactive tables.';\n",
              "          element.innerHTML = '';\n",
              "          dataTable['output_type'] = 'display_data';\n",
              "          await google.colab.output.renderOutput(dataTable, element);\n",
              "          const docLink = document.createElement('div');\n",
              "          docLink.innerHTML = docLinkHtml;\n",
              "          element.appendChild(docLink);\n",
              "        }\n",
              "      </script>\n",
              "    </div>\n",
              "  </div>\n",
              "  "
            ]
          },
          "metadata": {},
          "execution_count": 491
        }
      ]
    },
    {
      "cell_type": "code",
      "source": [
        "Data_RF = pd.concat([S1_3,S1_1,S1_2], axis=1)\n",
        "Data_RF"
      ],
      "metadata": {
        "id": "s_kFJxtYOmdC",
        "outputId": "37c50d51-e96b-47c3-9fa8-d04763e3fb09",
        "colab": {
          "base_uri": "https://localhost:8080/",
          "height": 551
        }
      },
      "execution_count": null,
      "outputs": [
        {
          "output_type": "execute_result",
          "data": {
            "text/plain": [
              "   shade  Set2_rgb  Set2_hsv\n",
              "0     A1  0.247205  0.062112\n",
              "1     A2  0.058824  0.058824\n",
              "2     A3  0.143750  0.101250\n",
              "3   A3.5  0.122500  0.066250\n",
              "4     A4  0.098750  0.062500\n",
              "5     B1  0.135404  0.124224\n",
              "6     B2  0.084472  0.111801\n",
              "7     B3  0.214907  0.063354\n",
              "8     B4  0.083230  0.062112\n",
              "9     C1  0.218634  0.062112\n",
              "10    C2  0.096894  0.111801\n",
              "11    C3  0.115528  0.062112\n",
              "12    C4  0.228571  0.062112\n",
              "13    D2  0.226087  0.062112\n",
              "14    D3  0.111801  0.062112\n",
              "15    D4  0.166667  0.064444"
            ],
            "text/html": [
              "\n",
              "  <div id=\"df-1c489cc1-550a-43c6-9b0c-8ebad0f7678e\">\n",
              "    <div class=\"colab-df-container\">\n",
              "      <div>\n",
              "<style scoped>\n",
              "    .dataframe tbody tr th:only-of-type {\n",
              "        vertical-align: middle;\n",
              "    }\n",
              "\n",
              "    .dataframe tbody tr th {\n",
              "        vertical-align: top;\n",
              "    }\n",
              "\n",
              "    .dataframe thead th {\n",
              "        text-align: right;\n",
              "    }\n",
              "</style>\n",
              "<table border=\"1\" class=\"dataframe\">\n",
              "  <thead>\n",
              "    <tr style=\"text-align: right;\">\n",
              "      <th></th>\n",
              "      <th>shade</th>\n",
              "      <th>Set2_rgb</th>\n",
              "      <th>Set2_hsv</th>\n",
              "    </tr>\n",
              "  </thead>\n",
              "  <tbody>\n",
              "    <tr>\n",
              "      <th>0</th>\n",
              "      <td>A1</td>\n",
              "      <td>0.247205</td>\n",
              "      <td>0.062112</td>\n",
              "    </tr>\n",
              "    <tr>\n",
              "      <th>1</th>\n",
              "      <td>A2</td>\n",
              "      <td>0.058824</td>\n",
              "      <td>0.058824</td>\n",
              "    </tr>\n",
              "    <tr>\n",
              "      <th>2</th>\n",
              "      <td>A3</td>\n",
              "      <td>0.143750</td>\n",
              "      <td>0.101250</td>\n",
              "    </tr>\n",
              "    <tr>\n",
              "      <th>3</th>\n",
              "      <td>A3.5</td>\n",
              "      <td>0.122500</td>\n",
              "      <td>0.066250</td>\n",
              "    </tr>\n",
              "    <tr>\n",
              "      <th>4</th>\n",
              "      <td>A4</td>\n",
              "      <td>0.098750</td>\n",
              "      <td>0.062500</td>\n",
              "    </tr>\n",
              "    <tr>\n",
              "      <th>5</th>\n",
              "      <td>B1</td>\n",
              "      <td>0.135404</td>\n",
              "      <td>0.124224</td>\n",
              "    </tr>\n",
              "    <tr>\n",
              "      <th>6</th>\n",
              "      <td>B2</td>\n",
              "      <td>0.084472</td>\n",
              "      <td>0.111801</td>\n",
              "    </tr>\n",
              "    <tr>\n",
              "      <th>7</th>\n",
              "      <td>B3</td>\n",
              "      <td>0.214907</td>\n",
              "      <td>0.063354</td>\n",
              "    </tr>\n",
              "    <tr>\n",
              "      <th>8</th>\n",
              "      <td>B4</td>\n",
              "      <td>0.083230</td>\n",
              "      <td>0.062112</td>\n",
              "    </tr>\n",
              "    <tr>\n",
              "      <th>9</th>\n",
              "      <td>C1</td>\n",
              "      <td>0.218634</td>\n",
              "      <td>0.062112</td>\n",
              "    </tr>\n",
              "    <tr>\n",
              "      <th>10</th>\n",
              "      <td>C2</td>\n",
              "      <td>0.096894</td>\n",
              "      <td>0.111801</td>\n",
              "    </tr>\n",
              "    <tr>\n",
              "      <th>11</th>\n",
              "      <td>C3</td>\n",
              "      <td>0.115528</td>\n",
              "      <td>0.062112</td>\n",
              "    </tr>\n",
              "    <tr>\n",
              "      <th>12</th>\n",
              "      <td>C4</td>\n",
              "      <td>0.228571</td>\n",
              "      <td>0.062112</td>\n",
              "    </tr>\n",
              "    <tr>\n",
              "      <th>13</th>\n",
              "      <td>D2</td>\n",
              "      <td>0.226087</td>\n",
              "      <td>0.062112</td>\n",
              "    </tr>\n",
              "    <tr>\n",
              "      <th>14</th>\n",
              "      <td>D3</td>\n",
              "      <td>0.111801</td>\n",
              "      <td>0.062112</td>\n",
              "    </tr>\n",
              "    <tr>\n",
              "      <th>15</th>\n",
              "      <td>D4</td>\n",
              "      <td>0.166667</td>\n",
              "      <td>0.064444</td>\n",
              "    </tr>\n",
              "  </tbody>\n",
              "</table>\n",
              "</div>\n",
              "      <button class=\"colab-df-convert\" onclick=\"convertToInteractive('df-1c489cc1-550a-43c6-9b0c-8ebad0f7678e')\"\n",
              "              title=\"Convert this dataframe to an interactive table.\"\n",
              "              style=\"display:none;\">\n",
              "        \n",
              "  <svg xmlns=\"http://www.w3.org/2000/svg\" height=\"24px\"viewBox=\"0 0 24 24\"\n",
              "       width=\"24px\">\n",
              "    <path d=\"M0 0h24v24H0V0z\" fill=\"none\"/>\n",
              "    <path d=\"M18.56 5.44l.94 2.06.94-2.06 2.06-.94-2.06-.94-.94-2.06-.94 2.06-2.06.94zm-11 1L8.5 8.5l.94-2.06 2.06-.94-2.06-.94L8.5 2.5l-.94 2.06-2.06.94zm10 10l.94 2.06.94-2.06 2.06-.94-2.06-.94-.94-2.06-.94 2.06-2.06.94z\"/><path d=\"M17.41 7.96l-1.37-1.37c-.4-.4-.92-.59-1.43-.59-.52 0-1.04.2-1.43.59L10.3 9.45l-7.72 7.72c-.78.78-.78 2.05 0 2.83L4 21.41c.39.39.9.59 1.41.59.51 0 1.02-.2 1.41-.59l7.78-7.78 2.81-2.81c.8-.78.8-2.07 0-2.86zM5.41 20L4 18.59l7.72-7.72 1.47 1.35L5.41 20z\"/>\n",
              "  </svg>\n",
              "      </button>\n",
              "      \n",
              "  <style>\n",
              "    .colab-df-container {\n",
              "      display:flex;\n",
              "      flex-wrap:wrap;\n",
              "      gap: 12px;\n",
              "    }\n",
              "\n",
              "    .colab-df-convert {\n",
              "      background-color: #E8F0FE;\n",
              "      border: none;\n",
              "      border-radius: 50%;\n",
              "      cursor: pointer;\n",
              "      display: none;\n",
              "      fill: #1967D2;\n",
              "      height: 32px;\n",
              "      padding: 0 0 0 0;\n",
              "      width: 32px;\n",
              "    }\n",
              "\n",
              "    .colab-df-convert:hover {\n",
              "      background-color: #E2EBFA;\n",
              "      box-shadow: 0px 1px 2px rgba(60, 64, 67, 0.3), 0px 1px 3px 1px rgba(60, 64, 67, 0.15);\n",
              "      fill: #174EA6;\n",
              "    }\n",
              "\n",
              "    [theme=dark] .colab-df-convert {\n",
              "      background-color: #3B4455;\n",
              "      fill: #D2E3FC;\n",
              "    }\n",
              "\n",
              "    [theme=dark] .colab-df-convert:hover {\n",
              "      background-color: #434B5C;\n",
              "      box-shadow: 0px 1px 3px 1px rgba(0, 0, 0, 0.15);\n",
              "      filter: drop-shadow(0px 1px 2px rgba(0, 0, 0, 0.3));\n",
              "      fill: #FFFFFF;\n",
              "    }\n",
              "  </style>\n",
              "\n",
              "      <script>\n",
              "        const buttonEl =\n",
              "          document.querySelector('#df-1c489cc1-550a-43c6-9b0c-8ebad0f7678e button.colab-df-convert');\n",
              "        buttonEl.style.display =\n",
              "          google.colab.kernel.accessAllowed ? 'block' : 'none';\n",
              "\n",
              "        async function convertToInteractive(key) {\n",
              "          const element = document.querySelector('#df-1c489cc1-550a-43c6-9b0c-8ebad0f7678e');\n",
              "          const dataTable =\n",
              "            await google.colab.kernel.invokeFunction('convertToInteractive',\n",
              "                                                     [key], {});\n",
              "          if (!dataTable) return;\n",
              "\n",
              "          const docLinkHtml = 'Like what you see? Visit the ' +\n",
              "            '<a target=\"_blank\" href=https://colab.research.google.com/notebooks/data_table.ipynb>data table notebook</a>'\n",
              "            + ' to learn more about interactive tables.';\n",
              "          element.innerHTML = '';\n",
              "          dataTable['output_type'] = 'display_data';\n",
              "          await google.colab.output.renderOutput(dataTable, element);\n",
              "          const docLink = document.createElement('div');\n",
              "          docLink.innerHTML = docLinkHtml;\n",
              "          element.appendChild(docLink);\n",
              "        }\n",
              "      </script>\n",
              "    </div>\n",
              "  </div>\n",
              "  "
            ]
          },
          "metadata": {},
          "execution_count": 492
        }
      ]
    },
    {
      "cell_type": "code",
      "source": [
        "Data_RF.to_csv('SVM2_set2.csv', index=False)"
      ],
      "metadata": {
        "id": "e4BpK7gqlXki"
      },
      "execution_count": null,
      "outputs": []
    }
  ]
}